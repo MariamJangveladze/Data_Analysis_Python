{
 "cells": [
  {
   "cell_type": "markdown",
   "metadata": {
    "slideshow": {
     "slide_type": "slide"
    }
   },
   "source": [
    "# Intorduction\n",
    "\n",
    "---\n",
    "\n",
    "#### ჩემს შესახებ\n",
    "\n",
    "#### თქვენს შესახებ\n",
    "\n",
    "#### კურსის შესახებ\n",
    "\n",
    "#### რას უნდა ველოდოთ კურსისგან\n",
    "\n",
    "#### წინაპირობების შესახებ\n",
    "\n",
    "#### ლიტერატურა და მასალები\n",
    "\n",
    "#### GitHub"
   ]
  },
  {
   "cell_type": "markdown",
   "metadata": {
    "slideshow": {
     "slide_type": "slide"
    }
   },
   "source": [
    "## Course Outline\n",
    "\n",
    "---\n",
    "\n",
    "#### მონაცემთა მეცნიერება\n",
    "\n",
    "#### მონაცემთა ანალიტიკა\n",
    "\n",
    "#### მანქანური სწავლება\n",
    "\n",
    "#### ღრმა სწავლება\n",
    "\n",
    "#### რატომ Python მონაცემთა ანალიზისათვის?\n",
    "\n",
    "#### მნიშვნელოვანი ბიბლიოთეკები\n",
    "\n",
    "#### სილაბუსის გაცნობა\n",
    "\n",
    "#### სამუშაო გარემოს გაცნობა"
   ]
  },
  {
   "cell_type": "markdown",
   "metadata": {
    "slideshow": {
     "slide_type": "slide"
    }
   },
   "source": [
    "## მონაცემთა მეცნიერება\n",
    "\n",
    "---\n",
    "\n",
    "მონაცემთა მეცნიერება - ეს არის ინტერ-დისციპლინარული მეცნიერების დარგი, რომელიც იყენებს სხვადასხვა სამეცნიერო მეთოდებს, პროცესებს, ალგორითმებს რათა სტრუქტურული თუ არასტრუქტურული მონაცემებიდან ამოიღოს ცოდნა. **(ვიკიპედიას განმარტება)**\n",
    "\n",
    "\n",
    "სხვა სიტყვებით: **მონაცემთა მეცნიერება არის მეცნიერება მონაცემების შესახებ რომლის საშუალებითაც შესაძლებელია მონაცემებში აღმოვაჩინოთ დამალული ინფორმაცია.**\n",
    "\n",
    "\n",
    "რადგან ინტერ-დისციპლინარული დარგია, მონაცემთა მეცნიერება იყენებს სხვადასხვა მეცნიერების დარგების ტექნიკებს და ალგორითმებს."
   ]
  },
  {
   "cell_type": "markdown",
   "metadata": {
    "slideshow": {
     "slide_type": "subslide"
    }
   },
   "source": [
    "![alt text](images/convey_diagram.jpg \"Title\")\n",
    "\n",
    "\n",
    "[Drew Conway Diagram](https://en.wikipedia.org/wiki/Drew_Conway)"
   ]
  },
  {
   "cell_type": "markdown",
   "metadata": {
    "slideshow": {
     "slide_type": "subslide"
    }
   },
   "source": [
    "> The ability to take data—to be able to understand it, to process it, to extract value from it, to visualize it, to communicate it—that’s going to be a hugely important skill in the next decades[...]\n",
    "\n",
    "[Hal Varian, chief economist at Google and UC Berkeley professor of information sciences, business, and economics.](https://www.mckinsey.com/industries/technology-media-and-telecommunications/our-insights/hal-varian-on-how-the-web-challenges-managers#)"
   ]
  },
  {
   "cell_type": "markdown",
   "metadata": {
    "slideshow": {
     "slide_type": "subslide"
    }
   },
   "source": [
    "![alt text](images/data_science_lifecycle.png \"Title\")\n",
    "\n",
    "[source](https://ischoolonline.berkeley.edu/data-science/what-is-data-science/#fn3b)"
   ]
  },
  {
   "cell_type": "markdown",
   "metadata": {
    "slideshow": {
     "slide_type": "slide"
    }
   },
   "source": [
    "## მონაცემთა ანალიტიკა\n",
    "\n",
    "---\n",
    "\n",
    "\n",
    "**მონაცემთა ანალიტიკა** - ეს არის მონაცემების გამოკვლევის და დიაგნოსტირების პროცესი რომელიც მიზნად ისახავს მონაცემებიდან ამოიღოს სასარგებლო ინფორმაცია და მიიღოს ამ ინფორმაციაზე დაფუძნებული გადაწყვეტილება. უფრო კონკრეტულად კი უპასუხოს შემდეგ ორ კითხვას:\n",
    "\n",
    "* **რა მოხდა?**\n",
    "\n",
    "\n",
    "* **რატომ მოხდა?**\n",
    "\n",
    "\n",
    "\n",
    "![alt text](images/data.png \"Title\")"
   ]
  },
  {
   "cell_type": "markdown",
   "metadata": {
    "slideshow": {
     "slide_type": "slide"
    }
   },
   "source": [
    "## Data Science VS Data Analytics\n",
    "\n",
    "---\n",
    "\n",
    "![alt text](images/data_science_vs_data_analytics.png \"Title\")\n",
    "\n",
    "\n",
    "**A data scientist creates questions, while a data analyst finds answers to the existing set of questions.**"
   ]
  },
  {
   "cell_type": "markdown",
   "metadata": {
    "slideshow": {
     "slide_type": "subslide"
    }
   },
   "source": [
    "<blockquote class=\"twitter-tweet\"><p lang=\"en\" dir=\"ltr\">Data Scientist (n.): Person who is better at statistics than any software engineer and better at software engineering than any statistician.</p>&mdash; Josh Wills (@josh_wills) <a href=\"https://twitter.com/josh_wills/status/198093512149958656?ref_src=twsrc%5Etfw\">May 3, 2012</a></blockquote> <script async src=\"https://platform.twitter.com/widgets.js\" charset=\"utf-8\"></script>"
   ]
  },
  {
   "cell_type": "markdown",
   "metadata": {
    "slideshow": {
     "slide_type": "slide"
    }
   },
   "source": [
    "## The Whole World\n",
    "\n",
    "---\n",
    "\n",
    "![alt text](images/AI-vs-ML-vs-Deep-Learning.png \"Title\")"
   ]
  },
  {
   "cell_type": "markdown",
   "metadata": {
    "slideshow": {
     "slide_type": "slide"
    }
   },
   "source": [
    "## მანქანური სწავლება\n",
    "\n",
    "---\n",
    "\n",
    "**მეცნიერება რომელიც შეისწავლის ისეთ ალგორითმებს, რომლებსაც შეუძლიათ ავტომატური გაუმჯობესება სწავლასა და გამოცდილებაზე დაყრდნობით.**\n",
    "\n",
    "\n",
    "* მონაცემთა მეცნიერებაში ალგორითმი არის სტატისტიკური პროცესინგის თანამიმდევრული ნაბიჯები.\n",
    "\n",
    "\n",
    "* მანქანურ სწავლებში ალგორითმი არის გაწვრთნადი - ანუ მას შეუძლია აღმოაჩინოს პატერნები დიდი მოცულობით მონაცემებში და სწავლის შემდეგ მიიღოს გადაწყვეტილებები ახალ მონაცემებზე დაყრდნობით.\n",
    "\n"
   ]
  },
  {
   "cell_type": "markdown",
   "metadata": {
    "slideshow": {
     "slide_type": "subslide"
    }
   },
   "source": [
    "## მანქანური სწავლების მეთოდები\n",
    "\n",
    "---\n",
    "\n",
    "* **Supervised Learning** - Supervised machine learning trains itself on a labeled data set. Supervised machine learning requires less training data than other machine learning methods and makes training easier because the results of the model can be compared to actual labeled results. But, properly labeled data is expensive to prepare, and there's the danger of over-fitting.\n",
    "\n",
    "\n",
    "* **Unsupervised Learning** - Unsupervised machine learning ingests unlabeled data, lots and lots of it, and uses algorithms to extract meaningful features needed to label, sort, and classify the data in real-time, without human intervention. Unsupervised learning is less about automating decisions and predictions, and more about identifying patterns and relationships in data that humans would miss.\n",
    "\n",
    "\n",
    "* **Semi-Supervised Learning** - Semi-supervised learning offers a happy medium between supervised and unsupervised learning. During training, it uses a smaller labeled data set to guide classification and feature extraction from a larger, unlabeled data set. Semi-supervised learning can solve the problem of having not enough labeled data to train a supervised learning algorithm.\n",
    "\n",
    "\n",
    "* **Reinforcement Learning** - Reinforcement machine learning is a behavioral machine learning model that is similar to supervised learning, but the algorithm isn't trained using sample data. This model learns as it goes by using trial and error. A sequence of successful outcomes will be reinforced to develop the best recommendation or policy for a given problem."
   ]
  },
  {
   "cell_type": "markdown",
   "metadata": {
    "slideshow": {
     "slide_type": "slide"
    }
   },
   "source": [
    "## ღრმა სწავლება\n",
    "\n",
    "---\n",
    "\n",
    "* **ღრმა სწავლება** - ეს არის ხელოვნური ნეირონული ქსელები რომლის შექმნის ინსპირაცია იყო ადამიანის ტვინი და შესაბამისად ღრმა სწავლების ალგორითმები ცდილობს ისწავლოს ისე როგორც ადამიანი და ადამიანის ტვინი სწავლობს.\n",
    "\n",
    "\n",
    "* აქედან გამომდინარე, ღრმა სწავლება რომ იყოს ეფექტური და ეფექტიანი, საჭიროა ნამდვილად დიდი რაოდენობით მონაცემები და შესაბამისი გამოთვლითი რესურსი.\n",
    "\n",
    "\n",
    "* All deep learning is machine learning, but not all machine learning is deep learning\n",
    "\n",
    "\n",
    "> ყველა საუბრობს,  თუ რატომ უნდა გამოვიყენოთ ღრმა სწავლება, მაგრამ არავინ აღნიშნავს თუ **რატომ არ უნდა გამოვიყენოთ იგი**"
   ]
  },
  {
   "cell_type": "markdown",
   "metadata": {
    "slideshow": {
     "slide_type": "subslide"
    }
   },
   "source": [
    "## რატომ არ უნდა გამოვიყენოთ ღრმა სწავლება?\n",
    "\n",
    "---\n",
    "\n",
    "* კომპანიების უმეტესებას არ აქვს საკმარისი მონაცემები\n",
    "\n",
    "\n",
    "* მოითხოვს დიდ გამოთვლით რესურს, რაც ასევე ბევრ კომპანიას არ გააჩნია\n",
    "\n",
    "\n",
    "* უმეტეს შემთხვევაში სრულიად არასაჭიროა\n",
    "\n",
    "\n",
    "![alt text](images/why_dl.png \"Title\")"
   ]
  },
  {
   "cell_type": "markdown",
   "metadata": {
    "slideshow": {
     "slide_type": "slide"
    }
   },
   "source": [
    "## რატომ Python?\n",
    "\n",
    "---\n",
    "\n",
    "* **მარტივი** - Python არის საკმაოდ მარტივი ენა დამწყებთათვის, რადგან ენაში ყურადღება გამახვილებულია კოდის წაკითხვადობაზე. თუმცა, არ არ ნიშნავს რომ მისი სიმარტივე შემზღუდავია.\n",
    "\n",
    "\n",
    "* **მოქნილი** - Python არის ზოგადი პროგრამირების ენა, რაც საშუალებას გვაძლევს შევქმათ როგორც მარტივი ისე დიდი და რთული პროგრამები.\n",
    "\n",
    "\n",
    "* **მზარდი პოპულარობა** - ბოლო 10 წელიწადში de-facto ენა მონაცემთა ანალიზისათვის\n",
    "\n",
    "\n",
    "* **ბიბლიოთეკები** - ბიბლიოთეკების მდიდარი კოლექცია\n",
    "\n",
    "\n",
    "* **საზოგადოება** - დიდი და აქტიური საზოგადოება\n",
    "\n",
    "\n",
    "* **შრომის ბაზარი** - ერთი-ორად გაზრდილი მოთხოვნა"
   ]
  },
  {
   "cell_type": "markdown",
   "metadata": {
    "slideshow": {
     "slide_type": "subslide"
    }
   },
   "source": [
    "![alt text](images/comparison.png \"Title\")"
   ]
  },
  {
   "cell_type": "markdown",
   "metadata": {
    "slideshow": {
     "slide_type": "slide"
    }
   },
   "source": [
    "## მნიშვნელოვანი ბიბლიოთეკები\n",
    "\n",
    "---\n",
    "\n",
    "#### [NumPy](https://numpy.org/) - Numeric Python (1995, 2006)\n",
    "\n",
    "#### [Pandas](https://pandas.pydata.org/) - Data Analysis (2008)\n",
    "\n",
    "#### [SciPy](https://scipy.org/scipylib/) - Scientific Python (2001)\n",
    "\n",
    "#### [Scikit-Learn](https://scikit-learn.org/stable/) - Machine Learning (2007)\n",
    "\n",
    "#### [statsmodels](https://www.statsmodels.org/stable/index.html) - Statistical Modeling (2012)\n",
    "\n",
    "#### [matplotlib](https://matplotlib.org/) - Static Data Visualization (2003)\n",
    "\n",
    "#### [Plotly](https://plotly.com/python/) - Interactive Data Visualization (2012)"
   ]
  },
  {
   "cell_type": "markdown",
   "metadata": {
    "slideshow": {
     "slide_type": "slide"
    }
   },
   "source": [
    "## სილაბუსი"
   ]
  },
  {
   "cell_type": "markdown",
   "metadata": {
    "slideshow": {
     "slide_type": "slide"
    }
   },
   "source": [
    "## სამუშაო გარემო\n",
    "\n",
    "---\n",
    "\n",
    "#### [miniconda](https://docs.conda.io/en/latest/miniconda.html) - For Python and Working Environment\n",
    "\n",
    "#### [Project Jupyter](https://jupyter.org/) - Interactive Computing\n",
    "\n",
    "#### [GitHub](https://github.com/) - For lectures and other materials"
   ]
  }
 ],
 "metadata": {
  "celltoolbar": "Slideshow",
  "kernelspec": {
   "display_name": "Python 3.7.7 64-bit ('learning': conda)",
   "language": "python",
   "name": "python37764bitlearningcondadead39b8b5cb441aa05edba06d4d913f"
  },
  "language_info": {
   "codemirror_mode": {
    "name": "ipython",
    "version": 3
   },
   "file_extension": ".py",
   "mimetype": "text/x-python",
   "name": "python",
   "nbconvert_exporter": "python",
   "pygments_lexer": "ipython3",
   "version": "3.7.7"
  },
  "varInspector": {
   "cols": {
    "lenName": 16,
    "lenType": 16,
    "lenVar": 40
   },
   "kernels_config": {
    "python": {
     "delete_cmd_postfix": "",
     "delete_cmd_prefix": "del ",
     "library": "var_list.py",
     "varRefreshCmd": "print(var_dic_list())"
    },
    "r": {
     "delete_cmd_postfix": ") ",
     "delete_cmd_prefix": "rm(",
     "library": "var_list.r",
     "varRefreshCmd": "cat(var_dic_list()) "
    }
   },
   "types_to_exclude": [
    "module",
    "function",
    "builtin_function_or_method",
    "instance",
    "_Feature"
   ],
   "window_display": false
  }
 },
 "nbformat": 4,
 "nbformat_minor": 4
}
