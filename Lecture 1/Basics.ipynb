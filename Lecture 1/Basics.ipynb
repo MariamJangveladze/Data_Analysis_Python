{
 "cells": [
  {
   "cell_type": "markdown",
   "metadata": {
    "heading_collapsed": true
   },
   "source": [
    "# Basics\n",
    "\n",
    "---\n",
    "\n",
    "This will be a brief introduction to **Pandas**, data analysis library in Python. More to go in the second lecture. However, during this quick intro to Pandas, we will cover one of the most important aspect in data analysis - **how to read and write different data** along with checking data shape and size.\n",
    "\n",
    "\n",
    "### Lecture outline\n",
    "\n",
    "---\n",
    "\n",
    "* Read Data\n",
    "\n",
    "\n",
    "* Write Data\n",
    "\n",
    "\n",
    "* Data Size and Shape\n",
    "\n",
    "\n",
    "* Summary Statistics\n",
    "\n",
    "\n",
    "* Unique Observations\n",
    "\n",
    "\n",
    "* Value Counts"
   ]
  },
  {
   "cell_type": "markdown",
   "metadata": {
    "hidden": true
   },
   "source": [
    "#### Reference\n",
    "\n",
    "\n",
    "[IO tools (text, CSV, HDF5, …)](https://pandas.pydata.org/pandas-docs/stable/user_guide/io.html#sql-queries)\n",
    "\n",
    "[Pandas: How to Read and Write Files](https://realpython.com/pandas-read-write-files/)"
   ]
  },
  {
   "cell_type": "code",
   "execution_count": null,
   "metadata": {
    "ExecuteTime": {
     "end_time": "2020-12-26T07:35:50.817551Z",
     "start_time": "2020-12-26T07:35:50.510191Z"
    },
    "hidden": true
   },
   "outputs": [],
   "source": [
    "import pandas as pd"
   ]
  },
  {
   "cell_type": "markdown",
   "metadata": {
    "heading_collapsed": true,
    "hidden": true
   },
   "source": [
    "## Read Data\n",
    "\n",
    "---\n",
    "\n",
    "Reading data file is THE FIRST operation you will do during data analysis. You have to be able to read different format of data file. Let start with the simplest common one, the CSV file."
   ]
  },
  {
   "cell_type": "code",
   "execution_count": null,
   "metadata": {
    "ExecuteTime": {
     "end_time": "2020-12-26T07:37:07.228143Z",
     "start_time": "2020-12-26T07:37:07.218668Z"
    },
    "hidden": true
   },
   "outputs": [],
   "source": [
    "csv_file = pd.read_csv(\"data/admission.csv\")\n",
    "\n",
    "csv_file.head()"
   ]
  },
  {
   "cell_type": "code",
   "execution_count": null,
   "metadata": {
    "ExecuteTime": {
     "end_time": "2020-12-26T07:50:26.645178Z",
     "start_time": "2020-12-26T07:50:26.531062Z"
    },
    "hidden": true
   },
   "outputs": [],
   "source": [
    "excel_file = pd.read_excel(\"data/titanic.xlsx\")\n",
    "\n",
    "excel_file.head()"
   ]
  },
  {
   "cell_type": "code",
   "execution_count": null,
   "metadata": {
    "ExecuteTime": {
     "end_time": "2020-12-26T07:51:18.940749Z",
     "start_time": "2020-12-26T07:51:18.914965Z"
    },
    "hidden": true
   },
   "outputs": [],
   "source": [
    "stata_file = pd.read_stata(\"data/airline.dta\")\n",
    "\n",
    "stata_file.head()"
   ]
  },
  {
   "cell_type": "code",
   "execution_count": null,
   "metadata": {
    "ExecuteTime": {
     "end_time": "2020-12-26T07:53:08.301348Z",
     "start_time": "2020-12-26T07:53:08.281070Z"
    },
    "hidden": true
   },
   "outputs": [],
   "source": [
    "sas_file = pd.read_sas(\"data/alcohol.sas7bdat\")\n",
    "\n",
    "sas_file.head()"
   ]
  },
  {
   "cell_type": "code",
   "execution_count": null,
   "metadata": {
    "ExecuteTime": {
     "end_time": "2020-12-26T07:54:44.315573Z",
     "start_time": "2020-12-26T07:54:44.245636Z"
    },
    "hidden": true
   },
   "outputs": [],
   "source": [
    "spss_file = pd.read_spss(\"data/sleep.sav\")\n",
    "\n",
    "spss_file.head()"
   ]
  },
  {
   "cell_type": "code",
   "execution_count": null,
   "metadata": {
    "ExecuteTime": {
     "end_time": "2020-12-26T07:55:13.772956Z",
     "start_time": "2020-12-26T07:55:13.763838Z"
    },
    "hidden": true
   },
   "outputs": [],
   "source": [
    "json_file = pd.read_json(\"data/example.json\")\n",
    "\n",
    "json_file.head()"
   ]
  },
  {
   "cell_type": "markdown",
   "metadata": {
    "heading_collapsed": true,
    "hidden": true
   },
   "source": [
    "## Write Data\n",
    "\n",
    "---\n",
    "\n",
    "Writing data into a file is almost same procedure as reading. While writing data in a file, we have to indicate the address of new data file as well as the name of the file. Let write CSV and Excel file. Other formats are almost same."
   ]
  },
  {
   "cell_type": "code",
   "execution_count": null,
   "metadata": {
    "ExecuteTime": {
     "end_time": "2020-12-26T07:57:51.623851Z",
     "start_time": "2020-12-26T07:57:51.614857Z"
    },
    "hidden": true
   },
   "outputs": [],
   "source": [
    "csv_file.to_csv(\"data/new_csv_file.csv\")"
   ]
  },
  {
   "cell_type": "code",
   "execution_count": null,
   "metadata": {
    "ExecuteTime": {
     "end_time": "2020-12-26T07:59:04.925430Z",
     "start_time": "2020-12-26T07:59:04.609566Z"
    },
    "hidden": true
   },
   "outputs": [],
   "source": [
    "excel_file.to_excel(\"data/new_excel_file.xlsx\")"
   ]
  },
  {
   "cell_type": "markdown",
   "metadata": {
    "heading_collapsed": true,
    "hidden": true
   },
   "source": [
    "## Data Size and Shape\n",
    "\n",
    "---\n",
    "\n",
    "We will talk about data size and shape in the second lecture. However, here we quickly cover what is it and how to use that information."
   ]
  },
  {
   "cell_type": "code",
   "execution_count": null,
   "metadata": {
    "ExecuteTime": {
     "end_time": "2020-12-26T08:01:17.731749Z",
     "start_time": "2020-12-26T08:01:17.728448Z"
    },
    "hidden": true
   },
   "outputs": [],
   "source": [
    "csv_file.size # Returns number of elements in DataFrame"
   ]
  },
  {
   "cell_type": "code",
   "execution_count": null,
   "metadata": {
    "ExecuteTime": {
     "end_time": "2020-12-26T08:01:42.404594Z",
     "start_time": "2020-12-26T08:01:42.401132Z"
    },
    "hidden": true
   },
   "outputs": [],
   "source": [
    "csv_file.shape # Retruns number of rows and columns, respectively"
   ]
  },
  {
   "cell_type": "markdown",
   "metadata": {
    "heading_collapsed": true,
    "hidden": true
   },
   "source": [
    "## Summary Statistics\n",
    "\n",
    "---\n",
    "\n",
    "This is a summary statistics of your data. This gives you the quick sight of your data at hand."
   ]
  },
  {
   "cell_type": "code",
   "execution_count": null,
   "metadata": {
    "ExecuteTime": {
     "end_time": "2020-12-26T08:02:27.101294Z",
     "start_time": "2020-12-26T08:02:27.064777Z"
    },
    "hidden": true
   },
   "outputs": [],
   "source": [
    "csv_file.describe()"
   ]
  },
  {
   "cell_type": "markdown",
   "metadata": {
    "heading_collapsed": true,
    "hidden": true
   },
   "source": [
    "## Unique Observations\n",
    "\n",
    "---\n",
    "\n",
    "Summary statistics does not give how many unique observations we have alongside columns. We can check it by using `.unique()` method."
   ]
  },
  {
   "cell_type": "code",
   "execution_count": null,
   "metadata": {
    "ExecuteTime": {
     "end_time": "2020-12-26T08:05:50.950039Z",
     "start_time": "2020-12-26T08:05:50.924213Z"
    },
    "hidden": true
   },
   "outputs": [],
   "source": [
    "csv_file.head()"
   ]
  },
  {
   "cell_type": "code",
   "execution_count": null,
   "metadata": {
    "ExecuteTime": {
     "end_time": "2020-12-26T08:05:24.370217Z",
     "start_time": "2020-12-26T08:05:24.359997Z"
    },
    "hidden": true
   },
   "outputs": [],
   "source": [
    "csv_file[\"Research\"].unique() # Only two unique values in \"Research\" column"
   ]
  },
  {
   "cell_type": "markdown",
   "metadata": {
    "heading_collapsed": true,
    "hidden": true
   },
   "source": [
    "## Value Counts\n",
    "\n",
    "---\n",
    "\n",
    "We can count duplicated values across columns."
   ]
  },
  {
   "cell_type": "code",
   "execution_count": null,
   "metadata": {
    "ExecuteTime": {
     "end_time": "2020-12-26T08:06:35.321656Z",
     "start_time": "2020-12-26T08:06:35.299860Z"
    },
    "hidden": true
   },
   "outputs": [],
   "source": [
    "csv_file.head()"
   ]
  },
  {
   "cell_type": "code",
   "execution_count": null,
   "metadata": {
    "ExecuteTime": {
     "end_time": "2020-12-26T08:07:33.527985Z",
     "start_time": "2020-12-26T08:07:33.523201Z"
    },
    "hidden": true
   },
   "outputs": [],
   "source": [
    "csv_file[\"Research\"].value_counts() # We have 219 ones and 181 zeros, totaling to 400"
   ]
  },
  {
   "cell_type": "markdown",
   "metadata": {},
   "source": [
    "# Summary\n",
    "\n",
    "---\n",
    "\n",
    "In this lecture, we learn how to set up our working environment as well as how to install necessary libraries for data analysis. Moreover, we have covered one of the most important aspect of data analysis - data reading and writing. In the next lecture, we will uncover `Pandas` capabilities."
   ]
  }
 ],
 "metadata": {
  "kernelspec": {
   "display_name": "Python 3.7.7 64-bit ('learning': conda)",
   "language": "python",
   "name": "python37764bitlearningcondadead39b8b5cb441aa05edba06d4d913f"
  },
  "language_info": {
   "codemirror_mode": {
    "name": "ipython",
    "version": 3
   },
   "file_extension": ".py",
   "mimetype": "text/x-python",
   "name": "python",
   "nbconvert_exporter": "python",
   "pygments_lexer": "ipython3",
   "version": "3.7.7"
  },
  "varInspector": {
   "cols": {
    "lenName": 16,
    "lenType": 16,
    "lenVar": 40
   },
   "kernels_config": {
    "python": {
     "delete_cmd_postfix": "",
     "delete_cmd_prefix": "del ",
     "library": "var_list.py",
     "varRefreshCmd": "print(var_dic_list())"
    },
    "r": {
     "delete_cmd_postfix": ") ",
     "delete_cmd_prefix": "rm(",
     "library": "var_list.r",
     "varRefreshCmd": "cat(var_dic_list()) "
    }
   },
   "types_to_exclude": [
    "module",
    "function",
    "builtin_function_or_method",
    "instance",
    "_Feature"
   ],
   "window_display": false
  }
 },
 "nbformat": 4,
 "nbformat_minor": 4
}
