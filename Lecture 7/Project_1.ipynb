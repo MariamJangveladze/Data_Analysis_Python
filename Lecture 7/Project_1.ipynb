{
 "cells": [
  {
   "cell_type": "markdown",
   "metadata": {},
   "source": [
    "# Data Analysis - Project\n",
    "\n",
    "---\n",
    "\n",
    "In this notebook we cover all the previous classes - go through what we learned Pandas functionality and apply them to real world data to analyze the USA presidents dataset and draw helpful insights based on analysis. After the data analysis process we discuss about the way how the results and what results must be presented and the possible improvements. At the very last part, we cover Pandas GUI - Graphical User Interface.\n",
    "\n",
    "\n",
    "\n",
    "$$\n",
    "$$\n",
    "\n",
    "\n",
    "### Lecture outline\n",
    "\n",
    "---\n",
    "\n",
    "\n",
    "* Fully fledged data analysis\n",
    "\n",
    "\n",
    "* Presenting results and insights\n",
    "\n",
    "\n",
    "* Discussion about improvements\n",
    "\n",
    "\n",
    "* Graphical User Interface for Pandas\n",
    "\n",
    "\n",
    "# > The code is not optimized in any direction!!!\n",
    "\n",
    "### DRY - Don't Repeat Yourself\n",
    "### KISS - Keep It Stupid Simple"
   ]
  },
  {
   "cell_type": "code",
   "execution_count": 1,
   "metadata": {
    "ExecuteTime": {
     "end_time": "2021-01-06T16:39:24.142312Z",
     "start_time": "2021-01-06T16:39:23.505875Z"
    }
   },
   "outputs": [],
   "source": [
    "import pandas as pd\n",
    "\n",
    "import numpy as np\n",
    "\n",
    "import matplotlib.pyplot as plt\n",
    "\n",
    "import seaborn as sns\n",
    "\n",
    "import plotly.express as px"
   ]
  },
  {
   "cell_type": "markdown",
   "metadata": {},
   "source": [
    "# Data Processing\n",
    "\n",
    "\n",
    "---\n",
    "\n",
    "Usually, in this stage we clean and process data in order to have it in an appropriate form. Most of the time, data cleaning and processing takes 80% of data scientist's time and is the most tedious process. However, this is the step what we makes TRUE data scientists. Because, you can copy-paste code to build the Machine Learning models bu you cannot copy-paste code for data cleaning. This is where the true art starts."
   ]
  },
  {
   "cell_type": "markdown",
   "metadata": {
    "heading_collapsed": true
   },
   "source": [
    "## Read Data"
   ]
  },
  {
   "cell_type": "code",
   "execution_count": 2,
   "metadata": {
    "ExecuteTime": {
     "end_time": "2021-01-06T16:39:24.384096Z",
     "start_time": "2021-01-06T16:39:24.378833Z"
    },
    "hidden": true
   },
   "outputs": [],
   "source": [
    "df = pd.read_csv(\"data/presidents.csv\")"
   ]
  },
  {
   "cell_type": "code",
   "execution_count": 3,
   "metadata": {
    "ExecuteTime": {
     "end_time": "2021-01-06T16:39:24.649902Z",
     "start_time": "2021-01-06T16:39:24.642070Z"
    },
    "hidden": true
   },
   "outputs": [
    {
     "data": {
      "text/plain": [
       "(44, 8)"
      ]
     },
     "execution_count": 3,
     "metadata": {},
     "output_type": "execute_result"
    }
   ],
   "source": [
    "df.shape # We have 44 rows and 8 columns"
   ]
  },
  {
   "cell_type": "code",
   "execution_count": 4,
   "metadata": {
    "ExecuteTime": {
     "end_time": "2021-01-06T16:39:24.903373Z",
     "start_time": "2021-01-06T16:39:24.894490Z"
    },
    "hidden": true
   },
   "outputs": [
    {
     "data": {
      "text/plain": [
       "#                                  int64\n",
       "President                         object\n",
       "Born                              object\n",
       "  Age atstart of presidency       object\n",
       "Age atend of presidency           object\n",
       "Post-presidencytimespan           object\n",
       "      Died                        object\n",
       "Age                               object\n",
       "dtype: object"
      ]
     },
     "execution_count": 4,
     "metadata": {},
     "output_type": "execute_result"
    }
   ],
   "source": [
    "df.dtypes # All columns are represented as string"
   ]
  },
  {
   "cell_type": "code",
   "execution_count": 5,
   "metadata": {
    "ExecuteTime": {
     "end_time": "2021-01-06T16:39:25.133363Z",
     "start_time": "2021-01-06T16:39:25.114029Z"
    },
    "hidden": true
   },
   "outputs": [
    {
     "data": {
      "text/html": [
       "<div>\n",
       "<style scoped>\n",
       "    .dataframe tbody tr th:only-of-type {\n",
       "        vertical-align: middle;\n",
       "    }\n",
       "\n",
       "    .dataframe tbody tr th {\n",
       "        vertical-align: top;\n",
       "    }\n",
       "\n",
       "    .dataframe thead th {\n",
       "        text-align: right;\n",
       "    }\n",
       "</style>\n",
       "<table border=\"1\" class=\"dataframe\">\n",
       "  <thead>\n",
       "    <tr style=\"text-align: right;\">\n",
       "      <th></th>\n",
       "      <th>#</th>\n",
       "      <th>President</th>\n",
       "      <th>Born</th>\n",
       "      <th>Age atstart of presidency</th>\n",
       "      <th>Age atend of presidency</th>\n",
       "      <th>Post-presidencytimespan</th>\n",
       "      <th>Died</th>\n",
       "      <th>Age</th>\n",
       "    </tr>\n",
       "  </thead>\n",
       "  <tbody>\n",
       "    <tr>\n",
       "      <th>0</th>\n",
       "      <td>1</td>\n",
       "      <td>George Washington</td>\n",
       "      <td>Feb 22, 1732[a]</td>\n",
       "      <td>57 years, 67 daysApr 30, 1789</td>\n",
       "      <td>65 years, 10 daysMar 4, 1797</td>\n",
       "      <td>2 years, 285 days</td>\n",
       "      <td>Dec 14, 1799</td>\n",
       "      <td>67 years, 295 days</td>\n",
       "    </tr>\n",
       "    <tr>\n",
       "      <th>1</th>\n",
       "      <td>2</td>\n",
       "      <td>John Adams</td>\n",
       "      <td>Oct 30, 1735[a]</td>\n",
       "      <td>61 years, 125 daysMar 4, 1797</td>\n",
       "      <td>65 years, 125 daysMar 4, 1801</td>\n",
       "      <td>25 years, 122 days</td>\n",
       "      <td>Jul 4, 1826</td>\n",
       "      <td>90 years, 247 days</td>\n",
       "    </tr>\n",
       "    <tr>\n",
       "      <th>2</th>\n",
       "      <td>3</td>\n",
       "      <td>Thomas Jefferson</td>\n",
       "      <td>Apr 13, 1743[a]</td>\n",
       "      <td>57 years, 325 daysMar 4, 1801</td>\n",
       "      <td>65 years, 325 daysMar 4, 1809</td>\n",
       "      <td>17 years, 122 days</td>\n",
       "      <td>Jul 4, 1826</td>\n",
       "      <td>83 years, 82 days</td>\n",
       "    </tr>\n",
       "    <tr>\n",
       "      <th>3</th>\n",
       "      <td>4</td>\n",
       "      <td>James Madison</td>\n",
       "      <td>Mar 16, 1751[a]</td>\n",
       "      <td>57 years, 353 daysMar 4, 1809</td>\n",
       "      <td>65 years, 353 daysMar 4, 1817</td>\n",
       "      <td>19 years, 116 days</td>\n",
       "      <td>Jun 28, 1836</td>\n",
       "      <td>85 years, 104 days</td>\n",
       "    </tr>\n",
       "    <tr>\n",
       "      <th>4</th>\n",
       "      <td>5</td>\n",
       "      <td>James Monroe</td>\n",
       "      <td>Apr 28, 1758</td>\n",
       "      <td>58 years, 310 daysMar 4, 1817</td>\n",
       "      <td>66 years, 310 daysMar 4, 1825</td>\n",
       "      <td>6 years, 122 days</td>\n",
       "      <td>Jul 4, 1831</td>\n",
       "      <td>73 years, 67 days</td>\n",
       "    </tr>\n",
       "  </tbody>\n",
       "</table>\n",
       "</div>"
      ],
      "text/plain": [
       "   # President                         Born   Age atstart of presidency     \\\n",
       "0  1     George Washington  Feb 22, 1732[a]  57 years, 67 daysApr 30, 1789   \n",
       "1  2            John Adams  Oct 30, 1735[a]  61 years, 125 daysMar 4, 1797   \n",
       "2  3      Thomas Jefferson  Apr 13, 1743[a]  57 years, 325 daysMar 4, 1801   \n",
       "3  4         James Madison  Mar 16, 1751[a]  57 years, 353 daysMar 4, 1809   \n",
       "4  5          James Monroe     Apr 28, 1758  58 years, 310 daysMar 4, 1817   \n",
       "\n",
       "         Age atend of presidency Post-presidencytimespan          Died  \\\n",
       "0   65 years, 10 daysMar 4, 1797       2 years, 285 days  Dec 14, 1799   \n",
       "1  65 years, 125 daysMar 4, 1801      25 years, 122 days   Jul 4, 1826   \n",
       "2  65 years, 325 daysMar 4, 1809      17 years, 122 days   Jul 4, 1826   \n",
       "3  65 years, 353 daysMar 4, 1817      19 years, 116 days  Jun 28, 1836   \n",
       "4  66 years, 310 daysMar 4, 1825       6 years, 122 days   Jul 4, 1831   \n",
       "\n",
       "                  Age  \n",
       "0  67 years, 295 days  \n",
       "1  90 years, 247 days  \n",
       "2   83 years, 82 days  \n",
       "3  85 years, 104 days  \n",
       "4   73 years, 67 days  "
      ]
     },
     "execution_count": 5,
     "metadata": {},
     "output_type": "execute_result"
    }
   ],
   "source": [
    "df.head()"
   ]
  },
  {
   "cell_type": "markdown",
   "metadata": {
    "heading_collapsed": true
   },
   "source": [
    "## Process columns\n",
    "\n",
    "---\n",
    "\n",
    "Let deal with DataFrame columns. Rename them and remove leading and trailing spaces if any."
   ]
  },
  {
   "cell_type": "code",
   "execution_count": 6,
   "metadata": {
    "ExecuteTime": {
     "end_time": "2021-01-06T16:39:25.603645Z",
     "start_time": "2021-01-06T16:39:25.599844Z"
    },
    "hidden": true
   },
   "outputs": [
    {
     "data": {
      "text/plain": [
       "Index(['#', 'President            ', 'Born', '  Age atstart of presidency   ',\n",
       "       'Age atend of presidency', 'Post-presidencytimespan', '      Died',\n",
       "       'Age'],\n",
       "      dtype='object')"
      ]
     },
     "execution_count": 6,
     "metadata": {},
     "output_type": "execute_result"
    }
   ],
   "source": [
    "df.columns # Columns contain leading and trailing spaces"
   ]
  },
  {
   "cell_type": "code",
   "execution_count": 7,
   "metadata": {
    "ExecuteTime": {
     "end_time": "2021-01-06T16:39:25.865812Z",
     "start_time": "2021-01-06T16:39:25.859092Z"
    },
    "hidden": true
   },
   "outputs": [
    {
     "data": {
      "text/plain": [
       "Index(['#', 'President', 'Born', 'Age atstart of presidency',\n",
       "       'Age atend of presidency', 'Post-presidencytimespan', 'Died', 'Age'],\n",
       "      dtype='object')"
      ]
     },
     "execution_count": 7,
     "metadata": {},
     "output_type": "execute_result"
    }
   ],
   "source": [
    "df.columns = df.columns.str.strip() # Remove spaces - same as TRIM function in Excel\n",
    "\n",
    "\n",
    "df.columns"
   ]
  },
  {
   "cell_type": "code",
   "execution_count": 8,
   "metadata": {
    "ExecuteTime": {
     "end_time": "2021-01-06T16:39:26.143943Z",
     "start_time": "2021-01-06T16:39:26.135197Z"
    },
    "hidden": true
   },
   "outputs": [],
   "source": [
    "column_mapping = {\"President\": \"president\",\n",
    "                  \"Born\": \"birth_date\",\n",
    "                  \"Age atstart of presidency\": \"age_at_start\",\n",
    "                  \"Age atend of presidency\": \"age_at_end\",\n",
    "                  \"Post-presidencytimespan\": \"post_presidency_timespan\",\n",
    "                  \"Died\": \"death_date\", \"Age\": \"age_at_death\"}\n",
    "\n",
    "\n",
    "\n",
    "df = df.rename(column_mapping, axis=1) # Rename columns"
   ]
  },
  {
   "cell_type": "markdown",
   "metadata": {
    "hidden": true
   },
   "source": [
    "### Feature Description\n",
    "\n",
    "---\n",
    "\n",
    "* `president` - First and last name of the president\n",
    "\n",
    "\n",
    "* `birth_date` - Date of birth\n",
    "\n",
    "\n",
    "* `age_at_start` - The age at the start of presidency\n",
    "\n",
    "\n",
    "* `age_at_end` - The age at the end of presidency\n",
    "\n",
    "\n",
    "* `post_presidency_timespan` - Th period between death and presidency end\n",
    "\n",
    "\n",
    "* `death_date` - Death date\n",
    "\n",
    "\n",
    "* `age_at_death` - The age at the moment of death"
   ]
  },
  {
   "cell_type": "markdown",
   "metadata": {
    "heading_collapsed": true
   },
   "source": [
    "## Drop redundant column\n",
    "\n",
    "---\n",
    "\n",
    "The column `#` replicates the index of DataFrame and hance is redundant and we have to remove it."
   ]
  },
  {
   "cell_type": "code",
   "execution_count": 9,
   "metadata": {
    "ExecuteTime": {
     "end_time": "2021-01-06T16:39:26.868054Z",
     "start_time": "2021-01-06T16:39:26.865536Z"
    },
    "hidden": true,
    "scrolled": true
   },
   "outputs": [],
   "source": [
    "df = df.drop(\"#\", axis=1)"
   ]
  },
  {
   "cell_type": "markdown",
   "metadata": {
    "heading_collapsed": true
   },
   "source": [
    "## Remove footnotes\n",
    "\n",
    "---\n",
    "\n",
    "Some columns contain footnote such as `[a]` in `birth_date` column or `[e]` in `age_at_end` column. We have to remove them as they do not carry any information and even might cause some issues."
   ]
  },
  {
   "cell_type": "code",
   "execution_count": 10,
   "metadata": {
    "ExecuteTime": {
     "end_time": "2021-01-06T16:39:27.360771Z",
     "start_time": "2021-01-06T16:39:27.352033Z"
    },
    "hidden": true
   },
   "outputs": [],
   "source": [
    "birth_date = (df[\"birth_date\"].str.split(\"[\", expand=True)\n",
    "                              .drop(1, axis=1)\n",
    "                              .rename({0: \"birth_date\"}, axis=1))\n",
    "\n",
    "\n",
    "age_at_end = (df[\"age_at_end\"].str.split(\"[\", expand=True)\n",
    "                              .drop(1, axis=1)\n",
    "                              .rename({0: \"age_at_end\"}, axis=1))\n",
    "\n",
    "\n",
    "post_presidency_timespan = (df[\"post_presidency_timespan\"].str.split(\"[\", expand=True)\n",
    "                                                          .drop(1, axis=1)\n",
    "                                                          .rename({0: \"post_presidency_timespan\"}, axis=1))"
   ]
  },
  {
   "cell_type": "markdown",
   "metadata": {
    "hidden": true
   },
   "source": [
    "We removed the footnotes but did not change the columns in the initial DataFrame. Note also, that we save processed columns as separate DataFrame. So we need to drop these columns from initial DataFrame and add processed ones instead."
   ]
  },
  {
   "cell_type": "code",
   "execution_count": 11,
   "metadata": {
    "ExecuteTime": {
     "end_time": "2021-01-06T16:39:27.844881Z",
     "start_time": "2021-01-06T16:39:27.836983Z"
    },
    "hidden": true
   },
   "outputs": [],
   "source": [
    "df = df.drop([\"birth_date\", \"age_at_end\", \"post_presidency_timespan\"], axis=1) # Drop columns"
   ]
  },
  {
   "cell_type": "code",
   "execution_count": 12,
   "metadata": {
    "ExecuteTime": {
     "end_time": "2021-01-06T16:39:28.114026Z",
     "start_time": "2021-01-06T16:39:28.105825Z"
    },
    "hidden": true
   },
   "outputs": [],
   "source": [
    "df = pd.concat([df, birth_date, age_at_end, post_presidency_timespan], axis=1) # Concatenate processed column"
   ]
  },
  {
   "cell_type": "markdown",
   "metadata": {
    "heading_collapsed": true
   },
   "source": [
    "## Split Columns\n",
    "\n",
    "\n",
    "---\n",
    "\n",
    "The values of columns `age_at_start` and `age_at_end` consists of two parts: the first part is the age of the president and the second part is the date the president hold the office - White House and left the office, respectively. It's better to split these two columns into two parts, actual age and the date.\n",
    "\n",
    "\n",
    "To split these columns we have to figure out the common symbol or character on which we perform the split operation. If we observe, such a common character is `days` inside each value for each of those columns. Under common I mean the character or symbol which does not change across rows."
   ]
  },
  {
   "cell_type": "code",
   "execution_count": 13,
   "metadata": {
    "ExecuteTime": {
     "end_time": "2021-01-06T16:39:28.600123Z",
     "start_time": "2021-01-06T16:39:28.591986Z"
    },
    "hidden": true
   },
   "outputs": [
    {
     "data": {
      "text/html": [
       "<div>\n",
       "<style scoped>\n",
       "    .dataframe tbody tr th:only-of-type {\n",
       "        vertical-align: middle;\n",
       "    }\n",
       "\n",
       "    .dataframe tbody tr th {\n",
       "        vertical-align: top;\n",
       "    }\n",
       "\n",
       "    .dataframe thead th {\n",
       "        text-align: right;\n",
       "    }\n",
       "</style>\n",
       "<table border=\"1\" class=\"dataframe\">\n",
       "  <thead>\n",
       "    <tr style=\"text-align: right;\">\n",
       "      <th></th>\n",
       "      <th>age_at_start</th>\n",
       "      <th>age_at_end</th>\n",
       "    </tr>\n",
       "  </thead>\n",
       "  <tbody>\n",
       "    <tr>\n",
       "      <th>0</th>\n",
       "      <td>57 years, 67 daysApr 30, 1789</td>\n",
       "      <td>65 years, 10 daysMar 4, 1797</td>\n",
       "    </tr>\n",
       "    <tr>\n",
       "      <th>1</th>\n",
       "      <td>61 years, 125 daysMar 4, 1797</td>\n",
       "      <td>65 years, 125 daysMar 4, 1801</td>\n",
       "    </tr>\n",
       "    <tr>\n",
       "      <th>2</th>\n",
       "      <td>57 years, 325 daysMar 4, 1801</td>\n",
       "      <td>65 years, 325 daysMar 4, 1809</td>\n",
       "    </tr>\n",
       "    <tr>\n",
       "      <th>3</th>\n",
       "      <td>57 years, 353 daysMar 4, 1809</td>\n",
       "      <td>65 years, 353 daysMar 4, 1817</td>\n",
       "    </tr>\n",
       "    <tr>\n",
       "      <th>4</th>\n",
       "      <td>58 years, 310 daysMar 4, 1817</td>\n",
       "      <td>66 years, 310 daysMar 4, 1825</td>\n",
       "    </tr>\n",
       "  </tbody>\n",
       "</table>\n",
       "</div>"
      ],
      "text/plain": [
       "                    age_at_start                     age_at_end\n",
       "0  57 years, 67 daysApr 30, 1789   65 years, 10 daysMar 4, 1797\n",
       "1  61 years, 125 daysMar 4, 1797  65 years, 125 daysMar 4, 1801\n",
       "2  57 years, 325 daysMar 4, 1801  65 years, 325 daysMar 4, 1809\n",
       "3  57 years, 353 daysMar 4, 1809  65 years, 353 daysMar 4, 1817\n",
       "4  58 years, 310 daysMar 4, 1817  66 years, 310 daysMar 4, 1825"
      ]
     },
     "execution_count": 13,
     "metadata": {},
     "output_type": "execute_result"
    }
   ],
   "source": [
    "df[[\"age_at_start\", \"age_at_end\"]].head()"
   ]
  },
  {
   "cell_type": "code",
   "execution_count": 14,
   "metadata": {
    "ExecuteTime": {
     "end_time": "2021-01-06T16:39:28.893430Z",
     "start_time": "2021-01-06T16:39:28.877320Z"
    },
    "hidden": true,
    "scrolled": true
   },
   "outputs": [],
   "source": [
    "age_start = (df[\"age_at_start\"].str.split(\"days\", expand=True)\n",
    "                               .rename({0: \"age_at_start\", 1: \"presidency_start_date\"}, axis=1))\n",
    "\n",
    "\n",
    "age_end = (df[\"age_at_end\"].str.split(\"days\", expand=True)\n",
    "                           .rename({0: \"age_at_end\", 1: \"presidency_end_date\"}, axis=1))"
   ]
  },
  {
   "cell_type": "markdown",
   "metadata": {
    "hidden": true
   },
   "source": [
    "Now, drop `age_at_start` and `age_at_end` columns and insert new derived columns instead."
   ]
  },
  {
   "cell_type": "code",
   "execution_count": 15,
   "metadata": {
    "ExecuteTime": {
     "end_time": "2021-01-06T16:39:29.359916Z",
     "start_time": "2021-01-06T16:39:29.354709Z"
    },
    "hidden": true
   },
   "outputs": [],
   "source": [
    "df = df.drop([\"age_at_start\", \"age_at_end\"], axis=1) # Drop columns"
   ]
  },
  {
   "cell_type": "code",
   "execution_count": 16,
   "metadata": {
    "ExecuteTime": {
     "end_time": "2021-01-06T16:39:29.615339Z",
     "start_time": "2021-01-06T16:39:29.609057Z"
    },
    "hidden": true,
    "scrolled": false
   },
   "outputs": [],
   "source": [
    "df = pd.concat([df, age_start, age_end], axis=1) # Add new columns"
   ]
  },
  {
   "cell_type": "code",
   "execution_count": 17,
   "metadata": {
    "ExecuteTime": {
     "end_time": "2021-01-06T16:39:29.870597Z",
     "start_time": "2021-01-06T16:39:29.845383Z"
    },
    "hidden": true
   },
   "outputs": [
    {
     "data": {
      "text/html": [
       "<div>\n",
       "<style scoped>\n",
       "    .dataframe tbody tr th:only-of-type {\n",
       "        vertical-align: middle;\n",
       "    }\n",
       "\n",
       "    .dataframe tbody tr th {\n",
       "        vertical-align: top;\n",
       "    }\n",
       "\n",
       "    .dataframe thead th {\n",
       "        text-align: right;\n",
       "    }\n",
       "</style>\n",
       "<table border=\"1\" class=\"dataframe\">\n",
       "  <thead>\n",
       "    <tr style=\"text-align: right;\">\n",
       "      <th></th>\n",
       "      <th>president</th>\n",
       "      <th>death_date</th>\n",
       "      <th>age_at_death</th>\n",
       "      <th>birth_date</th>\n",
       "      <th>post_presidency_timespan</th>\n",
       "      <th>age_at_start</th>\n",
       "      <th>presidency_start_date</th>\n",
       "      <th>age_at_end</th>\n",
       "      <th>presidency_end_date</th>\n",
       "    </tr>\n",
       "  </thead>\n",
       "  <tbody>\n",
       "    <tr>\n",
       "      <th>0</th>\n",
       "      <td>George Washington</td>\n",
       "      <td>Dec 14, 1799</td>\n",
       "      <td>67 years, 295 days</td>\n",
       "      <td>Feb 22, 1732</td>\n",
       "      <td>2 years, 285 days</td>\n",
       "      <td>57 years, 67</td>\n",
       "      <td>Apr 30, 1789</td>\n",
       "      <td>65 years, 10</td>\n",
       "      <td>Mar 4, 1797</td>\n",
       "    </tr>\n",
       "    <tr>\n",
       "      <th>1</th>\n",
       "      <td>John Adams</td>\n",
       "      <td>Jul 4, 1826</td>\n",
       "      <td>90 years, 247 days</td>\n",
       "      <td>Oct 30, 1735</td>\n",
       "      <td>25 years, 122 days</td>\n",
       "      <td>61 years, 125</td>\n",
       "      <td>Mar 4, 1797</td>\n",
       "      <td>65 years, 125</td>\n",
       "      <td>Mar 4, 1801</td>\n",
       "    </tr>\n",
       "    <tr>\n",
       "      <th>2</th>\n",
       "      <td>Thomas Jefferson</td>\n",
       "      <td>Jul 4, 1826</td>\n",
       "      <td>83 years, 82 days</td>\n",
       "      <td>Apr 13, 1743</td>\n",
       "      <td>17 years, 122 days</td>\n",
       "      <td>57 years, 325</td>\n",
       "      <td>Mar 4, 1801</td>\n",
       "      <td>65 years, 325</td>\n",
       "      <td>Mar 4, 1809</td>\n",
       "    </tr>\n",
       "    <tr>\n",
       "      <th>3</th>\n",
       "      <td>James Madison</td>\n",
       "      <td>Jun 28, 1836</td>\n",
       "      <td>85 years, 104 days</td>\n",
       "      <td>Mar 16, 1751</td>\n",
       "      <td>19 years, 116 days</td>\n",
       "      <td>57 years, 353</td>\n",
       "      <td>Mar 4, 1809</td>\n",
       "      <td>65 years, 353</td>\n",
       "      <td>Mar 4, 1817</td>\n",
       "    </tr>\n",
       "    <tr>\n",
       "      <th>4</th>\n",
       "      <td>James Monroe</td>\n",
       "      <td>Jul 4, 1831</td>\n",
       "      <td>73 years, 67 days</td>\n",
       "      <td>Apr 28, 1758</td>\n",
       "      <td>6 years, 122 days</td>\n",
       "      <td>58 years, 310</td>\n",
       "      <td>Mar 4, 1817</td>\n",
       "      <td>66 years, 310</td>\n",
       "      <td>Mar 4, 1825</td>\n",
       "    </tr>\n",
       "  </tbody>\n",
       "</table>\n",
       "</div>"
      ],
      "text/plain": [
       "           president    death_date        age_at_death    birth_date  \\\n",
       "0  George Washington  Dec 14, 1799  67 years, 295 days  Feb 22, 1732   \n",
       "1         John Adams   Jul 4, 1826  90 years, 247 days  Oct 30, 1735   \n",
       "2   Thomas Jefferson   Jul 4, 1826   83 years, 82 days  Apr 13, 1743   \n",
       "3      James Madison  Jun 28, 1836  85 years, 104 days  Mar 16, 1751   \n",
       "4       James Monroe   Jul 4, 1831   73 years, 67 days  Apr 28, 1758   \n",
       "\n",
       "  post_presidency_timespan    age_at_start presidency_start_date  \\\n",
       "0        2 years, 285 days   57 years, 67           Apr 30, 1789   \n",
       "1       25 years, 122 days  61 years, 125            Mar 4, 1797   \n",
       "2       17 years, 122 days  57 years, 325            Mar 4, 1801   \n",
       "3       19 years, 116 days  57 years, 353            Mar 4, 1809   \n",
       "4        6 years, 122 days  58 years, 310            Mar 4, 1817   \n",
       "\n",
       "       age_at_end presidency_end_date  \n",
       "0   65 years, 10          Mar 4, 1797  \n",
       "1  65 years, 125          Mar 4, 1801  \n",
       "2  65 years, 325          Mar 4, 1809  \n",
       "3  65 years, 353          Mar 4, 1817  \n",
       "4  66 years, 310          Mar 4, 1825  "
      ]
     },
     "execution_count": 17,
     "metadata": {},
     "output_type": "execute_result"
    }
   ],
   "source": [
    "df.head()"
   ]
  },
  {
   "cell_type": "markdown",
   "metadata": {
    "hidden": true
   },
   "source": [
    "$$\n",
    "$$\n",
    "\n",
    "Some columns contain `days` component along with year. It's better to split these columns and will have year and days as a separate parts. That will make analysis process more smooth. Such columns are: `age_at_death`, `post_presidency_timespan`, `age_at_start`, `age_at_end`\n",
    "\n",
    "$$\n",
    "$$"
   ]
  },
  {
   "cell_type": "code",
   "execution_count": 18,
   "metadata": {
    "ExecuteTime": {
     "end_time": "2021-01-06T16:39:30.321904Z",
     "start_time": "2021-01-06T16:39:30.307645Z"
    },
    "hidden": true
   },
   "outputs": [
    {
     "data": {
      "text/html": [
       "<div>\n",
       "<style scoped>\n",
       "    .dataframe tbody tr th:only-of-type {\n",
       "        vertical-align: middle;\n",
       "    }\n",
       "\n",
       "    .dataframe tbody tr th {\n",
       "        vertical-align: top;\n",
       "    }\n",
       "\n",
       "    .dataframe thead th {\n",
       "        text-align: right;\n",
       "    }\n",
       "</style>\n",
       "<table border=\"1\" class=\"dataframe\">\n",
       "  <thead>\n",
       "    <tr style=\"text-align: right;\">\n",
       "      <th></th>\n",
       "      <th>age_at_death</th>\n",
       "      <th>post_presidency_timespan</th>\n",
       "      <th>age_at_start</th>\n",
       "      <th>age_at_end</th>\n",
       "    </tr>\n",
       "  </thead>\n",
       "  <tbody>\n",
       "    <tr>\n",
       "      <th>0</th>\n",
       "      <td>67 years, 295 days</td>\n",
       "      <td>2 years, 285 days</td>\n",
       "      <td>57 years, 67</td>\n",
       "      <td>65 years, 10</td>\n",
       "    </tr>\n",
       "    <tr>\n",
       "      <th>1</th>\n",
       "      <td>90 years, 247 days</td>\n",
       "      <td>25 years, 122 days</td>\n",
       "      <td>61 years, 125</td>\n",
       "      <td>65 years, 125</td>\n",
       "    </tr>\n",
       "    <tr>\n",
       "      <th>2</th>\n",
       "      <td>83 years, 82 days</td>\n",
       "      <td>17 years, 122 days</td>\n",
       "      <td>57 years, 325</td>\n",
       "      <td>65 years, 325</td>\n",
       "    </tr>\n",
       "    <tr>\n",
       "      <th>3</th>\n",
       "      <td>85 years, 104 days</td>\n",
       "      <td>19 years, 116 days</td>\n",
       "      <td>57 years, 353</td>\n",
       "      <td>65 years, 353</td>\n",
       "    </tr>\n",
       "    <tr>\n",
       "      <th>4</th>\n",
       "      <td>73 years, 67 days</td>\n",
       "      <td>6 years, 122 days</td>\n",
       "      <td>58 years, 310</td>\n",
       "      <td>66 years, 310</td>\n",
       "    </tr>\n",
       "  </tbody>\n",
       "</table>\n",
       "</div>"
      ],
      "text/plain": [
       "         age_at_death post_presidency_timespan    age_at_start      age_at_end\n",
       "0  67 years, 295 days        2 years, 285 days   57 years, 67    65 years, 10 \n",
       "1  90 years, 247 days       25 years, 122 days  61 years, 125   65 years, 125 \n",
       "2   83 years, 82 days       17 years, 122 days  57 years, 325   65 years, 325 \n",
       "3  85 years, 104 days       19 years, 116 days  57 years, 353   65 years, 353 \n",
       "4   73 years, 67 days        6 years, 122 days  58 years, 310   66 years, 310 "
      ]
     },
     "execution_count": 18,
     "metadata": {},
     "output_type": "execute_result"
    }
   ],
   "source": [
    "df[[\"age_at_death\", \"post_presidency_timespan\", \"age_at_start\", \"age_at_end\"]].head()"
   ]
  },
  {
   "cell_type": "code",
   "execution_count": 19,
   "metadata": {
    "ExecuteTime": {
     "end_time": "2021-01-06T16:39:30.504735Z",
     "start_time": "2021-01-06T16:39:30.501008Z"
    },
    "hidden": true
   },
   "outputs": [],
   "source": [
    "age_at_death = (df[\"age_at_death\"].str.rstrip(\"days\")\n",
    "                                  .str.split(\"years,\", expand=True)\n",
    "                                  .rename({0: \"age_at_death_year\",\n",
    "                                           1: \"age_at_death_days\"},\n",
    "                                          axis=1))"
   ]
  },
  {
   "cell_type": "markdown",
   "metadata": {
    "hidden": true
   },
   "source": [
    "`post_presidency_timespan` column contains some uncommon values such as `1 year, 259 days` and `103 days`. So we could not use the same approach we used above. To deal such a situation we have to use `Regular Expression`."
   ]
  },
  {
   "cell_type": "code",
   "execution_count": 20,
   "metadata": {
    "ExecuteTime": {
     "end_time": "2021-01-06T16:39:31.041922Z",
     "start_time": "2021-01-06T16:39:31.026071Z"
    },
    "hidden": true
   },
   "outputs": [],
   "source": [
    "post_presidency_timespan = (df[\"post_presidency_timespan\"].str.rstrip(\"days\")\n",
    "                                                          .str.replace(\"year[s]?\", \"\", regex=True)\n",
    "                                                          .str.split(\",\", expand=True)\n",
    "                                                          .rename({0: \"post_presidency_timespan_year\",\n",
    "                                                                   1: \"post_presidency_timespan_days\"},\n",
    "                                                                  axis=1))\n",
    "\n",
    "\n",
    "post_presidency_timespan.loc[10] = [np.nan, 103] # Swap the values for one row"
   ]
  },
  {
   "cell_type": "code",
   "execution_count": 21,
   "metadata": {
    "ExecuteTime": {
     "end_time": "2021-01-06T16:39:31.254244Z",
     "start_time": "2021-01-06T16:39:31.243423Z"
    },
    "hidden": true
   },
   "outputs": [],
   "source": [
    "age_at_start = (df[\"age_at_start\"].str.split(\"years,\", expand=True)\n",
    "                                  .rename({0: \"age_at_start_year\",\n",
    "                                           1: \"age_at_start_days\"},\n",
    "                                          axis=1))"
   ]
  },
  {
   "cell_type": "code",
   "execution_count": 22,
   "metadata": {
    "ExecuteTime": {
     "end_time": "2021-01-06T16:39:31.436941Z",
     "start_time": "2021-01-06T16:39:31.431233Z"
    },
    "hidden": true
   },
   "outputs": [],
   "source": [
    "age_at_end = (df[\"age_at_end\"].str.split(\"years,\", expand=True)\n",
    "                                  .rename({0: \"age_at_end_year\",\n",
    "                                           1: \"age_at_end_days\"},\n",
    "                                          axis=1))"
   ]
  },
  {
   "cell_type": "markdown",
   "metadata": {
    "hidden": true
   },
   "source": [
    "**drop old columns and add new ones**"
   ]
  },
  {
   "cell_type": "code",
   "execution_count": 23,
   "metadata": {
    "ExecuteTime": {
     "end_time": "2021-01-06T16:39:32.074724Z",
     "start_time": "2021-01-06T16:39:32.065871Z"
    },
    "hidden": true
   },
   "outputs": [],
   "source": [
    "df = df.drop([\"age_at_death\", \"post_presidency_timespan\", \"age_at_start\", \"age_at_end\"], axis=1) # Drop columns"
   ]
  },
  {
   "cell_type": "code",
   "execution_count": 24,
   "metadata": {
    "ExecuteTime": {
     "end_time": "2021-01-06T16:39:32.278295Z",
     "start_time": "2021-01-06T16:39:32.275731Z"
    },
    "hidden": true,
    "scrolled": true
   },
   "outputs": [],
   "source": [
    "df = pd.concat([df, age_at_death, post_presidency_timespan, age_at_start, age_at_end], axis=1) # Add new columns"
   ]
  },
  {
   "cell_type": "code",
   "execution_count": 25,
   "metadata": {
    "ExecuteTime": {
     "end_time": "2021-01-06T16:39:32.483841Z",
     "start_time": "2021-01-06T16:39:32.463845Z"
    },
    "hidden": true
   },
   "outputs": [
    {
     "data": {
      "text/html": [
       "<div>\n",
       "<style scoped>\n",
       "    .dataframe tbody tr th:only-of-type {\n",
       "        vertical-align: middle;\n",
       "    }\n",
       "\n",
       "    .dataframe tbody tr th {\n",
       "        vertical-align: top;\n",
       "    }\n",
       "\n",
       "    .dataframe thead th {\n",
       "        text-align: right;\n",
       "    }\n",
       "</style>\n",
       "<table border=\"1\" class=\"dataframe\">\n",
       "  <thead>\n",
       "    <tr style=\"text-align: right;\">\n",
       "      <th></th>\n",
       "      <th>president</th>\n",
       "      <th>death_date</th>\n",
       "      <th>birth_date</th>\n",
       "      <th>presidency_start_date</th>\n",
       "      <th>presidency_end_date</th>\n",
       "      <th>age_at_death_year</th>\n",
       "      <th>age_at_death_days</th>\n",
       "      <th>post_presidency_timespan_year</th>\n",
       "      <th>post_presidency_timespan_days</th>\n",
       "      <th>age_at_start_year</th>\n",
       "      <th>age_at_start_days</th>\n",
       "      <th>age_at_end_year</th>\n",
       "      <th>age_at_end_days</th>\n",
       "    </tr>\n",
       "  </thead>\n",
       "  <tbody>\n",
       "    <tr>\n",
       "      <th>0</th>\n",
       "      <td>George Washington</td>\n",
       "      <td>Dec 14, 1799</td>\n",
       "      <td>Feb 22, 1732</td>\n",
       "      <td>Apr 30, 1789</td>\n",
       "      <td>Mar 4, 1797</td>\n",
       "      <td>67</td>\n",
       "      <td>295</td>\n",
       "      <td>2</td>\n",
       "      <td>285</td>\n",
       "      <td>57</td>\n",
       "      <td>67</td>\n",
       "      <td>65</td>\n",
       "      <td>10</td>\n",
       "    </tr>\n",
       "    <tr>\n",
       "      <th>1</th>\n",
       "      <td>John Adams</td>\n",
       "      <td>Jul 4, 1826</td>\n",
       "      <td>Oct 30, 1735</td>\n",
       "      <td>Mar 4, 1797</td>\n",
       "      <td>Mar 4, 1801</td>\n",
       "      <td>90</td>\n",
       "      <td>247</td>\n",
       "      <td>25</td>\n",
       "      <td>122</td>\n",
       "      <td>61</td>\n",
       "      <td>125</td>\n",
       "      <td>65</td>\n",
       "      <td>125</td>\n",
       "    </tr>\n",
       "    <tr>\n",
       "      <th>2</th>\n",
       "      <td>Thomas Jefferson</td>\n",
       "      <td>Jul 4, 1826</td>\n",
       "      <td>Apr 13, 1743</td>\n",
       "      <td>Mar 4, 1801</td>\n",
       "      <td>Mar 4, 1809</td>\n",
       "      <td>83</td>\n",
       "      <td>82</td>\n",
       "      <td>17</td>\n",
       "      <td>122</td>\n",
       "      <td>57</td>\n",
       "      <td>325</td>\n",
       "      <td>65</td>\n",
       "      <td>325</td>\n",
       "    </tr>\n",
       "    <tr>\n",
       "      <th>3</th>\n",
       "      <td>James Madison</td>\n",
       "      <td>Jun 28, 1836</td>\n",
       "      <td>Mar 16, 1751</td>\n",
       "      <td>Mar 4, 1809</td>\n",
       "      <td>Mar 4, 1817</td>\n",
       "      <td>85</td>\n",
       "      <td>104</td>\n",
       "      <td>19</td>\n",
       "      <td>116</td>\n",
       "      <td>57</td>\n",
       "      <td>353</td>\n",
       "      <td>65</td>\n",
       "      <td>353</td>\n",
       "    </tr>\n",
       "    <tr>\n",
       "      <th>4</th>\n",
       "      <td>James Monroe</td>\n",
       "      <td>Jul 4, 1831</td>\n",
       "      <td>Apr 28, 1758</td>\n",
       "      <td>Mar 4, 1817</td>\n",
       "      <td>Mar 4, 1825</td>\n",
       "      <td>73</td>\n",
       "      <td>67</td>\n",
       "      <td>6</td>\n",
       "      <td>122</td>\n",
       "      <td>58</td>\n",
       "      <td>310</td>\n",
       "      <td>66</td>\n",
       "      <td>310</td>\n",
       "    </tr>\n",
       "  </tbody>\n",
       "</table>\n",
       "</div>"
      ],
      "text/plain": [
       "           president    death_date    birth_date presidency_start_date  \\\n",
       "0  George Washington  Dec 14, 1799  Feb 22, 1732          Apr 30, 1789   \n",
       "1         John Adams   Jul 4, 1826  Oct 30, 1735           Mar 4, 1797   \n",
       "2   Thomas Jefferson   Jul 4, 1826  Apr 13, 1743           Mar 4, 1801   \n",
       "3      James Madison  Jun 28, 1836  Mar 16, 1751           Mar 4, 1809   \n",
       "4       James Monroe   Jul 4, 1831  Apr 28, 1758           Mar 4, 1817   \n",
       "\n",
       "  presidency_end_date age_at_death_year age_at_death_days  \\\n",
       "0         Mar 4, 1797               67               295    \n",
       "1         Mar 4, 1801               90               247    \n",
       "2         Mar 4, 1809               83                82    \n",
       "3         Mar 4, 1817               85               104    \n",
       "4         Mar 4, 1825               73                67    \n",
       "\n",
       "  post_presidency_timespan_year post_presidency_timespan_days  \\\n",
       "0                            2                           285    \n",
       "1                           25                           122    \n",
       "2                           17                           122    \n",
       "3                           19                           116    \n",
       "4                            6                           122    \n",
       "\n",
       "  age_at_start_year age_at_start_days age_at_end_year age_at_end_days  \n",
       "0               57                67              65              10   \n",
       "1               61               125              65             125   \n",
       "2               57               325              65             325   \n",
       "3               57               353              65             353   \n",
       "4               58               310              66             310   "
      ]
     },
     "execution_count": 25,
     "metadata": {},
     "output_type": "execute_result"
    }
   ],
   "source": [
    "df.head()"
   ]
  },
  {
   "cell_type": "markdown",
   "metadata": {
    "heading_collapsed": true
   },
   "source": [
    "## Type casting\n",
    "\n",
    "---\n",
    "\n",
    "The columns are represented as sting objects. We have to convert them into appropriate type."
   ]
  },
  {
   "cell_type": "code",
   "execution_count": 26,
   "metadata": {
    "ExecuteTime": {
     "end_time": "2021-01-06T16:40:05.375378Z",
     "start_time": "2021-01-06T16:40:05.365072Z"
    },
    "hidden": true
   },
   "outputs": [
    {
     "data": {
      "text/plain": [
       "president                        object\n",
       "death_date                       object\n",
       "birth_date                       object\n",
       "presidency_start_date            object\n",
       "presidency_end_date              object\n",
       "age_at_death_year                object\n",
       "age_at_death_days                object\n",
       "post_presidency_timespan_year    object\n",
       "post_presidency_timespan_days    object\n",
       "age_at_start_year                object\n",
       "age_at_start_days                object\n",
       "age_at_end_year                  object\n",
       "age_at_end_days                  object\n",
       "dtype: object"
      ]
     },
     "execution_count": 26,
     "metadata": {},
     "output_type": "execute_result"
    }
   ],
   "source": [
    "df.dtypes"
   ]
  },
  {
   "cell_type": "markdown",
   "metadata": {
    "heading_collapsed": true,
    "hidden": true
   },
   "source": [
    "### DateTime objects\n",
    "\n",
    "---\n",
    "\n",
    "Pandas supports `datetime object` - meaning that we can convert string representation of date into appropriate type and then operate on this object by using different methods.\n",
    "\n",
    "\n",
    "The candidates for this conversion are: `death_date`, `birth_date`, `presidency_start_date`, and `presidency_end_date`"
   ]
  },
  {
   "cell_type": "code",
   "execution_count": 27,
   "metadata": {
    "ExecuteTime": {
     "end_time": "2021-01-06T16:44:22.219430Z",
     "start_time": "2021-01-06T16:44:22.196147Z"
    },
    "hidden": true,
    "scrolled": true
   },
   "outputs": [],
   "source": [
    "df[\"death_date\"] = pd.to_datetime(df[\"death_date\"].str.strip().str.replace(\"(living)\", \"\", regex=False))"
   ]
  },
  {
   "cell_type": "code",
   "execution_count": 28,
   "metadata": {
    "ExecuteTime": {
     "end_time": "2021-01-06T16:44:22.503366Z",
     "start_time": "2021-01-06T16:44:22.490113Z"
    },
    "hidden": true
   },
   "outputs": [],
   "source": [
    "df[\"birth_date\"] = pd.to_datetime(df[\"birth_date\"].str.strip())"
   ]
  },
  {
   "cell_type": "code",
   "execution_count": 29,
   "metadata": {
    "ExecuteTime": {
     "end_time": "2021-01-06T16:44:22.797456Z",
     "start_time": "2021-01-06T16:44:22.779930Z"
    },
    "hidden": true,
    "scrolled": true
   },
   "outputs": [],
   "source": [
    "df[\"presidency_start_date\"] = pd.to_datetime(df[\"presidency_start_date\"].str.strip())"
   ]
  },
  {
   "cell_type": "code",
   "execution_count": 30,
   "metadata": {
    "ExecuteTime": {
     "end_time": "2021-01-06T16:44:23.188039Z",
     "start_time": "2021-01-06T16:44:23.178049Z"
    },
    "hidden": true,
    "scrolled": true
   },
   "outputs": [],
   "source": [
    "df[\"presidency_end_date\"] = pd.to_datetime(df[\"presidency_end_date\"].str.strip())"
   ]
  },
  {
   "cell_type": "markdown",
   "metadata": {
    "heading_collapsed": true,
    "hidden": true
   },
   "source": [
    "### Numeric objects\n",
    "\n",
    "---\n",
    "\n",
    "We have columns which are clearly numeric. However, they are interpreted as strings by Pandas due to a fact that Pandas cannot type cast automatically.\n",
    "\n",
    "The candidates for numeric type are all columns except datetime columns and `president` column."
   ]
  },
  {
   "cell_type": "code",
   "execution_count": 31,
   "metadata": {
    "ExecuteTime": {
     "end_time": "2021-01-06T16:44:26.555252Z",
     "start_time": "2021-01-06T16:44:26.548359Z"
    },
    "hidden": true
   },
   "outputs": [],
   "source": [
    "numeric_cols = [\"age_at_death_year\", \"age_at_death_days\",\n",
    "                \"post_presidency_timespan_year\", \"post_presidency_timespan_days\",\n",
    "               \"age_at_start_year\", \"age_at_start_days\",\n",
    "               \"age_at_end_year\", \"age_at_end_days\"]"
   ]
  },
  {
   "cell_type": "code",
   "execution_count": 34,
   "metadata": {
    "ExecuteTime": {
     "end_time": "2021-01-06T16:54:09.224534Z",
     "start_time": "2021-01-06T16:54:09.217243Z"
    },
    "hidden": true,
    "scrolled": true
   },
   "outputs": [],
   "source": [
    "df[numeric_cols] = df[numeric_cols].apply(lambda x: x.str.strip()) # Apply strip function to all columns"
   ]
  },
  {
   "cell_type": "code",
   "execution_count": 37,
   "metadata": {
    "ExecuteTime": {
     "end_time": "2021-01-06T16:54:43.052691Z",
     "start_time": "2021-01-06T16:54:43.046268Z"
    },
    "hidden": true
   },
   "outputs": [],
   "source": [
    "df[numeric_cols] = df[numeric_cols].apply(pd.to_numeric) # Apply type casting"
   ]
  },
  {
   "cell_type": "code",
   "execution_count": 42,
   "metadata": {
    "ExecuteTime": {
     "end_time": "2021-01-06T17:01:29.852192Z",
     "start_time": "2021-01-06T17:01:29.838082Z"
    },
    "hidden": true
   },
   "outputs": [
    {
     "data": {
      "text/plain": [
       "president                                object\n",
       "death_date                       datetime64[ns]\n",
       "birth_date                       datetime64[ns]\n",
       "presidency_start_date            datetime64[ns]\n",
       "presidency_end_date              datetime64[ns]\n",
       "age_at_death_year                         int64\n",
       "age_at_death_days                         int64\n",
       "post_presidency_timespan_year           float64\n",
       "post_presidency_timespan_days           float64\n",
       "age_at_start_year                         int64\n",
       "age_at_start_days                         int64\n",
       "age_at_end_year                           int64\n",
       "age_at_end_days                           int64\n",
       "dtype: object"
      ]
     },
     "execution_count": 42,
     "metadata": {},
     "output_type": "execute_result"
    }
   ],
   "source": [
    "df.dtypes"
   ]
  },
  {
   "cell_type": "markdown",
   "metadata": {
    "heading_collapsed": true
   },
   "source": [
    "## Reorder Columns\n",
    "\n",
    "---\n",
    "\n",
    "Let reorder columns to have them in logical order"
   ]
  },
  {
   "cell_type": "code",
   "execution_count": 45,
   "metadata": {
    "ExecuteTime": {
     "end_time": "2021-01-06T17:04:23.815780Z",
     "start_time": "2021-01-06T17:04:23.799041Z"
    },
    "hidden": true
   },
   "outputs": [
    {
     "data": {
      "text/html": [
       "<div>\n",
       "<style scoped>\n",
       "    .dataframe tbody tr th:only-of-type {\n",
       "        vertical-align: middle;\n",
       "    }\n",
       "\n",
       "    .dataframe tbody tr th {\n",
       "        vertical-align: top;\n",
       "    }\n",
       "\n",
       "    .dataframe thead th {\n",
       "        text-align: right;\n",
       "    }\n",
       "</style>\n",
       "<table border=\"1\" class=\"dataframe\">\n",
       "  <thead>\n",
       "    <tr style=\"text-align: right;\">\n",
       "      <th></th>\n",
       "      <th>president</th>\n",
       "      <th>death_date</th>\n",
       "      <th>birth_date</th>\n",
       "      <th>presidency_start_date</th>\n",
       "      <th>presidency_end_date</th>\n",
       "      <th>age_at_death_year</th>\n",
       "      <th>age_at_death_days</th>\n",
       "      <th>post_presidency_timespan_year</th>\n",
       "      <th>post_presidency_timespan_days</th>\n",
       "      <th>age_at_start_year</th>\n",
       "      <th>age_at_start_days</th>\n",
       "      <th>age_at_end_year</th>\n",
       "      <th>age_at_end_days</th>\n",
       "    </tr>\n",
       "  </thead>\n",
       "  <tbody>\n",
       "    <tr>\n",
       "      <th>0</th>\n",
       "      <td>George Washington</td>\n",
       "      <td>1799-12-14</td>\n",
       "      <td>1732-02-22</td>\n",
       "      <td>1789-04-30</td>\n",
       "      <td>1797-03-04</td>\n",
       "      <td>67</td>\n",
       "      <td>295</td>\n",
       "      <td>2.0</td>\n",
       "      <td>285.0</td>\n",
       "      <td>57</td>\n",
       "      <td>67</td>\n",
       "      <td>65</td>\n",
       "      <td>10</td>\n",
       "    </tr>\n",
       "    <tr>\n",
       "      <th>1</th>\n",
       "      <td>John Adams</td>\n",
       "      <td>1826-07-04</td>\n",
       "      <td>1735-10-30</td>\n",
       "      <td>1797-03-04</td>\n",
       "      <td>1801-03-04</td>\n",
       "      <td>90</td>\n",
       "      <td>247</td>\n",
       "      <td>25.0</td>\n",
       "      <td>122.0</td>\n",
       "      <td>61</td>\n",
       "      <td>125</td>\n",
       "      <td>65</td>\n",
       "      <td>125</td>\n",
       "    </tr>\n",
       "    <tr>\n",
       "      <th>2</th>\n",
       "      <td>Thomas Jefferson</td>\n",
       "      <td>1826-07-04</td>\n",
       "      <td>1743-04-13</td>\n",
       "      <td>1801-03-04</td>\n",
       "      <td>1809-03-04</td>\n",
       "      <td>83</td>\n",
       "      <td>82</td>\n",
       "      <td>17.0</td>\n",
       "      <td>122.0</td>\n",
       "      <td>57</td>\n",
       "      <td>325</td>\n",
       "      <td>65</td>\n",
       "      <td>325</td>\n",
       "    </tr>\n",
       "    <tr>\n",
       "      <th>3</th>\n",
       "      <td>James Madison</td>\n",
       "      <td>1836-06-28</td>\n",
       "      <td>1751-03-16</td>\n",
       "      <td>1809-03-04</td>\n",
       "      <td>1817-03-04</td>\n",
       "      <td>85</td>\n",
       "      <td>104</td>\n",
       "      <td>19.0</td>\n",
       "      <td>116.0</td>\n",
       "      <td>57</td>\n",
       "      <td>353</td>\n",
       "      <td>65</td>\n",
       "      <td>353</td>\n",
       "    </tr>\n",
       "    <tr>\n",
       "      <th>4</th>\n",
       "      <td>James Monroe</td>\n",
       "      <td>1831-07-04</td>\n",
       "      <td>1758-04-28</td>\n",
       "      <td>1817-03-04</td>\n",
       "      <td>1825-03-04</td>\n",
       "      <td>73</td>\n",
       "      <td>67</td>\n",
       "      <td>6.0</td>\n",
       "      <td>122.0</td>\n",
       "      <td>58</td>\n",
       "      <td>310</td>\n",
       "      <td>66</td>\n",
       "      <td>310</td>\n",
       "    </tr>\n",
       "  </tbody>\n",
       "</table>\n",
       "</div>"
      ],
      "text/plain": [
       "           president death_date birth_date presidency_start_date  \\\n",
       "0  George Washington 1799-12-14 1732-02-22            1789-04-30   \n",
       "1         John Adams 1826-07-04 1735-10-30            1797-03-04   \n",
       "2   Thomas Jefferson 1826-07-04 1743-04-13            1801-03-04   \n",
       "3      James Madison 1836-06-28 1751-03-16            1809-03-04   \n",
       "4       James Monroe 1831-07-04 1758-04-28            1817-03-04   \n",
       "\n",
       "  presidency_end_date  age_at_death_year  age_at_death_days  \\\n",
       "0          1797-03-04                 67                295   \n",
       "1          1801-03-04                 90                247   \n",
       "2          1809-03-04                 83                 82   \n",
       "3          1817-03-04                 85                104   \n",
       "4          1825-03-04                 73                 67   \n",
       "\n",
       "   post_presidency_timespan_year  post_presidency_timespan_days  \\\n",
       "0                            2.0                          285.0   \n",
       "1                           25.0                          122.0   \n",
       "2                           17.0                          122.0   \n",
       "3                           19.0                          116.0   \n",
       "4                            6.0                          122.0   \n",
       "\n",
       "   age_at_start_year  age_at_start_days  age_at_end_year  age_at_end_days  \n",
       "0                 57                 67               65               10  \n",
       "1                 61                125               65              125  \n",
       "2                 57                325               65              325  \n",
       "3                 57                353               65              353  \n",
       "4                 58                310               66              310  "
      ]
     },
     "execution_count": 45,
     "metadata": {},
     "output_type": "execute_result"
    }
   ],
   "source": [
    "df.head()"
   ]
  },
  {
   "cell_type": "code",
   "execution_count": 47,
   "metadata": {
    "ExecuteTime": {
     "end_time": "2021-01-06T17:11:59.764255Z",
     "start_time": "2021-01-06T17:11:59.761907Z"
    },
    "hidden": true
   },
   "outputs": [],
   "source": [
    "columnsTitles = [\"president\", \"presidency_start_date\", \"presidency_end_date\",\n",
    "                \"birth_date\", \"age_at_start_year\", \"age_at_start_days\",\n",
    "                \"age_at_end_year\", \"age_at_end_days\",\n",
    "                \"post_presidency_timespan_year\", \"post_presidency_timespan_days\",\n",
    "                \"death_date\", \"age_at_death_year\", \"age_at_death_days\"]"
   ]
  },
  {
   "cell_type": "code",
   "execution_count": 49,
   "metadata": {
    "ExecuteTime": {
     "end_time": "2021-01-06T17:17:22.862218Z",
     "start_time": "2021-01-06T17:17:22.859287Z"
    },
    "hidden": true,
    "scrolled": true
   },
   "outputs": [],
   "source": [
    "df = df.reindex(columns=columnsTitles)"
   ]
  },
  {
   "cell_type": "code",
   "execution_count": 50,
   "metadata": {
    "ExecuteTime": {
     "end_time": "2021-01-06T17:17:25.921750Z",
     "start_time": "2021-01-06T17:17:25.905377Z"
    },
    "hidden": true
   },
   "outputs": [
    {
     "data": {
      "text/html": [
       "<div>\n",
       "<style scoped>\n",
       "    .dataframe tbody tr th:only-of-type {\n",
       "        vertical-align: middle;\n",
       "    }\n",
       "\n",
       "    .dataframe tbody tr th {\n",
       "        vertical-align: top;\n",
       "    }\n",
       "\n",
       "    .dataframe thead th {\n",
       "        text-align: right;\n",
       "    }\n",
       "</style>\n",
       "<table border=\"1\" class=\"dataframe\">\n",
       "  <thead>\n",
       "    <tr style=\"text-align: right;\">\n",
       "      <th></th>\n",
       "      <th>president</th>\n",
       "      <th>presidency_start_date</th>\n",
       "      <th>presidency_end_date</th>\n",
       "      <th>birth_date</th>\n",
       "      <th>age_at_start_year</th>\n",
       "      <th>age_at_start_days</th>\n",
       "      <th>age_at_end_year</th>\n",
       "      <th>age_at_end_days</th>\n",
       "      <th>post_presidency_timespan_year</th>\n",
       "      <th>post_presidency_timespan_days</th>\n",
       "      <th>death_date</th>\n",
       "      <th>age_at_death_year</th>\n",
       "      <th>age_at_death_days</th>\n",
       "    </tr>\n",
       "  </thead>\n",
       "  <tbody>\n",
       "    <tr>\n",
       "      <th>0</th>\n",
       "      <td>George Washington</td>\n",
       "      <td>1789-04-30</td>\n",
       "      <td>1797-03-04</td>\n",
       "      <td>1732-02-22</td>\n",
       "      <td>57</td>\n",
       "      <td>67</td>\n",
       "      <td>65</td>\n",
       "      <td>10</td>\n",
       "      <td>2.0</td>\n",
       "      <td>285.0</td>\n",
       "      <td>1799-12-14</td>\n",
       "      <td>67</td>\n",
       "      <td>295</td>\n",
       "    </tr>\n",
       "    <tr>\n",
       "      <th>1</th>\n",
       "      <td>John Adams</td>\n",
       "      <td>1797-03-04</td>\n",
       "      <td>1801-03-04</td>\n",
       "      <td>1735-10-30</td>\n",
       "      <td>61</td>\n",
       "      <td>125</td>\n",
       "      <td>65</td>\n",
       "      <td>125</td>\n",
       "      <td>25.0</td>\n",
       "      <td>122.0</td>\n",
       "      <td>1826-07-04</td>\n",
       "      <td>90</td>\n",
       "      <td>247</td>\n",
       "    </tr>\n",
       "    <tr>\n",
       "      <th>2</th>\n",
       "      <td>Thomas Jefferson</td>\n",
       "      <td>1801-03-04</td>\n",
       "      <td>1809-03-04</td>\n",
       "      <td>1743-04-13</td>\n",
       "      <td>57</td>\n",
       "      <td>325</td>\n",
       "      <td>65</td>\n",
       "      <td>325</td>\n",
       "      <td>17.0</td>\n",
       "      <td>122.0</td>\n",
       "      <td>1826-07-04</td>\n",
       "      <td>83</td>\n",
       "      <td>82</td>\n",
       "    </tr>\n",
       "    <tr>\n",
       "      <th>3</th>\n",
       "      <td>James Madison</td>\n",
       "      <td>1809-03-04</td>\n",
       "      <td>1817-03-04</td>\n",
       "      <td>1751-03-16</td>\n",
       "      <td>57</td>\n",
       "      <td>353</td>\n",
       "      <td>65</td>\n",
       "      <td>353</td>\n",
       "      <td>19.0</td>\n",
       "      <td>116.0</td>\n",
       "      <td>1836-06-28</td>\n",
       "      <td>85</td>\n",
       "      <td>104</td>\n",
       "    </tr>\n",
       "    <tr>\n",
       "      <th>4</th>\n",
       "      <td>James Monroe</td>\n",
       "      <td>1817-03-04</td>\n",
       "      <td>1825-03-04</td>\n",
       "      <td>1758-04-28</td>\n",
       "      <td>58</td>\n",
       "      <td>310</td>\n",
       "      <td>66</td>\n",
       "      <td>310</td>\n",
       "      <td>6.0</td>\n",
       "      <td>122.0</td>\n",
       "      <td>1831-07-04</td>\n",
       "      <td>73</td>\n",
       "      <td>67</td>\n",
       "    </tr>\n",
       "  </tbody>\n",
       "</table>\n",
       "</div>"
      ],
      "text/plain": [
       "           president presidency_start_date presidency_end_date birth_date  \\\n",
       "0  George Washington            1789-04-30          1797-03-04 1732-02-22   \n",
       "1         John Adams            1797-03-04          1801-03-04 1735-10-30   \n",
       "2   Thomas Jefferson            1801-03-04          1809-03-04 1743-04-13   \n",
       "3      James Madison            1809-03-04          1817-03-04 1751-03-16   \n",
       "4       James Monroe            1817-03-04          1825-03-04 1758-04-28   \n",
       "\n",
       "   age_at_start_year  age_at_start_days  age_at_end_year  age_at_end_days  \\\n",
       "0                 57                 67               65               10   \n",
       "1                 61                125               65              125   \n",
       "2                 57                325               65              325   \n",
       "3                 57                353               65              353   \n",
       "4                 58                310               66              310   \n",
       "\n",
       "   post_presidency_timespan_year  post_presidency_timespan_days death_date  \\\n",
       "0                            2.0                          285.0 1799-12-14   \n",
       "1                           25.0                          122.0 1826-07-04   \n",
       "2                           17.0                          122.0 1826-07-04   \n",
       "3                           19.0                          116.0 1836-06-28   \n",
       "4                            6.0                          122.0 1831-07-04   \n",
       "\n",
       "   age_at_death_year  age_at_death_days  \n",
       "0                 67                295  \n",
       "1                 90                247  \n",
       "2                 83                 82  \n",
       "3                 85                104  \n",
       "4                 73                 67  "
      ]
     },
     "execution_count": 50,
     "metadata": {},
     "output_type": "execute_result"
    }
   ],
   "source": [
    "df.head()"
   ]
  },
  {
   "cell_type": "markdown",
   "metadata": {
    "heading_collapsed": true
   },
   "source": [
    "## Add Party Affiliation and Birth Place\n",
    "\n",
    "\n",
    "---\n",
    "\n",
    "Pandas can read HTML tables from the website. Here, I use this functionality to enrich our data with the party affiliation and birth place of the USA presidents. However, these data is messy and it needs separate processing."
   ]
  },
  {
   "cell_type": "code",
   "execution_count": 60,
   "metadata": {
    "ExecuteTime": {
     "end_time": "2021-01-06T17:25:50.968391Z",
     "start_time": "2021-01-06T17:25:48.683450Z"
    },
    "hidden": true
   },
   "outputs": [],
   "source": [
    "party = pd.read_html(\"https://www.britannica.com/topic/Presidents-of-the-United-States-1846696\")[0]"
   ]
  },
  {
   "cell_type": "code",
   "execution_count": 162,
   "metadata": {
    "ExecuteTime": {
     "end_time": "2021-01-06T18:46:51.468556Z",
     "start_time": "2021-01-06T18:46:50.851453Z"
    },
    "hidden": true,
    "scrolled": false
   },
   "outputs": [],
   "source": [
    "birth_place = pd.read_html(\"https://en.wikipedia.org/wiki/List_of_presidents_of_the_United_States_by_home_state\")[0]"
   ]
  },
  {
   "cell_type": "markdown",
   "metadata": {
    "heading_collapsed": true,
    "hidden": true
   },
   "source": [
    "### Process Political Party Affiliation"
   ]
  },
  {
   "cell_type": "code",
   "execution_count": 66,
   "metadata": {
    "ExecuteTime": {
     "end_time": "2021-01-06T17:40:42.763750Z",
     "start_time": "2021-01-06T17:40:42.753159Z"
    },
    "hidden": true
   },
   "outputs": [
    {
     "data": {
      "text/html": [
       "<div>\n",
       "<style scoped>\n",
       "    .dataframe tbody tr th:only-of-type {\n",
       "        vertical-align: middle;\n",
       "    }\n",
       "\n",
       "    .dataframe tbody tr th {\n",
       "        vertical-align: top;\n",
       "    }\n",
       "\n",
       "    .dataframe thead th {\n",
       "        text-align: right;\n",
       "    }\n",
       "</style>\n",
       "<table border=\"1\" class=\"dataframe\">\n",
       "  <thead>\n",
       "    <tr style=\"text-align: right;\">\n",
       "      <th></th>\n",
       "      <th>Unnamed: 0</th>\n",
       "      <th>no.</th>\n",
       "      <th>president</th>\n",
       "      <th>birthplace</th>\n",
       "      <th>political party</th>\n",
       "      <th>term</th>\n",
       "    </tr>\n",
       "  </thead>\n",
       "  <tbody>\n",
       "    <tr>\n",
       "      <th>0</th>\n",
       "      <td>NaN</td>\n",
       "      <td>1</td>\n",
       "      <td>George Washington</td>\n",
       "      <td>Va.</td>\n",
       "      <td>Federalist</td>\n",
       "      <td>1789–97</td>\n",
       "    </tr>\n",
       "    <tr>\n",
       "      <th>1</th>\n",
       "      <td>NaN</td>\n",
       "      <td>2</td>\n",
       "      <td>John Adams</td>\n",
       "      <td>Mass.</td>\n",
       "      <td>Federalist</td>\n",
       "      <td>1797–1801</td>\n",
       "    </tr>\n",
       "    <tr>\n",
       "      <th>2</th>\n",
       "      <td>NaN</td>\n",
       "      <td>3</td>\n",
       "      <td>Thomas Jefferson</td>\n",
       "      <td>Va.</td>\n",
       "      <td>Democratic-Republican</td>\n",
       "      <td>1801–09</td>\n",
       "    </tr>\n",
       "    <tr>\n",
       "      <th>3</th>\n",
       "      <td>NaN</td>\n",
       "      <td>4</td>\n",
       "      <td>James Madison</td>\n",
       "      <td>Va.</td>\n",
       "      <td>Democratic-Republican</td>\n",
       "      <td>1809–17</td>\n",
       "    </tr>\n",
       "    <tr>\n",
       "      <th>4</th>\n",
       "      <td>NaN</td>\n",
       "      <td>5</td>\n",
       "      <td>James Monroe</td>\n",
       "      <td>Va.</td>\n",
       "      <td>Democratic-Republican</td>\n",
       "      <td>1817–25</td>\n",
       "    </tr>\n",
       "  </tbody>\n",
       "</table>\n",
       "</div>"
      ],
      "text/plain": [
       "  Unnamed: 0 no.          president birthplace        political party  \\\n",
       "0        NaN   1  George Washington        Va.             Federalist   \n",
       "1        NaN   2         John Adams      Mass.             Federalist   \n",
       "2        NaN   3   Thomas Jefferson        Va.  Democratic-Republican   \n",
       "3        NaN   4      James Madison        Va.  Democratic-Republican   \n",
       "4        NaN   5       James Monroe        Va.  Democratic-Republican   \n",
       "\n",
       "        term  \n",
       "0    1789–97  \n",
       "1  1797–1801  \n",
       "2    1801–09  \n",
       "3    1809–17  \n",
       "4    1817–25  "
      ]
     },
     "execution_count": 66,
     "metadata": {},
     "output_type": "execute_result"
    }
   ],
   "source": [
    "party.head()"
   ]
  },
  {
   "cell_type": "markdown",
   "metadata": {
    "hidden": true
   },
   "source": [
    "Drop unnecessary columns"
   ]
  },
  {
   "cell_type": "code",
   "execution_count": 72,
   "metadata": {
    "ExecuteTime": {
     "end_time": "2021-01-06T17:43:37.336967Z",
     "start_time": "2021-01-06T17:43:37.334277Z"
    },
    "hidden": true
   },
   "outputs": [],
   "source": [
    "party = party.drop([\"Unnamed: 0\", \"no.\", \"birthplace\", \"term\"], axis=1)"
   ]
  },
  {
   "cell_type": "markdown",
   "metadata": {
    "hidden": true
   },
   "source": [
    "Remove last three row as they contain extra redundant information."
   ]
  },
  {
   "cell_type": "code",
   "execution_count": 78,
   "metadata": {
    "ExecuteTime": {
     "end_time": "2021-01-06T17:49:28.554100Z",
     "start_time": "2021-01-06T17:49:28.548814Z"
    },
    "hidden": true
   },
   "outputs": [],
   "source": [
    "party = party.drop([44, 45, 46], axis=0)"
   ]
  },
  {
   "cell_type": "markdown",
   "metadata": {
    "hidden": true
   },
   "source": [
    "Remove leading and trailing spaces"
   ]
  },
  {
   "cell_type": "code",
   "execution_count": 81,
   "metadata": {
    "ExecuteTime": {
     "end_time": "2021-01-06T17:50:29.265436Z",
     "start_time": "2021-01-06T17:50:29.254880Z"
    },
    "hidden": true
   },
   "outputs": [],
   "source": [
    "party = party.apply(lambda x: x.str.strip())"
   ]
  },
  {
   "cell_type": "markdown",
   "metadata": {
    "hidden": true
   },
   "source": [
    "#### Merge `party` DataFrame with our initial DataFrame"
   ]
  },
  {
   "cell_type": "code",
   "execution_count": 84,
   "metadata": {
    "ExecuteTime": {
     "end_time": "2021-01-06T17:52:02.643801Z",
     "start_time": "2021-01-06T17:52:02.637411Z"
    },
    "hidden": true,
    "scrolled": true
   },
   "outputs": [],
   "source": [
    "df = df.merge(party[\"political party\"], left_index=True, right_index=True)"
   ]
  },
  {
   "cell_type": "code",
   "execution_count": 85,
   "metadata": {
    "ExecuteTime": {
     "end_time": "2021-01-06T17:52:08.084085Z",
     "start_time": "2021-01-06T17:52:08.053309Z"
    },
    "hidden": true
   },
   "outputs": [
    {
     "data": {
      "text/html": [
       "<div>\n",
       "<style scoped>\n",
       "    .dataframe tbody tr th:only-of-type {\n",
       "        vertical-align: middle;\n",
       "    }\n",
       "\n",
       "    .dataframe tbody tr th {\n",
       "        vertical-align: top;\n",
       "    }\n",
       "\n",
       "    .dataframe thead th {\n",
       "        text-align: right;\n",
       "    }\n",
       "</style>\n",
       "<table border=\"1\" class=\"dataframe\">\n",
       "  <thead>\n",
       "    <tr style=\"text-align: right;\">\n",
       "      <th></th>\n",
       "      <th>president</th>\n",
       "      <th>presidency_start_date</th>\n",
       "      <th>presidency_end_date</th>\n",
       "      <th>birth_date</th>\n",
       "      <th>age_at_start_year</th>\n",
       "      <th>age_at_start_days</th>\n",
       "      <th>age_at_end_year</th>\n",
       "      <th>age_at_end_days</th>\n",
       "      <th>post_presidency_timespan_year</th>\n",
       "      <th>post_presidency_timespan_days</th>\n",
       "      <th>death_date</th>\n",
       "      <th>age_at_death_year</th>\n",
       "      <th>age_at_death_days</th>\n",
       "      <th>political party</th>\n",
       "    </tr>\n",
       "  </thead>\n",
       "  <tbody>\n",
       "    <tr>\n",
       "      <th>0</th>\n",
       "      <td>George Washington</td>\n",
       "      <td>1789-04-30</td>\n",
       "      <td>1797-03-04</td>\n",
       "      <td>1732-02-22</td>\n",
       "      <td>57</td>\n",
       "      <td>67</td>\n",
       "      <td>65</td>\n",
       "      <td>10</td>\n",
       "      <td>2.0</td>\n",
       "      <td>285.0</td>\n",
       "      <td>1799-12-14</td>\n",
       "      <td>67</td>\n",
       "      <td>295</td>\n",
       "      <td>Federalist</td>\n",
       "    </tr>\n",
       "    <tr>\n",
       "      <th>1</th>\n",
       "      <td>John Adams</td>\n",
       "      <td>1797-03-04</td>\n",
       "      <td>1801-03-04</td>\n",
       "      <td>1735-10-30</td>\n",
       "      <td>61</td>\n",
       "      <td>125</td>\n",
       "      <td>65</td>\n",
       "      <td>125</td>\n",
       "      <td>25.0</td>\n",
       "      <td>122.0</td>\n",
       "      <td>1826-07-04</td>\n",
       "      <td>90</td>\n",
       "      <td>247</td>\n",
       "      <td>Federalist</td>\n",
       "    </tr>\n",
       "    <tr>\n",
       "      <th>2</th>\n",
       "      <td>Thomas Jefferson</td>\n",
       "      <td>1801-03-04</td>\n",
       "      <td>1809-03-04</td>\n",
       "      <td>1743-04-13</td>\n",
       "      <td>57</td>\n",
       "      <td>325</td>\n",
       "      <td>65</td>\n",
       "      <td>325</td>\n",
       "      <td>17.0</td>\n",
       "      <td>122.0</td>\n",
       "      <td>1826-07-04</td>\n",
       "      <td>83</td>\n",
       "      <td>82</td>\n",
       "      <td>Democratic-Republican</td>\n",
       "    </tr>\n",
       "    <tr>\n",
       "      <th>3</th>\n",
       "      <td>James Madison</td>\n",
       "      <td>1809-03-04</td>\n",
       "      <td>1817-03-04</td>\n",
       "      <td>1751-03-16</td>\n",
       "      <td>57</td>\n",
       "      <td>353</td>\n",
       "      <td>65</td>\n",
       "      <td>353</td>\n",
       "      <td>19.0</td>\n",
       "      <td>116.0</td>\n",
       "      <td>1836-06-28</td>\n",
       "      <td>85</td>\n",
       "      <td>104</td>\n",
       "      <td>Democratic-Republican</td>\n",
       "    </tr>\n",
       "    <tr>\n",
       "      <th>4</th>\n",
       "      <td>James Monroe</td>\n",
       "      <td>1817-03-04</td>\n",
       "      <td>1825-03-04</td>\n",
       "      <td>1758-04-28</td>\n",
       "      <td>58</td>\n",
       "      <td>310</td>\n",
       "      <td>66</td>\n",
       "      <td>310</td>\n",
       "      <td>6.0</td>\n",
       "      <td>122.0</td>\n",
       "      <td>1831-07-04</td>\n",
       "      <td>73</td>\n",
       "      <td>67</td>\n",
       "      <td>Democratic-Republican</td>\n",
       "    </tr>\n",
       "  </tbody>\n",
       "</table>\n",
       "</div>"
      ],
      "text/plain": [
       "           president presidency_start_date presidency_end_date birth_date  \\\n",
       "0  George Washington            1789-04-30          1797-03-04 1732-02-22   \n",
       "1         John Adams            1797-03-04          1801-03-04 1735-10-30   \n",
       "2   Thomas Jefferson            1801-03-04          1809-03-04 1743-04-13   \n",
       "3      James Madison            1809-03-04          1817-03-04 1751-03-16   \n",
       "4       James Monroe            1817-03-04          1825-03-04 1758-04-28   \n",
       "\n",
       "   age_at_start_year  age_at_start_days  age_at_end_year  age_at_end_days  \\\n",
       "0                 57                 67               65               10   \n",
       "1                 61                125               65              125   \n",
       "2                 57                325               65              325   \n",
       "3                 57                353               65              353   \n",
       "4                 58                310               66              310   \n",
       "\n",
       "   post_presidency_timespan_year  post_presidency_timespan_days death_date  \\\n",
       "0                            2.0                          285.0 1799-12-14   \n",
       "1                           25.0                          122.0 1826-07-04   \n",
       "2                           17.0                          122.0 1826-07-04   \n",
       "3                           19.0                          116.0 1836-06-28   \n",
       "4                            6.0                          122.0 1831-07-04   \n",
       "\n",
       "   age_at_death_year  age_at_death_days        political party  \n",
       "0                 67                295             Federalist  \n",
       "1                 90                247             Federalist  \n",
       "2                 83                 82  Democratic-Republican  \n",
       "3                 85                104  Democratic-Republican  \n",
       "4                 73                 67  Democratic-Republican  "
      ]
     },
     "execution_count": 85,
     "metadata": {},
     "output_type": "execute_result"
    }
   ],
   "source": [
    "df.head()"
   ]
  },
  {
   "cell_type": "markdown",
   "metadata": {
    "heading_collapsed": true,
    "hidden": true
   },
   "source": [
    "### Birth Place Data"
   ]
  },
  {
   "cell_type": "code",
   "execution_count": 163,
   "metadata": {
    "ExecuteTime": {
     "end_time": "2021-01-06T18:46:53.290790Z",
     "start_time": "2021-01-06T18:46:53.269924Z"
    },
    "hidden": true,
    "scrolled": false
   },
   "outputs": [
    {
     "data": {
      "text/html": [
       "<div>\n",
       "<style scoped>\n",
       "    .dataframe tbody tr th:only-of-type {\n",
       "        vertical-align: middle;\n",
       "    }\n",
       "\n",
       "    .dataframe tbody tr th {\n",
       "        vertical-align: top;\n",
       "    }\n",
       "\n",
       "    .dataframe thead th {\n",
       "        text-align: right;\n",
       "    }\n",
       "</style>\n",
       "<table border=\"1\" class=\"dataframe\">\n",
       "  <thead>\n",
       "    <tr style=\"text-align: right;\">\n",
       "      <th></th>\n",
       "      <th>Date of birth</th>\n",
       "      <th>President</th>\n",
       "      <th>Birthplace</th>\n",
       "      <th>State† of birth</th>\n",
       "      <th>In office</th>\n",
       "    </tr>\n",
       "  </thead>\n",
       "  <tbody>\n",
       "    <tr>\n",
       "      <th>0</th>\n",
       "      <td>February 22, 1732</td>\n",
       "      <td>George Washington</td>\n",
       "      <td>Westmoreland County</td>\n",
       "      <td>Virginia†</td>\n",
       "      <td>(1st) April 30, 1789 – March 4, 1797</td>\n",
       "    </tr>\n",
       "    <tr>\n",
       "      <th>1</th>\n",
       "      <td>October 30, 1735</td>\n",
       "      <td>John Adams</td>\n",
       "      <td>Braintree</td>\n",
       "      <td>Massachusetts†</td>\n",
       "      <td>(2nd) March 4, 1797 – March 4, 1801</td>\n",
       "    </tr>\n",
       "    <tr>\n",
       "      <th>2</th>\n",
       "      <td>April 13, 1743*</td>\n",
       "      <td>Thomas Jefferson</td>\n",
       "      <td>Shadwell</td>\n",
       "      <td>Virginia†</td>\n",
       "      <td>(3rd) March 4, 1801 – March 4, 1809</td>\n",
       "    </tr>\n",
       "    <tr>\n",
       "      <th>3</th>\n",
       "      <td>March 16, 1751</td>\n",
       "      <td>James Madison</td>\n",
       "      <td>Port Conway</td>\n",
       "      <td>Virginia†</td>\n",
       "      <td>(4th) March 4, 1809 – March 4, 1817</td>\n",
       "    </tr>\n",
       "    <tr>\n",
       "      <th>4</th>\n",
       "      <td>April 28, 1758</td>\n",
       "      <td>James Monroe</td>\n",
       "      <td>Monroe Hall</td>\n",
       "      <td>Virginia†</td>\n",
       "      <td>(5th) March 4, 1817 – March 4, 1825</td>\n",
       "    </tr>\n",
       "  </tbody>\n",
       "</table>\n",
       "</div>"
      ],
      "text/plain": [
       "       Date of birth          President           Birthplace State† of birth  \\\n",
       "0  February 22, 1732  George Washington  Westmoreland County       Virginia†   \n",
       "1   October 30, 1735         John Adams            Braintree  Massachusetts†   \n",
       "2    April 13, 1743*   Thomas Jefferson             Shadwell       Virginia†   \n",
       "3     March 16, 1751      James Madison          Port Conway       Virginia†   \n",
       "4     April 28, 1758       James Monroe          Monroe Hall       Virginia†   \n",
       "\n",
       "                              In office  \n",
       "0  (1st) April 30, 1789 – March 4, 1797  \n",
       "1   (2nd) March 4, 1797 – March 4, 1801  \n",
       "2   (3rd) March 4, 1801 – March 4, 1809  \n",
       "3   (4th) March 4, 1809 – March 4, 1817  \n",
       "4   (5th) March 4, 1817 – March 4, 1825  "
      ]
     },
     "execution_count": 163,
     "metadata": {},
     "output_type": "execute_result"
    }
   ],
   "source": [
    "birth_place.head()"
   ]
  },
  {
   "cell_type": "markdown",
   "metadata": {
    "hidden": true
   },
   "source": [
    "Remove last two rows"
   ]
  },
  {
   "cell_type": "code",
   "execution_count": 164,
   "metadata": {
    "ExecuteTime": {
     "end_time": "2021-01-06T18:46:54.059280Z",
     "start_time": "2021-01-06T18:46:54.051742Z"
    },
    "hidden": true
   },
   "outputs": [],
   "source": [
    "birth_place = birth_place.drop([45, 46], axis=0)"
   ]
  },
  {
   "cell_type": "markdown",
   "metadata": {
    "hidden": true
   },
   "source": [
    "Rename columns"
   ]
  },
  {
   "cell_type": "code",
   "execution_count": 166,
   "metadata": {
    "ExecuteTime": {
     "end_time": "2021-01-06T18:47:05.389230Z",
     "start_time": "2021-01-06T18:47:05.385717Z"
    },
    "hidden": true
   },
   "outputs": [],
   "source": [
    "column_mapping = {\"Date of birth\": \"birth_date\", \"President\": \"president\",\n",
    "                 \"Birthplace\": \"city\", \"State† of birth\": \"state\"}\n",
    "\n",
    "\n",
    "birth_place = birth_place.rename(column_mapping, axis=1)"
   ]
  },
  {
   "cell_type": "markdown",
   "metadata": {
    "hidden": true
   },
   "source": [
    "Remove `†` character from the `state` column"
   ]
  },
  {
   "cell_type": "code",
   "execution_count": 167,
   "metadata": {
    "ExecuteTime": {
     "end_time": "2021-01-06T18:47:06.365103Z",
     "start_time": "2021-01-06T18:47:06.355687Z"
    },
    "hidden": true
   },
   "outputs": [],
   "source": [
    "birth_place[\"state\"] = birth_place[\"state\"].str.strip(\"†\").str.strip()"
   ]
  },
  {
   "cell_type": "markdown",
   "metadata": {
    "hidden": true
   },
   "source": [
    "Remove leading and trailing spaces"
   ]
  },
  {
   "cell_type": "code",
   "execution_count": 168,
   "metadata": {
    "ExecuteTime": {
     "end_time": "2021-01-06T18:47:07.055838Z",
     "start_time": "2021-01-06T18:47:07.040754Z"
    },
    "hidden": true,
    "scrolled": true
   },
   "outputs": [],
   "source": [
    "birth_place = birth_place.apply(lambda x: x.str.strip())"
   ]
  },
  {
   "cell_type": "markdown",
   "metadata": {
    "hidden": true
   },
   "source": [
    "The order of rows in `birth_place` DataFrame is not set according to presidency order. Hence, we need to find at least one common column between `birth_place` and our initial DataFrame. That column could be `birth_date` as it is represented in both DataFrame."
   ]
  },
  {
   "cell_type": "code",
   "execution_count": 169,
   "metadata": {
    "ExecuteTime": {
     "end_time": "2021-01-06T18:47:08.009552Z",
     "start_time": "2021-01-06T18:47:07.985905Z"
    },
    "hidden": true,
    "scrolled": true
   },
   "outputs": [],
   "source": [
    "birth_place[\"birth_date\"] = pd.to_datetime(birth_place[\"birth_date\"].str.rstrip(\"*\").str.strip())"
   ]
  },
  {
   "cell_type": "markdown",
   "metadata": {
    "hidden": true
   },
   "source": [
    "#### Merge `birth_place` DataFrame with our initial DataFrame\n",
    "\n",
    "---\n",
    "\n",
    "To perform the merge, we need to create temporary columns in both DataFrame and them merge these DataFrame using these columns."
   ]
  },
  {
   "cell_type": "code",
   "execution_count": 171,
   "metadata": {
    "ExecuteTime": {
     "end_time": "2021-01-06T18:47:17.283927Z",
     "start_time": "2021-01-06T18:47:17.273254Z"
    },
    "hidden": true
   },
   "outputs": [],
   "source": [
    "birth = birth_place[[\"city\", \"state\"]].copy(deep=True) # Select only necessary columns"
   ]
  },
  {
   "cell_type": "code",
   "execution_count": 172,
   "metadata": {
    "ExecuteTime": {
     "end_time": "2021-01-06T18:47:18.084228Z",
     "start_time": "2021-01-06T18:47:18.075040Z"
    },
    "hidden": true
   },
   "outputs": [],
   "source": [
    "birth.insert(0, column=\"temp\", value=birth_place[\"birth_date\"].dt.year) # Temporary column for merge"
   ]
  },
  {
   "cell_type": "code",
   "execution_count": 173,
   "metadata": {
    "ExecuteTime": {
     "end_time": "2021-01-06T18:47:21.105095Z",
     "start_time": "2021-01-06T18:47:21.100055Z"
    },
    "hidden": true
   },
   "outputs": [],
   "source": [
    "df[\"temp\"] = df[\"birth_date\"].dt.year # Temporary column for merge"
   ]
  },
  {
   "cell_type": "code",
   "execution_count": 176,
   "metadata": {
    "ExecuteTime": {
     "end_time": "2021-01-06T18:48:14.150790Z",
     "start_time": "2021-01-06T18:48:14.143208Z"
    },
    "hidden": true,
    "scrolled": true
   },
   "outputs": [],
   "source": [
    "df = df.merge(birth, how=\"inner\", left_on=\"temp\", right_on=\"temp\").drop(\"temp\", axis=1) # Perform merge"
   ]
  },
  {
   "cell_type": "code",
   "execution_count": 177,
   "metadata": {
    "ExecuteTime": {
     "end_time": "2021-01-06T18:48:17.360686Z",
     "start_time": "2021-01-06T18:48:17.329800Z"
    },
    "hidden": true
   },
   "outputs": [
    {
     "data": {
      "text/html": [
       "<div>\n",
       "<style scoped>\n",
       "    .dataframe tbody tr th:only-of-type {\n",
       "        vertical-align: middle;\n",
       "    }\n",
       "\n",
       "    .dataframe tbody tr th {\n",
       "        vertical-align: top;\n",
       "    }\n",
       "\n",
       "    .dataframe thead th {\n",
       "        text-align: right;\n",
       "    }\n",
       "</style>\n",
       "<table border=\"1\" class=\"dataframe\">\n",
       "  <thead>\n",
       "    <tr style=\"text-align: right;\">\n",
       "      <th></th>\n",
       "      <th>president</th>\n",
       "      <th>presidency_start_date</th>\n",
       "      <th>presidency_end_date</th>\n",
       "      <th>birth_date</th>\n",
       "      <th>age_at_start_year</th>\n",
       "      <th>age_at_start_days</th>\n",
       "      <th>age_at_end_year</th>\n",
       "      <th>age_at_end_days</th>\n",
       "      <th>post_presidency_timespan_year</th>\n",
       "      <th>post_presidency_timespan_days</th>\n",
       "      <th>death_date</th>\n",
       "      <th>age_at_death_year</th>\n",
       "      <th>age_at_death_days</th>\n",
       "      <th>political party</th>\n",
       "      <th>city</th>\n",
       "      <th>state</th>\n",
       "    </tr>\n",
       "  </thead>\n",
       "  <tbody>\n",
       "    <tr>\n",
       "      <th>0</th>\n",
       "      <td>George Washington</td>\n",
       "      <td>1789-04-30</td>\n",
       "      <td>1797-03-04</td>\n",
       "      <td>1732-02-22</td>\n",
       "      <td>57</td>\n",
       "      <td>67</td>\n",
       "      <td>65</td>\n",
       "      <td>10</td>\n",
       "      <td>2.0</td>\n",
       "      <td>285.0</td>\n",
       "      <td>1799-12-14</td>\n",
       "      <td>67</td>\n",
       "      <td>295</td>\n",
       "      <td>Federalist</td>\n",
       "      <td>Westmoreland County</td>\n",
       "      <td>Virginia</td>\n",
       "    </tr>\n",
       "    <tr>\n",
       "      <th>1</th>\n",
       "      <td>John Adams</td>\n",
       "      <td>1797-03-04</td>\n",
       "      <td>1801-03-04</td>\n",
       "      <td>1735-10-30</td>\n",
       "      <td>61</td>\n",
       "      <td>125</td>\n",
       "      <td>65</td>\n",
       "      <td>125</td>\n",
       "      <td>25.0</td>\n",
       "      <td>122.0</td>\n",
       "      <td>1826-07-04</td>\n",
       "      <td>90</td>\n",
       "      <td>247</td>\n",
       "      <td>Federalist</td>\n",
       "      <td>Braintree</td>\n",
       "      <td>Massachusetts</td>\n",
       "    </tr>\n",
       "    <tr>\n",
       "      <th>2</th>\n",
       "      <td>Thomas Jefferson</td>\n",
       "      <td>1801-03-04</td>\n",
       "      <td>1809-03-04</td>\n",
       "      <td>1743-04-13</td>\n",
       "      <td>57</td>\n",
       "      <td>325</td>\n",
       "      <td>65</td>\n",
       "      <td>325</td>\n",
       "      <td>17.0</td>\n",
       "      <td>122.0</td>\n",
       "      <td>1826-07-04</td>\n",
       "      <td>83</td>\n",
       "      <td>82</td>\n",
       "      <td>Democratic-Republican</td>\n",
       "      <td>Shadwell</td>\n",
       "      <td>Virginia</td>\n",
       "    </tr>\n",
       "    <tr>\n",
       "      <th>3</th>\n",
       "      <td>James Madison</td>\n",
       "      <td>1809-03-04</td>\n",
       "      <td>1817-03-04</td>\n",
       "      <td>1751-03-16</td>\n",
       "      <td>57</td>\n",
       "      <td>353</td>\n",
       "      <td>65</td>\n",
       "      <td>353</td>\n",
       "      <td>19.0</td>\n",
       "      <td>116.0</td>\n",
       "      <td>1836-06-28</td>\n",
       "      <td>85</td>\n",
       "      <td>104</td>\n",
       "      <td>Democratic-Republican</td>\n",
       "      <td>Port Conway</td>\n",
       "      <td>Virginia</td>\n",
       "    </tr>\n",
       "    <tr>\n",
       "      <th>4</th>\n",
       "      <td>James Monroe</td>\n",
       "      <td>1817-03-04</td>\n",
       "      <td>1825-03-04</td>\n",
       "      <td>1758-04-28</td>\n",
       "      <td>58</td>\n",
       "      <td>310</td>\n",
       "      <td>66</td>\n",
       "      <td>310</td>\n",
       "      <td>6.0</td>\n",
       "      <td>122.0</td>\n",
       "      <td>1831-07-04</td>\n",
       "      <td>73</td>\n",
       "      <td>67</td>\n",
       "      <td>Democratic-Republican</td>\n",
       "      <td>Monroe Hall</td>\n",
       "      <td>Virginia</td>\n",
       "    </tr>\n",
       "  </tbody>\n",
       "</table>\n",
       "</div>"
      ],
      "text/plain": [
       "           president presidency_start_date presidency_end_date birth_date  \\\n",
       "0  George Washington            1789-04-30          1797-03-04 1732-02-22   \n",
       "1         John Adams            1797-03-04          1801-03-04 1735-10-30   \n",
       "2   Thomas Jefferson            1801-03-04          1809-03-04 1743-04-13   \n",
       "3      James Madison            1809-03-04          1817-03-04 1751-03-16   \n",
       "4       James Monroe            1817-03-04          1825-03-04 1758-04-28   \n",
       "\n",
       "   age_at_start_year  age_at_start_days  age_at_end_year  age_at_end_days  \\\n",
       "0                 57                 67               65               10   \n",
       "1                 61                125               65              125   \n",
       "2                 57                325               65              325   \n",
       "3                 57                353               65              353   \n",
       "4                 58                310               66              310   \n",
       "\n",
       "   post_presidency_timespan_year  post_presidency_timespan_days death_date  \\\n",
       "0                            2.0                          285.0 1799-12-14   \n",
       "1                           25.0                          122.0 1826-07-04   \n",
       "2                           17.0                          122.0 1826-07-04   \n",
       "3                           19.0                          116.0 1836-06-28   \n",
       "4                            6.0                          122.0 1831-07-04   \n",
       "\n",
       "   age_at_death_year  age_at_death_days        political party  \\\n",
       "0                 67                295             Federalist   \n",
       "1                 90                247             Federalist   \n",
       "2                 83                 82  Democratic-Republican   \n",
       "3                 85                104  Democratic-Republican   \n",
       "4                 73                 67  Democratic-Republican   \n",
       "\n",
       "                  city          state  \n",
       "0  Westmoreland County       Virginia  \n",
       "1            Braintree  Massachusetts  \n",
       "2             Shadwell       Virginia  \n",
       "3          Port Conway       Virginia  \n",
       "4          Monroe Hall       Virginia  "
      ]
     },
     "execution_count": 177,
     "metadata": {},
     "output_type": "execute_result"
    }
   ],
   "source": [
    "df.head()"
   ]
  },
  {
   "cell_type": "markdown",
   "metadata": {},
   "source": [
    "# Data Analysis\n",
    "\n",
    "---\n",
    "\n",
    "fsdkfjsdkfns"
   ]
  },
  {
   "cell_type": "code",
   "execution_count": 178,
   "metadata": {
    "ExecuteTime": {
     "end_time": "2021-01-06T18:50:13.421301Z",
     "start_time": "2021-01-06T18:50:13.392373Z"
    }
   },
   "outputs": [
    {
     "data": {
      "text/html": [
       "<div>\n",
       "<style scoped>\n",
       "    .dataframe tbody tr th:only-of-type {\n",
       "        vertical-align: middle;\n",
       "    }\n",
       "\n",
       "    .dataframe tbody tr th {\n",
       "        vertical-align: top;\n",
       "    }\n",
       "\n",
       "    .dataframe thead th {\n",
       "        text-align: right;\n",
       "    }\n",
       "</style>\n",
       "<table border=\"1\" class=\"dataframe\">\n",
       "  <thead>\n",
       "    <tr style=\"text-align: right;\">\n",
       "      <th></th>\n",
       "      <th>president</th>\n",
       "      <th>presidency_start_date</th>\n",
       "      <th>presidency_end_date</th>\n",
       "      <th>birth_date</th>\n",
       "      <th>age_at_start_year</th>\n",
       "      <th>age_at_start_days</th>\n",
       "      <th>age_at_end_year</th>\n",
       "      <th>age_at_end_days</th>\n",
       "      <th>post_presidency_timespan_year</th>\n",
       "      <th>post_presidency_timespan_days</th>\n",
       "      <th>death_date</th>\n",
       "      <th>age_at_death_year</th>\n",
       "      <th>age_at_death_days</th>\n",
       "      <th>political party</th>\n",
       "      <th>city</th>\n",
       "      <th>state</th>\n",
       "    </tr>\n",
       "  </thead>\n",
       "  <tbody>\n",
       "    <tr>\n",
       "      <th>0</th>\n",
       "      <td>George Washington</td>\n",
       "      <td>1789-04-30</td>\n",
       "      <td>1797-03-04</td>\n",
       "      <td>1732-02-22</td>\n",
       "      <td>57</td>\n",
       "      <td>67</td>\n",
       "      <td>65</td>\n",
       "      <td>10</td>\n",
       "      <td>2.0</td>\n",
       "      <td>285.0</td>\n",
       "      <td>1799-12-14</td>\n",
       "      <td>67</td>\n",
       "      <td>295</td>\n",
       "      <td>Federalist</td>\n",
       "      <td>Westmoreland County</td>\n",
       "      <td>Virginia</td>\n",
       "    </tr>\n",
       "    <tr>\n",
       "      <th>1</th>\n",
       "      <td>John Adams</td>\n",
       "      <td>1797-03-04</td>\n",
       "      <td>1801-03-04</td>\n",
       "      <td>1735-10-30</td>\n",
       "      <td>61</td>\n",
       "      <td>125</td>\n",
       "      <td>65</td>\n",
       "      <td>125</td>\n",
       "      <td>25.0</td>\n",
       "      <td>122.0</td>\n",
       "      <td>1826-07-04</td>\n",
       "      <td>90</td>\n",
       "      <td>247</td>\n",
       "      <td>Federalist</td>\n",
       "      <td>Braintree</td>\n",
       "      <td>Massachusetts</td>\n",
       "    </tr>\n",
       "    <tr>\n",
       "      <th>2</th>\n",
       "      <td>Thomas Jefferson</td>\n",
       "      <td>1801-03-04</td>\n",
       "      <td>1809-03-04</td>\n",
       "      <td>1743-04-13</td>\n",
       "      <td>57</td>\n",
       "      <td>325</td>\n",
       "      <td>65</td>\n",
       "      <td>325</td>\n",
       "      <td>17.0</td>\n",
       "      <td>122.0</td>\n",
       "      <td>1826-07-04</td>\n",
       "      <td>83</td>\n",
       "      <td>82</td>\n",
       "      <td>Democratic-Republican</td>\n",
       "      <td>Shadwell</td>\n",
       "      <td>Virginia</td>\n",
       "    </tr>\n",
       "    <tr>\n",
       "      <th>3</th>\n",
       "      <td>James Madison</td>\n",
       "      <td>1809-03-04</td>\n",
       "      <td>1817-03-04</td>\n",
       "      <td>1751-03-16</td>\n",
       "      <td>57</td>\n",
       "      <td>353</td>\n",
       "      <td>65</td>\n",
       "      <td>353</td>\n",
       "      <td>19.0</td>\n",
       "      <td>116.0</td>\n",
       "      <td>1836-06-28</td>\n",
       "      <td>85</td>\n",
       "      <td>104</td>\n",
       "      <td>Democratic-Republican</td>\n",
       "      <td>Port Conway</td>\n",
       "      <td>Virginia</td>\n",
       "    </tr>\n",
       "    <tr>\n",
       "      <th>4</th>\n",
       "      <td>James Monroe</td>\n",
       "      <td>1817-03-04</td>\n",
       "      <td>1825-03-04</td>\n",
       "      <td>1758-04-28</td>\n",
       "      <td>58</td>\n",
       "      <td>310</td>\n",
       "      <td>66</td>\n",
       "      <td>310</td>\n",
       "      <td>6.0</td>\n",
       "      <td>122.0</td>\n",
       "      <td>1831-07-04</td>\n",
       "      <td>73</td>\n",
       "      <td>67</td>\n",
       "      <td>Democratic-Republican</td>\n",
       "      <td>Monroe Hall</td>\n",
       "      <td>Virginia</td>\n",
       "    </tr>\n",
       "  </tbody>\n",
       "</table>\n",
       "</div>"
      ],
      "text/plain": [
       "           president presidency_start_date presidency_end_date birth_date  \\\n",
       "0  George Washington            1789-04-30          1797-03-04 1732-02-22   \n",
       "1         John Adams            1797-03-04          1801-03-04 1735-10-30   \n",
       "2   Thomas Jefferson            1801-03-04          1809-03-04 1743-04-13   \n",
       "3      James Madison            1809-03-04          1817-03-04 1751-03-16   \n",
       "4       James Monroe            1817-03-04          1825-03-04 1758-04-28   \n",
       "\n",
       "   age_at_start_year  age_at_start_days  age_at_end_year  age_at_end_days  \\\n",
       "0                 57                 67               65               10   \n",
       "1                 61                125               65              125   \n",
       "2                 57                325               65              325   \n",
       "3                 57                353               65              353   \n",
       "4                 58                310               66              310   \n",
       "\n",
       "   post_presidency_timespan_year  post_presidency_timespan_days death_date  \\\n",
       "0                            2.0                          285.0 1799-12-14   \n",
       "1                           25.0                          122.0 1826-07-04   \n",
       "2                           17.0                          122.0 1826-07-04   \n",
       "3                           19.0                          116.0 1836-06-28   \n",
       "4                            6.0                          122.0 1831-07-04   \n",
       "\n",
       "   age_at_death_year  age_at_death_days        political party  \\\n",
       "0                 67                295             Federalist   \n",
       "1                 90                247             Federalist   \n",
       "2                 83                 82  Democratic-Republican   \n",
       "3                 85                104  Democratic-Republican   \n",
       "4                 73                 67  Democratic-Republican   \n",
       "\n",
       "                  city          state  \n",
       "0  Westmoreland County       Virginia  \n",
       "1            Braintree  Massachusetts  \n",
       "2             Shadwell       Virginia  \n",
       "3          Port Conway       Virginia  \n",
       "4          Monroe Hall       Virginia  "
      ]
     },
     "execution_count": 178,
     "metadata": {},
     "output_type": "execute_result"
    }
   ],
   "source": [
    "df.head()"
   ]
  },
  {
   "cell_type": "code",
   "execution_count": 179,
   "metadata": {
    "ExecuteTime": {
     "end_time": "2021-01-06T18:50:51.083125Z",
     "start_time": "2021-01-06T18:50:51.068964Z"
    }
   },
   "outputs": [
    {
     "data": {
      "text/plain": [
       "Ohio              9\n",
       "Virginia          8\n",
       "New York          6\n",
       "Massachusetts     6\n",
       "North Carolina    2\n",
       "Texas             2\n",
       "Vermont           2\n",
       "Nebraska          2\n",
       "South Carolina    2\n",
       "New Jersey        2\n",
       "Arkansas          2\n",
       "Connecticut       2\n",
       "Georgia           2\n",
       "California        2\n",
       "Hawaii            1\n",
       "Pennsylvania      1\n",
       "Kentucky          1\n",
       "Missouri          1\n",
       "Illinois          1\n",
       "Iowa              1\n",
       "New Hampshire     1\n",
       "Name: state, dtype: int64"
      ]
     },
     "execution_count": 179,
     "metadata": {},
     "output_type": "execute_result"
    }
   ],
   "source": [
    "df[\"state\"].value_counts()"
   ]
  },
  {
   "cell_type": "code",
   "execution_count": 180,
   "metadata": {
    "ExecuteTime": {
     "end_time": "2021-01-06T18:54:20.752326Z",
     "start_time": "2021-01-06T18:54:20.745839Z"
    }
   },
   "outputs": [
    {
     "data": {
      "text/plain": [
       "Braintree              3\n",
       "New York City          3\n",
       "New Haven              2\n",
       "Delaware               2\n",
       "Plains                 2\n",
       "Yorba Linda            2\n",
       "Waxhaws Region         2\n",
       "Point Pleasant         2\n",
       "Omaha                  2\n",
       "Charles City County    2\n",
       "Hope                   2\n",
       "Caldwell               2\n",
       "Milton                 2\n",
       "Tampico                1\n",
       "West Branch            1\n",
       "Monroe Hall            1\n",
       "Brookline              1\n",
       "Plymouth               1\n",
       "Port Conway            1\n",
       "Hyde Park              1\n",
       "Cove Gap               1\n",
       "Fairfield              1\n",
       "Raleigh                1\n",
       "Barboursville          1\n",
       "Niles                  1\n",
       "Honolulu               1\n",
       "North Bend             1\n",
       "Cincinnati             1\n",
       "Pineville              1\n",
       "Kinderhook             1\n",
       "Stonewall              1\n",
       "Staunton               1\n",
       "Hillsborough           1\n",
       "Blooming Grove         1\n",
       "Sinking Spring         1\n",
       "Summerhill             1\n",
       "Denison                1\n",
       "Shadwell               1\n",
       "Lamar                  1\n",
       "Moreland Hills         1\n",
       "Westmoreland County    1\n",
       "Name: city, dtype: int64"
      ]
     },
     "execution_count": 180,
     "metadata": {},
     "output_type": "execute_result"
    }
   ],
   "source": [
    "df[\"city\"].value_counts()"
   ]
  },
  {
   "cell_type": "code",
   "execution_count": 184,
   "metadata": {
    "ExecuteTime": {
     "end_time": "2021-01-06T18:56:23.436916Z",
     "start_time": "2021-01-06T18:56:23.430243Z"
    }
   },
   "outputs": [
    {
     "data": {
      "text/html": [
       "<div>\n",
       "<style scoped>\n",
       "    .dataframe tbody tr th:only-of-type {\n",
       "        vertical-align: middle;\n",
       "    }\n",
       "\n",
       "    .dataframe tbody tr th {\n",
       "        vertical-align: top;\n",
       "    }\n",
       "\n",
       "    .dataframe thead th {\n",
       "        text-align: right;\n",
       "    }\n",
       "</style>\n",
       "<table border=\"1\" class=\"dataframe\">\n",
       "  <thead>\n",
       "    <tr style=\"text-align: right;\">\n",
       "      <th></th>\n",
       "      <th>political party</th>\n",
       "    </tr>\n",
       "  </thead>\n",
       "  <tbody>\n",
       "    <tr>\n",
       "      <th>Republican</th>\n",
       "      <td>25</td>\n",
       "    </tr>\n",
       "    <tr>\n",
       "      <th>Democratic</th>\n",
       "      <td>19</td>\n",
       "    </tr>\n",
       "    <tr>\n",
       "      <th>Whig</th>\n",
       "      <td>4</td>\n",
       "    </tr>\n",
       "    <tr>\n",
       "      <th>Democratic-Republican</th>\n",
       "      <td>3</td>\n",
       "    </tr>\n",
       "    <tr>\n",
       "      <th>National Republican</th>\n",
       "      <td>2</td>\n",
       "    </tr>\n",
       "    <tr>\n",
       "      <th>Federalist</th>\n",
       "      <td>2</td>\n",
       "    </tr>\n",
       "    <tr>\n",
       "      <th>Democratic (Union)</th>\n",
       "      <td>1</td>\n",
       "    </tr>\n",
       "  </tbody>\n",
       "</table>\n",
       "</div>"
      ],
      "text/plain": [
       "                       political party\n",
       "Republican                          25\n",
       "Democratic                          19\n",
       "Whig                                 4\n",
       "Democratic-Republican                3\n",
       "National Republican                  2\n",
       "Federalist                           2\n",
       "Democratic (Union)                   1"
      ]
     },
     "execution_count": 184,
     "metadata": {},
     "output_type": "execute_result"
    }
   ],
   "source": [
    "pd.DataFrame(df[\"political party\"].value_counts())"
   ]
  },
  {
   "cell_type": "code",
   "execution_count": null,
   "metadata": {},
   "outputs": [],
   "source": []
  },
  {
   "cell_type": "code",
   "execution_count": null,
   "metadata": {},
   "outputs": [],
   "source": []
  },
  {
   "cell_type": "code",
   "execution_count": null,
   "metadata": {},
   "outputs": [],
   "source": []
  }
 ],
 "metadata": {
  "kernelspec": {
   "display_name": "Python 3.7.7 64-bit ('learning': conda)",
   "language": "python",
   "name": "python37764bitlearningcondadead39b8b5cb441aa05edba06d4d913f"
  },
  "language_info": {
   "codemirror_mode": {
    "name": "ipython",
    "version": 3
   },
   "file_extension": ".py",
   "mimetype": "text/x-python",
   "name": "python",
   "nbconvert_exporter": "python",
   "pygments_lexer": "ipython3",
   "version": "3.7.7"
  },
  "varInspector": {
   "cols": {
    "lenName": 16,
    "lenType": 16,
    "lenVar": 40
   },
   "kernels_config": {
    "python": {
     "delete_cmd_postfix": "",
     "delete_cmd_prefix": "del ",
     "library": "var_list.py",
     "varRefreshCmd": "print(var_dic_list())"
    },
    "r": {
     "delete_cmd_postfix": ") ",
     "delete_cmd_prefix": "rm(",
     "library": "var_list.r",
     "varRefreshCmd": "cat(var_dic_list()) "
    }
   },
   "types_to_exclude": [
    "module",
    "function",
    "builtin_function_or_method",
    "instance",
    "_Feature"
   ],
   "window_display": false
  }
 },
 "nbformat": 4,
 "nbformat_minor": 4
}
