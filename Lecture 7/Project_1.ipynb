{
 "cells": [
  {
   "cell_type": "markdown",
   "metadata": {
    "heading_collapsed": true
   },
   "source": [
    "# Data Analysis - Project\n",
    "\n",
    "---\n",
    "\n",
    "In this notebook we cover all the previous classes - go through what we learned Pandas functionality and apply them to real world data to analyze the USA presidents dataset and draw helpful insights based on analysis. After the data analysis process we discuss about the way how the results and what results must be presented and the possible improvements. At the very last part, we cover Pandas GUI - Graphical User Interface.\n",
    "\n",
    "\n",
    "\n",
    "$$\n",
    "$$\n",
    "\n",
    "\n",
    "### Lecture outline\n",
    "\n",
    "---\n",
    "\n",
    "\n",
    "* Fully fledged data analysis\n",
    "\n",
    "\n",
    "* Presenting results and insights\n",
    "\n",
    "\n",
    "* Discussion about improvements\n",
    "\n",
    "\n",
    "* Graphical User Interface for Pandas\n",
    "\n",
    "\n",
    "# > The code is not optimized in any direction!!!\n",
    "\n",
    "### DRY - Don't Repeat Yourself\n",
    "### KISS - Keep It Stupid Simple"
   ]
  },
  {
   "cell_type": "code",
   "execution_count": null,
   "metadata": {
    "ExecuteTime": {
     "end_time": "2021-01-10T16:45:35.151861Z",
     "start_time": "2021-01-10T16:45:34.510702Z"
    },
    "hidden": true
   },
   "outputs": [],
   "source": [
    "import pandas as pd\n",
    "\n",
    "import numpy as np\n",
    "\n",
    "import matplotlib.pyplot as plt\n",
    "\n",
    "import seaborn as sns\n",
    "\n",
    "import plotly.express as px"
   ]
  },
  {
   "cell_type": "markdown",
   "metadata": {
    "heading_collapsed": true
   },
   "source": [
    "# Data Processing\n",
    "\n",
    "\n",
    "---\n",
    "\n",
    "Usually, in this stage we clean and process data in order to have it in an appropriate form. Most of the time, data cleaning and processing takes 80% of data scientist's time and is the most tedious process. However, this is the step what we makes TRUE data scientists. Because, you can copy-paste code to build the Machine Learning models bu you cannot copy-paste code for data cleaning. This is where the true art starts."
   ]
  },
  {
   "cell_type": "markdown",
   "metadata": {
    "heading_collapsed": true,
    "hidden": true
   },
   "source": [
    "## Read Data"
   ]
  },
  {
   "cell_type": "code",
   "execution_count": null,
   "metadata": {
    "ExecuteTime": {
     "end_time": "2021-01-10T16:45:35.183996Z",
     "start_time": "2021-01-10T16:45:35.179619Z"
    },
    "hidden": true
   },
   "outputs": [],
   "source": [
    "df = pd.read_csv(\"data/presidents.csv\")"
   ]
  },
  {
   "cell_type": "code",
   "execution_count": null,
   "metadata": {
    "ExecuteTime": {
     "end_time": "2021-01-10T16:45:35.352861Z",
     "start_time": "2021-01-10T16:45:35.346185Z"
    },
    "hidden": true
   },
   "outputs": [],
   "source": [
    "df.shape # We have 44 rows and 8 columns"
   ]
  },
  {
   "cell_type": "code",
   "execution_count": null,
   "metadata": {
    "ExecuteTime": {
     "end_time": "2021-01-10T16:45:35.551409Z",
     "start_time": "2021-01-10T16:45:35.545730Z"
    },
    "hidden": true
   },
   "outputs": [],
   "source": [
    "df.dtypes # All columns are represented as string"
   ]
  },
  {
   "cell_type": "code",
   "execution_count": null,
   "metadata": {
    "ExecuteTime": {
     "end_time": "2021-01-10T16:45:35.768965Z",
     "start_time": "2021-01-10T16:45:35.753742Z"
    },
    "hidden": true
   },
   "outputs": [],
   "source": [
    "df.head()"
   ]
  },
  {
   "cell_type": "markdown",
   "metadata": {
    "heading_collapsed": true,
    "hidden": true
   },
   "source": [
    "## Process columns\n",
    "\n",
    "---\n",
    "\n",
    "Let deal with DataFrame columns. Rename them and remove leading and trailing spaces if any."
   ]
  },
  {
   "cell_type": "code",
   "execution_count": null,
   "metadata": {
    "ExecuteTime": {
     "end_time": "2021-01-10T16:45:38.195652Z",
     "start_time": "2021-01-10T16:45:38.185473Z"
    },
    "hidden": true
   },
   "outputs": [],
   "source": [
    "df.columns # Columns contain leading and trailing spaces"
   ]
  },
  {
   "cell_type": "code",
   "execution_count": null,
   "metadata": {
    "ExecuteTime": {
     "end_time": "2021-01-10T16:45:40.082981Z",
     "start_time": "2021-01-10T16:45:40.079471Z"
    },
    "hidden": true
   },
   "outputs": [],
   "source": [
    "df.columns = df.columns.str.strip() # Remove spaces - same as TRIM function in Excel\n",
    "\n",
    "\n",
    "df.columns"
   ]
  },
  {
   "cell_type": "code",
   "execution_count": null,
   "metadata": {
    "ExecuteTime": {
     "end_time": "2021-01-10T16:47:42.693050Z",
     "start_time": "2021-01-10T16:47:42.688876Z"
    },
    "hidden": true
   },
   "outputs": [],
   "source": [
    "column_mapping = {\"#\": \"presidency_order\",\n",
    "                  \"President\": \"president\",\n",
    "                  \"Born\": \"birth_date\",\n",
    "                  \"Age atstart of presidency\": \"age_at_start\",\n",
    "                  \"Age atend of presidency\": \"age_at_end\",\n",
    "                  \"Post-presidencytimespan\": \"post_presidency_timespan\",\n",
    "                  \"Died\": \"death_date\", \"Age\": \"age_at_death\"}\n",
    "\n",
    "\n",
    "\n",
    "df = df.rename(column_mapping, axis=1) # Rename columns"
   ]
  },
  {
   "cell_type": "markdown",
   "metadata": {
    "hidden": true
   },
   "source": [
    "### Feature Description\n",
    "\n",
    "---\n",
    "\n",
    "* `presidency_order` - The order of presidency\n",
    "\n",
    "\n",
    "* `president` - First and last name of the president\n",
    "\n",
    "\n",
    "* `birth_date` - Date of birth\n",
    "\n",
    "\n",
    "* `age_at_start` - The age at the start of presidency\n",
    "\n",
    "\n",
    "* `age_at_end` - The age at the end of presidency\n",
    "\n",
    "\n",
    "* `post_presidency_timespan` - Th period between death and presidency end\n",
    "\n",
    "\n",
    "* `death_date` - Death date\n",
    "\n",
    "\n",
    "* `age_at_death` - The age at the moment of death"
   ]
  },
  {
   "cell_type": "markdown",
   "metadata": {
    "heading_collapsed": true,
    "hidden": true
   },
   "source": [
    "## Remove footnotes\n",
    "\n",
    "---\n",
    "\n",
    "Some columns contain footnote such as `[a]` in `birth_date` column or `[e]` in `age_at_end` column. We have to remove them as they do not carry any information and even might cause some issues."
   ]
  },
  {
   "cell_type": "code",
   "execution_count": null,
   "metadata": {
    "ExecuteTime": {
     "end_time": "2021-01-10T16:48:06.124943Z",
     "start_time": "2021-01-10T16:48:06.115200Z"
    },
    "hidden": true
   },
   "outputs": [],
   "source": [
    "birth_date = (df[\"birth_date\"].str.split(\"[\", expand=True)\n",
    "                              .drop(1, axis=1)\n",
    "                              .rename({0: \"birth_date\"}, axis=1))\n",
    "\n",
    "\n",
    "age_at_end = (df[\"age_at_end\"].str.split(\"[\", expand=True)\n",
    "                              .drop(1, axis=1)\n",
    "                              .rename({0: \"age_at_end\"}, axis=1))\n",
    "\n",
    "\n",
    "post_presidency_timespan = (df[\"post_presidency_timespan\"].str.split(\"[\", expand=True)\n",
    "                                                          .drop(1, axis=1)\n",
    "                                                          .rename({0: \"post_presidency_timespan\"}, axis=1))"
   ]
  },
  {
   "cell_type": "markdown",
   "metadata": {
    "hidden": true
   },
   "source": [
    "We removed the footnotes but did not change the columns in the initial DataFrame. Note also, that we save processed columns as separate DataFrame. So we need to drop these columns from initial DataFrame and add processed ones instead."
   ]
  },
  {
   "cell_type": "code",
   "execution_count": null,
   "metadata": {
    "ExecuteTime": {
     "end_time": "2021-01-10T16:48:06.921371Z",
     "start_time": "2021-01-10T16:48:06.915562Z"
    },
    "hidden": true
   },
   "outputs": [],
   "source": [
    "df = df.drop([\"birth_date\", \"age_at_end\", \"post_presidency_timespan\"], axis=1) # Drop columns"
   ]
  },
  {
   "cell_type": "code",
   "execution_count": null,
   "metadata": {
    "ExecuteTime": {
     "end_time": "2021-01-10T16:48:07.390011Z",
     "start_time": "2021-01-10T16:48:07.384705Z"
    },
    "hidden": true
   },
   "outputs": [],
   "source": [
    "df = pd.concat([df, birth_date, age_at_end, post_presidency_timespan], axis=1) # Concatenate processed column"
   ]
  },
  {
   "cell_type": "markdown",
   "metadata": {
    "heading_collapsed": true,
    "hidden": true
   },
   "source": [
    "## Split Columns\n",
    "\n",
    "\n",
    "---\n",
    "\n",
    "The values of columns `age_at_start` and `age_at_end` consists of two parts: the first part is the age of the president and the second part is the date the president hold the office - White House and left the office, respectively. It's better to split these two columns into two parts, actual age and the date.\n",
    "\n",
    "\n",
    "To split these columns we have to figure out the common symbol or character on which we perform the split operation. If we observe, such a common character is `days` inside each value for each of those columns. Under common I mean the character or symbol which does not change across rows."
   ]
  },
  {
   "cell_type": "code",
   "execution_count": null,
   "metadata": {
    "ExecuteTime": {
     "end_time": "2021-01-10T16:48:26.997408Z",
     "start_time": "2021-01-10T16:48:26.991432Z"
    },
    "hidden": true
   },
   "outputs": [],
   "source": [
    "df[[\"age_at_start\", \"age_at_end\"]].head()"
   ]
  },
  {
   "cell_type": "code",
   "execution_count": null,
   "metadata": {
    "ExecuteTime": {
     "end_time": "2021-01-10T16:48:28.011234Z",
     "start_time": "2021-01-10T16:48:28.006859Z"
    },
    "hidden": true,
    "scrolled": true
   },
   "outputs": [],
   "source": [
    "age_start = (df[\"age_at_start\"].str.split(\"days\", expand=True)\n",
    "                               .rename({0: \"age_at_start\", 1: \"presidency_start_date\"}, axis=1))\n",
    "\n",
    "\n",
    "age_end = (df[\"age_at_end\"].str.split(\"days\", expand=True)\n",
    "                           .rename({0: \"age_at_end\", 1: \"presidency_end_date\"}, axis=1))"
   ]
  },
  {
   "cell_type": "markdown",
   "metadata": {
    "hidden": true
   },
   "source": [
    "Now, drop `age_at_start` and `age_at_end` columns and insert new derived columns instead."
   ]
  },
  {
   "cell_type": "code",
   "execution_count": null,
   "metadata": {
    "ExecuteTime": {
     "end_time": "2021-01-10T16:48:28.711683Z",
     "start_time": "2021-01-10T16:48:28.708948Z"
    },
    "hidden": true
   },
   "outputs": [],
   "source": [
    "df = df.drop([\"age_at_start\", \"age_at_end\"], axis=1) # Drop columns"
   ]
  },
  {
   "cell_type": "code",
   "execution_count": null,
   "metadata": {
    "ExecuteTime": {
     "end_time": "2021-01-10T16:48:29.056384Z",
     "start_time": "2021-01-10T16:48:29.048608Z"
    },
    "hidden": true,
    "scrolled": false
   },
   "outputs": [],
   "source": [
    "df = pd.concat([df, age_start, age_end], axis=1) # Add new columns"
   ]
  },
  {
   "cell_type": "code",
   "execution_count": null,
   "metadata": {
    "ExecuteTime": {
     "end_time": "2021-01-10T16:48:29.285797Z",
     "start_time": "2021-01-10T16:48:29.277274Z"
    },
    "hidden": true
   },
   "outputs": [],
   "source": [
    "df.head()"
   ]
  },
  {
   "cell_type": "markdown",
   "metadata": {
    "hidden": true
   },
   "source": [
    "$$\n",
    "$$\n",
    "\n",
    "Some columns contain `days` component along with year. It's better to split these columns and will have year and days as a separate parts. That will make analysis process more smooth. Such columns are: `age_at_death`, `post_presidency_timespan`, `age_at_start`, `age_at_end`\n",
    "\n",
    "$$\n",
    "$$"
   ]
  },
  {
   "cell_type": "code",
   "execution_count": null,
   "metadata": {
    "ExecuteTime": {
     "end_time": "2021-01-10T16:48:34.958027Z",
     "start_time": "2021-01-10T16:48:34.950604Z"
    },
    "hidden": true
   },
   "outputs": [],
   "source": [
    "df[[\"age_at_death\", \"post_presidency_timespan\", \"age_at_start\", \"age_at_end\"]].head()"
   ]
  },
  {
   "cell_type": "code",
   "execution_count": null,
   "metadata": {
    "ExecuteTime": {
     "end_time": "2021-01-10T16:48:35.260851Z",
     "start_time": "2021-01-10T16:48:35.253658Z"
    },
    "hidden": true
   },
   "outputs": [],
   "source": [
    "age_at_death = (df[\"age_at_death\"].str.rstrip(\"days\")\n",
    "                                  .str.split(\"years,\", expand=True)\n",
    "                                  .rename({0: \"age_at_death_year\",\n",
    "                                           1: \"age_at_death_days\"},\n",
    "                                          axis=1))"
   ]
  },
  {
   "cell_type": "markdown",
   "metadata": {
    "hidden": true
   },
   "source": [
    "`post_presidency_timespan` column contains some uncommon values such as `1 year, 259 days` and `103 days`. So we could not use the same approach we used above. To deal such a situation we have to use `Regular Expression`."
   ]
  },
  {
   "cell_type": "code",
   "execution_count": null,
   "metadata": {
    "ExecuteTime": {
     "end_time": "2021-01-10T16:48:36.266745Z",
     "start_time": "2021-01-10T16:48:36.259611Z"
    },
    "hidden": true
   },
   "outputs": [],
   "source": [
    "post_presidency_timespan = (df[\"post_presidency_timespan\"].str.rstrip(\"days\")\n",
    "                                                          .str.replace(\"year[s]?\", \"\", regex=True)\n",
    "                                                          .str.split(\",\", expand=True)\n",
    "                                                          .rename({0: \"post_presidency_timespan_year\",\n",
    "                                                                   1: \"post_presidency_timespan_days\"},\n",
    "                                                                  axis=1))\n",
    "\n",
    "\n",
    "post_presidency_timespan.loc[10] = [np.nan, 103] # Swap the values for one row"
   ]
  },
  {
   "cell_type": "code",
   "execution_count": null,
   "metadata": {
    "ExecuteTime": {
     "end_time": "2021-01-10T16:48:38.057357Z",
     "start_time": "2021-01-10T16:48:38.053956Z"
    },
    "hidden": true
   },
   "outputs": [],
   "source": [
    "age_at_start = (df[\"age_at_start\"].str.split(\"years,\", expand=True)\n",
    "                                  .rename({0: \"age_at_start_year\",\n",
    "                                           1: \"age_at_start_days\"},\n",
    "                                          axis=1))"
   ]
  },
  {
   "cell_type": "code",
   "execution_count": null,
   "metadata": {
    "ExecuteTime": {
     "end_time": "2021-01-10T16:48:38.344458Z",
     "start_time": "2021-01-10T16:48:38.341001Z"
    },
    "hidden": true
   },
   "outputs": [],
   "source": [
    "age_at_end = (df[\"age_at_end\"].str.split(\"years,\", expand=True)\n",
    "                                  .rename({0: \"age_at_end_year\",\n",
    "                                           1: \"age_at_end_days\"},\n",
    "                                          axis=1))"
   ]
  },
  {
   "cell_type": "markdown",
   "metadata": {
    "hidden": true
   },
   "source": [
    "**drop old columns and add new ones**"
   ]
  },
  {
   "cell_type": "code",
   "execution_count": null,
   "metadata": {
    "ExecuteTime": {
     "end_time": "2021-01-10T16:48:40.477798Z",
     "start_time": "2021-01-10T16:48:40.472008Z"
    },
    "hidden": true
   },
   "outputs": [],
   "source": [
    "df = df.drop([\"age_at_death\", \"post_presidency_timespan\", \"age_at_start\", \"age_at_end\"], axis=1) # Drop columns"
   ]
  },
  {
   "cell_type": "code",
   "execution_count": null,
   "metadata": {
    "ExecuteTime": {
     "end_time": "2021-01-10T16:48:40.724376Z",
     "start_time": "2021-01-10T16:48:40.721939Z"
    },
    "hidden": true,
    "scrolled": true
   },
   "outputs": [],
   "source": [
    "df = pd.concat([df, age_at_death, post_presidency_timespan, age_at_start, age_at_end], axis=1) # Add new columns"
   ]
  },
  {
   "cell_type": "code",
   "execution_count": null,
   "metadata": {
    "ExecuteTime": {
     "end_time": "2021-01-10T16:48:41.013037Z",
     "start_time": "2021-01-10T16:48:41.002093Z"
    },
    "hidden": true
   },
   "outputs": [],
   "source": [
    "df.head()"
   ]
  },
  {
   "cell_type": "markdown",
   "metadata": {
    "heading_collapsed": true,
    "hidden": true
   },
   "source": [
    "## Type casting\n",
    "\n",
    "---\n",
    "\n",
    "The columns are represented as sting objects. We have to convert them into appropriate type."
   ]
  },
  {
   "cell_type": "code",
   "execution_count": null,
   "metadata": {
    "ExecuteTime": {
     "end_time": "2021-01-10T16:48:42.952161Z",
     "start_time": "2021-01-10T16:48:42.934373Z"
    },
    "hidden": true
   },
   "outputs": [],
   "source": [
    "df.dtypes"
   ]
  },
  {
   "cell_type": "markdown",
   "metadata": {
    "heading_collapsed": true,
    "hidden": true
   },
   "source": [
    "### DateTime objects\n",
    "\n",
    "---\n",
    "\n",
    "Pandas supports `datetime object` - meaning that we can convert string representation of date into appropriate type and then operate on this object by using different methods.\n",
    "\n",
    "\n",
    "The candidates for this conversion are: `death_date`, `birth_date`, `presidency_start_date`, and `presidency_end_date`"
   ]
  },
  {
   "cell_type": "code",
   "execution_count": null,
   "metadata": {
    "ExecuteTime": {
     "end_time": "2021-01-10T16:48:45.316591Z",
     "start_time": "2021-01-10T16:48:45.289076Z"
    },
    "hidden": true,
    "scrolled": true
   },
   "outputs": [],
   "source": [
    "df[\"death_date\"] = pd.to_datetime(df[\"death_date\"].str.strip().str.replace(\"(living)\", \"\", regex=False))"
   ]
  },
  {
   "cell_type": "code",
   "execution_count": null,
   "metadata": {
    "ExecuteTime": {
     "end_time": "2021-01-10T16:48:45.649852Z",
     "start_time": "2021-01-10T16:48:45.643506Z"
    },
    "hidden": true
   },
   "outputs": [],
   "source": [
    "df[\"birth_date\"] = pd.to_datetime(df[\"birth_date\"].str.strip())"
   ]
  },
  {
   "cell_type": "code",
   "execution_count": null,
   "metadata": {
    "ExecuteTime": {
     "end_time": "2021-01-10T16:48:45.911816Z",
     "start_time": "2021-01-10T16:48:45.905400Z"
    },
    "hidden": true,
    "scrolled": true
   },
   "outputs": [],
   "source": [
    "df[\"presidency_start_date\"] = pd.to_datetime(df[\"presidency_start_date\"].str.strip())"
   ]
  },
  {
   "cell_type": "code",
   "execution_count": null,
   "metadata": {
    "ExecuteTime": {
     "end_time": "2021-01-10T16:48:46.163885Z",
     "start_time": "2021-01-10T16:48:46.157379Z"
    },
    "hidden": true,
    "scrolled": true
   },
   "outputs": [],
   "source": [
    "df[\"presidency_end_date\"] = pd.to_datetime(df[\"presidency_end_date\"].str.strip())"
   ]
  },
  {
   "cell_type": "markdown",
   "metadata": {
    "heading_collapsed": true,
    "hidden": true
   },
   "source": [
    "### Numeric objects\n",
    "\n",
    "---\n",
    "\n",
    "We have columns which are clearly numeric. However, they are interpreted as strings by Pandas due to a fact that Pandas cannot type cast automatically.\n",
    "\n",
    "The candidates for numeric type are all columns except datetime columns and `president` column."
   ]
  },
  {
   "cell_type": "code",
   "execution_count": null,
   "metadata": {
    "ExecuteTime": {
     "end_time": "2021-01-10T16:48:48.084042Z",
     "start_time": "2021-01-10T16:48:48.081333Z"
    },
    "hidden": true
   },
   "outputs": [],
   "source": [
    "numeric_cols = [\"age_at_death_year\", \"age_at_death_days\",\n",
    "                \"post_presidency_timespan_year\", \"post_presidency_timespan_days\",\n",
    "               \"age_at_start_year\", \"age_at_start_days\",\n",
    "               \"age_at_end_year\", \"age_at_end_days\"]"
   ]
  },
  {
   "cell_type": "code",
   "execution_count": null,
   "metadata": {
    "ExecuteTime": {
     "end_time": "2021-01-10T16:48:48.369271Z",
     "start_time": "2021-01-10T16:48:48.362325Z"
    },
    "hidden": true,
    "scrolled": true
   },
   "outputs": [],
   "source": [
    "df[numeric_cols] = df[numeric_cols].apply(lambda x: x.str.strip()) # Apply strip function to all columns"
   ]
  },
  {
   "cell_type": "code",
   "execution_count": null,
   "metadata": {
    "ExecuteTime": {
     "end_time": "2021-01-10T16:48:48.633430Z",
     "start_time": "2021-01-10T16:48:48.627899Z"
    },
    "hidden": true
   },
   "outputs": [],
   "source": [
    "df[numeric_cols] = df[numeric_cols].apply(pd.to_numeric) # Apply type casting"
   ]
  },
  {
   "cell_type": "code",
   "execution_count": null,
   "metadata": {
    "ExecuteTime": {
     "end_time": "2021-01-10T16:48:49.396273Z",
     "start_time": "2021-01-10T16:48:49.392802Z"
    },
    "hidden": true
   },
   "outputs": [],
   "source": [
    "df.dtypes"
   ]
  },
  {
   "cell_type": "markdown",
   "metadata": {
    "heading_collapsed": true,
    "hidden": true
   },
   "source": [
    "## Reorder Columns\n",
    "\n",
    "---\n",
    "\n",
    "Let reorder columns to have them in logical order"
   ]
  },
  {
   "cell_type": "code",
   "execution_count": null,
   "metadata": {
    "ExecuteTime": {
     "end_time": "2021-01-10T16:48:59.497842Z",
     "start_time": "2021-01-10T16:48:59.487478Z"
    },
    "hidden": true
   },
   "outputs": [],
   "source": [
    "df.head()"
   ]
  },
  {
   "cell_type": "code",
   "execution_count": null,
   "metadata": {
    "ExecuteTime": {
     "end_time": "2021-01-10T16:49:07.708407Z",
     "start_time": "2021-01-10T16:49:07.706233Z"
    },
    "hidden": true
   },
   "outputs": [],
   "source": [
    "columnsTitles = [\"presidency_order\", \"president\", \"presidency_start_date\", \"presidency_end_date\",\n",
    "                \"birth_date\", \"age_at_start_year\", \"age_at_start_days\",\n",
    "                \"age_at_end_year\", \"age_at_end_days\",\n",
    "                \"post_presidency_timespan_year\", \"post_presidency_timespan_days\",\n",
    "                \"death_date\", \"age_at_death_year\", \"age_at_death_days\"]"
   ]
  },
  {
   "cell_type": "code",
   "execution_count": null,
   "metadata": {
    "ExecuteTime": {
     "end_time": "2021-01-10T16:49:08.342057Z",
     "start_time": "2021-01-10T16:49:08.327777Z"
    },
    "hidden": true,
    "scrolled": true
   },
   "outputs": [],
   "source": [
    "df = df.reindex(columns=columnsTitles)"
   ]
  },
  {
   "cell_type": "code",
   "execution_count": null,
   "metadata": {
    "ExecuteTime": {
     "end_time": "2021-01-10T16:49:10.273491Z",
     "start_time": "2021-01-10T16:49:10.260600Z"
    },
    "hidden": true
   },
   "outputs": [],
   "source": [
    "df.head()"
   ]
  },
  {
   "cell_type": "markdown",
   "metadata": {
    "heading_collapsed": true,
    "hidden": true
   },
   "source": [
    "## Add Party Affiliation and Birth Place\n",
    "\n",
    "\n",
    "---\n",
    "\n",
    "Pandas can read HTML tables from the website. Here, I use this functionality to enrich our data with the party affiliation and birth place of the USA presidents. However, these data is messy and it needs separate processing."
   ]
  },
  {
   "cell_type": "code",
   "execution_count": null,
   "metadata": {
    "ExecuteTime": {
     "end_time": "2021-01-10T16:49:25.904223Z",
     "start_time": "2021-01-10T16:49:11.276635Z"
    },
    "hidden": true
   },
   "outputs": [],
   "source": [
    "party = pd.read_html(\"https://www.britannica.com/topic/Presidents-of-the-United-States-1846696\")[0]"
   ]
  },
  {
   "cell_type": "code",
   "execution_count": null,
   "metadata": {
    "ExecuteTime": {
     "end_time": "2021-01-10T16:49:30.381258Z",
     "start_time": "2021-01-10T16:49:26.185982Z"
    },
    "hidden": true,
    "scrolled": false
   },
   "outputs": [],
   "source": [
    "birth_place = pd.read_html(\"https://en.wikipedia.org/wiki/List_of_presidents_of_the_United_States_by_home_state\")[0]"
   ]
  },
  {
   "cell_type": "markdown",
   "metadata": {
    "hidden": true
   },
   "source": [
    "Write these data in `CSV` file"
   ]
  },
  {
   "cell_type": "code",
   "execution_count": null,
   "metadata": {
    "ExecuteTime": {
     "end_time": "2021-01-10T16:49:30.696550Z",
     "start_time": "2021-01-10T16:49:30.692887Z"
    },
    "hidden": true
   },
   "outputs": [],
   "source": [
    "# party.to_csv(\"data/party.csv\", index=False)\n",
    "\n",
    "# birth_place.to_csv(\"data/birth_place.csv\", index=False)"
   ]
  },
  {
   "cell_type": "markdown",
   "metadata": {
    "heading_collapsed": true,
    "hidden": true
   },
   "source": [
    "### Process Political Party Affiliation"
   ]
  },
  {
   "cell_type": "code",
   "execution_count": null,
   "metadata": {
    "ExecuteTime": {
     "end_time": "2021-01-10T16:49:32.625438Z",
     "start_time": "2021-01-10T16:49:32.618433Z"
    },
    "hidden": true
   },
   "outputs": [],
   "source": [
    "party.head()"
   ]
  },
  {
   "cell_type": "markdown",
   "metadata": {
    "hidden": true
   },
   "source": [
    "Drop unnecessary columns"
   ]
  },
  {
   "cell_type": "code",
   "execution_count": null,
   "metadata": {
    "ExecuteTime": {
     "end_time": "2021-01-10T16:49:36.885658Z",
     "start_time": "2021-01-10T16:49:36.881881Z"
    },
    "hidden": true
   },
   "outputs": [],
   "source": [
    "party = party.drop([\"Unnamed: 0\", \"no.\", \"birthplace\", \"term\"], axis=1)"
   ]
  },
  {
   "cell_type": "markdown",
   "metadata": {
    "hidden": true
   },
   "source": [
    "Remove last three row as they contain extra redundant information."
   ]
  },
  {
   "cell_type": "code",
   "execution_count": null,
   "metadata": {
    "ExecuteTime": {
     "end_time": "2021-01-10T16:49:37.529455Z",
     "start_time": "2021-01-10T16:49:37.522609Z"
    },
    "hidden": true
   },
   "outputs": [],
   "source": [
    "party = party.drop([44, 45, 46], axis=0)"
   ]
  },
  {
   "cell_type": "markdown",
   "metadata": {
    "hidden": true
   },
   "source": [
    "Remove leading and trailing spaces"
   ]
  },
  {
   "cell_type": "code",
   "execution_count": null,
   "metadata": {
    "ExecuteTime": {
     "end_time": "2021-01-10T16:49:38.276438Z",
     "start_time": "2021-01-10T16:49:38.266466Z"
    },
    "hidden": true
   },
   "outputs": [],
   "source": [
    "party = party.apply(lambda x: x.str.strip())"
   ]
  },
  {
   "cell_type": "markdown",
   "metadata": {
    "hidden": true
   },
   "source": [
    "#### Merge `party` DataFrame with our initial DataFrame\n",
    "\n",
    "---\n",
    "\n",
    "The order is not preserved. Hence we merge these two DataFrames on index."
   ]
  },
  {
   "cell_type": "code",
   "execution_count": null,
   "metadata": {
    "ExecuteTime": {
     "end_time": "2021-01-10T16:49:39.480619Z",
     "start_time": "2021-01-10T16:49:39.476371Z"
    },
    "hidden": true,
    "scrolled": true
   },
   "outputs": [],
   "source": [
    "df = df.merge(party[\"political party\"], left_index=True, right_index=True)"
   ]
  },
  {
   "cell_type": "markdown",
   "metadata": {
    "heading_collapsed": true,
    "hidden": true
   },
   "source": [
    "### Birth Place Data"
   ]
  },
  {
   "cell_type": "code",
   "execution_count": null,
   "metadata": {
    "ExecuteTime": {
     "end_time": "2021-01-10T16:49:40.091273Z",
     "start_time": "2021-01-10T16:49:40.067020Z"
    },
    "hidden": true,
    "scrolled": false
   },
   "outputs": [],
   "source": [
    "birth_place.head()"
   ]
  },
  {
   "cell_type": "markdown",
   "metadata": {
    "hidden": true
   },
   "source": [
    "Remove last two rows"
   ]
  },
  {
   "cell_type": "code",
   "execution_count": null,
   "metadata": {
    "ExecuteTime": {
     "end_time": "2021-01-10T16:49:41.602594Z",
     "start_time": "2021-01-10T16:49:41.600215Z"
    },
    "hidden": true
   },
   "outputs": [],
   "source": [
    "birth_place = birth_place.drop([45, 46], axis=0)"
   ]
  },
  {
   "cell_type": "markdown",
   "metadata": {
    "hidden": true
   },
   "source": [
    "Rename columns"
   ]
  },
  {
   "cell_type": "code",
   "execution_count": null,
   "metadata": {
    "ExecuteTime": {
     "end_time": "2021-01-10T16:49:42.613311Z",
     "start_time": "2021-01-10T16:49:42.600126Z"
    },
    "hidden": true
   },
   "outputs": [],
   "source": [
    "column_mapping = {\"Date of birth\": \"birth_date\", \"President\": \"president\",\n",
    "                 \"Birthplace\": \"city\", \"State† of birth\": \"state\"}\n",
    "\n",
    "\n",
    "birth_place = birth_place.rename(column_mapping, axis=1)"
   ]
  },
  {
   "cell_type": "markdown",
   "metadata": {
    "hidden": true
   },
   "source": [
    "Remove `†` character from the `state` column"
   ]
  },
  {
   "cell_type": "code",
   "execution_count": null,
   "metadata": {
    "ExecuteTime": {
     "end_time": "2021-01-10T16:49:55.216606Z",
     "start_time": "2021-01-10T16:49:55.213493Z"
    },
    "hidden": true
   },
   "outputs": [],
   "source": [
    "birth_place[\"state\"] = birth_place[\"state\"].str.strip(\"†\").str.strip()"
   ]
  },
  {
   "cell_type": "markdown",
   "metadata": {
    "hidden": true
   },
   "source": [
    "Remove leading and trailing spaces"
   ]
  },
  {
   "cell_type": "code",
   "execution_count": null,
   "metadata": {
    "ExecuteTime": {
     "end_time": "2021-01-10T16:49:55.884869Z",
     "start_time": "2021-01-10T16:49:55.877796Z"
    },
    "hidden": true,
    "scrolled": true
   },
   "outputs": [],
   "source": [
    "birth_place = birth_place.apply(lambda x: x.str.strip())"
   ]
  },
  {
   "cell_type": "markdown",
   "metadata": {
    "hidden": true
   },
   "source": [
    "The order of rows in `birth_place` DataFrame is not set according to presidency order. Hence, we need to find at least one common column between `birth_place` and our initial DataFrame. That column could be `president` as it is represented in both DataFrame."
   ]
  },
  {
   "cell_type": "code",
   "execution_count": null,
   "metadata": {
    "ExecuteTime": {
     "end_time": "2021-01-10T16:49:56.607133Z",
     "start_time": "2021-01-10T16:49:56.603883Z"
    },
    "hidden": true
   },
   "outputs": [],
   "source": [
    "birth_place.iloc[7][\"president\"] = \"William H. Harrison\" # Change value to have proper merge result"
   ]
  },
  {
   "cell_type": "code",
   "execution_count": null,
   "metadata": {
    "ExecuteTime": {
     "end_time": "2021-01-10T16:49:56.965988Z",
     "start_time": "2021-01-10T16:49:56.963402Z"
    },
    "hidden": true,
    "scrolled": true
   },
   "outputs": [],
   "source": [
    "birth_place = birth_place.drop([\"birth_date\", \"In office\"], axis=1) # Drop unnecessary columns"
   ]
  },
  {
   "cell_type": "markdown",
   "metadata": {
    "hidden": true
   },
   "source": [
    "#### Merge `birth_place` DataFrame with our initial DataFrame"
   ]
  },
  {
   "cell_type": "code",
   "execution_count": null,
   "metadata": {
    "ExecuteTime": {
     "end_time": "2021-01-10T16:49:59.479063Z",
     "start_time": "2021-01-10T16:49:59.474921Z"
    },
    "hidden": true,
    "scrolled": true
   },
   "outputs": [],
   "source": [
    "df = df.merge(birth_place, how=\"inner\", on=\"president\")"
   ]
  },
  {
   "cell_type": "markdown",
   "metadata": {
    "heading_collapsed": true
   },
   "source": [
    "# Data Analysis...\n",
    "\n",
    "---\n",
    "\n",
    "In this we try to extract as much information from our data as possible."
   ]
  },
  {
   "cell_type": "code",
   "execution_count": null,
   "metadata": {
    "ExecuteTime": {
     "end_time": "2021-01-10T16:50:42.305142Z",
     "start_time": "2021-01-10T16:50:42.290677Z"
    },
    "hidden": true
   },
   "outputs": [],
   "source": [
    "df.head()"
   ]
  },
  {
   "cell_type": "markdown",
   "metadata": {
    "hidden": true
   },
   "source": [
    "Sort DataFrame by `presidency_order`"
   ]
  },
  {
   "cell_type": "code",
   "execution_count": null,
   "metadata": {
    "ExecuteTime": {
     "end_time": "2021-01-10T16:51:59.752142Z",
     "start_time": "2021-01-10T16:51:59.749286Z"
    },
    "hidden": true
   },
   "outputs": [],
   "source": [
    "df = df.sort_values(by=\"presidency_order\").reset_index(drop=True)"
   ]
  },
  {
   "cell_type": "markdown",
   "metadata": {
    "hidden": true
   },
   "source": [
    "Summary Statistics"
   ]
  },
  {
   "cell_type": "code",
   "execution_count": null,
   "metadata": {
    "ExecuteTime": {
     "end_time": "2021-01-10T16:52:06.797051Z",
     "start_time": "2021-01-10T16:52:06.761654Z"
    },
    "hidden": true
   },
   "outputs": [],
   "source": [
    "df.describe().round(2).T.iloc[1:, 1:]"
   ]
  },
  {
   "cell_type": "markdown",
   "metadata": {
    "hidden": true
   },
   "source": [
    "Political party and presidents distribution"
   ]
  },
  {
   "cell_type": "code",
   "execution_count": null,
   "metadata": {
    "ExecuteTime": {
     "end_time": "2021-01-10T16:52:13.388128Z",
     "start_time": "2021-01-10T16:52:13.382777Z"
    },
    "hidden": true
   },
   "outputs": [],
   "source": [
    "pd.DataFrame(df[\"political party\"].value_counts())"
   ]
  },
  {
   "cell_type": "markdown",
   "metadata": {
    "hidden": true
   },
   "source": [
    " "
   ]
  },
  {
   "cell_type": "markdown",
   "metadata": {
    "hidden": true
   },
   "source": [
    "State and president distribution"
   ]
  },
  {
   "cell_type": "code",
   "execution_count": null,
   "metadata": {
    "ExecuteTime": {
     "end_time": "2021-01-10T16:52:16.847021Z",
     "start_time": "2021-01-10T16:52:16.830714Z"
    },
    "hidden": true
   },
   "outputs": [],
   "source": [
    "pd.DataFrame(df[\"state\"].value_counts())"
   ]
  },
  {
   "cell_type": "markdown",
   "metadata": {
    "hidden": true
   },
   "source": [
    "What is the longest and shortest period between presidency start and end date? We can calculate it my taking difference between `age_at_start_year` and `age_at_end_year` then find the maximum and minimum value of this column."
   ]
  },
  {
   "cell_type": "code",
   "execution_count": null,
   "metadata": {
    "ExecuteTime": {
     "end_time": "2021-01-10T16:52:21.327681Z",
     "start_time": "2021-01-10T16:52:21.321554Z"
    },
    "hidden": true
   },
   "outputs": [],
   "source": [
    "(df[\"age_at_end_year\"] - df[\"age_at_start_year\"]).max() # Max period of presidency is 12 years"
   ]
  },
  {
   "cell_type": "code",
   "execution_count": null,
   "metadata": {
    "ExecuteTime": {
     "end_time": "2021-01-10T16:52:25.111828Z",
     "start_time": "2021-01-10T16:52:25.108679Z"
    },
    "hidden": true
   },
   "outputs": [],
   "source": [
    "df.iloc[(df[\"age_at_end_year\"] - df[\"age_at_start_year\"]).idxmax()][\"president\"]"
   ]
  },
  {
   "cell_type": "code",
   "execution_count": null,
   "metadata": {
    "ExecuteTime": {
     "end_time": "2021-01-10T16:52:25.111828Z",
     "start_time": "2021-01-10T16:52:25.108679Z"
    },
    "hidden": true
   },
   "outputs": [],
   "source": [
    "(df[\"age_at_end_year\"] - df[\"age_at_start_year\"]).min() # Min period of presidency is 0 years. Maybe few days!!!"
   ]
  },
  {
   "cell_type": "code",
   "execution_count": null,
   "metadata": {
    "ExecuteTime": {
     "end_time": "2021-01-10T16:52:27.191511Z",
     "start_time": "2021-01-10T16:52:27.187075Z"
    },
    "hidden": true
   },
   "outputs": [],
   "source": [
    "df.iloc[(df[\"age_at_end_year\"] - df[\"age_at_start_year\"]).idxmin()][\"president\"]"
   ]
  },
  {
   "cell_type": "markdown",
   "metadata": {
    "hidden": true
   },
   "source": [
    "Fact about [William H. Harrison](https://en.wikipedia.org/wiki/William_Henry_Harrison)"
   ]
  },
  {
   "cell_type": "markdown",
   "metadata": {
    "hidden": true
   },
   "source": [
    "Which President lived the longest and shortest after presidency end?"
   ]
  },
  {
   "cell_type": "code",
   "execution_count": null,
   "metadata": {
    "ExecuteTime": {
     "end_time": "2021-01-10T16:52:29.737210Z",
     "start_time": "2021-01-10T16:52:29.731107Z"
    },
    "hidden": true
   },
   "outputs": [],
   "source": [
    "df.iloc[df[\"post_presidency_timespan_year\"].idxmax()][\"president\"] # The longest living president"
   ]
  },
  {
   "cell_type": "code",
   "execution_count": null,
   "metadata": {
    "ExecuteTime": {
     "end_time": "2021-01-10T16:52:30.090295Z",
     "start_time": "2021-01-10T16:52:30.087420Z"
    },
    "hidden": true
   },
   "outputs": [],
   "source": [
    "df.iloc[df[\"post_presidency_timespan_year\"].idxmin()][\"president\"] # The shortest living president"
   ]
  },
  {
   "cell_type": "markdown",
   "metadata": {
    "hidden": true
   },
   "source": [
    "  "
   ]
  },
  {
   "cell_type": "markdown",
   "metadata": {
    "hidden": true
   },
   "source": [
    "Which president was the oldest and the youngest at the start of the presidency?"
   ]
  },
  {
   "cell_type": "code",
   "execution_count": null,
   "metadata": {
    "ExecuteTime": {
     "end_time": "2021-01-10T16:52:30.909819Z",
     "start_time": "2021-01-10T16:52:30.903420Z"
    },
    "hidden": true
   },
   "outputs": [],
   "source": [
    "df.iloc[df[\"age_at_start_year\"].idxmax()][\"president\"] # The oldest president at the start of the presidency"
   ]
  },
  {
   "cell_type": "code",
   "execution_count": null,
   "metadata": {
    "ExecuteTime": {
     "end_time": "2021-01-10T16:52:31.277171Z",
     "start_time": "2021-01-10T16:52:31.273572Z"
    },
    "hidden": true
   },
   "outputs": [],
   "source": [
    "df.iloc[df[\"age_at_start_year\"].idxmin()][\"president\"] # The youngest president at the start of the presidency"
   ]
  },
  {
   "cell_type": "markdown",
   "metadata": {
    "hidden": true
   },
   "source": [
    " "
   ]
  },
  {
   "cell_type": "markdown",
   "metadata": {
    "hidden": true
   },
   "source": [
    "Which president died the oldest and the youngest?"
   ]
  },
  {
   "cell_type": "code",
   "execution_count": null,
   "metadata": {
    "ExecuteTime": {
     "end_time": "2021-01-10T16:52:36.566587Z",
     "start_time": "2021-01-10T16:52:36.560521Z"
    },
    "hidden": true
   },
   "outputs": [],
   "source": [
    "df.iloc[df[\"age_at_death_year\"].idxmax()][\"president\"] # The oldest died president after presidency end"
   ]
  },
  {
   "cell_type": "code",
   "execution_count": null,
   "metadata": {
    "ExecuteTime": {
     "end_time": "2021-01-10T16:52:36.960398Z",
     "start_time": "2021-01-10T16:52:36.956761Z"
    },
    "hidden": true
   },
   "outputs": [],
   "source": [
    "df.iloc[df[\"age_at_death_year\"].idxmin()][\"president\"] # The yougest died president after presidency end"
   ]
  },
  {
   "cell_type": "markdown",
   "metadata": {
    "ExecuteTime": {
     "end_time": "2021-01-10T16:52:43.525152Z",
     "start_time": "2021-01-10T16:52:43.479811Z"
    },
    "hidden": true
   },
   "source": [
    "## What else can we add?\n",
    "\n",
    "---\n",
    "\n",
    "The analysis I did is the least what can be done with this data. This is a homework for you to extend the analysis.\n",
    "\n",
    "1) Add other univariate and bivariate analysis and clearly state your findings\n",
    "\n",
    "2) Use `groupby` to group the data by some column\n",
    "\n",
    "3) Use Pandas `pivot_table` and to see the relationship between variables\n",
    "\n",
    "4) Use `crosstab` to have frequency tables\n",
    "\n",
    "5) Try to find hidden relationship between variables if possible\n",
    "\n",
    "6) Add data visualization"
   ]
  },
  {
   "cell_type": "markdown",
   "metadata": {
    "heading_collapsed": true
   },
   "source": [
    "# Summary\n",
    "\n",
    "---\n",
    "\n",
    "This lecture aimed to show you how you can utilize Pandas capabilities to process and analyze messy data as well as present you findings and tell a story."
   ]
  }
 ],
 "metadata": {
  "kernelspec": {
   "display_name": "Python 3.7.7 64-bit ('learning': conda)",
   "language": "python",
   "name": "python37764bitlearningcondadead39b8b5cb441aa05edba06d4d913f"
  },
  "language_info": {
   "codemirror_mode": {
    "name": "ipython",
    "version": 3
   },
   "file_extension": ".py",
   "mimetype": "text/x-python",
   "name": "python",
   "nbconvert_exporter": "python",
   "pygments_lexer": "ipython3",
   "version": "3.7.7"
  },
  "varInspector": {
   "cols": {
    "lenName": 16,
    "lenType": 16,
    "lenVar": 40
   },
   "kernels_config": {
    "python": {
     "delete_cmd_postfix": "",
     "delete_cmd_prefix": "del ",
     "library": "var_list.py",
     "varRefreshCmd": "print(var_dic_list())"
    },
    "r": {
     "delete_cmd_postfix": ") ",
     "delete_cmd_prefix": "rm(",
     "library": "var_list.r",
     "varRefreshCmd": "cat(var_dic_list()) "
    }
   },
   "types_to_exclude": [
    "module",
    "function",
    "builtin_function_or_method",
    "instance",
    "_Feature"
   ],
   "window_display": false
  }
 },
 "nbformat": 4,
 "nbformat_minor": 4
}
