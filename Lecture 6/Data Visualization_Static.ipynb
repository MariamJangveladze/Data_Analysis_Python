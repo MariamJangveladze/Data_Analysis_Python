{
 "cells": [
  {
   "cell_type": "markdown",
   "metadata": {},
   "source": [
    "# Static Data Visualization\n",
    "\n",
    "---\n",
    "\n",
    "\n",
    "\"Data visualization (often abbreviated data viz) is an interdisciplinary field that deals with the graphic representation of data...\"  [Data visualization](https://en.wikipedia.org/wiki/Data_visualization)\n",
    "\n",
    "$$\n",
    "$$\n",
    "\n",
    "Data visualization is the graphical representation of information and data. By using visual elements like charts, graphs, and maps, data visualization tools provide an accessible way to see and understand trends, outliers, and patterns in data. Making informative visualizations is one of the most important tasks in data analysis. It may be a part of the exploratory process — for example, to help identify outliers or needed data transformations, or as a way of generating ideas for models. For others, building an interactive visualization for the web may be the end goal.\n",
    "\n",
    "\n",
    "\n",
    "$$\n",
    "$$\n",
    "\n",
    "One of the early data viz promoter was [Hans Rosling](https://en.wikipedia.org/wiki/Hans_Rosling) and he was the co-founder of the [Gapminder Foundation](https://www.gapminder.org/). The Gapminder has [incredible tool for data viz](https://www.gapminder.org/tools/#$chart-type=bubbles).\n",
    "\n",
    "\n",
    "$$\n",
    "$$\n",
    "\n",
    "[Hans TED speech is unforgettable](https://www.ted.com/talks/hans_rosling_the_best_stats_you_ve_ever_seen#t-797)\n",
    "\n",
    "\n",
    "And, not only TED speech - [DON'T PANIC — Hans Rosling showing the facts about population](https://www.youtube.com/watch?v=FACK2knC08E)\n",
    "\n",
    "\n",
    "$$\n",
    "$$\n",
    "\n",
    "\n",
    "\n",
    "[Seeing Theory](https://seeing-theory.brown.edu/)\n",
    "\n",
    "\n",
    "\n",
    "$$\n",
    "$$\n",
    "\n",
    "\n",
    "### [Plotting with Python: learn 80 plots STEP by STEP](https://www.kaggle.com/python10pm/plotting-with-python-learn-80-plots-step-by-step)\n",
    "\n",
    "\n",
    "\n",
    "### Lecture outline\n",
    "\n",
    "---\n",
    "\n",
    "\n",
    "* Anscombe’s Quartet\n",
    "\n",
    "\n",
    "* Unstructured Quartet\n",
    "\n",
    "\n",
    "* The Datazaurus Dozen\n",
    "\n",
    "\n",
    "* Line Plots\n",
    "\n",
    "\n",
    "* Bar Charts\n",
    "\n",
    "\n",
    "* Scatter Plots\n",
    "\n",
    "\n",
    "* Histogram\n",
    "\n",
    "\n",
    "* Pie Chart\n",
    "\n",
    "\n",
    "* Box Plot"
   ]
  },
  {
   "cell_type": "markdown",
   "metadata": {},
   "source": [
    "#### Resources\n",
    "\n",
    "\n",
    "[List of Data Viz](https://datavizproject.com/)\n",
    "\n",
    "\n",
    "[The Data Visualization Catalogee](https://datavizcatalogue.com/)"
   ]
  },
  {
   "cell_type": "markdown",
   "metadata": {},
   "source": [
    "> ## Don't trust summary statistics. Always visualize your data."
   ]
  },
  {
   "cell_type": "code",
   "execution_count": null,
   "metadata": {
    "ExecuteTime": {
     "end_time": "2021-01-05T07:32:13.021156Z",
     "start_time": "2021-01-05T07:32:12.585570Z"
    }
   },
   "outputs": [],
   "source": [
    "import pandas as pd\n",
    "import numpy as np\n",
    "\n",
    "import matplotlib.pyplot as plt\n",
    "import seaborn as sns"
   ]
  },
  {
   "cell_type": "markdown",
   "metadata": {
    "heading_collapsed": true
   },
   "source": [
    "## Anscombe’s Quartet\n",
    "\n",
    "---\n",
    "\n",
    "Anscombe's Quartet represents 4 datasets, with same descriptive statistics but very different distributions and hence, visualizations. It's not known how [Frank Anscombe](https://en.wikipedia.org/wiki/Frank_Anscombe) derived those datasets, but having this kind of dataset really signifies yet very important role of data visualization."
   ]
  },
  {
   "cell_type": "markdown",
   "metadata": {
    "hidden": true
   },
   "source": [
    "#### Reference\n",
    "\n",
    "\n",
    "[Anscombe's quartet](https://en.wikipedia.org/wiki/Anscombe%27s_quartet)"
   ]
  },
  {
   "cell_type": "markdown",
   "metadata": {
    "heading_collapsed": true
   },
   "source": [
    "## Unstructured Quartet\n",
    "\n",
    "---\n",
    "\n",
    "In contrast to the Anscombe's Quartet, the Unstructured Quartet also shares the same statistical properties as Anscombe's Quartet, however without any obvious underlying structure to the individual datasets, this quartet is not nearly as effective at demonstrating the importance of visualizing your data as Anscombe's Quartet.\n",
    "\n",
    "\n",
    "$$\n",
    "$$\n",
    "\n",
    "![alt text](images/anscombe_unstructured.png \"Title\")"
   ]
  },
  {
   "cell_type": "markdown",
   "metadata": {
    "heading_collapsed": true
   },
   "source": [
    "## The Datazaurus Dozen\n",
    "\n",
    "---\n",
    "\n",
    "This is a project inspired by Anscombe's Quartet and addressing the same idea why we do not trust simple summary statistics and visualize the data. The authors derived data with same stats but different graphs and the data was derived through Simulated Annealing algorithm.\n",
    "\n",
    "[paper](https://damassets.autodesk.net/content/dam/autodesk/www/autodesk-reasearch/Publications/pdf/same-stats-different-graphs.pdf)\n",
    "\n",
    "\n",
    "$$\n",
    "$$\n",
    "\n",
    "\n",
    "![alt text](images/AllDinos.png \"Title\")"
   ]
  },
  {
   "cell_type": "markdown",
   "metadata": {
    "hidden": true
   },
   "source": [
    "#### Reference\n",
    "\n",
    "\n",
    "[Same Stats, Different Graphs: Generating Datasets with Varied Appearance and Identical Statistics through Simulated Annealing](https://www.autodesk.com/research/publications/same-stats-different-graphs)"
   ]
  },
  {
   "cell_type": "markdown",
   "metadata": {
    "heading_collapsed": true
   },
   "source": [
    "## A Brief matplotlib API Primer\n",
    "\n",
    "---\n",
    "\n",
    "There are lots of data visualization libraries for Python. Some of them are very good, some of them are just OK. However, one thing those libraries have in common is MatplotLib. This is the most influential and widely known library used to back some other plotting libraries. So, a quick intro around its API will make it easy to interact with other libraries in the future.\n",
    "\n",
    "\n",
    "In this lecture, we will cover only `Matplotlib` and `Seaborn`, which produces static visualizations. The second lecture will cover `Plotly` and `Plotly Express` with some elements of `Dash` for interactive and dynamic visualizations. You will be amazed with these libraries.\n",
    "\n",
    "\n",
    "$$\n",
    "$$\n",
    "\n",
    "\n",
    "**The Anatomy of Matplotlib plot**\n",
    "\n",
    "\n",
    "![alt text](images/anatomy.png \"Title\")"
   ]
  },
  {
   "cell_type": "markdown",
   "metadata": {
    "hidden": true
   },
   "source": [
    " "
   ]
  },
  {
   "cell_type": "markdown",
   "metadata": {
    "hidden": true
   },
   "source": [
    "The simplest plot"
   ]
  },
  {
   "cell_type": "code",
   "execution_count": null,
   "metadata": {
    "ExecuteTime": {
     "end_time": "2021-01-05T07:35:58.800805Z",
     "start_time": "2021-01-05T07:35:58.716215Z"
    },
    "hidden": true
   },
   "outputs": [],
   "source": [
    "data = np.random.rand(20)\n",
    "\n",
    "plt.plot(data);"
   ]
  },
  {
   "cell_type": "markdown",
   "metadata": {
    "hidden": true
   },
   "source": [
    "Let customize the above plot step by step. First add title and axis labels."
   ]
  },
  {
   "cell_type": "code",
   "execution_count": null,
   "metadata": {
    "ExecuteTime": {
     "end_time": "2021-01-05T07:36:01.470070Z",
     "start_time": "2021-01-05T07:36:01.365640Z"
    },
    "hidden": true
   },
   "outputs": [],
   "source": [
    "plt.plot(data)\n",
    "\n",
    "plt.xlabel(\"X\")\n",
    "plt.ylabel(\"Y\")\n",
    "\n",
    "plt.title(\"Simple Line Plot\");"
   ]
  },
  {
   "cell_type": "markdown",
   "metadata": {
    "hidden": true
   },
   "source": [
    "Let increase the figure size, add legend and grid to our line plot."
   ]
  },
  {
   "cell_type": "code",
   "execution_count": null,
   "metadata": {
    "ExecuteTime": {
     "end_time": "2021-01-05T07:38:59.109492Z",
     "start_time": "2021-01-05T07:38:58.959606Z"
    },
    "hidden": true
   },
   "outputs": [],
   "source": [
    "plt.figure(figsize=(10, 5))\n",
    "\n",
    "plt.plot(data)\n",
    "\n",
    "plt.xlabel(\"X\")\n",
    "plt.ylabel(\"Y\")\n",
    "\n",
    "plt.legend(labels=[\"Random Numbers\"])\n",
    "\n",
    "plt.grid()\n",
    "\n",
    "plt.title(\"Simple Line Plot\");"
   ]
  },
  {
   "cell_type": "markdown",
   "metadata": {
    "hidden": true
   },
   "source": [
    "We can now stylize our line chart by changing plotting style, line style, line width, line color, and ticks for `x` and `y` axis as well as annotation."
   ]
  },
  {
   "cell_type": "code",
   "execution_count": null,
   "metadata": {
    "ExecuteTime": {
     "end_time": "2021-01-05T09:37:19.712104Z",
     "start_time": "2021-01-05T09:37:19.332911Z"
    },
    "hidden": true,
    "scrolled": false
   },
   "outputs": [],
   "source": [
    "plt.style.use(\"ggplot\") # Change plotting style\n",
    "\n",
    "plt.figure(figsize=(12, 8)) # Set figure size in inches\n",
    "\n",
    "plt.plot(data, linestyle=\"dashed\", linewidth=4, color=\"blue\") # Plot the data\n",
    "\n",
    "plt.xlabel(\"X\") # Set X axis label\n",
    "plt.ylabel(\"Y\") # Set Y axis label\n",
    "\n",
    "plt.legend(labels=[\"Random Numbers\"], loc=\"best\", fontsize=16) # Set the legend for a plot\n",
    "\n",
    "\n",
    "plt.title(\"Simple Line Plot\", fontsize=18) # Set the title for the plot\n",
    "\n",
    "\n",
    "plt.xticks(list(np.arange(20))) # Change X axis ticks\n",
    "plt.yticks(list(np.arange(0, 1, 0.1).round(2))) # Change Y axis ticks\n",
    "\n",
    "\n",
    "plt.annotate(\" Test \", xy=(7.5, 0.8),  xytext=(4, 0.85),\n",
    "             arrowprops=dict(facecolor=\"black\", shrink=0.05)); # Add annotation to the plot\n",
    "\n",
    "\n",
    "\n",
    "plt.savefig(\"images/first_plot.png\", dpi=150) # Save plot in local folder"
   ]
  },
  {
   "cell_type": "markdown",
   "metadata": {
    "heading_collapsed": true
   },
   "source": [
    "## Line Plots\n",
    "\n",
    "\n",
    "---\n",
    "\n",
    "As we already covered the basics of Matplotlib, let dive deep in its API as well as see Matplotlib's brother - Seaborn with its extended functionality.\n",
    "\n",
    "\n",
    "Seaborn is Matplotlib on steroids, meaning that Seaborn extensively use Matplotlib's capabilities as well as add its own functionality. In other words, Seaborn complements Matplotlib not substitute."
   ]
  },
  {
   "cell_type": "markdown",
   "metadata": {
    "hidden": true
   },
   "source": [
    "We can use all the matplotlib functionality to customize the Seaborn plot"
   ]
  },
  {
   "cell_type": "code",
   "execution_count": null,
   "metadata": {
    "ExecuteTime": {
     "end_time": "2021-01-05T09:50:14.521155Z",
     "start_time": "2021-01-05T09:50:14.409499Z"
    },
    "hidden": true
   },
   "outputs": [],
   "source": [
    "plt.figure(figsize=(12, 8))\n",
    "\n",
    "\n",
    "sns.lineplot(x=list(np.arange(20)), y=data);"
   ]
  },
  {
   "cell_type": "markdown",
   "metadata": {
    "hidden": true
   },
   "source": [
    "We can have multiple plots in one figure"
   ]
  },
  {
   "cell_type": "code",
   "execution_count": null,
   "metadata": {
    "hidden": true
   },
   "outputs": [],
   "source": [
    "x1 = np.linspace(0.0, 5.0)\n",
    "x2 = np.linspace(0.0, 2.0)\n",
    "\n",
    "y1 = np.cos(2 * np.pi * x1) * np.exp(-x1)\n",
    "y2 = np.cos(2 * np.pi * x2)"
   ]
  },
  {
   "cell_type": "code",
   "execution_count": null,
   "metadata": {
    "ExecuteTime": {
     "end_time": "2021-01-05T10:07:09.240120Z",
     "start_time": "2021-01-05T10:07:09.074150Z"
    },
    "hidden": true
   },
   "outputs": [],
   "source": [
    "plt.figure(figsize=(12, 6))\n",
    "\n",
    "plt.subplot(211) # (nrows, ncols, index)\n",
    "\n",
    "plt.plot(x1, y1, 'bo')\n",
    "\n",
    "plt.ylabel('Damped oscillation')\n",
    "\n",
    "\n",
    "\n",
    "plt.subplot(212) # (nrows, ncols, index)\n",
    "\n",
    "plt.plot(x2, y2, 'k')\n",
    "\n",
    "plt.ylabel('Undamped oscillation');"
   ]
  },
  {
   "cell_type": "markdown",
   "metadata": {
    "heading_collapsed": true
   },
   "source": [
    "## Bar Charts"
   ]
  },
  {
   "cell_type": "code",
   "execution_count": null,
   "metadata": {
    "ExecuteTime": {
     "end_time": "2021-01-05T11:55:44.718600Z",
     "start_time": "2021-01-05T11:55:43.129178Z"
    },
    "hidden": true
   },
   "outputs": [],
   "source": [
    "tips = sns.load_dataset(\"tips\") # Seaborn has builtin datasets\n",
    "\n",
    "tips"
   ]
  },
  {
   "cell_type": "code",
   "execution_count": null,
   "metadata": {
    "ExecuteTime": {
     "end_time": "2021-01-05T11:57:19.429660Z",
     "start_time": "2021-01-05T11:57:19.280476Z"
    },
    "hidden": true
   },
   "outputs": [],
   "source": [
    "plt.figure(figsize=(12, 6))\n",
    "\n",
    "sns.barplot(data=tips, x=\"day\", y=\"total_bill\");"
   ]
  },
  {
   "cell_type": "code",
   "execution_count": null,
   "metadata": {
    "ExecuteTime": {
     "end_time": "2021-01-05T11:59:06.363335Z",
     "start_time": "2021-01-05T11:59:06.037071Z"
    },
    "hidden": true
   },
   "outputs": [],
   "source": [
    "plt.figure(figsize=(12, 6))\n",
    "\n",
    "sns.barplot(data=tips, x=\"day\", y=\"total_bill\", hue=\"sex\");"
   ]
  },
  {
   "cell_type": "code",
   "execution_count": null,
   "metadata": {
    "ExecuteTime": {
     "end_time": "2021-01-05T12:02:37.438100Z",
     "start_time": "2021-01-05T12:02:37.107697Z"
    },
    "hidden": true
   },
   "outputs": [],
   "source": [
    "plt.figure(figsize=(12, 6))\n",
    "\n",
    "\n",
    "plt.bar(x=tips[\"day\"], height=tips[\"total_bill\"], color=\"blue\"); # Matplotlib version"
   ]
  },
  {
   "cell_type": "markdown",
   "metadata": {
    "heading_collapsed": true
   },
   "source": [
    "## Scatter Plots"
   ]
  },
  {
   "cell_type": "code",
   "execution_count": null,
   "metadata": {
    "ExecuteTime": {
     "end_time": "2021-01-05T12:41:00.431658Z",
     "start_time": "2021-01-05T12:41:00.323032Z"
    },
    "hidden": true
   },
   "outputs": [],
   "source": [
    "plt.figure(figsize=(12, 6))\n",
    "\n",
    "plt.scatter(x=tips[\"total_bill\"], y=tips[\"tip\"]);"
   ]
  },
  {
   "cell_type": "code",
   "execution_count": null,
   "metadata": {
    "ExecuteTime": {
     "end_time": "2021-01-05T12:10:23.044823Z",
     "start_time": "2021-01-05T12:10:22.918809Z"
    },
    "hidden": true
   },
   "outputs": [],
   "source": [
    "plt.figure(figsize=(12, 6))\n",
    "\n",
    "sns.scatterplot(data=tips, x=\"total_bill\", y=\"tip\");"
   ]
  },
  {
   "cell_type": "code",
   "execution_count": null,
   "metadata": {
    "ExecuteTime": {
     "end_time": "2021-01-05T12:39:58.141819Z",
     "start_time": "2021-01-05T12:39:57.889750Z"
    },
    "hidden": true
   },
   "outputs": [],
   "source": [
    "plt.figure(figsize=(15, 8))\n",
    "\n",
    "sns.scatterplot(data=tips,\n",
    "                x=\"total_bill\",\n",
    "                y=\"tip\",\n",
    "                hue=\"time\",\n",
    "                style=\"time\",\n",
    "                size=\"size\",\n",
    "                sizes=(50, 300));"
   ]
  },
  {
   "cell_type": "markdown",
   "metadata": {
    "hidden": true
   },
   "source": [
    "### Scatter plot for categorical variables"
   ]
  },
  {
   "cell_type": "code",
   "execution_count": null,
   "metadata": {
    "ExecuteTime": {
     "end_time": "2021-01-05T12:48:23.983146Z",
     "start_time": "2021-01-05T12:48:23.868908Z"
    },
    "hidden": true
   },
   "outputs": [],
   "source": [
    "plt.figure(figsize=(15, 8))\n",
    "\n",
    "sns.stripplot(data=tips, x=\"day\", y=\"total_bill\"); # Uses jitter parameter to adjust points not to overlap"
   ]
  },
  {
   "cell_type": "markdown",
   "metadata": {
    "heading_collapsed": true
   },
   "source": [
    "## Histogram"
   ]
  },
  {
   "cell_type": "code",
   "execution_count": null,
   "metadata": {
    "ExecuteTime": {
     "end_time": "2021-01-05T12:51:39.841553Z",
     "start_time": "2021-01-05T12:51:39.731486Z"
    },
    "hidden": true
   },
   "outputs": [],
   "source": [
    "plt.figure(figsize=(12, 6))\n",
    "\n",
    "\n",
    "plt.hist(x=tips[\"total_bill\"], bins=15);"
   ]
  },
  {
   "cell_type": "code",
   "execution_count": null,
   "metadata": {
    "ExecuteTime": {
     "end_time": "2021-01-05T12:52:43.867111Z",
     "start_time": "2021-01-05T12:52:43.739759Z"
    },
    "hidden": true
   },
   "outputs": [],
   "source": [
    "plt.figure(figsize=(12, 6))\n",
    "\n",
    "\n",
    "sns.histplot(data=tips, x=\"total_bill\", bins=15);"
   ]
  },
  {
   "cell_type": "markdown",
   "metadata": {
    "hidden": true
   },
   "source": [
    "Let add a `kernel density estimate` to smooth the histogram, providing complementary information about the shape of the distribution."
   ]
  },
  {
   "cell_type": "code",
   "execution_count": null,
   "metadata": {
    "ExecuteTime": {
     "end_time": "2021-01-05T12:56:06.530819Z",
     "start_time": "2021-01-05T12:56:06.409321Z"
    },
    "hidden": true
   },
   "outputs": [],
   "source": [
    "plt.figure(figsize=(12, 6))\n",
    "\n",
    "\n",
    "sns.histplot(data=tips, x=\"total_bill\", bins=15, kde=True);"
   ]
  },
  {
   "cell_type": "code",
   "execution_count": null,
   "metadata": {
    "ExecuteTime": {
     "end_time": "2021-01-05T12:57:43.049297Z",
     "start_time": "2021-01-05T12:57:42.867239Z"
    },
    "hidden": true
   },
   "outputs": [],
   "source": [
    "plt.figure(figsize=(12, 6))\n",
    "\n",
    "\n",
    "sns.histplot(data=tips, x=\"total_bill\", bins=15, kde=True, hue=\"sex\");"
   ]
  },
  {
   "cell_type": "code",
   "execution_count": null,
   "metadata": {
    "ExecuteTime": {
     "end_time": "2021-01-05T12:57:49.921811Z",
     "start_time": "2021-01-05T12:57:49.734344Z"
    },
    "hidden": true
   },
   "outputs": [],
   "source": [
    "plt.figure(figsize=(12, 6))\n",
    "\n",
    "\n",
    "sns.histplot(data=tips, x=\"total_bill\", bins=15, kde=True, hue=\"sex\", multiple=\"stack\");"
   ]
  },
  {
   "cell_type": "markdown",
   "metadata": {
    "heading_collapsed": true
   },
   "source": [
    "## Pie Chart\n",
    "\n",
    "\n",
    "---\n",
    "\n",
    "Unfortunately, Seabor does not support `Pie Chart`. So, we are only left with Matplotlib."
   ]
  },
  {
   "cell_type": "code",
   "execution_count": null,
   "metadata": {
    "ExecuteTime": {
     "end_time": "2021-01-05T13:06:50.011281Z",
     "start_time": "2021-01-05T13:06:49.926561Z"
    },
    "hidden": true
   },
   "outputs": [],
   "source": [
    "labels = 'Frogs', 'Hogs', 'Dogs', 'Logs'\n",
    "sizes = [15, 30, 45, 10]\n",
    "explode = (0, 0, 0, 0) \n",
    "\n",
    "\n",
    "plt.figure(figsize=(15, 8))\n",
    "\n",
    "plt.pie(sizes, explode=explode, labels=labels, autopct='%1.1f%%',\n",
    "        shadow=True, startangle=90);\n"
   ]
  },
  {
   "cell_type": "code",
   "execution_count": null,
   "metadata": {
    "ExecuteTime": {
     "end_time": "2021-01-05T13:08:30.689419Z",
     "start_time": "2021-01-05T13:08:30.617332Z"
    },
    "hidden": true
   },
   "outputs": [],
   "source": [
    "labels = 'Frogs', 'Hogs', 'Dogs', 'Logs'\n",
    "sizes = [15, 30, 45, 10]\n",
    "\n",
    "explode = (0, 0.1, 0, 0.1) # \"explode\" slices\n",
    "\n",
    "\n",
    "plt.figure(figsize=(15, 8))\n",
    "\n",
    "plt.pie(sizes, labels=labels, explode=explode, autopct='%1.1f%%', startangle=90);\n"
   ]
  },
  {
   "cell_type": "markdown",
   "metadata": {
    "hidden": true
   },
   "source": [
    "With `plt.pie()` we can even plot `donut chart`"
   ]
  },
  {
   "cell_type": "code",
   "execution_count": null,
   "metadata": {
    "ExecuteTime": {
     "end_time": "2021-01-05T13:13:27.696789Z",
     "start_time": "2021-01-05T13:13:27.605623Z"
    },
    "hidden": true
   },
   "outputs": [],
   "source": [
    "labels = 'Frogs', 'Hogs', 'Dogs', 'Logs'\n",
    "sizes = [15, 30, 45, 10]\n",
    "\n",
    "explode = (0, 0.2, 0.1, 0.3) # \"explode\" slices\n",
    "\n",
    "\n",
    "plt.figure(figsize=(15, 8))\n",
    "\n",
    "plt.pie(sizes, labels=labels, explode=explode, autopct='%1.1f%%', startangle=90)\n",
    "\n",
    "\n",
    "centre_circle = plt.Circle((0,0),0.75,color='black', fc='white',linewidth=1.25) # Create circle\n",
    "\n",
    "fig = plt.gcf() # Get the figure object\n",
    "\n",
    "fig.gca().add_artist(centre_circle); # Add figure object the circle"
   ]
  },
  {
   "cell_type": "markdown",
   "metadata": {
    "heading_collapsed": true
   },
   "source": [
    "## Box Plot\n",
    "\n",
    "---\n",
    "\n",
    "![alt text](images/box.png \"Title\")"
   ]
  },
  {
   "cell_type": "code",
   "execution_count": null,
   "metadata": {
    "ExecuteTime": {
     "end_time": "2021-01-05T13:15:17.847648Z",
     "start_time": "2021-01-05T13:15:17.766574Z"
    },
    "hidden": true
   },
   "outputs": [],
   "source": [
    "plt.figure(figsize=(15, 8))\n",
    "\n",
    "plt.boxplot(x=tips[\"total_bill\"]);"
   ]
  },
  {
   "cell_type": "code",
   "execution_count": null,
   "metadata": {
    "ExecuteTime": {
     "end_time": "2021-01-05T13:15:30.594832Z",
     "start_time": "2021-01-05T13:15:30.518446Z"
    },
    "hidden": true
   },
   "outputs": [],
   "source": [
    "plt.figure(figsize=(15, 8))\n",
    "\n",
    "sns.boxplot(data=tips, x=\"total_bill\");"
   ]
  },
  {
   "cell_type": "code",
   "execution_count": null,
   "metadata": {
    "ExecuteTime": {
     "end_time": "2021-01-05T13:17:53.257549Z",
     "start_time": "2021-01-05T13:17:53.135040Z"
    },
    "hidden": true
   },
   "outputs": [],
   "source": [
    "plt.figure(figsize=(15, 8))\n",
    "\n",
    "sns.boxplot(data=tips, x=\"day\", y=\"total_bill\");"
   ]
  },
  {
   "cell_type": "code",
   "execution_count": null,
   "metadata": {
    "ExecuteTime": {
     "end_time": "2021-01-05T13:18:35.798852Z",
     "start_time": "2021-01-05T13:18:35.621770Z"
    },
    "hidden": true
   },
   "outputs": [],
   "source": [
    "plt.figure(figsize=(15, 8))\n",
    "\n",
    "sns.boxplot(data=tips, x=\"day\", y=\"total_bill\", hue=\"smoker\");"
   ]
  },
  {
   "cell_type": "markdown",
   "metadata": {
    "hidden": true
   },
   "source": [
    "The `Violin Plot` is very similar to box plot. It's a combination of boxplot and kernel density estimate."
   ]
  },
  {
   "cell_type": "code",
   "execution_count": null,
   "metadata": {
    "ExecuteTime": {
     "end_time": "2021-01-05T13:32:26.170140Z",
     "start_time": "2021-01-05T13:32:26.076184Z"
    },
    "hidden": true
   },
   "outputs": [],
   "source": [
    "plt.figure(figsize=(15, 8))\n",
    "\n",
    "sns.violinplot(data=tips, x=\"total_bill\");"
   ]
  },
  {
   "cell_type": "code",
   "execution_count": null,
   "metadata": {
    "ExecuteTime": {
     "end_time": "2021-01-05T13:32:55.381510Z",
     "start_time": "2021-01-05T13:32:55.210404Z"
    },
    "hidden": true
   },
   "outputs": [],
   "source": [
    "plt.figure(figsize=(15, 8))\n",
    "\n",
    "sns.violinplot(data=tips, x=\"day\", y=\"total_bill\");"
   ]
  },
  {
   "cell_type": "code",
   "execution_count": null,
   "metadata": {
    "ExecuteTime": {
     "end_time": "2021-01-05T13:34:00.173436Z",
     "start_time": "2021-01-05T13:33:59.955096Z"
    },
    "hidden": true
   },
   "outputs": [],
   "source": [
    "plt.figure(figsize=(15, 8))\n",
    "\n",
    "sns.violinplot(data=tips, x=\"day\", y=\"total_bill\", hue=\"smoker\");"
   ]
  },
  {
   "cell_type": "markdown",
   "metadata": {},
   "source": [
    "# HomeWork\n",
    "\n",
    "---\n",
    "\n",
    "1) In the data folder there is a folder named `The Datasaurus Dozen`. There you will find data from Datasaurus. Try to plot them!\n",
    "\n",
    "\n",
    "2) Pandas has an amazing plotting capabilities. Try to use Pandas plotting capabilities to produce all plots and charts of today's class\n",
    "\n",
    "\n",
    "**Resources**:\n",
    "\n",
    "[Pandas Visualization](https://pandas.pydata.org/pandas-docs/stable/user_guide/visualization.html)\n",
    "\n",
    "\n",
    "[Pandas Plotting Backend in Python](https://plotly.com/python/pandas-backend/)"
   ]
  },
  {
   "cell_type": "markdown",
   "metadata": {},
   "source": [
    "# Summary\n",
    "\n",
    "---\n",
    "\n",
    "Data visualization is one of the most important skill for a data scientist. Only visualizations in not enough, you have to tell a story with appropriate graphs."
   ]
  }
 ],
 "metadata": {
  "kernelspec": {
   "display_name": "Python 3.7.7 64-bit ('learning': conda)",
   "language": "python",
   "name": "python37764bitlearningcondadead39b8b5cb441aa05edba06d4d913f"
  },
  "language_info": {
   "codemirror_mode": {
    "name": "ipython",
    "version": 3
   },
   "file_extension": ".py",
   "mimetype": "text/x-python",
   "name": "python",
   "nbconvert_exporter": "python",
   "pygments_lexer": "ipython3",
   "version": "3.7.7"
  },
  "varInspector": {
   "cols": {
    "lenName": 16,
    "lenType": 16,
    "lenVar": 40
   },
   "kernels_config": {
    "python": {
     "delete_cmd_postfix": "",
     "delete_cmd_prefix": "del ",
     "library": "var_list.py",
     "varRefreshCmd": "print(var_dic_list())"
    },
    "r": {
     "delete_cmd_postfix": ") ",
     "delete_cmd_prefix": "rm(",
     "library": "var_list.r",
     "varRefreshCmd": "cat(var_dic_list()) "
    }
   },
   "types_to_exclude": [
    "module",
    "function",
    "builtin_function_or_method",
    "instance",
    "_Feature"
   ],
   "window_display": false
  }
 },
 "nbformat": 4,
 "nbformat_minor": 4
}
