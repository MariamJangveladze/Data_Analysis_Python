{
 "cells": [
  {
   "cell_type": "markdown",
   "metadata": {},
   "source": [
    "# Introduction to Pandas\n",
    "\n",
    "---\n",
    "\n",
    "**Pandas** is a Python library which can be used to manipulate, clean, and query data. Pandas was created by Wes McKinney in 2008, and is an open source project. Pandas has quickly become the defacto library for representing relational data for data scientists. Very powerful, yet intuitive and simple library for data munging and analysis sometimes called **Excel on Steroids**.\n",
    "\n",
    "\n",
    "### Lecture outline\n",
    "\n",
    "---\n",
    "\n",
    "* Pandas Series\n",
    "\n",
    "\n",
    "* Pandas DataFrame\n",
    "\n",
    "\n",
    "* Shape, Size, type, and Dimension of DataFrame and Series\n",
    "\n",
    "\n",
    "* Index, Selection, Filtering\n",
    "\n",
    "\n",
    "* Re(Set)-index, Dropping Entries, Axis\n",
    "\n",
    "\n",
    "* Sorting\n",
    "\n",
    "\n",
    "* Column Rename, Reorder, Insertion, Deletion\n",
    "\n",
    "\n",
    "* Arithmetic Operations\n",
    "\n",
    "\n",
    "* Unique Values and Value Counts\n",
    "\n",
    "\n",
    "* Statistics with DataFrame"
   ]
  },
  {
   "cell_type": "markdown",
   "metadata": {},
   "source": [
    "### Homework:\n",
    "\n",
    "[101 Pandas Exercises for Data Analysis](https://www.machinelearningplus.com/python/101-pandas-exercises-python/)"
   ]
  },
  {
   "cell_type": "code",
   "execution_count": 1,
   "metadata": {
    "ExecuteTime": {
     "end_time": "2021-01-28T16:08:24.868855Z",
     "start_time": "2021-01-28T16:08:24.722206Z"
    }
   },
   "outputs": [],
   "source": [
    "import pandas as pd\n",
    "\n",
    "import numpy as np"
   ]
  },
  {
   "cell_type": "markdown",
   "metadata": {},
   "source": [
    "## Pandas Series\n",
    "\n",
    "---\n",
    "\n",
    "The series is one of the core data structures in Pandas. We can represent it as a two column structure, where the first column is a special index column and the second is actual data. It's important to note that the data column has a label of its own and can be retrieved using the `.name` attribute. Generally, Series is a one-dimensional array-like object containing a sequence of values and an associated array of index.\n",
    "\n",
    "Imagine series as an one column, whereas two or more series construct the DataFrame."
   ]
  },
  {
   "cell_type": "markdown",
   "metadata": {},
   "source": [
    "![alt text](images/series_new.png \"Title\")"
   ]
  },
  {
   "cell_type": "code",
   "execution_count": 19,
   "metadata": {
    "ExecuteTime": {
     "end_time": "2021-01-28T16:31:36.471343Z",
     "start_time": "2021-01-28T16:31:36.463558Z"
    }
   },
   "outputs": [
    {
     "data": {
      "text/plain": [
       "0    4\n",
       "1    7\n",
       "2   -5\n",
       "3    3\n",
       "Name: First_Series, dtype: int64"
      ]
     },
     "execution_count": 19,
     "metadata": {},
     "output_type": "execute_result"
    }
   ],
   "source": [
    "# Simple Series object\n",
    "\n",
    "series = pd.Series([4, 7, -5, 3], name=\"First_Series\")\n",
    "\n",
    "series"
   ]
  },
  {
   "cell_type": "code",
   "execution_count": 21,
   "metadata": {
    "ExecuteTime": {
     "end_time": "2021-01-28T16:31:51.513692Z",
     "start_time": "2021-01-28T16:31:51.504552Z"
    }
   },
   "outputs": [
    {
     "data": {
      "text/html": [
       "<div>\n",
       "<style scoped>\n",
       "    .dataframe tbody tr th:only-of-type {\n",
       "        vertical-align: middle;\n",
       "    }\n",
       "\n",
       "    .dataframe tbody tr th {\n",
       "        vertical-align: top;\n",
       "    }\n",
       "\n",
       "    .dataframe thead th {\n",
       "        text-align: right;\n",
       "    }\n",
       "</style>\n",
       "<table border=\"1\" class=\"dataframe\">\n",
       "  <thead>\n",
       "    <tr style=\"text-align: right;\">\n",
       "      <th></th>\n",
       "      <th>First_Series</th>\n",
       "    </tr>\n",
       "  </thead>\n",
       "  <tbody>\n",
       "    <tr>\n",
       "      <th>0</th>\n",
       "      <td>4</td>\n",
       "    </tr>\n",
       "    <tr>\n",
       "      <th>1</th>\n",
       "      <td>7</td>\n",
       "    </tr>\n",
       "    <tr>\n",
       "      <th>2</th>\n",
       "      <td>-5</td>\n",
       "    </tr>\n",
       "    <tr>\n",
       "      <th>3</th>\n",
       "      <td>3</td>\n",
       "    </tr>\n",
       "  </tbody>\n",
       "</table>\n",
       "</div>"
      ],
      "text/plain": [
       "   First_Series\n",
       "0             4\n",
       "1             7\n",
       "2            -5\n",
       "3             3"
      ]
     },
     "execution_count": 21,
     "metadata": {},
     "output_type": "execute_result"
    }
   ],
   "source": [
    "pd.DataFrame(series) # Convert Series into DataFrame"
   ]
  },
  {
   "cell_type": "code",
   "execution_count": 8,
   "metadata": {
    "ExecuteTime": {
     "end_time": "2021-01-28T16:17:04.708343Z",
     "start_time": "2021-01-28T16:17:04.701895Z"
    }
   },
   "outputs": [
    {
     "data": {
      "text/plain": [
       "array([ 4,  7, -5,  3])"
      ]
     },
     "execution_count": 8,
     "metadata": {},
     "output_type": "execute_result"
    }
   ],
   "source": [
    "# Extract actual values (data) by using .values attribute\n",
    "\n",
    "series.values"
   ]
  },
  {
   "cell_type": "code",
   "execution_count": 4,
   "metadata": {
    "ExecuteTime": {
     "end_time": "2021-01-28T16:14:55.205476Z",
     "start_time": "2021-01-28T16:14:55.200500Z"
    }
   },
   "outputs": [
    {
     "data": {
      "text/plain": [
       "[4, 7, -5, 3]"
      ]
     },
     "execution_count": 4,
     "metadata": {},
     "output_type": "execute_result"
    }
   ],
   "source": [
    "series.tolist() # Returns Python list"
   ]
  },
  {
   "cell_type": "code",
   "execution_count": 9,
   "metadata": {
    "ExecuteTime": {
     "end_time": "2021-01-28T16:17:07.751573Z",
     "start_time": "2021-01-28T16:17:07.746803Z"
    }
   },
   "outputs": [
    {
     "data": {
      "text/plain": [
       "RangeIndex(start=0, stop=4, step=1)"
      ]
     },
     "execution_count": 9,
     "metadata": {},
     "output_type": "execute_result"
    }
   ],
   "source": [
    "# Extract the index column by using .index attribute\n",
    "\n",
    "series.index"
   ]
  },
  {
   "cell_type": "code",
   "execution_count": 11,
   "metadata": {
    "ExecuteTime": {
     "end_time": "2021-01-28T16:17:24.441367Z",
     "start_time": "2021-01-28T16:17:24.435642Z"
    }
   },
   "outputs": [
    {
     "data": {
      "text/plain": [
       "'First_Series'"
      ]
     },
     "execution_count": 11,
     "metadata": {},
     "output_type": "execute_result"
    }
   ],
   "source": [
    "series.name # Returns Series name"
   ]
  },
  {
   "cell_type": "code",
   "execution_count": 12,
   "metadata": {
    "ExecuteTime": {
     "end_time": "2021-01-28T16:18:46.775848Z",
     "start_time": "2021-01-28T16:18:46.769750Z"
    }
   },
   "outputs": [
    {
     "data": {
      "text/plain": [
       "-5"
      ]
     },
     "execution_count": 12,
     "metadata": {},
     "output_type": "execute_result"
    }
   ],
   "source": [
    "# Select particular value from a Series using its index\n",
    "\n",
    "series[2]"
   ]
  },
  {
   "cell_type": "markdown",
   "metadata": {},
   "source": [
    "`Pandas Series` can be constructed from Python data structures such as List, Dict, and others."
   ]
  },
  {
   "cell_type": "code",
   "execution_count": 13,
   "metadata": {
    "ExecuteTime": {
     "end_time": "2021-01-28T16:21:14.671577Z",
     "start_time": "2021-01-28T16:21:14.662372Z"
    }
   },
   "outputs": [
    {
     "data": {
      "text/plain": [
       "Alice      Physics\n",
       "Jack     Chemistry\n",
       "Molly      English\n",
       "dtype: object"
      ]
     },
     "execution_count": 13,
     "metadata": {},
     "output_type": "execute_result"
    }
   ],
   "source": [
    "# Construct Series from dictionary\n",
    "\n",
    "\n",
    "students_scores = {'Alice': 'Physics',\n",
    "                   'Jack': 'Chemistry',\n",
    "                   'Molly': 'English'}\n",
    "\n",
    "\n",
    "pd.Series(students_scores)"
   ]
  },
  {
   "cell_type": "code",
   "execution_count": 17,
   "metadata": {
    "ExecuteTime": {
     "end_time": "2021-01-28T16:26:24.685912Z",
     "start_time": "2021-01-28T16:26:24.678624Z"
    }
   },
   "outputs": [
    {
     "data": {
      "text/plain": [
       "0    Alice\n",
       "1    Brown\n",
       "2     Jack\n",
       "3    White\n",
       "4    Molly\n",
       "5    Green\n",
       "dtype: object"
      ]
     },
     "execution_count": 17,
     "metadata": {},
     "output_type": "execute_result"
    }
   ],
   "source": [
    "# Construct Series from list of tuples\n",
    "\n",
    "students = [(\"Alice\",\"Brown\"), (\"Jack\", \"White\"), (\"Molly\", \"Green\")]\n",
    "\n",
    "\n",
    "pd.Series(students)"
   ]
  },
  {
   "cell_type": "markdown",
   "metadata": {},
   "source": [
    " "
   ]
  },
  {
   "cell_type": "markdown",
   "metadata": {},
   "source": [
    "#### Reference\n",
    "\n",
    "[Series mathods and attributes](https://pandas.pydata.org/pandas-docs/stable/reference/api/pandas.Series.html)"
   ]
  },
  {
   "cell_type": "markdown",
   "metadata": {},
   "source": [
    "## Pandas DataFrame\n",
    "\n",
    "---\n",
    "\n",
    "The DataFrame data structure is the heart of the Panda's library. It's a primary object that we will be working \n",
    "with in data analysis and cleaning tasks. A DataFrame represents a rectangular table of data and contains an ordered collection of columns, or conceptually it is a two-dimensional series object, where there's an index and multiple columns. Hence, we can think of it as a Stacked Series.\n",
    "\n",
    "\n",
    "> While a DataFrame is physically two-dimensional, we can use it to represent higher dimensional data in a tabular format using hierarchical indexing."
   ]
  },
  {
   "cell_type": "markdown",
   "metadata": {},
   "source": [
    "There are many ways to construct DataFrame. To do so, we can use conventional Python data structures such as List, Dict, or Tuple. One of the most common way to have a DataFrame is to use dictionary.\n",
    "\n",
    "Note that, DataFrame has also an index column and we can operate on that special column too."
   ]
  },
  {
   "cell_type": "markdown",
   "metadata": {},
   "source": [
    "![alt text](images/dataframe.svg \"Title\")"
   ]
  },
  {
   "cell_type": "code",
   "execution_count": 18,
   "metadata": {
    "ExecuteTime": {
     "end_time": "2021-01-28T16:30:44.338104Z",
     "start_time": "2021-01-28T16:30:44.296565Z"
    }
   },
   "outputs": [
    {
     "data": {
      "text/html": [
       "<div>\n",
       "<style scoped>\n",
       "    .dataframe tbody tr th:only-of-type {\n",
       "        vertical-align: middle;\n",
       "    }\n",
       "\n",
       "    .dataframe tbody tr th {\n",
       "        vertical-align: top;\n",
       "    }\n",
       "\n",
       "    .dataframe thead th {\n",
       "        text-align: right;\n",
       "    }\n",
       "</style>\n",
       "<table border=\"1\" class=\"dataframe\">\n",
       "  <thead>\n",
       "    <tr style=\"text-align: right;\">\n",
       "      <th></th>\n",
       "      <th>state</th>\n",
       "      <th>year</th>\n",
       "      <th>population</th>\n",
       "    </tr>\n",
       "  </thead>\n",
       "  <tbody>\n",
       "    <tr>\n",
       "      <th>0</th>\n",
       "      <td>Ohio</td>\n",
       "      <td>2000</td>\n",
       "      <td>1.5</td>\n",
       "    </tr>\n",
       "    <tr>\n",
       "      <th>1</th>\n",
       "      <td>Ohio</td>\n",
       "      <td>2001</td>\n",
       "      <td>1.7</td>\n",
       "    </tr>\n",
       "    <tr>\n",
       "      <th>2</th>\n",
       "      <td>Ohio</td>\n",
       "      <td>2002</td>\n",
       "      <td>3.6</td>\n",
       "    </tr>\n",
       "    <tr>\n",
       "      <th>3</th>\n",
       "      <td>Nevada</td>\n",
       "      <td>2001</td>\n",
       "      <td>2.4</td>\n",
       "    </tr>\n",
       "    <tr>\n",
       "      <th>4</th>\n",
       "      <td>Nevada</td>\n",
       "      <td>2002</td>\n",
       "      <td>2.9</td>\n",
       "    </tr>\n",
       "    <tr>\n",
       "      <th>5</th>\n",
       "      <td>Nevada</td>\n",
       "      <td>2003</td>\n",
       "      <td>3.2</td>\n",
       "    </tr>\n",
       "  </tbody>\n",
       "</table>\n",
       "</div>"
      ],
      "text/plain": [
       "    state  year  population\n",
       "0    Ohio  2000         1.5\n",
       "1    Ohio  2001         1.7\n",
       "2    Ohio  2002         3.6\n",
       "3  Nevada  2001         2.4\n",
       "4  Nevada  2002         2.9\n",
       "5  Nevada  2003         3.2"
      ]
     },
     "execution_count": 18,
     "metadata": {},
     "output_type": "execute_result"
    }
   ],
   "source": [
    "# Create DataFrame from dictionary\n",
    "\n",
    "\n",
    "data = {'state': ['Ohio', 'Ohio', 'Ohio', 'Nevada', 'Nevada', 'Nevada'],\n",
    "        'year': [2000, 2001, 2002, 2001, 2002, 2003],\n",
    "        'population': [1.5, 1.7, 3.6, 2.4, 2.9, 3.2]}\n",
    "\n",
    "\n",
    "df = pd.DataFrame(data)\n",
    "\n",
    "df"
   ]
  },
  {
   "cell_type": "code",
   "execution_count": 22,
   "metadata": {
    "ExecuteTime": {
     "end_time": "2021-01-28T16:33:44.050652Z",
     "start_time": "2021-01-28T16:33:44.045221Z"
    }
   },
   "outputs": [
    {
     "data": {
      "text/plain": [
       "array([['Ohio', 2000, 1.5],\n",
       "       ['Ohio', 2001, 1.7],\n",
       "       ['Ohio', 2002, 3.6],\n",
       "       ['Nevada', 2001, 2.4],\n",
       "       ['Nevada', 2002, 2.9],\n",
       "       ['Nevada', 2003, 3.2]], dtype=object)"
      ]
     },
     "execution_count": 22,
     "metadata": {},
     "output_type": "execute_result"
    }
   ],
   "source": [
    "# Extract values from DataFrame\n",
    "\n",
    "df.values"
   ]
  },
  {
   "cell_type": "code",
   "execution_count": 23,
   "metadata": {
    "ExecuteTime": {
     "end_time": "2021-01-28T16:38:29.605586Z",
     "start_time": "2021-01-28T16:38:29.600874Z"
    }
   },
   "outputs": [
    {
     "data": {
      "text/plain": [
       "RangeIndex(start=0, stop=6, step=1)"
      ]
     },
     "execution_count": 23,
     "metadata": {},
     "output_type": "execute_result"
    }
   ],
   "source": [
    "# Extract index from DataFrame\n",
    "\n",
    "df.index"
   ]
  },
  {
   "cell_type": "code",
   "execution_count": 24,
   "metadata": {
    "ExecuteTime": {
     "end_time": "2021-01-28T16:39:03.390028Z",
     "start_time": "2021-01-28T16:39:03.384136Z"
    }
   },
   "outputs": [
    {
     "data": {
      "text/plain": [
       "Index(['state', 'year', 'population'], dtype='object')"
      ]
     },
     "execution_count": 24,
     "metadata": {},
     "output_type": "execute_result"
    }
   ],
   "source": [
    "# Extract column names\n",
    "\n",
    "df.columns"
   ]
  },
  {
   "cell_type": "markdown",
   "metadata": {},
   "source": [
    "We can use different combinations of data stuctures to create DataFrame. Let try some of them!"
   ]
  },
  {
   "cell_type": "code",
   "execution_count": null,
   "metadata": {
    "ExecuteTime": {
     "end_time": "2020-12-14T16:31:13.365928Z",
     "start_time": "2020-12-14T16:31:13.355774Z"
    }
   },
   "outputs": [],
   "source": [
    "# Create DataFrame using dict of Series\n",
    "\n",
    "data = {\"Nevada\": pd.Series([2.4, 2.5, 2.6]),\n",
    "       \"Ohio\": pd.Series([1.5, 1.7, 1.8])}\n",
    "\n",
    "\n",
    "pd.DataFrame(data)"
   ]
  },
  {
   "cell_type": "code",
   "execution_count": 28,
   "metadata": {
    "ExecuteTime": {
     "end_time": "2021-01-28T16:43:37.386272Z",
     "start_time": "2021-01-28T16:43:37.370802Z"
    }
   },
   "outputs": [
    {
     "data": {
      "text/html": [
       "<div>\n",
       "<style scoped>\n",
       "    .dataframe tbody tr th:only-of-type {\n",
       "        vertical-align: middle;\n",
       "    }\n",
       "\n",
       "    .dataframe tbody tr th {\n",
       "        vertical-align: top;\n",
       "    }\n",
       "\n",
       "    .dataframe thead th {\n",
       "        text-align: right;\n",
       "    }\n",
       "</style>\n",
       "<table border=\"1\" class=\"dataframe\">\n",
       "  <thead>\n",
       "    <tr style=\"text-align: right;\">\n",
       "      <th></th>\n",
       "      <th>Nevada</th>\n",
       "      <th>Ohio</th>\n",
       "    </tr>\n",
       "  </thead>\n",
       "  <tbody>\n",
       "    <tr>\n",
       "      <th>2000</th>\n",
       "      <td>2.3</td>\n",
       "      <td>1.5</td>\n",
       "    </tr>\n",
       "    <tr>\n",
       "      <th>2001</th>\n",
       "      <td>2.4</td>\n",
       "      <td>1.7</td>\n",
       "    </tr>\n",
       "    <tr>\n",
       "      <th>2002</th>\n",
       "      <td>2.9</td>\n",
       "      <td>3.6</td>\n",
       "    </tr>\n",
       "  </tbody>\n",
       "</table>\n",
       "</div>"
      ],
      "text/plain": [
       "      Nevada  Ohio\n",
       "2000     2.3   1.5\n",
       "2001     2.4   1.7\n",
       "2002     2.9   3.6"
      ]
     },
     "execution_count": 28,
     "metadata": {},
     "output_type": "execute_result"
    }
   ],
   "source": [
    "# Create DataFrame using dict of dicts\n",
    "\n",
    "\n",
    "data = {'Nevada': {2000: 2.3, 2001: 2.4, 2002: 2.9},\n",
    "        \n",
    "        'Ohio': {2000: 1.5, 2001: 1.7, 2002: 3.6}}\n",
    "\n",
    "\n",
    "pd.DataFrame(data)"
   ]
  },
  {
   "cell_type": "code",
   "execution_count": 31,
   "metadata": {
    "ExecuteTime": {
     "end_time": "2021-01-28T16:44:54.447659Z",
     "start_time": "2021-01-28T16:44:54.434627Z"
    }
   },
   "outputs": [
    {
     "data": {
      "text/html": [
       "<div>\n",
       "<style scoped>\n",
       "    .dataframe tbody tr th:only-of-type {\n",
       "        vertical-align: middle;\n",
       "    }\n",
       "\n",
       "    .dataframe tbody tr th {\n",
       "        vertical-align: top;\n",
       "    }\n",
       "\n",
       "    .dataframe thead th {\n",
       "        text-align: right;\n",
       "    }\n",
       "</style>\n",
       "<table border=\"1\" class=\"dataframe\">\n",
       "  <thead>\n",
       "    <tr style=\"text-align: right;\">\n",
       "      <th></th>\n",
       "      <th>0</th>\n",
       "      <th>1</th>\n",
       "      <th>2</th>\n",
       "    </tr>\n",
       "  </thead>\n",
       "  <tbody>\n",
       "    <tr>\n",
       "      <th>0</th>\n",
       "      <td>Nevada</td>\n",
       "      <td>Carson City</td>\n",
       "      <td>900000</td>\n",
       "    </tr>\n",
       "    <tr>\n",
       "      <th>1</th>\n",
       "      <td>Ohio</td>\n",
       "      <td>Columbus</td>\n",
       "      <td>300000</td>\n",
       "    </tr>\n",
       "    <tr>\n",
       "      <th>2</th>\n",
       "      <td>Nebraska</td>\n",
       "      <td>Lincoln</td>\n",
       "      <td>10100000</td>\n",
       "    </tr>\n",
       "    <tr>\n",
       "      <th>3</th>\n",
       "      <td>Kansas</td>\n",
       "      <td>Topeka</td>\n",
       "      <td>5500000</td>\n",
       "    </tr>\n",
       "  </tbody>\n",
       "</table>\n",
       "</div>"
      ],
      "text/plain": [
       "          0            1         2\n",
       "0    Nevada  Carson City    900000\n",
       "1      Ohio     Columbus    300000\n",
       "2  Nebraska      Lincoln  10100000\n",
       "3    Kansas       Topeka   5500000"
      ]
     },
     "execution_count": 31,
     "metadata": {},
     "output_type": "execute_result"
    }
   ],
   "source": [
    "# Create DataFrame using list of lists\n",
    "\n",
    "\n",
    "data = [['Nevada', 'Carson City', 900000], \n",
    "        ['Ohio', 'Columbus', 300000], \n",
    "        ['Nebraska', 'Lincoln', 10100000], \n",
    "        ['Kansas', 'Topeka', 5500000]]\n",
    "\n",
    "\n",
    "pd.DataFrame(data)"
   ]
  },
  {
   "cell_type": "markdown",
   "metadata": {},
   "source": [
    " "
   ]
  },
  {
   "cell_type": "markdown",
   "metadata": {},
   "source": [
    "#### Reference\n",
    "\n",
    "[DataFrame mathods and attributes](https://pandas.pydata.org/pandas-docs/stable/reference/frame.html)"
   ]
  },
  {
   "cell_type": "markdown",
   "metadata": {},
   "source": [
    "## Shape, Size, type, and Dimension of DataFrame and Series"
   ]
  },
  {
   "cell_type": "code",
   "execution_count": 32,
   "metadata": {
    "ExecuteTime": {
     "end_time": "2021-01-28T16:47:13.754765Z",
     "start_time": "2021-01-28T16:47:13.749619Z"
    }
   },
   "outputs": [
    {
     "data": {
      "text/plain": [
       "0    4\n",
       "1    7\n",
       "2   -5\n",
       "3    3\n",
       "Name: First_Series, dtype: int64"
      ]
     },
     "execution_count": 32,
     "metadata": {},
     "output_type": "execute_result"
    }
   ],
   "source": [
    "series"
   ]
  },
  {
   "cell_type": "code",
   "execution_count": 33,
   "metadata": {
    "ExecuteTime": {
     "end_time": "2021-01-28T16:47:24.526698Z",
     "start_time": "2021-01-28T16:47:24.519965Z"
    }
   },
   "outputs": [
    {
     "data": {
      "text/plain": [
       "(4,)"
      ]
     },
     "execution_count": 33,
     "metadata": {},
     "output_type": "execute_result"
    }
   ],
   "source": [
    "# Shape of a Series\n",
    "\n",
    "series.shape # Only indicate number of rows"
   ]
  },
  {
   "cell_type": "code",
   "execution_count": 34,
   "metadata": {
    "ExecuteTime": {
     "end_time": "2021-01-28T16:48:03.222204Z",
     "start_time": "2021-01-28T16:48:03.213861Z"
    }
   },
   "outputs": [
    {
     "data": {
      "text/plain": [
       "1"
      ]
     },
     "execution_count": 34,
     "metadata": {},
     "output_type": "execute_result"
    }
   ],
   "source": [
    "# Number of dimensions\n",
    "\n",
    "series.ndim"
   ]
  },
  {
   "cell_type": "code",
   "execution_count": 35,
   "metadata": {
    "ExecuteTime": {
     "end_time": "2021-01-28T16:48:43.662309Z",
     "start_time": "2021-01-28T16:48:43.657092Z"
    }
   },
   "outputs": [
    {
     "data": {
      "text/plain": [
       "4"
      ]
     },
     "execution_count": 35,
     "metadata": {},
     "output_type": "execute_result"
    }
   ],
   "source": [
    "# Number of elements\n",
    "\n",
    "series.size"
   ]
  },
  {
   "cell_type": "code",
   "execution_count": 36,
   "metadata": {
    "ExecuteTime": {
     "end_time": "2021-01-28T16:50:34.483900Z",
     "start_time": "2021-01-28T16:50:34.478181Z"
    }
   },
   "outputs": [
    {
     "data": {
      "text/plain": [
       "dtype('int64')"
      ]
     },
     "execution_count": 36,
     "metadata": {},
     "output_type": "execute_result"
    }
   ],
   "source": [
    "# Type of values (entries) in a Series\n",
    "\n",
    "series.dtypes"
   ]
  },
  {
   "cell_type": "code",
   "execution_count": 37,
   "metadata": {
    "ExecuteTime": {
     "end_time": "2021-01-28T16:51:15.675956Z",
     "start_time": "2021-01-28T16:51:15.663282Z"
    }
   },
   "outputs": [
    {
     "data": {
      "text/html": [
       "<div>\n",
       "<style scoped>\n",
       "    .dataframe tbody tr th:only-of-type {\n",
       "        vertical-align: middle;\n",
       "    }\n",
       "\n",
       "    .dataframe tbody tr th {\n",
       "        vertical-align: top;\n",
       "    }\n",
       "\n",
       "    .dataframe thead th {\n",
       "        text-align: right;\n",
       "    }\n",
       "</style>\n",
       "<table border=\"1\" class=\"dataframe\">\n",
       "  <thead>\n",
       "    <tr style=\"text-align: right;\">\n",
       "      <th></th>\n",
       "      <th>state</th>\n",
       "      <th>year</th>\n",
       "      <th>population</th>\n",
       "    </tr>\n",
       "  </thead>\n",
       "  <tbody>\n",
       "    <tr>\n",
       "      <th>0</th>\n",
       "      <td>Ohio</td>\n",
       "      <td>2000</td>\n",
       "      <td>1.5</td>\n",
       "    </tr>\n",
       "    <tr>\n",
       "      <th>1</th>\n",
       "      <td>Ohio</td>\n",
       "      <td>2001</td>\n",
       "      <td>1.7</td>\n",
       "    </tr>\n",
       "    <tr>\n",
       "      <th>2</th>\n",
       "      <td>Ohio</td>\n",
       "      <td>2002</td>\n",
       "      <td>3.6</td>\n",
       "    </tr>\n",
       "    <tr>\n",
       "      <th>3</th>\n",
       "      <td>Nevada</td>\n",
       "      <td>2001</td>\n",
       "      <td>2.4</td>\n",
       "    </tr>\n",
       "    <tr>\n",
       "      <th>4</th>\n",
       "      <td>Nevada</td>\n",
       "      <td>2002</td>\n",
       "      <td>2.9</td>\n",
       "    </tr>\n",
       "    <tr>\n",
       "      <th>5</th>\n",
       "      <td>Nevada</td>\n",
       "      <td>2003</td>\n",
       "      <td>3.2</td>\n",
       "    </tr>\n",
       "  </tbody>\n",
       "</table>\n",
       "</div>"
      ],
      "text/plain": [
       "    state  year  population\n",
       "0    Ohio  2000         1.5\n",
       "1    Ohio  2001         1.7\n",
       "2    Ohio  2002         3.6\n",
       "3  Nevada  2001         2.4\n",
       "4  Nevada  2002         2.9\n",
       "5  Nevada  2003         3.2"
      ]
     },
     "execution_count": 37,
     "metadata": {},
     "output_type": "execute_result"
    }
   ],
   "source": [
    "df"
   ]
  },
  {
   "cell_type": "code",
   "execution_count": 38,
   "metadata": {
    "ExecuteTime": {
     "end_time": "2021-01-28T16:51:20.388596Z",
     "start_time": "2021-01-28T16:51:20.384799Z"
    }
   },
   "outputs": [
    {
     "data": {
      "text/plain": [
       "(6, 3)"
      ]
     },
     "execution_count": 38,
     "metadata": {},
     "output_type": "execute_result"
    }
   ],
   "source": [
    "# Number of rows and columns\n",
    "\n",
    "df.shape"
   ]
  },
  {
   "cell_type": "code",
   "execution_count": 39,
   "metadata": {
    "ExecuteTime": {
     "end_time": "2021-01-28T16:51:25.992054Z",
     "start_time": "2021-01-28T16:51:25.987353Z"
    }
   },
   "outputs": [
    {
     "data": {
      "text/plain": [
       "2"
      ]
     },
     "execution_count": 39,
     "metadata": {},
     "output_type": "execute_result"
    }
   ],
   "source": [
    "# Number of dimensions or number of axis\n",
    "\n",
    "df.ndim"
   ]
  },
  {
   "cell_type": "code",
   "execution_count": 40,
   "metadata": {
    "ExecuteTime": {
     "end_time": "2021-01-28T16:51:46.800520Z",
     "start_time": "2021-01-28T16:51:46.795888Z"
    }
   },
   "outputs": [
    {
     "data": {
      "text/plain": [
       "18"
      ]
     },
     "execution_count": 40,
     "metadata": {},
     "output_type": "execute_result"
    }
   ],
   "source": [
    "# Number of elements\n",
    "\n",
    "df.size"
   ]
  },
  {
   "cell_type": "code",
   "execution_count": 41,
   "metadata": {
    "ExecuteTime": {
     "end_time": "2021-01-28T16:51:55.931586Z",
     "start_time": "2021-01-28T16:51:55.923980Z"
    }
   },
   "outputs": [
    {
     "data": {
      "text/plain": [
       "state          object\n",
       "year            int64\n",
       "population    float64\n",
       "dtype: object"
      ]
     },
     "execution_count": 41,
     "metadata": {},
     "output_type": "execute_result"
    }
   ],
   "source": [
    "# Type of values (entries) in a DataFrame for each column\n",
    "\n",
    "df.dtypes"
   ]
  },
  {
   "cell_type": "markdown",
   "metadata": {
    "heading_collapsed": true
   },
   "source": [
    "## Index, Selection, Filtering\n",
    "\n",
    "---\n",
    "\n",
    "As we've seen, both Series and DataFrames can have indices applied to them. The index is essentially a row level\n",
    "label, and in Pandas the rows correspond to axis zero. Indices can either be autogenerated, or they can be set explicitly. The index objects are responsible for holding the axis labels and other metadata, like the axis name or names."
   ]
  },
  {
   "cell_type": "code",
   "execution_count": null,
   "metadata": {
    "ExecuteTime": {
     "end_time": "2020-12-19T08:46:01.610582Z",
     "start_time": "2020-12-19T08:46:01.588090Z"
    },
    "hidden": true
   },
   "outputs": [],
   "source": [
    "# Let read CSV file and perform indexing, selection and filtering\n",
    "\n",
    "df = pd.read_csv(\"datasets/admission.csv\")\n",
    "\n",
    "df"
   ]
  },
  {
   "cell_type": "markdown",
   "metadata": {
    "heading_collapsed": true,
    "hidden": true
   },
   "source": [
    "### Indexing\n",
    "\n",
    "---\n",
    "\n",
    "Index object is immutable, thus cannot be modified. The immutability allow us to share the index among data structures and perform merging operation. Moreover, it behaves like fix-sized set and we can perform common set operations on it, such as `intersection`, `union`, `difference` and so on. No worries, we will see all of them.\n",
    "\n",
    "> Pandas Index object can contain duplicate elements."
   ]
  },
  {
   "cell_type": "markdown",
   "metadata": {
    "hidden": true
   },
   "source": [
    "#### Reference\n",
    "\n",
    "[Index methods and attributes](https://pandas.pydata.org/pandas-docs/stable/reference/api/pandas.Index.html)\n",
    "\n",
    "[Indexing and selecting data](https://pandas.pydata.org/pandas-docs/stable/user_guide/indexing.html#different-choices-for-indexing)"
   ]
  },
  {
   "cell_type": "markdown",
   "metadata": {
    "hidden": true
   },
   "source": [
    "Series indexing works similarly as in NumPy, except we can use the Series’s index values instead of only integers."
   ]
  },
  {
   "cell_type": "code",
   "execution_count": null,
   "metadata": {
    "ExecuteTime": {
     "end_time": "2020-12-15T15:51:27.920431Z",
     "start_time": "2020-12-15T15:51:27.916383Z"
    },
    "hidden": true
   },
   "outputs": [],
   "source": [
    "series = pd.Series(range(6), index=['a', 'b', 'c', 'd', 'e', 'f'])\n",
    "\n",
    "series"
   ]
  },
  {
   "cell_type": "code",
   "execution_count": null,
   "metadata": {
    "ExecuteTime": {
     "end_time": "2020-12-15T15:51:31.088409Z",
     "start_time": "2020-12-15T15:51:31.082120Z"
    },
    "hidden": true
   },
   "outputs": [],
   "source": [
    "series[1] # Select one particular element by its position\n",
    "\n",
    "series[1:4] # Select range of values\n",
    "\n",
    "series[:3] # Select up to third position\n",
    "\n",
    "series[3:] # Select from third position\n",
    "\n",
    "series[-1] # Select from the end"
   ]
  },
  {
   "cell_type": "code",
   "execution_count": null,
   "metadata": {
    "ExecuteTime": {
     "end_time": "2020-12-15T15:51:33.474589Z",
     "start_time": "2020-12-15T15:51:33.467595Z"
    },
    "hidden": true
   },
   "outputs": [],
   "source": [
    "# Instead of integer indexing or positional indexing, we can use actual, Series indices to select data\n",
    "\n",
    "series[\"b\"]\n",
    "\n",
    "series[\"b\":\"e\"]\n",
    "\n",
    "series[:\"d\"]\n",
    "\n",
    "series[\"c\":]"
   ]
  },
  {
   "cell_type": "markdown",
   "metadata": {
    "hidden": true
   },
   "source": [
    " "
   ]
  },
  {
   "cell_type": "markdown",
   "metadata": {
    "hidden": true
   },
   "source": [
    "Indexing in case of DataFrame is different compared to Series. As DataFrame have two axis then we can select row as well as columns. Let use our DataFrame for indexing tasks."
   ]
  },
  {
   "cell_type": "code",
   "execution_count": null,
   "metadata": {
    "ExecuteTime": {
     "end_time": "2020-12-15T15:51:34.851478Z",
     "start_time": "2020-12-15T15:51:34.841393Z"
    },
    "hidden": true
   },
   "outputs": [],
   "source": [
    "df.head()"
   ]
  },
  {
   "cell_type": "markdown",
   "metadata": {
    "hidden": true
   },
   "source": [
    "Indexing along y axis or selecting only columns"
   ]
  },
  {
   "cell_type": "code",
   "execution_count": null,
   "metadata": {
    "ExecuteTime": {
     "end_time": "2020-12-15T15:51:37.319796Z",
     "start_time": "2020-12-15T15:51:37.308365Z"
    },
    "hidden": true
   },
   "outputs": [],
   "source": [
    "df[\"GRE Score\"] # Select only one column\n",
    "\n",
    "df[[\"GRE Score\", \"TOEFL Score\"]] # Select two or more columns"
   ]
  },
  {
   "cell_type": "markdown",
   "metadata": {
    "hidden": true
   },
   "source": [
    "Indexing along x axis or selecting only rows"
   ]
  },
  {
   "cell_type": "code",
   "execution_count": null,
   "metadata": {
    "ExecuteTime": {
     "end_time": "2020-12-15T15:51:40.428324Z",
     "start_time": "2020-12-15T15:51:40.391709Z"
    },
    "hidden": true
   },
   "outputs": [],
   "source": [
    "df[:2] # Select first two rows\n",
    "\n",
    "df[2:5] # Select range of rows\n",
    "\n",
    "df[300:] # Select from 300 to the end"
   ]
  },
  {
   "cell_type": "markdown",
   "metadata": {
    "hidden": true
   },
   "source": [
    "Integer indexing does not work for DataFrame"
   ]
  },
  {
   "cell_type": "code",
   "execution_count": null,
   "metadata": {
    "ExecuteTime": {
     "end_time": "2020-12-14T18:27:01.369632Z",
     "start_time": "2020-12-14T18:27:01.349615Z"
    },
    "hidden": true,
    "scrolled": true
   },
   "outputs": [],
   "source": [
    "df[2]"
   ]
  },
  {
   "cell_type": "markdown",
   "metadata": {
    "hidden": true
   },
   "source": [
    "Pandas also have different methods for row and column selection"
   ]
  },
  {
   "cell_type": "markdown",
   "metadata": {
    "heading_collapsed": true,
    "hidden": true
   },
   "source": [
    "### Selection\n",
    "\n",
    "---\n",
    "\n",
    "`loc` method performs selection using axis labels and `iloc` performs selection using integers. They enable us to select a subset of the rows and columns from a DataFrame with NumPy-like notation. Additinally, Pandas have `head()` and `tail()` methods to select row and columns from the head and tail, respectively."
   ]
  },
  {
   "cell_type": "code",
   "execution_count": null,
   "metadata": {
    "ExecuteTime": {
     "end_time": "2020-12-15T15:51:53.628382Z",
     "start_time": "2020-12-15T15:51:53.610959Z"
    },
    "hidden": true
   },
   "outputs": [],
   "source": [
    "df.head() # Select first 5 row by default\n",
    "\n",
    "df.head(3) # Select first 3 rows\n",
    "\n",
    "\n",
    "\n",
    "df.tail() # Select last 5 rows by default\n",
    "\n",
    "df.tail(3) # Select last 3 rows"
   ]
  },
  {
   "cell_type": "markdown",
   "metadata": {
    "ExecuteTime": {
     "end_time": "2020-12-14T18:44:30.271001Z",
     "start_time": "2020-12-14T18:44:30.268494Z"
    },
    "hidden": true
   },
   "source": [
    "Selection using axis labels. Purely label-location based indexer."
   ]
  },
  {
   "cell_type": "code",
   "execution_count": null,
   "metadata": {
    "ExecuteTime": {
     "end_time": "2020-12-15T15:51:58.630240Z",
     "start_time": "2020-12-15T15:51:58.619001Z"
    },
    "hidden": true,
    "scrolled": true
   },
   "outputs": [],
   "source": [
    "df.loc[:] # Select all rows and columns\n",
    "\n",
    "df.loc[:, \"GRE Score\"] # Select all rows and one column\n",
    "\n",
    "df.loc[[0, 1, 2], \"GRE Score\"] # Select first three entries of one column\n",
    "\n",
    "df.loc[:10, [\"GRE Score\", \"TOEFL Score\"]] # Select first 10 entries of two or more columns\n",
    "\n",
    "df.loc[5:10, [\"GRE Score\", \"TOEFL Score\"]] # Select range of rows and range of columns by picking them one-by-one\n",
    "\n",
    "df.loc[5:10, \"TOEFL Score\":] # Select range of rows and range of columns\n",
    "\n",
    "df.loc[:5, :\"SOP\"] # Select range of rows and columns\n",
    "\n",
    "df.loc[:5, \"SOP\":\"CGPA\"] # Select range of rows and columns"
   ]
  },
  {
   "cell_type": "markdown",
   "metadata": {
    "hidden": true
   },
   "source": [
    "Selecting using integers. Purely integer-location based indexing"
   ]
  },
  {
   "cell_type": "code",
   "execution_count": null,
   "metadata": {
    "ExecuteTime": {
     "end_time": "2020-12-15T15:53:41.478593Z",
     "start_time": "2020-12-15T15:53:41.450892Z"
    },
    "hidden": true
   },
   "outputs": [],
   "source": [
    "df.head()"
   ]
  },
  {
   "cell_type": "code",
   "execution_count": null,
   "metadata": {
    "ExecuteTime": {
     "end_time": "2020-12-15T15:58:32.982689Z",
     "start_time": "2020-12-15T15:58:32.973495Z"
    },
    "hidden": true
   },
   "outputs": [],
   "source": [
    "df.iloc[:] # Select all rows and columns\n",
    "\n",
    "df.iloc[0] # Select only one row\n",
    "\n",
    "df.iloc[[0]] # Select first row. Same as above\n",
    "\n",
    "df.iloc[:5] # Select range of rows\n",
    "\n",
    "df.iloc[:5, 0] # Select 5 rows of the first columns\n",
    "\n",
    "df.iloc[:5, :3] # Select row as well as column range\n",
    "\n",
    "df.iloc[[0, 2, 4], [0, 2, 4]] # Select particular rows and columns"
   ]
  },
  {
   "cell_type": "markdown",
   "metadata": {
    "heading_collapsed": true,
    "hidden": true
   },
   "source": [
    "### Filtering or Boolean Indexing\n",
    "\n",
    "---\n",
    "\n",
    "Moreover, we can perform row and column selection based on boolean indexing. This is more like to select rows or columns which satisfy pre-defined condition(s)."
   ]
  },
  {
   "cell_type": "markdown",
   "metadata": {
    "hidden": true
   },
   "source": [
    "Boolean indexing means to use boolean series, only True and/or False to select rows or columns."
   ]
  },
  {
   "cell_type": "markdown",
   "metadata": {
    "hidden": true
   },
   "source": [
    "#### Reference\n",
    "\n",
    "[Boolean indexing](https://pandas.pydata.org/pandas-docs/stable/user_guide/indexing.html#boolean-indexing)"
   ]
  },
  {
   "cell_type": "code",
   "execution_count": null,
   "metadata": {
    "ExecuteTime": {
     "end_time": "2020-12-16T04:44:46.937273Z",
     "start_time": "2020-12-16T04:44:46.913020Z"
    },
    "hidden": true
   },
   "outputs": [],
   "source": [
    "df.head()"
   ]
  },
  {
   "cell_type": "code",
   "execution_count": null,
   "metadata": {
    "ExecuteTime": {
     "end_time": "2020-12-16T04:44:21.147627Z",
     "start_time": "2020-12-16T04:44:21.117441Z"
    },
    "hidden": true
   },
   "outputs": [],
   "source": [
    "df[\"GRE Score\"] > 325 # Returns boolean Series. True when condition is True, otherwise False\n",
    "\n",
    "df[df[\"GRE Score\"] > 325] # Returns corresponding DataFrame. Where True\n",
    "\n",
    "df[~(df[\"GRE Score\"] > 325)] # Returns DataFrame where False"
   ]
  },
  {
   "cell_type": "markdown",
   "metadata": {
    "heading_collapsed": true,
    "hidden": true
   },
   "source": [
    "#### Chained Conditionals\n",
    "\n",
    "With the chained conditionals, we can filter DataFrame based on several conditions chained by using logic operators."
   ]
  },
  {
   "cell_type": "code",
   "execution_count": null,
   "metadata": {
    "ExecuteTime": {
     "end_time": "2020-12-16T04:54:00.395163Z",
     "start_time": "2020-12-16T04:54:00.378850Z"
    },
    "hidden": true
   },
   "outputs": [],
   "source": [
    "condition_one = (df[\"GRE Score\"] > 325)\n",
    "\n",
    "condition_two = (df[\"Research\"] == 1)\n",
    "\n",
    "\n",
    "df[condition_one & condition_two] # Only select rows where BOTH conditions satisfy\n",
    "\n",
    "\n",
    "df[condition_one | condition_two] # Only select rows where ONE of the condition satisfy"
   ]
  },
  {
   "cell_type": "markdown",
   "metadata": {
    "hidden": true
   },
   "source": [
    "There is a possibility to use `loc` with conditions to perform DataFrame filtering."
   ]
  },
  {
   "cell_type": "code",
   "execution_count": null,
   "metadata": {
    "ExecuteTime": {
     "end_time": "2020-12-16T04:59:29.188961Z",
     "start_time": "2020-12-16T04:59:29.176109Z"
    },
    "hidden": true
   },
   "outputs": [],
   "source": [
    "df.loc[condition_one & condition_two]"
   ]
  },
  {
   "cell_type": "markdown",
   "metadata": {
    "hidden": true
   },
   "source": [
    "Additionally, Pandas has `query()` method to perform querying the columns of a DataFrame with a boolean expression. Compared to other indexing and selection techniques, `query()` method only takes conditions specified as a string."
   ]
  },
  {
   "cell_type": "code",
   "execution_count": null,
   "metadata": {
    "ExecuteTime": {
     "end_time": "2020-12-16T05:19:20.108893Z",
     "start_time": "2020-12-16T05:19:20.093524Z"
    },
    "hidden": true,
    "scrolled": false
   },
   "outputs": [],
   "source": [
    "df.query(\"SOP > LOR\") # Select rows where \"SOP\" is more than \"LOR\"\n",
    "\n",
    "\n",
    "df.query(\"(SOP > LOR) | (CGPA > 9)\") # Combine conditionals with OR"
   ]
  },
  {
   "cell_type": "markdown",
   "metadata": {
    "heading_collapsed": true
   },
   "source": [
    "## Re(Set)-index, Dropping Entries, Axis"
   ]
  },
  {
   "cell_type": "code",
   "execution_count": null,
   "metadata": {
    "ExecuteTime": {
     "end_time": "2020-12-17T04:20:44.068223Z",
     "start_time": "2020-12-17T04:20:44.063122Z"
    },
    "hidden": true
   },
   "outputs": [],
   "source": [
    "test = pd.DataFrame({\"a\": [1, 2, 3], \"b\": [4, 5, 6], \"c\": [7, 8, 9], \"d\": [\"x\", \"y\", \"z\"]})"
   ]
  },
  {
   "cell_type": "markdown",
   "metadata": {
    "heading_collapsed": true,
    "hidden": true
   },
   "source": [
    "### Re-index\n",
    "\n",
    "---\n",
    "\n",
    "`reindex()` method unable us to introduce new index object outside the DataFrame. It changes the order of indexes without changing the values of the row associated to each index."
   ]
  },
  {
   "cell_type": "markdown",
   "metadata": {
    "hidden": true
   },
   "source": [
    "#### Reference\n",
    "\n",
    "[Difference between df.reindex() and df.set_index() methods in pandas](https://stackoverflow.com/questions/50741330/difference-between-df-reindex-and-df-set-index-methods-in-pandas)"
   ]
  },
  {
   "cell_type": "code",
   "execution_count": null,
   "metadata": {
    "ExecuteTime": {
     "end_time": "2020-12-16T17:57:49.907064Z",
     "start_time": "2020-12-16T17:57:49.889697Z"
    },
    "hidden": true
   },
   "outputs": [],
   "source": [
    "test"
   ]
  },
  {
   "cell_type": "code",
   "execution_count": null,
   "metadata": {
    "ExecuteTime": {
     "end_time": "2020-12-16T17:57:50.771799Z",
     "start_time": "2020-12-16T17:57:50.762290Z"
    },
    "hidden": true
   },
   "outputs": [],
   "source": [
    "test.reindex([1, 2, 3], axis=0) # Reindex rows"
   ]
  },
  {
   "cell_type": "code",
   "execution_count": null,
   "metadata": {
    "ExecuteTime": {
     "end_time": "2020-12-16T17:57:58.871131Z",
     "start_time": "2020-12-16T17:57:58.861305Z"
    },
    "hidden": true
   },
   "outputs": [],
   "source": [
    "test.reindex([\"b\", \"c\", \"a\", \"d\"], axis=1) # Reindex columns"
   ]
  },
  {
   "cell_type": "markdown",
   "metadata": {
    "heading_collapsed": true,
    "hidden": true
   },
   "source": [
    "### Set index\n",
    "\n",
    "---\n",
    "\n",
    "`set_index()` method takes a list of columns and promotes those columns to an index. `set_index` will change the indexes with the values of a column, without touching the order of the other values in the DataFrame"
   ]
  },
  {
   "cell_type": "code",
   "execution_count": null,
   "metadata": {
    "ExecuteTime": {
     "end_time": "2020-12-16T17:58:00.695466Z",
     "start_time": "2020-12-16T17:58:00.689975Z"
    },
    "hidden": true
   },
   "outputs": [],
   "source": [
    "test"
   ]
  },
  {
   "cell_type": "code",
   "execution_count": null,
   "metadata": {
    "ExecuteTime": {
     "end_time": "2020-12-16T17:58:02.942188Z",
     "start_time": "2020-12-16T17:58:02.935385Z"
    },
    "hidden": true
   },
   "outputs": [],
   "source": [
    "test.set_index(\"a\") # Changed the index but values"
   ]
  },
  {
   "cell_type": "code",
   "execution_count": null,
   "metadata": {
    "ExecuteTime": {
     "end_time": "2020-12-16T17:58:06.249154Z",
     "start_time": "2020-12-16T17:58:06.241653Z"
    },
    "hidden": true
   },
   "outputs": [],
   "source": [
    "test.set_index([\"a\", \"b\"]) # Set multiple columns as index"
   ]
  },
  {
   "cell_type": "markdown",
   "metadata": {
    "heading_collapsed": true,
    "hidden": true
   },
   "source": [
    "### Reset index\n",
    "\n",
    "---\n",
    "\n",
    "We can remove existing index from the DataFrame and keep it as a new column or completely discard it."
   ]
  },
  {
   "cell_type": "code",
   "execution_count": null,
   "metadata": {
    "ExecuteTime": {
     "end_time": "2020-12-16T17:58:08.983950Z",
     "start_time": "2020-12-16T17:58:08.975934Z"
    },
    "hidden": true
   },
   "outputs": [],
   "source": [
    "test"
   ]
  },
  {
   "cell_type": "code",
   "execution_count": null,
   "metadata": {
    "ExecuteTime": {
     "end_time": "2020-12-16T17:58:34.188078Z",
     "start_time": "2020-12-16T17:58:34.181302Z"
    },
    "hidden": true
   },
   "outputs": [],
   "source": [
    "test = test.set_index(\"d\")\n",
    "\n",
    "test"
   ]
  },
  {
   "cell_type": "code",
   "execution_count": null,
   "metadata": {
    "ExecuteTime": {
     "end_time": "2020-12-16T17:58:54.693860Z",
     "start_time": "2020-12-16T17:58:54.684853Z"
    },
    "hidden": true
   },
   "outputs": [],
   "source": [
    "test.reset_index(drop=False) # Reset index and keep it as a column"
   ]
  },
  {
   "cell_type": "code",
   "execution_count": null,
   "metadata": {
    "ExecuteTime": {
     "end_time": "2020-12-16T17:59:24.919667Z",
     "start_time": "2020-12-16T17:59:24.906353Z"
    },
    "hidden": true
   },
   "outputs": [],
   "source": [
    "test.reset_index(drop=True) # Reset index and discard it"
   ]
  },
  {
   "cell_type": "markdown",
   "metadata": {
    "heading_collapsed": true,
    "hidden": true
   },
   "source": [
    "### Dropping Entries\n",
    "\n",
    "---\n",
    "\n",
    "We can drop entries from rows and/or columns by specifying its label."
   ]
  },
  {
   "cell_type": "code",
   "execution_count": null,
   "metadata": {
    "ExecuteTime": {
     "end_time": "2020-12-16T05:30:06.361509Z",
     "start_time": "2020-12-16T05:30:06.345654Z"
    },
    "hidden": true
   },
   "outputs": [],
   "source": [
    "df.drop(0) # Drop one row\n",
    "\n",
    "df.drop([0, 1, 2]) # Drop three rows\n",
    "\n",
    "df.drop(df.index) # Drop all rows\n",
    "\n",
    "#----------------------------------------------\n",
    "\n",
    "df.drop(\"GRE Score\", axis=1) # Drop one column\n",
    "\n",
    "df.drop([\"GRE Score\", \"TOEFL Score\"], axis=1)"
   ]
  },
  {
   "cell_type": "markdown",
   "metadata": {
    "heading_collapsed": true,
    "hidden": true
   },
   "source": [
    "### Axis\n",
    "\n",
    "---\n",
    "\n",
    "As DataFrame have two dimensions and we can perform operations on each dimension. Hence, this requires to indicate on which axis do you want Pandas to perform operation. `axis=0` is x axis or `horizontal` axis and indicates rows. `axis=1` is y axis or `vertical` axis and indicates columns.\n",
    "\n",
    "However, we can have DataFrame with more than 2 dimensions. In this case Pandas will represent them as a multi-index DataFrames. With higher dimensional DataFrames it's even more necessary to indicate on which axis you want/need operation.\n",
    "\n",
    "Pandas has several methods and attributes which can operate on axis object itself. Now we just review two of them and later on we'll meet them again."
   ]
  },
  {
   "cell_type": "code",
   "execution_count": null,
   "metadata": {
    "ExecuteTime": {
     "end_time": "2020-12-16T05:50:38.834503Z",
     "start_time": "2020-12-16T05:50:38.831392Z"
    },
    "hidden": true
   },
   "outputs": [],
   "source": [
    "df.axes # Returns list of axis or labels along with horizontal and vertical axis"
   ]
  },
  {
   "cell_type": "markdown",
   "metadata": {
    "hidden": true
   },
   "source": [
    "Let make simple DataFrame to understand how the `set_axis()` method works."
   ]
  },
  {
   "cell_type": "code",
   "execution_count": null,
   "metadata": {
    "ExecuteTime": {
     "end_time": "2020-12-16T06:14:00.783726Z",
     "start_time": "2020-12-16T06:14:00.779218Z"
    },
    "hidden": true
   },
   "outputs": [],
   "source": [
    "test"
   ]
  },
  {
   "cell_type": "code",
   "execution_count": null,
   "metadata": {
    "ExecuteTime": {
     "end_time": "2020-12-16T06:14:10.195650Z",
     "start_time": "2020-12-16T06:14:10.189443Z"
    },
    "hidden": true
   },
   "outputs": [],
   "source": [
    "test.set_axis(['A', 'B', 'C'], axis=0) # Set new values for axis zero"
   ]
  },
  {
   "cell_type": "code",
   "execution_count": null,
   "metadata": {
    "ExecuteTime": {
     "end_time": "2020-12-16T06:14:12.902129Z",
     "start_time": "2020-12-16T06:14:12.896999Z"
    },
    "hidden": true
   },
   "outputs": [],
   "source": [
    "test.set_axis([\"X\", \"Y\"], axis=1) # Set new values for axis one"
   ]
  },
  {
   "cell_type": "markdown",
   "metadata": {
    "heading_collapsed": true
   },
   "source": [
    "## Sorting\n",
    "\n",
    "---\n",
    "\n",
    "Sorting is an important operation. We can either sort by index or by value. The latter means to sort by columns. Moreover, we can sort DataFrame by several columns and with different sorting order, ascending or descending."
   ]
  },
  {
   "cell_type": "code",
   "execution_count": null,
   "metadata": {
    "ExecuteTime": {
     "end_time": "2020-12-17T04:20:08.477523Z",
     "start_time": "2020-12-17T04:20:08.465024Z"
    },
    "hidden": true
   },
   "outputs": [],
   "source": [
    "series = pd.Series([3, 5, 7, 1, 9, 2], index=['d', 'a', 'b', 'c', 'g', 'f'])\n",
    "\n",
    "\n",
    "series"
   ]
  },
  {
   "cell_type": "code",
   "execution_count": null,
   "metadata": {
    "ExecuteTime": {
     "end_time": "2020-12-16T18:25:01.888180Z",
     "start_time": "2020-12-16T18:25:01.884000Z"
    },
    "hidden": true
   },
   "outputs": [],
   "source": [
    "series.sort_index(ascending=True) # Sort by index in ascending order\n",
    "\n",
    "\n",
    "series.sort_index(ascending=False) # Sort by index in descending order"
   ]
  },
  {
   "cell_type": "code",
   "execution_count": null,
   "metadata": {
    "ExecuteTime": {
     "end_time": "2020-12-16T18:26:13.296158Z",
     "start_time": "2020-12-16T18:26:13.281665Z"
    },
    "hidden": true
   },
   "outputs": [],
   "source": [
    "series.sort_values(ascending=True) # Sort by value in ascending order\n",
    "\n",
    "series.sort_values(ascending=False) # Sort by value in descending order"
   ]
  },
  {
   "cell_type": "markdown",
   "metadata": {
    "hidden": true
   },
   "source": [
    "We can sort DataFrame with applying the same logic."
   ]
  },
  {
   "cell_type": "code",
   "execution_count": null,
   "metadata": {
    "ExecuteTime": {
     "end_time": "2020-12-16T18:27:13.449038Z",
     "start_time": "2020-12-16T18:27:13.440378Z"
    },
    "hidden": true
   },
   "outputs": [],
   "source": [
    "df.head()"
   ]
  },
  {
   "cell_type": "code",
   "execution_count": null,
   "metadata": {
    "ExecuteTime": {
     "end_time": "2020-12-16T18:28:06.917796Z",
     "start_time": "2020-12-16T18:28:06.898646Z"
    },
    "hidden": true
   },
   "outputs": [],
   "source": [
    "df.sort_index(ascending=True) # Sort DataFrame by index in ascending order\n",
    "\n",
    "df.sort_index(ascending=False) # Sort DataFrame by index in descending order"
   ]
  },
  {
   "cell_type": "code",
   "execution_count": null,
   "metadata": {
    "ExecuteTime": {
     "end_time": "2020-12-16T18:29:43.676826Z",
     "start_time": "2020-12-16T18:29:43.649971Z"
    },
    "hidden": true
   },
   "outputs": [],
   "source": [
    "df.sort_values(\"CGPA\", ascending=True) # Sort by column in ascending order\n",
    "\n",
    "df.sort_values(\"CGPA\", ascending=False) # Sort by column in descending order"
   ]
  },
  {
   "cell_type": "code",
   "execution_count": null,
   "metadata": {
    "ExecuteTime": {
     "end_time": "2020-12-16T18:34:59.810894Z",
     "start_time": "2020-12-16T18:34:59.794219Z"
    },
    "hidden": true
   },
   "outputs": [],
   "source": [
    "df.sort_values([\"CGPA\", \"Research\"], ascending=[True, True]) # Sort by two columns. Both in ascending\n",
    "\n",
    "df.sort_values([\"CGPA\", \"Research\"], ascending=[True, False]) # Sort by two columns. AScending and descending\n",
    "\n",
    "df.sort_values([\"CGPA\", \"Research\"], ascending=True) # Same as the first one"
   ]
  },
  {
   "cell_type": "markdown",
   "metadata": {
    "heading_collapsed": true
   },
   "source": [
    "## Column Rename, Reorder, Insertion, Deletion\n",
    "\n",
    "---\n",
    "\n",
    "DataFrame is dynamic, meaning that we can add and remove columns, as well as reorder or rename them."
   ]
  },
  {
   "cell_type": "markdown",
   "metadata": {
    "hidden": true
   },
   "source": [
    "#### Reference\n",
    "\n",
    "[DataFrame.rename](https://pandas.pydata.org/pandas-docs/stable/reference/api/pandas.DataFrame.rename.html)"
   ]
  },
  {
   "cell_type": "markdown",
   "metadata": {
    "heading_collapsed": true,
    "hidden": true
   },
   "source": [
    "### Rename Columns\n",
    "\n",
    "---\n",
    "\n",
    "Rename existing columns, or set new names for columns."
   ]
  },
  {
   "cell_type": "code",
   "execution_count": null,
   "metadata": {
    "ExecuteTime": {
     "end_time": "2020-12-16T18:36:15.859188Z",
     "start_time": "2020-12-16T18:36:15.848396Z"
    },
    "hidden": true
   },
   "outputs": [],
   "source": [
    "df.head()"
   ]
  },
  {
   "cell_type": "code",
   "execution_count": null,
   "metadata": {
    "ExecuteTime": {
     "end_time": "2020-12-16T18:42:42.743099Z",
     "start_time": "2020-12-16T18:42:42.729765Z"
    },
    "hidden": true
   },
   "outputs": [],
   "source": [
    "# We have to indicate mapper. Which column we want to rename and new name of it\n",
    "\n",
    "df.rename({\"GRE Score\": \"GRE\", \"TOEFL Score\": \"TOEFL\"}, axis=1)"
   ]
  },
  {
   "cell_type": "markdown",
   "metadata": {
    "hidden": true
   },
   "source": [
    "We can use `set_axis` method to rename columns. However, `set_axis` method requires to give the same number of new column names as original DataFrame have."
   ]
  },
  {
   "cell_type": "code",
   "execution_count": null,
   "metadata": {
    "ExecuteTime": {
     "end_time": "2020-12-16T18:49:17.988999Z",
     "start_time": "2020-12-16T18:49:17.973804Z"
    },
    "hidden": true,
    "scrolled": false
   },
   "outputs": [],
   "source": [
    "df.set_axis([\"a\", \"b\", \"c\", \"d\", \"e\", \"f\", \"g\", \"h\", \"i\"], axis=1)"
   ]
  },
  {
   "cell_type": "markdown",
   "metadata": {
    "heading_collapsed": true,
    "hidden": true
   },
   "source": [
    "### Reorder Columns\n",
    "\n",
    "---\n",
    "\n",
    "Sometimes we may need to just re-order the columns. There are a few ways to do it."
   ]
  },
  {
   "cell_type": "code",
   "execution_count": null,
   "metadata": {
    "ExecuteTime": {
     "end_time": "2020-12-16T18:53:17.020907Z",
     "start_time": "2020-12-16T18:53:17.005855Z"
    },
    "hidden": true
   },
   "outputs": [],
   "source": [
    "test"
   ]
  },
  {
   "cell_type": "code",
   "execution_count": null,
   "metadata": {
    "ExecuteTime": {
     "end_time": "2020-12-16T18:58:29.415373Z",
     "start_time": "2020-12-16T18:58:29.408814Z"
    },
    "hidden": true
   },
   "outputs": [],
   "source": [
    "new_columns = [\"c\", \"a\", \"d\", \"b\"]\n",
    "\n",
    "test[new_columns] # Reorder columns by changing column names and then perform selection"
   ]
  },
  {
   "cell_type": "code",
   "execution_count": null,
   "metadata": {
    "ExecuteTime": {
     "end_time": "2020-12-16T18:59:11.181194Z",
     "start_time": "2020-12-16T18:59:11.175129Z"
    },
    "hidden": true
   },
   "outputs": [],
   "source": [
    "test.reindex(new_columns, axis=1) # Change column order by reindexing"
   ]
  },
  {
   "cell_type": "markdown",
   "metadata": {
    "heading_collapsed": true,
    "hidden": true
   },
   "source": [
    "### Insert new columns\n",
    "\n",
    "---\n",
    "\n",
    "We can add new columns to DataFrame at either end"
   ]
  },
  {
   "cell_type": "code",
   "execution_count": null,
   "metadata": {
    "ExecuteTime": {
     "end_time": "2020-12-17T04:38:28.962499Z",
     "start_time": "2020-12-17T04:38:28.954997Z"
    },
    "hidden": true
   },
   "outputs": [],
   "source": [
    "test"
   ]
  },
  {
   "cell_type": "code",
   "execution_count": null,
   "metadata": {
    "ExecuteTime": {
     "end_time": "2020-12-17T04:50:56.925762Z",
     "start_time": "2020-12-17T04:50:56.916472Z"
    },
    "hidden": true
   },
   "outputs": [],
   "source": [
    "test[\"E\"] = \"\"  # Add an empty column\n",
    "\n",
    "test[\"F\"] = np.nan # Add new column with none values\n",
    "\n",
    "test[\"G\"] = [10, 11, 12] # Add new values\n",
    "\n",
    "test"
   ]
  },
  {
   "cell_type": "markdown",
   "metadata": {
    "hidden": true
   },
   "source": [
    "The above techniques can add new column only at the end of the DataFrame. If we want to add new column at specified position, we can use `insert()` method. Furthermore, there is an `assign()` method which can assign new columns to a DataFrame. The `assign()` method, compared to `insert()` method, which is inplace method, returns new DataFrame with new columns assigned along with old columns."
   ]
  },
  {
   "cell_type": "code",
   "execution_count": null,
   "metadata": {
    "ExecuteTime": {
     "end_time": "2020-12-17T05:03:13.353956Z",
     "start_time": "2020-12-17T05:03:13.345887Z"
    },
    "hidden": true
   },
   "outputs": [],
   "source": [
    "test.insert(loc=0, column=\"H\", value=test[\"b\"] ** 2) # Inser new calculated column at the first position\n",
    "\n",
    "test"
   ]
  },
  {
   "cell_type": "code",
   "execution_count": null,
   "metadata": {
    "ExecuteTime": {
     "end_time": "2020-12-17T05:10:37.285842Z",
     "start_time": "2020-12-17T05:10:37.277329Z"
    },
    "hidden": true
   },
   "outputs": [],
   "source": [
    "test = test.assign(I=test[\"b\"]+test[\"c\"]) # Assign new column\n",
    "\n",
    "\n",
    "test"
   ]
  },
  {
   "cell_type": "markdown",
   "metadata": {
    "heading_collapsed": true,
    "hidden": true
   },
   "source": [
    "### Remove columns\n",
    "\n",
    "---\n",
    "\n",
    "We saw how to drop values along the horizontal and vertical axis in above sections. Removing column is the same."
   ]
  },
  {
   "cell_type": "code",
   "execution_count": null,
   "metadata": {
    "ExecuteTime": {
     "end_time": "2020-12-17T05:18:50.026400Z",
     "start_time": "2020-12-17T05:18:50.019253Z"
    },
    "hidden": true
   },
   "outputs": [],
   "source": [
    "test"
   ]
  },
  {
   "cell_type": "code",
   "execution_count": null,
   "metadata": {
    "ExecuteTime": {
     "end_time": "2020-12-17T05:19:50.156334Z",
     "start_time": "2020-12-17T05:19:50.146783Z"
    },
    "hidden": true
   },
   "outputs": [],
   "source": [
    "test.drop(\"H\", axis=1) # Remove one column\n",
    "\n",
    "test.drop([\"H\", \"I\"], axis=1) # Remove two or more columns"
   ]
  },
  {
   "cell_type": "markdown",
   "metadata": {
    "heading_collapsed": true
   },
   "source": [
    "## Arithmetic Operations\n",
    "\n",
    "---\n",
    "\n",
    "We can perform arithmetic operations along any axis. These operations are quite easy. However they can be a part of complex chained expression. These operations have alternative methods, as well. Actually, we only perform these simple arithmetic operations on Pandas Series and then insert the result into Pandas DataFrame."
   ]
  },
  {
   "cell_type": "code",
   "execution_count": null,
   "metadata": {
    "ExecuteTime": {
     "end_time": "2020-12-17T05:22:08.334352Z",
     "start_time": "2020-12-17T05:22:08.331172Z"
    },
    "hidden": true
   },
   "outputs": [],
   "source": [
    "series"
   ]
  },
  {
   "cell_type": "code",
   "execution_count": null,
   "metadata": {
    "ExecuteTime": {
     "end_time": "2020-12-17T05:23:38.582706Z",
     "start_time": "2020-12-17T05:23:38.570926Z"
    },
    "hidden": true
   },
   "outputs": [],
   "source": [
    "series + 10 # Add constant value to a series\n",
    "\n",
    "series * 10 # Multiply series by a constant value\n",
    "\n",
    "series + pd.Series([1, 2, 3, 4, 5, 6], index=series.index) # Add new Series"
   ]
  },
  {
   "cell_type": "markdown",
   "metadata": {
    "hidden": true
   },
   "source": [
    "Arithmetic operations on DataFrames"
   ]
  },
  {
   "cell_type": "code",
   "execution_count": null,
   "metadata": {
    "ExecuteTime": {
     "end_time": "2020-12-17T05:26:19.270576Z",
     "start_time": "2020-12-17T05:26:19.253257Z"
    },
    "hidden": true
   },
   "outputs": [],
   "source": [
    "test"
   ]
  },
  {
   "cell_type": "code",
   "execution_count": null,
   "metadata": {
    "ExecuteTime": {
     "end_time": "2020-12-17T05:27:11.325019Z",
     "start_time": "2020-12-17T05:27:11.291265Z"
    },
    "hidden": true,
    "scrolled": true
   },
   "outputs": [],
   "source": [
    "test + 5 # Cannot add integer while having string type column in DataFrame"
   ]
  },
  {
   "cell_type": "markdown",
   "metadata": {
    "heading_collapsed": true
   },
   "source": [
    "## Unique Values and Value Counts\n",
    "\n",
    "---\n",
    "\n",
    "As the header suggests, we can count the number of unique values in a column, as well as count how many times a certain value occur."
   ]
  },
  {
   "cell_type": "markdown",
   "metadata": {
    "heading_collapsed": true,
    "hidden": true
   },
   "source": [
    "### Unique Values\n",
    "\n",
    "---\n",
    "\n",
    "We can find the number of unique values in a column by using `unique()` method."
   ]
  },
  {
   "cell_type": "code",
   "execution_count": null,
   "metadata": {
    "ExecuteTime": {
     "end_time": "2020-12-17T05:50:50.257587Z",
     "start_time": "2020-12-17T05:50:50.251385Z"
    },
    "hidden": true
   },
   "outputs": [],
   "source": [
    "series"
   ]
  },
  {
   "cell_type": "code",
   "execution_count": null,
   "metadata": {
    "ExecuteTime": {
     "end_time": "2020-12-17T05:52:16.820416Z",
     "start_time": "2020-12-17T05:52:16.817154Z"
    },
    "hidden": true
   },
   "outputs": [],
   "source": [
    "series.unique() # Returns list of only unique values\n",
    "\n",
    "series.index.unique() # Finds unique values in a Series index. Returns index object without duplicates."
   ]
  },
  {
   "cell_type": "code",
   "execution_count": null,
   "metadata": {
    "ExecuteTime": {
     "end_time": "2020-12-17T05:52:23.458703Z",
     "start_time": "2020-12-17T05:52:23.449411Z"
    },
    "hidden": true
   },
   "outputs": [],
   "source": [
    "df.head()"
   ]
  },
  {
   "cell_type": "code",
   "execution_count": null,
   "metadata": {
    "ExecuteTime": {
     "end_time": "2020-12-17T05:58:34.028159Z",
     "start_time": "2020-12-17T05:58:34.024907Z"
    },
    "hidden": true
   },
   "outputs": [],
   "source": [
    "df[\"Research\"].unique() # Research column has only two unique values\n",
    "\n",
    "df[\"University Rating\"].unique() # Unique values for University Rating"
   ]
  },
  {
   "cell_type": "markdown",
   "metadata": {
    "heading_collapsed": true,
    "hidden": true
   },
   "source": [
    "### Value Counts\n",
    "\n",
    "---\n",
    "\n",
    "Value counts represent the operation when we want to count the number of unique values in a column or Pandas Series. In other words, after values count, we will have Pandas series. The index will be the unique value from  a particular column and actual data for a new series will be the count of these unique values. In shorts, calculates value frequencies"
   ]
  },
  {
   "cell_type": "code",
   "execution_count": null,
   "metadata": {
    "ExecuteTime": {
     "end_time": "2020-12-17T06:15:01.493113Z",
     "start_time": "2020-12-17T06:15:01.482055Z"
    },
    "hidden": true
   },
   "outputs": [],
   "source": [
    "df.head()"
   ]
  },
  {
   "cell_type": "code",
   "execution_count": null,
   "metadata": {
    "ExecuteTime": {
     "end_time": "2020-12-17T06:15:04.216294Z",
     "start_time": "2020-12-17T06:15:04.203873Z"
    },
    "hidden": true
   },
   "outputs": [],
   "source": [
    "df[\"Research\"].value_counts() # We have 219 ones and 181 zeros"
   ]
  },
  {
   "cell_type": "code",
   "execution_count": null,
   "metadata": {
    "ExecuteTime": {
     "end_time": "2020-12-17T06:21:09.559044Z",
     "start_time": "2020-12-17T06:21:09.553522Z"
    },
    "hidden": true
   },
   "outputs": [],
   "source": [
    "# Requires Pandas version 1.1.0\n",
    "\n",
    "\n",
    "df.value_counts(subset=[\"Research\", \"University Rating\"]) # Value counts for two or more columns.\n",
    "                                                          # Returns multi-index DataFrame"
   ]
  },
  {
   "cell_type": "markdown",
   "metadata": {
    "heading_collapsed": true
   },
   "source": [
    "## Statistics with DataFrame\n",
    "\n",
    "---\n",
    "\n",
    "Pandas is equipped with various methods for performing statistical operations on a Series or DataFrame. Also, note that these operations can be performed on either axis. On rows or columns."
   ]
  },
  {
   "cell_type": "markdown",
   "metadata": {
    "hidden": true
   },
   "source": [
    "#### Reference\n",
    "\n",
    "[Statistical functions](https://pandas.pydata.org/pandas-docs/stable/user_guide/computation.html)"
   ]
  },
  {
   "cell_type": "code",
   "execution_count": null,
   "metadata": {
    "ExecuteTime": {
     "end_time": "2020-12-19T08:46:07.858717Z",
     "start_time": "2020-12-19T08:46:07.847887Z"
    },
    "hidden": true
   },
   "outputs": [],
   "source": [
    "df.head()"
   ]
  },
  {
   "cell_type": "code",
   "execution_count": null,
   "metadata": {
    "ExecuteTime": {
     "end_time": "2020-12-19T08:51:51.703651Z",
     "start_time": "2020-12-19T08:51:51.679885Z"
    },
    "hidden": true
   },
   "outputs": [],
   "source": [
    "df.iloc[:,1:].describe().round(2) # Summary statistics"
   ]
  },
  {
   "cell_type": "markdown",
   "metadata": {
    "hidden": true
   },
   "source": [
    "We can separately calculate these statistics for each column by calling corresponding methods on columns."
   ]
  },
  {
   "cell_type": "code",
   "execution_count": null,
   "metadata": {
    "ExecuteTime": {
     "end_time": "2020-12-19T09:00:45.439759Z",
     "start_time": "2020-12-19T09:00:45.429455Z"
    },
    "hidden": true
   },
   "outputs": [],
   "source": [
    "df.sum(axis=0) # Sum across columns\n",
    "\n",
    "df.sum(axis=1) # Sum across rows\n",
    "\n",
    "#---------------------------------\n",
    "\n",
    "df.mean(axis=0) # Average across columns\n",
    "\n",
    "df.mean(axis=1) # Average across rows\n",
    "\n",
    "#----------------------------------\n",
    "\n",
    "df.min() # Minimum across columns\n",
    "\n",
    "df.max() # Maximum across columns"
   ]
  },
  {
   "cell_type": "markdown",
   "metadata": {
    "hidden": true
   },
   "source": [
    "What if we want to know where is the minimum and maximum value occur? In other words, what's the index of the minimum and maximum value? Pandas have methods for that."
   ]
  },
  {
   "cell_type": "code",
   "execution_count": null,
   "metadata": {
    "ExecuteTime": {
     "end_time": "2020-12-19T09:03:03.251481Z",
     "start_time": "2020-12-19T09:03:03.240038Z"
    },
    "hidden": true
   },
   "outputs": [],
   "source": [
    "df.idxmin() # Gives index of minimum values for each column\n",
    "\n",
    "df.idxmax() # Gives index of maximum values for each column"
   ]
  },
  {
   "cell_type": "markdown",
   "metadata": {
    "hidden": true
   },
   "source": [
    "#### There are different methods, which help to calculate various statistics on DataFrame or Series.\n",
    "\n",
    "![alt text](images/statistics.png \"Title\")"
   ]
  },
  {
   "cell_type": "markdown",
   "metadata": {
    "hidden": true
   },
   "source": [
    "### Covariance and Correlation\n",
    "\n",
    "---\n",
    "\n",
    "These statistics compared to above-mentioned ones requires pairs of values or at least two Series to give meaningful results. Let use our DataFrame to calculate covariance and correlation between some columns."
   ]
  },
  {
   "cell_type": "markdown",
   "metadata": {
    "heading_collapsed": true,
    "hidden": true
   },
   "source": [
    "### Covariance"
   ]
  },
  {
   "cell_type": "code",
   "execution_count": null,
   "metadata": {
    "ExecuteTime": {
     "end_time": "2020-12-19T09:20:40.330161Z",
     "start_time": "2020-12-19T09:20:40.318393Z"
    },
    "hidden": true
   },
   "outputs": [],
   "source": [
    "covariance = df.iloc[:, 1:].cov() # Compute pairwise covariances among the series in the DataFrame\n",
    "\n",
    "covariance"
   ]
  },
  {
   "cell_type": "markdown",
   "metadata": {
    "hidden": true
   },
   "source": [
    "We see that above and below of the main diagonal we have the same values. This was expected considering `Covariance` nature. Let try and make it upper triangular matrix for better representational purposes."
   ]
  },
  {
   "cell_type": "code",
   "execution_count": null,
   "metadata": {
    "ExecuteTime": {
     "end_time": "2020-12-19T09:20:49.719473Z",
     "start_time": "2020-12-19T09:20:49.693527Z"
    },
    "hidden": true
   },
   "outputs": [],
   "source": [
    "covariance.where(np.triu(np.ones(covariance.shape)).astype(np.bool)).fillna(\"\")"
   ]
  },
  {
   "cell_type": "markdown",
   "metadata": {
    "heading_collapsed": true,
    "hidden": true
   },
   "source": [
    "### Correlation"
   ]
  },
  {
   "cell_type": "code",
   "execution_count": null,
   "metadata": {
    "ExecuteTime": {
     "end_time": "2020-12-19T09:23:29.645465Z",
     "start_time": "2020-12-19T09:23:29.635392Z"
    },
    "hidden": true
   },
   "outputs": [],
   "source": [
    "correlation = df.iloc[:, 1:].corr() # Compute pairwise correlation among the series in the DataFrame\n",
    "\n",
    "correlation"
   ]
  },
  {
   "cell_type": "markdown",
   "metadata": {
    "hidden": true
   },
   "source": [
    "We have the same situation as in case of covariance, or we see that above and below main diagonal there are the same elements. **Correlation is scaled form of the Covariance**, hence this result was expected too."
   ]
  },
  {
   "cell_type": "code",
   "execution_count": null,
   "metadata": {
    "ExecuteTime": {
     "end_time": "2020-12-19T09:25:56.330274Z",
     "start_time": "2020-12-19T09:25:56.318688Z"
    },
    "hidden": true
   },
   "outputs": [],
   "source": [
    "correlation.where(np.triu(np.ones(correlation.shape)).astype(np.bool)).fillna(\"\")"
   ]
  },
  {
   "cell_type": "markdown",
   "metadata": {
    "hidden": true
   },
   "source": [
    "> **Covariance is a measure of correlation and it indicates direction of linear relationship between two variables.**\n",
    "\n",
    "\n",
    "> **Correlation is scaled Covariance or the values are standardized. Correlation measures both the strength and direction of the linear relationship between two variables**"
   ]
  },
  {
   "cell_type": "markdown",
   "metadata": {},
   "source": [
    "# Summary\n",
    "\n",
    "---\n",
    "\n",
    "In this class we've covered quite broad range of Pandas functionality. From the simplest operation of data creation or reading to performing statistical operations on DataFrames. In the next classes we dig deeper Pandas capabilities."
   ]
  }
 ],
 "metadata": {
  "kernelspec": {
   "display_name": "('learning': conda)",
   "language": "python",
   "name": "python37764bitlearningcondadead39b8b5cb441aa05edba06d4d913f"
  },
  "language_info": {
   "codemirror_mode": {
    "name": "ipython",
    "version": 3
   },
   "file_extension": ".py",
   "mimetype": "text/x-python",
   "name": "python",
   "nbconvert_exporter": "python",
   "pygments_lexer": "ipython3",
   "version": "3.7.7"
  },
  "varInspector": {
   "cols": {
    "lenName": 16,
    "lenType": 16,
    "lenVar": 40
   },
   "kernels_config": {
    "python": {
     "delete_cmd_postfix": "",
     "delete_cmd_prefix": "del ",
     "library": "var_list.py",
     "varRefreshCmd": "print(var_dic_list())"
    },
    "r": {
     "delete_cmd_postfix": ") ",
     "delete_cmd_prefix": "rm(",
     "library": "var_list.r",
     "varRefreshCmd": "cat(var_dic_list()) "
    }
   },
   "position": {
    "height": "144px",
    "left": "1548px",
    "right": "20px",
    "top": "121px",
    "width": "350px"
   },
   "types_to_exclude": [
    "module",
    "function",
    "builtin_function_or_method",
    "instance",
    "_Feature"
   ],
   "window_display": false
  }
 },
 "nbformat": 4,
 "nbformat_minor": 2
}
