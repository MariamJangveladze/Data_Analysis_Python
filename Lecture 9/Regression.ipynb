{
 "cells": [
  {
   "cell_type": "markdown",
   "metadata": {
    "heading_collapsed": true
   },
   "source": [
    "# Regression\n",
    "\n",
    "---\n",
    "\n",
    "**Numpy** or **Numerical Python** is the fundamental package for numeric computing with Python. It provides powerful ways to create,\n",
    "store, and/or manipulate data, which makes it able to seamlessly and speedily integrate with a wide variety\n",
    "of databases. Numpy is the foundation of several libraries such as `Pandas`, `SciPy`, `SymPy`\n",
    "\n",
    "\n",
    "In this lecture, we will talk about creating array with certain data types, manipulating array, selecting\n",
    "elements from arrays, as well as universal functions of NumPy and how to use its statistical and mathematical capabilities. Moreover, we see how to load dataset into array. Such functions are useful for manipulating data and\n",
    "understanding the functionalities of other common Python data packages.\n",
    "\n",
    "\n",
    "### Lecture outline\n",
    "\n",
    "---\n",
    "\n",
    "* Problem Statement\n",
    "\n",
    "\n",
    "* Data Description\n",
    "\n",
    "\n",
    "* EDA - Exploratory Data Analysis\n",
    "\n",
    "\n",
    "* Data Processing\n",
    "\n",
    "\n",
    "* Linear Regression\n",
    "\n",
    "\n",
    "* Decision Tree Regression\n",
    "\n",
    "\n",
    "* Random Forest Regression\n",
    "\n",
    "\n",
    "* Model Performance Assessment"
   ]
  },
  {
   "cell_type": "markdown",
   "metadata": {
    "hidden": true
   },
   "source": [
    "#### Reference\n",
    "\n",
    "\n",
    "[Medical Cost Personal Datasets](https://www.kaggle.com/mirichoi0218/insurance)\n",
    "\n",
    "\n",
    "[Ordinary Least Squares](https://www.statsmodels.org/stable/examples/notebooks/generated/ols.html)\n",
    "\n",
    "\n",
    "[sklearn - LinearRegression](https://scikit-learn.org/stable/modules/generated/sklearn.linear_model.LinearRegression.html)\n",
    "\n",
    "[sklearn - Decision Tree Regressor](https://scikit-learn.org/stable/modules/generated/sklearn.tree.DecisionTreeRegressor.html)\n",
    "\n",
    "\n",
    "[sklearn - Random Forest Regressor](https://scikit-learn.org/stable/modules/generated/sklearn.ensemble.RandomForestRegressor.html)"
   ]
  },
  {
   "cell_type": "code",
   "execution_count": null,
   "metadata": {
    "ExecuteTime": {
     "end_time": "2021-01-18T19:12:01.780315Z",
     "start_time": "2021-01-18T19:12:01.765706Z"
    },
    "hidden": true
   },
   "outputs": [],
   "source": [
    "# For data processing\n",
    "import pandas as pd\n",
    "import numpy as np\n",
    "\n",
    "# For data viz\n",
    "import matplotlib.pyplot as plt\n",
    "import seaborn as sns\n",
    "\n",
    "# For modeling\n",
    "from sklearn.linear_model import LinearRegression\n",
    "from sklearn.tree import DecisionTreeRegressor\n",
    "from sklearn.ensemble import RandomForestRegressor\n",
    "from sklearn.model_selection import train_test_split\n",
    "import statsmodels.api as sm\n",
    "\n",
    "# For model performance assessment\n",
    "from sklearn import metrics"
   ]
  },
  {
   "cell_type": "code",
   "execution_count": null,
   "metadata": {
    "ExecuteTime": {
     "end_time": "2021-01-18T15:33:56.512558Z",
     "start_time": "2021-01-18T15:33:56.510417Z"
    },
    "hidden": true
   },
   "outputs": [],
   "source": [
    "plt.style.use(\"seaborn\") # Set plotting style"
   ]
  },
  {
   "cell_type": "markdown",
   "metadata": {
    "heading_collapsed": true,
    "hidden": true
   },
   "source": [
    "## Problem Statement\n",
    "\n",
    "---\n",
    "\n",
    "To make their profit, insurance companies should collect higher premium than the amount paid to the insured person. Due to this, insurance companies invests a lot of time, effort, and money in creating models that accurately predicts health care costs and then correspondingly charge the insured person.\n",
    "\n",
    "\n",
    "Today, we build one of the simplest model to make a prediction. However, this simples model will give the best way to interpret the modeling results, compared to other \"black-box\" machine learning model results."
   ]
  },
  {
   "cell_type": "markdown",
   "metadata": {
    "heading_collapsed": true,
    "hidden": true
   },
   "source": [
    "## Data Description\n",
    "\n",
    "---\n",
    "\n",
    "Generally, many factors that affect how much we pay for health insurance are not within our control: diagnosis, type of clinic, city of residence, age and so on. We have no data on the diagnosis of patients. Nonetheless, it's good to have an understanding of what they are. Here are some factors that affect how much health insurance premiums cost for the American people. We will predict individual medical costs billed by health insurance.\n",
    "\n",
    "$$\n",
    "$$\n",
    "\n",
    "\n",
    "* **age**: Age of primary beneficiary\n",
    "\n",
    "\n",
    "* **sex**: Insurance contractor gender, female or male\n",
    "\n",
    "\n",
    "* **bmi**: Body Mass Index\n",
    "\n",
    "\n",
    "* **children**: Number of children covered by health insurance / Number of dependents\n",
    "\n",
    "\n",
    "* **smoker**: Smoking or not\n",
    "\n",
    "\n",
    "* **region**: The beneficiary's residential area in the US"
   ]
  },
  {
   "cell_type": "code",
   "execution_count": null,
   "metadata": {
    "ExecuteTime": {
     "end_time": "2021-01-18T15:34:00.733673Z",
     "start_time": "2021-01-18T15:34:00.711722Z"
    },
    "hidden": true
   },
   "outputs": [],
   "source": [
    "df = pd.read_csv(\"data/insurance.csv\")"
   ]
  },
  {
   "cell_type": "code",
   "execution_count": null,
   "metadata": {
    "ExecuteTime": {
     "end_time": "2021-01-18T15:34:01.004087Z",
     "start_time": "2021-01-18T15:34:00.985575Z"
    },
    "hidden": true
   },
   "outputs": [],
   "source": [
    "df.head()"
   ]
  },
  {
   "cell_type": "markdown",
   "metadata": {
    "heading_collapsed": true,
    "hidden": true
   },
   "source": [
    "## EDA - Exploratory Data Analysis\n",
    "\n",
    "---\n",
    "\n",
    "EDA helps us to have a better understanding of our data. In this step we try to extract as much information from our data as possible, such as to guess the data generation process and the distribution of the variables. By having this information we then be able to choose correct model and validate model assumptions. For example, if the data is not normally distributed then we cannot use models which assumed normal distribution in variables and hence we have to change our strategy."
   ]
  },
  {
   "cell_type": "code",
   "execution_count": null,
   "metadata": {
    "ExecuteTime": {
     "end_time": "2021-01-18T15:34:01.894771Z",
     "start_time": "2021-01-18T15:34:01.875897Z"
    },
    "hidden": true
   },
   "outputs": [],
   "source": [
    "df.describe()"
   ]
  },
  {
   "cell_type": "code",
   "execution_count": null,
   "metadata": {
    "ExecuteTime": {
     "end_time": "2021-01-18T15:34:02.307386Z",
     "start_time": "2021-01-18T15:34:02.298775Z"
    },
    "hidden": true
   },
   "outputs": [],
   "source": [
    "df.dtypes"
   ]
  },
  {
   "cell_type": "code",
   "execution_count": null,
   "metadata": {
    "ExecuteTime": {
     "end_time": "2021-01-18T15:34:02.794596Z",
     "start_time": "2021-01-18T15:34:02.784047Z"
    },
    "hidden": true
   },
   "outputs": [],
   "source": [
    "df.info()"
   ]
  },
  {
   "cell_type": "code",
   "execution_count": null,
   "metadata": {
    "ExecuteTime": {
     "end_time": "2021-01-18T15:34:03.174308Z",
     "start_time": "2021-01-18T15:34:03.165326Z"
    },
    "hidden": true
   },
   "outputs": [],
   "source": [
    "df.shape"
   ]
  },
  {
   "cell_type": "markdown",
   "metadata": {
    "heading_collapsed": true,
    "hidden": true
   },
   "source": [
    "### Checking Missing Values\n",
    "\n",
    "---\n",
    "\n",
    "We don't have missing values"
   ]
  },
  {
   "cell_type": "code",
   "execution_count": null,
   "metadata": {
    "ExecuteTime": {
     "end_time": "2021-01-18T15:34:03.948543Z",
     "start_time": "2021-01-18T15:34:03.943706Z"
    },
    "hidden": true
   },
   "outputs": [],
   "source": [
    "df.isnull().sum()"
   ]
  },
  {
   "cell_type": "markdown",
   "metadata": {
    "heading_collapsed": true,
    "hidden": true
   },
   "source": [
    "### Univariate Analysis\n",
    "\n",
    "---\n",
    "\n",
    "In this stage, we examine variables one-by-one. The best way is to plot the histogram if the variable is continuous or count/frequency plot for categorical variable."
   ]
  },
  {
   "cell_type": "markdown",
   "metadata": {
    "hidden": true
   },
   "source": [
    "`age` seems to be uniformly distributed"
   ]
  },
  {
   "cell_type": "code",
   "execution_count": null,
   "metadata": {
    "ExecuteTime": {
     "end_time": "2021-01-18T15:34:05.351836Z",
     "start_time": "2021-01-18T15:34:05.173359Z"
    },
    "hidden": true
   },
   "outputs": [],
   "source": [
    "plt.figure(figsize=(10, 8))\n",
    "\n",
    "sns.histplot(data=df, x=\"age\", bins=15);"
   ]
  },
  {
   "cell_type": "markdown",
   "metadata": {
    "hidden": true
   },
   "source": [
    "Histogram of `age` by `smoker` type"
   ]
  },
  {
   "cell_type": "code",
   "execution_count": null,
   "metadata": {
    "ExecuteTime": {
     "end_time": "2021-01-18T15:34:06.500337Z",
     "start_time": "2021-01-18T15:34:06.372290Z"
    },
    "hidden": true
   },
   "outputs": [],
   "source": [
    "plt.figure(figsize=(10, 8))\n",
    "\n",
    "sns.histplot(data=df, x=\"age\", bins=15, hue=\"smoker\", element=\"step\", palette=\"inferno\");"
   ]
  },
  {
   "cell_type": "markdown",
   "metadata": {
    "hidden": true
   },
   "source": [
    "Histogram of `age` by `sex`"
   ]
  },
  {
   "cell_type": "code",
   "execution_count": null,
   "metadata": {
    "ExecuteTime": {
     "end_time": "2021-01-18T15:34:07.714141Z",
     "start_time": "2021-01-18T15:34:07.597816Z"
    },
    "hidden": true
   },
   "outputs": [],
   "source": [
    "plt.figure(figsize=(10, 8))\n",
    "\n",
    "sns.histplot(data=df, x=\"age\", bins=15, hue=\"sex\", element=\"step\", palette=\"inferno\");"
   ]
  },
  {
   "cell_type": "markdown",
   "metadata": {
    "hidden": true
   },
   "source": [
    "`bmi` is normally distributed as expected!\n",
    "\n",
    "Something strange happens here. The average a=of `bmi` is 30. With a value equal to 30 starts obesity. Are obese people tend to spend more in heath care?"
   ]
  },
  {
   "cell_type": "code",
   "execution_count": null,
   "metadata": {
    "ExecuteTime": {
     "end_time": "2021-01-18T15:34:08.496755Z",
     "start_time": "2021-01-18T15:34:08.363413Z"
    },
    "hidden": true
   },
   "outputs": [],
   "source": [
    "plt.figure(figsize=(10, 8))\n",
    "\n",
    "sns.histplot(data=df, x=\"bmi\", bins=15);"
   ]
  },
  {
   "cell_type": "code",
   "execution_count": null,
   "metadata": {
    "ExecuteTime": {
     "end_time": "2021-01-18T15:34:08.880632Z",
     "start_time": "2021-01-18T15:34:08.735412Z"
    },
    "hidden": true
   },
   "outputs": [],
   "source": [
    "plt.figure(figsize=(10, 8))\n",
    "\n",
    "sns.histplot(data=df, x=\"bmi\", bins=15, hue=\"sex\", element=\"step\", palette=\"inferno\");"
   ]
  },
  {
   "cell_type": "markdown",
   "metadata": {
    "hidden": true
   },
   "source": [
    "This plot indicates that we have more non-smoker in the data then smokers"
   ]
  },
  {
   "cell_type": "code",
   "execution_count": null,
   "metadata": {
    "ExecuteTime": {
     "end_time": "2021-01-18T15:34:09.523493Z",
     "start_time": "2021-01-18T15:34:09.388540Z"
    },
    "hidden": true
   },
   "outputs": [],
   "source": [
    "plt.figure(figsize=(10, 8))\n",
    "\n",
    "sns.histplot(data=df, x=\"bmi\", bins=15, hue=\"smoker\", element=\"step\", palette=\"inferno\");"
   ]
  },
  {
   "cell_type": "code",
   "execution_count": null,
   "metadata": {
    "ExecuteTime": {
     "end_time": "2021-01-18T15:34:09.694447Z",
     "start_time": "2021-01-18T15:34:09.683142Z"
    },
    "hidden": true
   },
   "outputs": [],
   "source": [
    "df[\"smoker\"].value_counts() # This is the case"
   ]
  },
  {
   "cell_type": "markdown",
   "metadata": {
    "hidden": true
   },
   "source": [
    "The distribution of male and female are the same"
   ]
  },
  {
   "cell_type": "code",
   "execution_count": null,
   "metadata": {
    "ExecuteTime": {
     "end_time": "2021-01-18T15:34:10.593532Z",
     "start_time": "2021-01-18T15:34:10.513952Z"
    },
    "hidden": true
   },
   "outputs": [],
   "source": [
    "plt.figure(figsize=(10, 8))\n",
    "\n",
    "sns.countplot(data=df, x=\"sex\", palette=\"inferno\");"
   ]
  },
  {
   "cell_type": "markdown",
   "metadata": {
    "hidden": true
   },
   "source": [
    "The count plot of `sex` by `smoker`. Plot indicates that there are more male smokers."
   ]
  },
  {
   "cell_type": "code",
   "execution_count": null,
   "metadata": {
    "ExecuteTime": {
     "end_time": "2021-01-18T15:34:11.745614Z",
     "start_time": "2021-01-18T15:34:11.653362Z"
    },
    "hidden": true
   },
   "outputs": [],
   "source": [
    "plt.figure(figsize=(10, 8))\n",
    "\n",
    "sns.countplot(data=df, x=\"sex\", hue=\"smoker\", palette=\"inferno\");"
   ]
  },
  {
   "cell_type": "markdown",
   "metadata": {
    "hidden": true
   },
   "source": [
    "`smoker` by `region` indicates that in the southeast, there are relatively more smokers"
   ]
  },
  {
   "cell_type": "code",
   "execution_count": null,
   "metadata": {
    "ExecuteTime": {
     "end_time": "2021-01-18T15:34:12.781484Z",
     "start_time": "2021-01-18T15:34:12.634802Z"
    },
    "hidden": true
   },
   "outputs": [],
   "source": [
    "plt.figure(figsize=(10, 8))\n",
    "\n",
    "sns.countplot(data=df, x=\"region\", hue=\"smoker\", palette=\"inferno\");"
   ]
  },
  {
   "cell_type": "markdown",
   "metadata": {
    "hidden": true
   },
   "source": [
    "Histogram of the target variable - `charges`. The distribution of the target variable is right skewed. Later on, we apply log transformation to make it look more normal."
   ]
  },
  {
   "cell_type": "code",
   "execution_count": null,
   "metadata": {
    "ExecuteTime": {
     "end_time": "2021-01-18T15:34:13.931617Z",
     "start_time": "2021-01-18T15:34:13.792715Z"
    },
    "hidden": true
   },
   "outputs": [],
   "source": [
    "plt.figure(figsize=(10, 8))\n",
    "\n",
    "sns.histplot(data=df, x=\"charges\", bins=25, kde=True);"
   ]
  },
  {
   "cell_type": "markdown",
   "metadata": {
    "hidden": true
   },
   "source": [
    "We can hypothesize that `charges` are more for `smokers` than `non-smokers`.\n",
    "\n",
    "As we see, `charges` are higher for smokers, indeed."
   ]
  },
  {
   "cell_type": "code",
   "execution_count": null,
   "metadata": {
    "ExecuteTime": {
     "end_time": "2021-01-18T15:34:15.173991Z",
     "start_time": "2021-01-18T15:34:15.034887Z"
    },
    "hidden": true
   },
   "outputs": [],
   "source": [
    "plt.figure(figsize=(10, 8))\n",
    "\n",
    "sns.histplot(data=df, x=\"charges\", bins=25, kde=True, hue=\"smoker\", element=\"step\", palette=\"inferno\");"
   ]
  },
  {
   "cell_type": "markdown",
   "metadata": {
    "hidden": true
   },
   "source": [
    "Histogram of `charges` by `sex` does not exhibit much difference"
   ]
  },
  {
   "cell_type": "code",
   "execution_count": null,
   "metadata": {
    "ExecuteTime": {
     "end_time": "2021-01-18T15:34:16.463866Z",
     "start_time": "2021-01-18T15:34:16.322976Z"
    },
    "hidden": true
   },
   "outputs": [],
   "source": [
    "plt.figure(figsize=(10, 8))\n",
    "\n",
    "sns.histplot(data=df, x=\"charges\", bins=25, kde=True, hue=\"sex\", element=\"step\", palette=\"inferno\");"
   ]
  },
  {
   "cell_type": "markdown",
   "metadata": {
    "heading_collapsed": true,
    "hidden": true
   },
   "source": [
    "### Bivariate Analysis\n",
    "\n",
    "---\n",
    "\n",
    "In this stage, we analyze the pairs of variables, not single one."
   ]
  },
  {
   "cell_type": "markdown",
   "metadata": {
    "hidden": true
   },
   "source": [
    "The heatmap of the correlation shows that independent variables are not correlated to the target variable."
   ]
  },
  {
   "cell_type": "code",
   "execution_count": null,
   "metadata": {
    "ExecuteTime": {
     "end_time": "2021-01-18T15:34:18.169298Z",
     "start_time": "2021-01-18T15:34:18.035954Z"
    },
    "hidden": true
   },
   "outputs": [],
   "source": [
    "plt.figure(figsize=(8, 6))\n",
    "\n",
    "sns.heatmap(df.corr(), cmap = \"inferno\", annot=True);"
   ]
  },
  {
   "cell_type": "markdown",
   "metadata": {
    "hidden": true
   },
   "source": [
    "If we look at the left plot the `charges` the plot is right skewed. In the right plot we will apply natural logarithm and then the plot approximately tends to be normal."
   ]
  },
  {
   "cell_type": "code",
   "execution_count": null,
   "metadata": {
    "ExecuteTime": {
     "end_time": "2021-01-18T15:56:59.272826Z",
     "start_time": "2021-01-18T15:56:58.830013Z"
    },
    "hidden": true
   },
   "outputs": [],
   "source": [
    "f= plt.figure(figsize=(18,8))\n",
    "\n",
    "# For left plot\n",
    "ax=f.add_subplot(121)\n",
    "\n",
    "sns.histplot(df[\"charges\"], bins=50, color=\"red\", ax=ax, kde=True)\n",
    "ax.set_title(\"Distribution of insurance charges\")\n",
    "\n",
    "\n",
    "# For right plot\n",
    "ax=f.add_subplot(122)\n",
    "\n",
    "sns.histplot(np.log(df[\"charges\"]), bins=40, color=\"blue\", ax=ax, kde=True)\n",
    "ax.set_title(\"Distribution of insurance charges in $log$ sacle\")\n",
    "ax.set_xscale(\"log\");"
   ]
  },
  {
   "cell_type": "markdown",
   "metadata": {
    "hidden": true
   },
   "source": [
    "Now let's look at the charges by `region`"
   ]
  },
  {
   "cell_type": "code",
   "execution_count": null,
   "metadata": {
    "ExecuteTime": {
     "end_time": "2021-01-18T15:40:17.852207Z",
     "start_time": "2021-01-18T15:40:17.842968Z"
    },
    "hidden": true
   },
   "outputs": [],
   "source": [
    "charges_by_region = df[\"charges\"].groupby(df[\"region\"]).sum().sort_values(ascending = True)\n",
    "\n",
    "\n",
    "charges_by_region"
   ]
  },
  {
   "cell_type": "code",
   "execution_count": null,
   "metadata": {
    "ExecuteTime": {
     "end_time": "2021-01-18T15:40:47.364489Z",
     "start_time": "2021-01-18T15:40:47.266776Z"
    },
    "hidden": true
   },
   "outputs": [],
   "source": [
    "plt.figure(figsize=(10, 8))\n",
    "\n",
    "\n",
    "sns.barplot(x=charges_by_region, y=charges_by_region.index, palette=\"inferno\");"
   ]
  },
  {
   "cell_type": "markdown",
   "metadata": {
    "hidden": true
   },
   "source": [
    "So, overall the highest medical charges are in the `Southeast` and the lowest are in the `Southwest`. Taking into account certain factors (sex, smoking, having children) let's see how it changes by region."
   ]
  },
  {
   "cell_type": "code",
   "execution_count": null,
   "metadata": {
    "ExecuteTime": {
     "end_time": "2021-01-18T15:42:52.370734Z",
     "start_time": "2021-01-18T15:42:52.105710Z"
    },
    "hidden": true
   },
   "outputs": [],
   "source": [
    "plt.figure(figsize=(10, 8))\n",
    "\n",
    "sns.barplot(data=df, x=\"region\", y=\"charges\", hue=\"sex\", palette=\"inferno\");"
   ]
  },
  {
   "cell_type": "markdown",
   "metadata": {
    "hidden": true
   },
   "source": [
    "People who have children, generally smoke less, which the following violinplots shows too."
   ]
  },
  {
   "cell_type": "code",
   "execution_count": null,
   "metadata": {
    "ExecuteTime": {
     "end_time": "2021-01-18T15:45:34.008880Z",
     "start_time": "2021-01-18T15:45:33.749310Z"
    },
    "hidden": true
   },
   "outputs": [],
   "source": [
    "plt.figure(figsize=(10, 8))\n",
    "\n",
    "sns.violinplot(data=df, x=\"children\", y=\"charges\", orient=\"v\", hue=\"smoker\", palette=\"inferno\");"
   ]
  },
  {
   "cell_type": "markdown",
   "metadata": {
    "hidden": true
   },
   "source": [
    "Let now see, how having more children determines the medical charges"
   ]
  },
  {
   "cell_type": "code",
   "execution_count": null,
   "metadata": {
    "ExecuteTime": {
     "end_time": "2021-01-18T16:00:09.828838Z",
     "start_time": "2021-01-18T16:00:09.802973Z"
    },
    "hidden": true
   },
   "outputs": [],
   "source": [
    "df.groupby(\"children\").agg([np.min, np.max, np.mean])[\"charges\"].round(2)"
   ]
  },
  {
   "cell_type": "markdown",
   "metadata": {
    "hidden": true
   },
   "source": [
    "In the correlation matrix we saw that `charges` column has the highest correlation with `age` and `bmi`. Let see the relationship among these variables."
   ]
  },
  {
   "cell_type": "code",
   "execution_count": null,
   "metadata": {
    "ExecuteTime": {
     "end_time": "2021-01-18T16:03:19.094770Z",
     "start_time": "2021-01-18T16:03:18.983716Z"
    },
    "hidden": true
   },
   "outputs": [],
   "source": [
    "plt.figure(figsize=(10, 8))\n",
    "\n",
    "sns.scatterplot(data=df, x=\"age\", y=\"charges\", palette=\"inferno\");"
   ]
  },
  {
   "cell_type": "markdown",
   "metadata": {
    "hidden": true
   },
   "source": [
    "Scatter plot of `charges` and `age` by `smoker`"
   ]
  },
  {
   "cell_type": "code",
   "execution_count": null,
   "metadata": {
    "ExecuteTime": {
     "end_time": "2021-01-18T16:05:16.327872Z",
     "start_time": "2021-01-18T16:05:16.159921Z"
    },
    "hidden": true
   },
   "outputs": [],
   "source": [
    "plt.figure(figsize=(10, 8))\n",
    "\n",
    "sns.scatterplot(data=df, x=\"age\", y=\"charges\", hue=\"smoker\", palette=\"inferno\");"
   ]
  },
  {
   "cell_type": "markdown",
   "metadata": {
    "hidden": true
   },
   "source": [
    "Scatter plot of `charges` and `bmi`"
   ]
  },
  {
   "cell_type": "code",
   "execution_count": null,
   "metadata": {
    "ExecuteTime": {
     "end_time": "2021-01-18T16:13:53.681216Z",
     "start_time": "2021-01-18T16:13:53.541982Z"
    },
    "hidden": true
   },
   "outputs": [],
   "source": [
    "plt.figure(figsize=(10, 8))\n",
    "\n",
    "sns.scatterplot(data=df, x=\"bmi\", y=\"charges\", palette=\"inferno\");"
   ]
  },
  {
   "cell_type": "markdown",
   "metadata": {
    "hidden": true
   },
   "source": [
    "Scatter plot of `charges` and `bmi` by `sex`"
   ]
  },
  {
   "cell_type": "code",
   "execution_count": null,
   "metadata": {
    "ExecuteTime": {
     "end_time": "2021-01-18T16:15:22.439214Z",
     "start_time": "2021-01-18T16:15:22.259804Z"
    },
    "hidden": true
   },
   "outputs": [],
   "source": [
    "plt.figure(figsize=(10, 8))\n",
    "\n",
    "sns.scatterplot(data=df, x=\"bmi\", y=\"charges\", hue=\"sex\", palette=\"inferno\");"
   ]
  },
  {
   "cell_type": "markdown",
   "metadata": {
    "heading_collapsed": true,
    "hidden": true
   },
   "source": [
    "### Visualizing regression models\n",
    "\n",
    "---\n",
    "\n",
    "The regression plots in `seaborn` are primarily intended to add a visual guide that helps to emphasize patterns in a dataset during exploratory data analyses. `seaborn` is not itself a package for statistical analysis. To obtain quantitative measures related to the fit of regression models, we should use `statsmodels` and we'll do so. Up until that, exploring a dataset through visualization is just as important as exploring a dataset through tables of statistics."
   ]
  },
  {
   "cell_type": "markdown",
   "metadata": {
    "hidden": true
   },
   "source": [
    "Before we start modeling part, it's quite interesting to use `seaborn`'s plotting capability to see the best fitted line to only two variables: `age` and `bmi`."
   ]
  },
  {
   "cell_type": "code",
   "execution_count": null,
   "metadata": {
    "ExecuteTime": {
     "end_time": "2021-01-18T16:35:08.479905Z",
     "start_time": "2021-01-18T16:35:08.213867Z"
    },
    "hidden": true
   },
   "outputs": [],
   "source": [
    "plt.figure(figsize=(10, 8))\n",
    "\n",
    "sns.regplot(data=df, x=\"age\", y=\"charges\");"
   ]
  },
  {
   "cell_type": "code",
   "execution_count": null,
   "metadata": {
    "ExecuteTime": {
     "end_time": "2021-01-18T16:35:16.628259Z",
     "start_time": "2021-01-18T16:35:16.405911Z"
    },
    "hidden": true
   },
   "outputs": [],
   "source": [
    "plt.figure(figsize=(10, 8))\n",
    "\n",
    "sns.regplot(data=df, x=\"bmi\", y=\"charges\");"
   ]
  },
  {
   "cell_type": "markdown",
   "metadata": {
    "heading_collapsed": true,
    "hidden": true
   },
   "source": [
    "## Data Processing\n",
    "\n",
    "---\n",
    "\n",
    "In this step, we are processing data in a way to fit the model. Invalid or ill-processed data causes to degrade model performance and hence give biased results."
   ]
  },
  {
   "cell_type": "markdown",
   "metadata": {
    "heading_collapsed": true,
    "hidden": true
   },
   "source": [
    "### Variable Transformation\n",
    "\n",
    "\n",
    "Machine learning algorithms cannot work with categorical data directly and hence categorical data must be converted to numerical one. Here, I will use two different types of transformation:\n",
    "\n",
    "\n",
    "* Label Encoding\n",
    "\n",
    "\n",
    "* One Hot Encoding\n",
    "\n",
    "\n",
    "$$\n",
    "$$\n",
    "\n",
    "\n",
    "**Label Encoding** refers to transforming the alphanumeric labels into numerical form so that the algorithms can understand how to operate on them.\n",
    "\n",
    "\n",
    "**One hot Encoding** is a representation of categorical variable as binary vectors. In other words, it's a dummy variable or indicator variable.\n",
    "\n",
    "\n",
    "Note that, when dialing with dummy variables we should not fall in dummy variable trap. The dummy variable trap is a scenario in which the independent variables are multicollinear — a scenario in which two or more variables are highly correlated. In simple terms one variable can be predicted from the others.\n",
    "\n",
    "\n",
    "Pandas `get_dummies()` method does both label encoding and one hot encoding. However `sklearn` library can do that too."
   ]
  },
  {
   "cell_type": "code",
   "execution_count": null,
   "metadata": {
    "ExecuteTime": {
     "end_time": "2021-01-18T18:42:05.918613Z",
     "start_time": "2021-01-18T18:42:05.915793Z"
    },
    "hidden": true
   },
   "outputs": [],
   "source": [
    "categorical_columns = [\"sex\", \"children\", \"smoker\", \"region\"]"
   ]
  },
  {
   "cell_type": "code",
   "execution_count": null,
   "metadata": {
    "ExecuteTime": {
     "end_time": "2021-01-18T18:48:39.791776Z",
     "start_time": "2021-01-18T18:48:39.753982Z"
    },
    "hidden": true
   },
   "outputs": [],
   "source": [
    "df = pd.get_dummies(data=df, columns=categorical_columns, drop_first=True)"
   ]
  },
  {
   "cell_type": "markdown",
   "metadata": {
    "hidden": true
   },
   "source": [
    "During the EDA, we saw that out dependent variable `charges` is not normally distributed. Taking log transformation makes it to look more normal. Hence, it's better to convert it into logarithmic scale."
   ]
  },
  {
   "cell_type": "code",
   "execution_count": null,
   "metadata": {
    "ExecuteTime": {
     "end_time": "2021-01-18T18:56:13.833055Z",
     "start_time": "2021-01-18T18:56:13.830592Z"
    },
    "hidden": true
   },
   "outputs": [],
   "source": [
    "df[\"charges\"] = np.log(df[\"charges\"])"
   ]
  },
  {
   "cell_type": "code",
   "execution_count": null,
   "metadata": {
    "ExecuteTime": {
     "end_time": "2021-01-18T18:56:21.625231Z",
     "start_time": "2021-01-18T18:56:21.601026Z"
    },
    "hidden": true
   },
   "outputs": [],
   "source": [
    "df.head()"
   ]
  },
  {
   "cell_type": "markdown",
   "metadata": {
    "heading_collapsed": true,
    "hidden": true
   },
   "source": [
    "### Train-Test Split\n",
    "\n",
    "---\n",
    "\n",
    "We need to split our data into two parts: train set and test set. On the train set we train the model and on the test set we check the model performance."
   ]
  },
  {
   "cell_type": "code",
   "execution_count": null,
   "metadata": {
    "ExecuteTime": {
     "end_time": "2021-01-18T19:11:27.168397Z",
     "start_time": "2021-01-18T19:11:27.164777Z"
    },
    "hidden": true
   },
   "outputs": [],
   "source": [
    "X = df.drop([\"charges\"], axis = 1)\n",
    "\n",
    "y = df[\"charges\"]"
   ]
  },
  {
   "cell_type": "markdown",
   "metadata": {
    "hidden": true
   },
   "source": [
    "We have to add a constant term to our `X` dataset. This is a regression constant, sometimes called intercept."
   ]
  },
  {
   "cell_type": "code",
   "execution_count": null,
   "metadata": {
    "ExecuteTime": {
     "end_time": "2021-01-18T19:11:34.574308Z",
     "start_time": "2021-01-18T19:11:34.566712Z"
    },
    "hidden": true
   },
   "outputs": [],
   "source": [
    "X.insert(0, \"constant\", 1)"
   ]
  },
  {
   "cell_type": "code",
   "execution_count": null,
   "metadata": {
    "ExecuteTime": {
     "end_time": "2021-01-18T19:11:34.989332Z",
     "start_time": "2021-01-18T19:11:34.970792Z"
    },
    "hidden": true
   },
   "outputs": [],
   "source": [
    "X.head()"
   ]
  },
  {
   "cell_type": "markdown",
   "metadata": {
    "hidden": true
   },
   "source": [
    "Now, we are ready to perform split. 80% of data will go for training and 20% for testing"
   ]
  },
  {
   "cell_type": "code",
   "execution_count": null,
   "metadata": {
    "ExecuteTime": {
     "end_time": "2021-01-18T19:14:10.088404Z",
     "start_time": "2021-01-18T19:14:10.084523Z"
    },
    "hidden": true
   },
   "outputs": [],
   "source": [
    "x_train, x_test, y_train, y_test = train_test_split(X, y, test_size=0.2, random_state=425, shuffle=True)"
   ]
  },
  {
   "cell_type": "code",
   "execution_count": null,
   "metadata": {
    "ExecuteTime": {
     "end_time": "2021-01-18T19:16:27.818000Z",
     "start_time": "2021-01-18T19:16:27.811459Z"
    },
    "hidden": true
   },
   "outputs": [],
   "source": [
    "print(\"X train size: \\t\", x_train.shape)\n",
    "print(\"Y train size: \\t\", y_train.shape)\n",
    "\n",
    "print(\"X test size: \\t\", x_test.shape)\n",
    "print(\"Y test size: \\t\", y_test.shape)"
   ]
  },
  {
   "cell_type": "markdown",
   "metadata": {
    "heading_collapsed": true,
    "hidden": true
   },
   "source": [
    "## Linear Regression\n",
    "\n",
    "---\n",
    "\n",
    "Linear regression is a supervised learning algorithm used when target / dependent variable is continues real number. It establishes relationship between dependent variable  y  and one or more independent variable  x  using best fit line. In statistics OLS is method to estimate unknown parameter of linear function, it's goal is to minimize sum of square difference between observed dependent variable in the given data set and those predicted by linear regression function.\n",
    "\n",
    "$$\n",
    "$$\n",
    "\n",
    "![alt text](images/lin_reg.jpg \"Title\")"
   ]
  },
  {
   "cell_type": "markdown",
   "metadata": {
    "heading_collapsed": true,
    "hidden": true
   },
   "source": [
    "### Sklearn"
   ]
  },
  {
   "cell_type": "code",
   "execution_count": null,
   "metadata": {
    "ExecuteTime": {
     "end_time": "2021-01-18T20:11:21.185613Z",
     "start_time": "2021-01-18T20:11:21.181532Z"
    },
    "hidden": true
   },
   "outputs": [],
   "source": [
    "regression_model_1 = LinearRegression() # Create model object"
   ]
  },
  {
   "cell_type": "code",
   "execution_count": null,
   "metadata": {
    "ExecuteTime": {
     "end_time": "2021-01-18T20:11:21.483626Z",
     "start_time": "2021-01-18T20:11:21.473678Z"
    },
    "hidden": true
   },
   "outputs": [],
   "source": [
    "regression_model_1.fit(x_train, y_train) # Fit model to the data - actual model training"
   ]
  },
  {
   "cell_type": "code",
   "execution_count": null,
   "metadata": {
    "ExecuteTime": {
     "end_time": "2021-01-18T20:11:22.071525Z",
     "start_time": "2021-01-18T20:11:22.065263Z"
    },
    "hidden": true
   },
   "outputs": [],
   "source": [
    "print(\"Model Intercept: \", regression_model_1.intercept_)\n",
    "print()\n",
    "print(\"Model Coefficients: \", regression_model_1.coef_)"
   ]
  },
  {
   "cell_type": "code",
   "execution_count": null,
   "metadata": {
    "ExecuteTime": {
     "end_time": "2021-01-18T20:11:22.732088Z",
     "start_time": "2021-01-18T20:11:22.720593Z"
    },
    "hidden": true
   },
   "outputs": [],
   "source": [
    "prediction_ols = regression_model_1.predict(x_test) # Make prediction on the test set"
   ]
  },
  {
   "cell_type": "code",
   "execution_count": null,
   "metadata": {
    "ExecuteTime": {
     "end_time": "2021-01-18T20:11:23.279305Z",
     "start_time": "2021-01-18T20:11:23.267950Z"
    },
    "hidden": true
   },
   "outputs": [],
   "source": [
    "print(\"R Squared: \", metrics.r2_score(y_true=y_test, y_pred=prediction_ols).round(3)) # Calculate goodness of fit"
   ]
  },
  {
   "cell_type": "markdown",
   "metadata": {
    "heading_collapsed": true,
    "hidden": true
   },
   "source": [
    "### Statsmodels"
   ]
  },
  {
   "cell_type": "code",
   "execution_count": null,
   "metadata": {
    "ExecuteTime": {
     "end_time": "2021-01-18T19:33:05.619920Z",
     "start_time": "2021-01-18T19:33:05.616449Z"
    },
    "hidden": true
   },
   "outputs": [],
   "source": [
    "linear_model = sm.OLS(endog=y_train, exog=x_train, hasconst=True) # Create the model object"
   ]
  },
  {
   "cell_type": "code",
   "execution_count": null,
   "metadata": {
    "ExecuteTime": {
     "end_time": "2021-01-18T19:33:33.394434Z",
     "start_time": "2021-01-18T19:33:33.389218Z"
    },
    "hidden": true
   },
   "outputs": [],
   "source": [
    "result = linear_model.fit() # Fit the model"
   ]
  },
  {
   "cell_type": "code",
   "execution_count": null,
   "metadata": {
    "ExecuteTime": {
     "end_time": "2021-01-18T19:34:11.411115Z",
     "start_time": "2021-01-18T19:34:11.388028Z"
    },
    "hidden": true
   },
   "outputs": [],
   "source": [
    "result.summary() # Print model results"
   ]
  },
  {
   "cell_type": "code",
   "execution_count": null,
   "metadata": {
    "ExecuteTime": {
     "end_time": "2021-01-18T19:36:21.904942Z",
     "start_time": "2021-01-18T19:36:21.902781Z"
    },
    "hidden": true
   },
   "outputs": [],
   "source": [
    "prediction = result.predict(x_test) # Make a prediction"
   ]
  },
  {
   "cell_type": "markdown",
   "metadata": {
    "heading_collapsed": true,
    "hidden": true
   },
   "source": [
    "### Interpretation of the results\n",
    "\n",
    "---\n",
    "\n",
    "When the dependent variable is log-transformed we have to exponentiate the coefficient, subtract one from this number, and multiply by 100. This gives the percent increase (or decrease) in the response for every one-unit increase in the independent variable.\n",
    "\n",
    "For example: the coefficient for `bmi` is 0.0133. (exp(0.0133) – 1) * 100 = 1.33 For every one-unit increase in the independent variable, our dependent variable increases by about 1.33%\n",
    "\n",
    "\n",
    "The interpretation of the constant term is that it is an average value. In other words, when all other independent variables are set to zero, the we expect that the `charge` should be (exp(7.0602) - 1) or $1163"
   ]
  },
  {
   "cell_type": "markdown",
   "metadata": {
    "heading_collapsed": true,
    "hidden": true
   },
   "source": [
    "## Decision Tree Regression\n",
    "\n",
    "---\n",
    "\n",
    "Decision Trees (DTs) are a non-parametric supervised learning method used for classification and regression. The goal is to create a model that predicts the value of a target variable by learning simple decision rules inferred from the data features. A tree can be seen as a piecewise constant approximation."
   ]
  },
  {
   "cell_type": "markdown",
   "metadata": {
    "hidden": true
   },
   "source": [
    "#### Reference\n",
    "\n",
    "\n",
    "[Decision Trees](https://scikit-learn.org/stable/modules/tree.html#tree)"
   ]
  },
  {
   "cell_type": "code",
   "execution_count": null,
   "metadata": {
    "ExecuteTime": {
     "end_time": "2021-01-18T20:11:27.240491Z",
     "start_time": "2021-01-18T20:11:27.238450Z"
    },
    "hidden": true
   },
   "outputs": [],
   "source": [
    "tree_regressor = DecisionTreeRegressor(random_state=425) # Create model object"
   ]
  },
  {
   "cell_type": "code",
   "execution_count": null,
   "metadata": {
    "ExecuteTime": {
     "end_time": "2021-01-18T20:11:27.564664Z",
     "start_time": "2021-01-18T20:11:27.548691Z"
    },
    "hidden": true
   },
   "outputs": [],
   "source": [
    "tree_regressor.fit(x_train, y_train) # Fit the model"
   ]
  },
  {
   "cell_type": "code",
   "execution_count": null,
   "metadata": {
    "ExecuteTime": {
     "end_time": "2021-01-18T20:11:27.922048Z",
     "start_time": "2021-01-18T20:11:27.913753Z"
    },
    "hidden": true
   },
   "outputs": [],
   "source": [
    "prediction_tree = tree_regressor.predict(x_test)"
   ]
  },
  {
   "cell_type": "code",
   "execution_count": null,
   "metadata": {
    "ExecuteTime": {
     "end_time": "2021-01-18T20:11:28.324673Z",
     "start_time": "2021-01-18T20:11:28.317255Z"
    },
    "hidden": true
   },
   "outputs": [],
   "source": [
    "print(\"R Squared: \", metrics.r2_score(y_true=y_test, y_pred=prediction_tree).round(3)) # Calculate goodness of fit"
   ]
  },
  {
   "cell_type": "markdown",
   "metadata": {
    "heading_collapsed": true,
    "hidden": true
   },
   "source": [
    "### Feature Importances\n",
    "\n",
    "---\n",
    "\n",
    "Decision tree can calculate the feature importance. In other words, feature importance means the share of the contribution to explain dependent variable by independent variables."
   ]
  },
  {
   "cell_type": "code",
   "execution_count": null,
   "metadata": {
    "ExecuteTime": {
     "end_time": "2021-01-18T20:11:33.427660Z",
     "start_time": "2021-01-18T20:11:33.425310Z"
    },
    "hidden": true
   },
   "outputs": [],
   "source": [
    "features = x_test.columns.to_list()\n",
    "\n",
    "importances = tree_regressor.feature_importances_\n",
    "\n",
    "indices = np.argsort(importances)"
   ]
  },
  {
   "cell_type": "code",
   "execution_count": null,
   "metadata": {
    "ExecuteTime": {
     "end_time": "2021-01-18T20:11:34.196133Z",
     "start_time": "2021-01-18T20:11:34.059576Z"
    },
    "hidden": true
   },
   "outputs": [],
   "source": [
    "plt.figure(figsize=(10, 8))\n",
    "\n",
    "plt.title(\"Feature Importances\")\n",
    "\n",
    "plt.barh(range(len(indices)), importances[indices], color=\"blue\", align=\"center\")\n",
    "\n",
    "plt.yticks(range(len(indices)), [features[i] for i in indices]);"
   ]
  },
  {
   "cell_type": "markdown",
   "metadata": {
    "heading_collapsed": true,
    "hidden": true
   },
   "source": [
    "## Random Forest Regression\n",
    "\n",
    "---\n",
    "\n",
    "Random Forest represents the ensemble learning algorithm. The goal of ensemble algorithms is to combine the predictions of several weak estimators, such as decision tree in order to improve model performance. Particularly, random forest as name suggests is the forest of the decision trees."
   ]
  },
  {
   "cell_type": "code",
   "execution_count": null,
   "metadata": {
    "ExecuteTime": {
     "end_time": "2021-01-18T20:11:50.697853Z",
     "start_time": "2021-01-18T20:11:50.695577Z"
    },
    "hidden": true
   },
   "outputs": [],
   "source": [
    "forest_regressor = RandomForestRegressor(n_estimators=150, max_depth=2, random_state=425) # Create model object"
   ]
  },
  {
   "cell_type": "code",
   "execution_count": null,
   "metadata": {
    "ExecuteTime": {
     "end_time": "2021-01-18T20:11:51.281167Z",
     "start_time": "2021-01-18T20:11:51.123781Z"
    },
    "hidden": true
   },
   "outputs": [],
   "source": [
    "forest_regressor.fit(x_train, y_train) # Fit the model"
   ]
  },
  {
   "cell_type": "code",
   "execution_count": null,
   "metadata": {
    "ExecuteTime": {
     "end_time": "2021-01-18T20:11:51.509796Z",
     "start_time": "2021-01-18T20:11:51.487887Z"
    },
    "hidden": true
   },
   "outputs": [],
   "source": [
    "prediction_forest = forest_regressor.predict(x_test)"
   ]
  },
  {
   "cell_type": "code",
   "execution_count": null,
   "metadata": {
    "ExecuteTime": {
     "end_time": "2021-01-18T20:11:52.481810Z",
     "start_time": "2021-01-18T20:11:52.478748Z"
    },
    "hidden": true
   },
   "outputs": [],
   "source": [
    "print(\"R Squared: \", metrics.r2_score(y_true=y_test, y_pred=prediction_forest).round(3)) # Calculate goodness of fit"
   ]
  },
  {
   "cell_type": "markdown",
   "metadata": {
    "heading_collapsed": true,
    "hidden": true
   },
   "source": [
    "### Feature Importance"
   ]
  },
  {
   "cell_type": "code",
   "execution_count": null,
   "metadata": {
    "ExecuteTime": {
     "end_time": "2021-01-18T20:11:54.965471Z",
     "start_time": "2021-01-18T20:11:54.933394Z"
    },
    "hidden": true
   },
   "outputs": [],
   "source": [
    "features = x_test.columns.to_list()\n",
    "\n",
    "importances = forest_regressor.feature_importances_\n",
    "\n",
    "indices = np.argsort(importances)"
   ]
  },
  {
   "cell_type": "code",
   "execution_count": null,
   "metadata": {
    "ExecuteTime": {
     "end_time": "2021-01-18T20:11:55.939456Z",
     "start_time": "2021-01-18T20:11:55.817511Z"
    },
    "hidden": true
   },
   "outputs": [],
   "source": [
    "plt.figure(figsize=(10, 8))\n",
    "\n",
    "plt.title(\"Feature Importances\")\n",
    "\n",
    "plt.barh(range(len(indices)), importances[indices], color=\"blue\", align=\"center\")\n",
    "\n",
    "plt.yticks(range(len(indices)), [features[i] for i in indices]);"
   ]
  },
  {
   "cell_type": "markdown",
   "metadata": {
    "heading_collapsed": true,
    "hidden": true
   },
   "source": [
    "## Model Performance Assessment\n",
    "\n",
    "---\n",
    "\n",
    "There are 3 main metrics for model evaluation in regression:\n",
    "\n",
    "1. R Square and Adjusted R Square\n",
    "\n",
    "\n",
    "2. Mean Square Error(MSE) and Root Mean Square Error(RMSE)\n",
    "\n",
    "\n",
    "3. Mean Absolute Error(MAE)"
   ]
  },
  {
   "cell_type": "markdown",
   "metadata": {
    "heading_collapsed": true,
    "hidden": true
   },
   "source": [
    "### R Squared and Adjusted R Squared\n",
    "\n",
    "---\n",
    "\n",
    "Adjusted R Squared penalizes R Squared not to be monotonically increasing."
   ]
  },
  {
   "cell_type": "markdown",
   "metadata": {
    "hidden": true
   },
   "source": [
    "![alt text](images/r2.png \"Title\")"
   ]
  },
  {
   "cell_type": "markdown",
   "metadata": {
    "hidden": true
   },
   "source": [
    "![alt text](images/adjr2.png \"Title\")\n",
    "\n",
    "$$\n",
    "$$\n",
    "\n",
    "#### Where, $N$ is the number of samples (observations) and $p$ is the number of predictors (independent variables)"
   ]
  },
  {
   "cell_type": "code",
   "execution_count": null,
   "metadata": {
    "ExecuteTime": {
     "end_time": "2021-01-18T20:13:30.588153Z",
     "start_time": "2021-01-18T20:13:30.583523Z"
    },
    "hidden": true
   },
   "outputs": [],
   "source": [
    "print(\"R Squared - OLS: \", metrics.r2_score(y_true=y_test, y_pred=prediction_ols).round(3))\n",
    "\n",
    "print(\"R Squared - Tree: \", metrics.r2_score(y_true=y_test, y_pred=prediction_tree).round(3))\n",
    "\n",
    "print(\"R Squared - Forest: \", metrics.r2_score(y_true=y_test, y_pred=prediction_forest).round(3))"
   ]
  },
  {
   "cell_type": "markdown",
   "metadata": {
    "heading_collapsed": true,
    "hidden": true
   },
   "source": [
    "### Mean Square Error(MSE) and Root Mean Square Error(RMSE)\n",
    "\n",
    "---\n",
    "\n",
    "`MSE` measures the average of the squares of the errors. That is, the average squared difference between the estimated values and the actual values."
   ]
  },
  {
   "cell_type": "markdown",
   "metadata": {
    "hidden": true
   },
   "source": [
    "![alt text](images/mse.png \"Title\")"
   ]
  },
  {
   "cell_type": "markdown",
   "metadata": {
    "hidden": true
   },
   "source": [
    "![alt text](images/rmse.png \"Title\")"
   ]
  },
  {
   "cell_type": "code",
   "execution_count": null,
   "metadata": {
    "ExecuteTime": {
     "end_time": "2021-01-18T20:15:59.518219Z",
     "start_time": "2021-01-18T20:15:59.514049Z"
    },
    "hidden": true
   },
   "outputs": [],
   "source": [
    "print(\"MSE - OLS: \", metrics.mean_squared_error(y_true=y_test, y_pred=prediction_ols).round(3))\n",
    "\n",
    "print(\"MSE - Tree: \", metrics.mean_squared_error(y_true=y_test, y_pred=prediction_tree).round(3))\n",
    "\n",
    "print(\"MSE - Forest: \", metrics.mean_squared_error(y_true=y_test, y_pred=prediction_forest).round(3))"
   ]
  },
  {
   "cell_type": "markdown",
   "metadata": {
    "heading_collapsed": true,
    "hidden": true
   },
   "source": [
    "### Mean Absolute Error(MAE)\n",
    "\n",
    "---\n",
    "\n",
    "It's an arithmetic average of absolute error in our measurement"
   ]
  },
  {
   "cell_type": "markdown",
   "metadata": {
    "hidden": true
   },
   "source": [
    "![alt text](images/mae1.png \"Title\")"
   ]
  },
  {
   "cell_type": "code",
   "execution_count": null,
   "metadata": {
    "ExecuteTime": {
     "end_time": "2021-01-18T20:16:15.182430Z",
     "start_time": "2021-01-18T20:16:15.177784Z"
    },
    "hidden": true
   },
   "outputs": [],
   "source": [
    "print(\"MAE - OLS: \", metrics.mean_absolute_error(y_true=y_test, y_pred=prediction_ols).round(3))\n",
    "\n",
    "print(\"MAE - Tree: \", metrics.mean_absolute_error(y_true=y_test, y_pred=prediction_tree).round(3))\n",
    "\n",
    "print(\"MAE - Forest: \", metrics.mean_absolute_error(y_true=y_test, y_pred=prediction_forest).round(3))"
   ]
  },
  {
   "cell_type": "markdown",
   "metadata": {
    "heading_collapsed": true
   },
   "source": [
    "# Summary\n",
    "\n",
    "---\n",
    "\n",
    "In this lecture, we've covered the most exciting part of a data science. In this stage, we try to predict the future or to find out the relation between dependent and independent variables. However, the models we saw today, are rather simple, yet the most interpretable models out there in ML world.\n",
    "\n",
    "\n",
    "Always remember, we have a trade off. On the one hand we have a complex model which predicts the future more accurately but fails to be interpretable and on the second hand we have simple models, which are less accurate but is we can interpret their result easily.\n",
    "\n",
    "\n",
    "**Make wise decision. Complex models are not always necessary!!!**"
   ]
  }
 ],
 "metadata": {
  "kernelspec": {
   "display_name": "Python 3.7.7 64-bit ('learning': conda)",
   "language": "python",
   "name": "python37764bitlearningcondadead39b8b5cb441aa05edba06d4d913f"
  },
  "language_info": {
   "codemirror_mode": {
    "name": "ipython",
    "version": 3
   },
   "file_extension": ".py",
   "mimetype": "text/x-python",
   "name": "python",
   "nbconvert_exporter": "python",
   "pygments_lexer": "ipython3",
   "version": "3.7.7"
  },
  "varInspector": {
   "cols": {
    "lenName": 16,
    "lenType": 16,
    "lenVar": 40
   },
   "kernels_config": {
    "python": {
     "delete_cmd_postfix": "",
     "delete_cmd_prefix": "del ",
     "library": "var_list.py",
     "varRefreshCmd": "print(var_dic_list())"
    },
    "r": {
     "delete_cmd_postfix": ") ",
     "delete_cmd_prefix": "rm(",
     "library": "var_list.r",
     "varRefreshCmd": "cat(var_dic_list()) "
    }
   },
   "types_to_exclude": [
    "module",
    "function",
    "builtin_function_or_method",
    "instance",
    "_Feature"
   ],
   "window_display": false
  }
 },
 "nbformat": 4,
 "nbformat_minor": 4
}
