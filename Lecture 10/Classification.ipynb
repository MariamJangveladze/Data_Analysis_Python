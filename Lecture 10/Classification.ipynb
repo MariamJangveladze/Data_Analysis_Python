{
 "cells": [
  {
   "cell_type": "markdown",
   "metadata": {},
   "source": [
    "# Classification\n",
    "\n",
    "---\n",
    "\n",
    "Actually, classification is a regression but in narrow (discrete) interval. In classification, we try to classify objects, events, or even people into some category based on their similarities or some common criteria. In regression task we try to find best fitting line to our data, whereas in classification task we also try to find a line which gives us the best separation or discrimination between categories or groups. Compared to regression, in classification the target is not a continuous variable, rather then discrete, taking finite number of values. Such as survived or not survived, defaulted or not defaulted, spam or not spam, and so on. There are three types of classification in a wild:\n",
    "\n",
    "\n",
    "* **Binary Classification**\n",
    "\n",
    "\n",
    "* **Multi-Class Classification**\n",
    "\n",
    "\n",
    "* **Multi-Label Classification**\n",
    "\n",
    "\n",
    "In this class, we only focus on binary classification. However, you will have solid foundation to dig deeper down in the rabbit whole.\n",
    "\n",
    "\n",
    "$$\n",
    "$$\n",
    "\n",
    "\n",
    "![alt text](images/classification.png \"Title\")\n",
    "\n",
    "\n",
    "$$\n",
    "$$\n",
    "\n",
    "\n",
    "\n",
    "### Lecture outline\n",
    "\n",
    "---\n",
    "\n",
    "* Problem Statement\n",
    "\n",
    "\n",
    "* Data Description\n",
    "\n",
    "\n",
    "* EDA - Exploratory Data Analysis\n",
    "\n",
    "\n",
    "* Data Processing\n",
    "\n",
    "\n",
    "* Logistic Regression\n",
    "\n",
    "\n",
    "* Decision Tree Classification\n",
    "\n",
    "\n",
    "* Random Forest Classification\n",
    "\n",
    "\n",
    "* Model Performance Assessment"
   ]
  },
  {
   "cell_type": "markdown",
   "metadata": {},
   "source": [
    "#### Reference\n",
    "\n",
    "\n",
    "[Titanic - Machine Learning from Disaster](https://www.kaggle.com/c/titanic)\n",
    "\n",
    "\n",
    "[Discrete Choice Models](https://www.statsmodels.org/stable/examples/index.html#discrete-choice-models)\n",
    "\n",
    "\n",
    "[sklearn - Logistic Regression](https://scikit-learn.org/stable/modules/generated/sklearn.linear_model.LogisticRegression.html)\n",
    "\n",
    "\n",
    "[sklearn - Decision Tree Classifier](https://scikit-learn.org/stable/modules/generated/sklearn.tree.DecisionTreeClassifier.html)\n",
    "\n",
    "\n",
    "[sklearn - Random Forest Classifier](https://scikit-learn.org/stable/modules/generated/sklearn.ensemble.RandomForestClassifier.html)"
   ]
  },
  {
   "cell_type": "code",
   "execution_count": 2,
   "metadata": {
    "ExecuteTime": {
     "end_time": "2021-01-24T10:32:35.859265Z",
     "start_time": "2021-01-24T10:32:35.097767Z"
    }
   },
   "outputs": [],
   "source": [
    "# For data processing\n",
    "import pandas as pd\n",
    "import numpy as np\n",
    "\n",
    "# For data viz\n",
    "import matplotlib.pyplot as plt\n",
    "import seaborn as sns\n",
    "\n",
    "# For modeling\n",
    "from sklearn.linear_model import LogisticRegression\n",
    "from sklearn.tree import DecisionTreeClassifier\n",
    "from sklearn.ensemble import RandomForestClassifier\n",
    "from sklearn.model_selection import train_test_split\n",
    "\n",
    "# For model performance assessment\n",
    "from sklearn import metrics"
   ]
  },
  {
   "cell_type": "code",
   "execution_count": 3,
   "metadata": {
    "ExecuteTime": {
     "end_time": "2021-01-24T10:32:36.247671Z",
     "start_time": "2021-01-24T10:32:36.242026Z"
    }
   },
   "outputs": [],
   "source": [
    "plt.style.use(\"seaborn\") # Set plotting style"
   ]
  },
  {
   "cell_type": "markdown",
   "metadata": {
    "heading_collapsed": true
   },
   "source": [
    "## Problem Statement\n",
    "\n",
    "\n",
    "---\n",
    "\n",
    "\n",
    "The sinking of the Titanic is one of the most infamous shipwrecks in history. On April 15, 1912, during her maiden voyage, the Titanic sank after colliding with an iceberg, killing 1502 out of 2224 passengers and crew. That's why the name **DieTanic**. This is a very unforgettable disaster that no one in the world can forget.\n",
    "\n",
    "It took about $7.5 million to build the Titanic and it sunk under the ocean due to collision. The Titanic Dataset is a very good dataset for beginner to start a journey in data science and machine learning.\n",
    "\n",
    "The objective of today's class is to find factors/features, which had relatively higher or lower impact on people's death on Titanic and build a model to predict the probability of dying.\n",
    "\n",
    "\n",
    "$$\n",
    "$$\n",
    "\n",
    "\n",
    "> **Sometimes life has a cruel sense of humor, giving you the thing you always wanted at the worst time possible.**\n",
    "\n",
    "[Lisa Kleypas](https://en.wikipedia.org/wiki/Lisa_Kleypas)"
   ]
  },
  {
   "cell_type": "markdown",
   "metadata": {
    "heading_collapsed": true
   },
   "source": [
    "## Data Description\n",
    "\n",
    "\n",
    "---\n",
    "\n",
    "We are given information about a subset of the Titanic population and asked to build a predictive model that tells us whether or not a given passenger survived the shipwreck or not. We are given 10 basic explanatory variables, including passenger gender, age, and price of fare, among others.\n",
    "\n",
    "\n",
    "$$\n",
    "$$\n",
    "\n",
    "\n",
    "* **PassengerId**: Unique identifier for a passenger\n",
    "\n",
    "\n",
    "* **Survived**: Survival. 0 = No, 1 = Yes. This is our target variable\n",
    "\n",
    "\n",
    "* **Pclass**: Ticket class. A proxy for socio-economic status (SES). 1st = Upper, 2nd = Middle, 3rd = Lower\n",
    "\n",
    "\n",
    "* **Name**: Name of the passenger\n",
    "\n",
    "\n",
    "* **Sex**: Gender of the passenger\n",
    "\n",
    "\n",
    "* **Age**: Age in years. Age is fractional if less than 1. If the age is estimated, it is in the form of xx.5\n",
    "\n",
    "\n",
    "* **SibSp**: Number of siblings / spouses aboard the Titanic. The dataset defines family relations in this way:\n",
    "\n",
    "\n",
    "    * Sibling = brother, sister, stepbrother, stepsister\n",
    "\n",
    "    * Spouse = husband, wife (mistresses and fiancés were ignored)\n",
    "\n",
    "\n",
    "* **Parch**: Number of parents / children aboard the Titanic. The dataset defines family relations in this way:\n",
    "    \n",
    "    \n",
    "    * Parent = mother, father\n",
    "    \n",
    "    * Child = daughter, son, stepdaughter, stepson\n",
    "    \n",
    "    * Some children travelled only with a nanny, therefore parch=0 for them.\n",
    "\n",
    "\n",
    "* **Ticket**: Ticket number\n",
    "\n",
    "\n",
    "* **Fare**: Passenger fare\n",
    "\n",
    "\n",
    "* **Cabin**: Cabin number\n",
    "\n",
    "\n",
    "* **Embarked**: Port of Embarkation. C - Cherbourg, Q - Queenstown, S - Southampton"
   ]
  },
  {
   "cell_type": "code",
   "execution_count": 4,
   "metadata": {
    "ExecuteTime": {
     "end_time": "2021-01-24T10:32:39.989488Z",
     "start_time": "2021-01-24T10:32:39.982910Z"
    },
    "hidden": true
   },
   "outputs": [],
   "source": [
    "df = pd.read_csv(\"data/train.csv\")"
   ]
  },
  {
   "cell_type": "code",
   "execution_count": 5,
   "metadata": {
    "ExecuteTime": {
     "end_time": "2021-01-24T10:32:40.240894Z",
     "start_time": "2021-01-24T10:32:40.218217Z"
    },
    "hidden": true
   },
   "outputs": [
    {
     "data": {
      "text/html": [
       "<div>\n",
       "<style scoped>\n",
       "    .dataframe tbody tr th:only-of-type {\n",
       "        vertical-align: middle;\n",
       "    }\n",
       "\n",
       "    .dataframe tbody tr th {\n",
       "        vertical-align: top;\n",
       "    }\n",
       "\n",
       "    .dataframe thead th {\n",
       "        text-align: right;\n",
       "    }\n",
       "</style>\n",
       "<table border=\"1\" class=\"dataframe\">\n",
       "  <thead>\n",
       "    <tr style=\"text-align: right;\">\n",
       "      <th></th>\n",
       "      <th>PassengerId</th>\n",
       "      <th>Survived</th>\n",
       "      <th>Pclass</th>\n",
       "      <th>Name</th>\n",
       "      <th>Sex</th>\n",
       "      <th>Age</th>\n",
       "      <th>SibSp</th>\n",
       "      <th>Parch</th>\n",
       "      <th>Ticket</th>\n",
       "      <th>Fare</th>\n",
       "      <th>Cabin</th>\n",
       "      <th>Embarked</th>\n",
       "    </tr>\n",
       "  </thead>\n",
       "  <tbody>\n",
       "    <tr>\n",
       "      <th>0</th>\n",
       "      <td>1</td>\n",
       "      <td>0</td>\n",
       "      <td>3</td>\n",
       "      <td>Braund, Mr. Owen Harris</td>\n",
       "      <td>male</td>\n",
       "      <td>22.0</td>\n",
       "      <td>1</td>\n",
       "      <td>0</td>\n",
       "      <td>A/5 21171</td>\n",
       "      <td>7.2500</td>\n",
       "      <td>NaN</td>\n",
       "      <td>S</td>\n",
       "    </tr>\n",
       "    <tr>\n",
       "      <th>1</th>\n",
       "      <td>2</td>\n",
       "      <td>1</td>\n",
       "      <td>1</td>\n",
       "      <td>Cumings, Mrs. John Bradley (Florence Briggs Th...</td>\n",
       "      <td>female</td>\n",
       "      <td>38.0</td>\n",
       "      <td>1</td>\n",
       "      <td>0</td>\n",
       "      <td>PC 17599</td>\n",
       "      <td>71.2833</td>\n",
       "      <td>C85</td>\n",
       "      <td>C</td>\n",
       "    </tr>\n",
       "    <tr>\n",
       "      <th>2</th>\n",
       "      <td>3</td>\n",
       "      <td>1</td>\n",
       "      <td>3</td>\n",
       "      <td>Heikkinen, Miss. Laina</td>\n",
       "      <td>female</td>\n",
       "      <td>26.0</td>\n",
       "      <td>0</td>\n",
       "      <td>0</td>\n",
       "      <td>STON/O2. 3101282</td>\n",
       "      <td>7.9250</td>\n",
       "      <td>NaN</td>\n",
       "      <td>S</td>\n",
       "    </tr>\n",
       "    <tr>\n",
       "      <th>3</th>\n",
       "      <td>4</td>\n",
       "      <td>1</td>\n",
       "      <td>1</td>\n",
       "      <td>Futrelle, Mrs. Jacques Heath (Lily May Peel)</td>\n",
       "      <td>female</td>\n",
       "      <td>35.0</td>\n",
       "      <td>1</td>\n",
       "      <td>0</td>\n",
       "      <td>113803</td>\n",
       "      <td>53.1000</td>\n",
       "      <td>C123</td>\n",
       "      <td>S</td>\n",
       "    </tr>\n",
       "    <tr>\n",
       "      <th>4</th>\n",
       "      <td>5</td>\n",
       "      <td>0</td>\n",
       "      <td>3</td>\n",
       "      <td>Allen, Mr. William Henry</td>\n",
       "      <td>male</td>\n",
       "      <td>35.0</td>\n",
       "      <td>0</td>\n",
       "      <td>0</td>\n",
       "      <td>373450</td>\n",
       "      <td>8.0500</td>\n",
       "      <td>NaN</td>\n",
       "      <td>S</td>\n",
       "    </tr>\n",
       "  </tbody>\n",
       "</table>\n",
       "</div>"
      ],
      "text/plain": [
       "   PassengerId  Survived  Pclass  \\\n",
       "0            1         0       3   \n",
       "1            2         1       1   \n",
       "2            3         1       3   \n",
       "3            4         1       1   \n",
       "4            5         0       3   \n",
       "\n",
       "                                                Name     Sex   Age  SibSp  \\\n",
       "0                            Braund, Mr. Owen Harris    male  22.0      1   \n",
       "1  Cumings, Mrs. John Bradley (Florence Briggs Th...  female  38.0      1   \n",
       "2                             Heikkinen, Miss. Laina  female  26.0      0   \n",
       "3       Futrelle, Mrs. Jacques Heath (Lily May Peel)  female  35.0      1   \n",
       "4                           Allen, Mr. William Henry    male  35.0      0   \n",
       "\n",
       "   Parch            Ticket     Fare Cabin Embarked  \n",
       "0      0         A/5 21171   7.2500   NaN        S  \n",
       "1      0          PC 17599  71.2833   C85        C  \n",
       "2      0  STON/O2. 3101282   7.9250   NaN        S  \n",
       "3      0            113803  53.1000  C123        S  \n",
       "4      0            373450   8.0500   NaN        S  "
      ]
     },
     "execution_count": 5,
     "metadata": {},
     "output_type": "execute_result"
    }
   ],
   "source": [
    "df.head()"
   ]
  },
  {
   "cell_type": "markdown",
   "metadata": {
    "heading_collapsed": true
   },
   "source": [
    "## EDA - Exploratory Data Analysis\n",
    "\n",
    "\n",
    "---\n",
    "\n",
    "\n",
    "The goal of this section is to gain an understanding of our data in order to do proper feature engineering and modeling."
   ]
  },
  {
   "cell_type": "code",
   "execution_count": 6,
   "metadata": {
    "ExecuteTime": {
     "end_time": "2021-01-24T10:33:03.184168Z",
     "start_time": "2021-01-24T10:33:03.157679Z"
    },
    "hidden": true
   },
   "outputs": [
    {
     "data": {
      "text/html": [
       "<div>\n",
       "<style scoped>\n",
       "    .dataframe tbody tr th:only-of-type {\n",
       "        vertical-align: middle;\n",
       "    }\n",
       "\n",
       "    .dataframe tbody tr th {\n",
       "        vertical-align: top;\n",
       "    }\n",
       "\n",
       "    .dataframe thead th {\n",
       "        text-align: right;\n",
       "    }\n",
       "</style>\n",
       "<table border=\"1\" class=\"dataframe\">\n",
       "  <thead>\n",
       "    <tr style=\"text-align: right;\">\n",
       "      <th></th>\n",
       "      <th>Survived</th>\n",
       "      <th>Pclass</th>\n",
       "      <th>Age</th>\n",
       "      <th>SibSp</th>\n",
       "      <th>Parch</th>\n",
       "      <th>Fare</th>\n",
       "    </tr>\n",
       "  </thead>\n",
       "  <tbody>\n",
       "    <tr>\n",
       "      <th>count</th>\n",
       "      <td>891.00</td>\n",
       "      <td>891.00</td>\n",
       "      <td>714.00</td>\n",
       "      <td>891.00</td>\n",
       "      <td>891.00</td>\n",
       "      <td>891.00</td>\n",
       "    </tr>\n",
       "    <tr>\n",
       "      <th>mean</th>\n",
       "      <td>0.38</td>\n",
       "      <td>2.31</td>\n",
       "      <td>29.70</td>\n",
       "      <td>0.52</td>\n",
       "      <td>0.38</td>\n",
       "      <td>32.20</td>\n",
       "    </tr>\n",
       "    <tr>\n",
       "      <th>std</th>\n",
       "      <td>0.49</td>\n",
       "      <td>0.84</td>\n",
       "      <td>14.53</td>\n",
       "      <td>1.10</td>\n",
       "      <td>0.81</td>\n",
       "      <td>49.69</td>\n",
       "    </tr>\n",
       "    <tr>\n",
       "      <th>min</th>\n",
       "      <td>0.00</td>\n",
       "      <td>1.00</td>\n",
       "      <td>0.42</td>\n",
       "      <td>0.00</td>\n",
       "      <td>0.00</td>\n",
       "      <td>0.00</td>\n",
       "    </tr>\n",
       "    <tr>\n",
       "      <th>25%</th>\n",
       "      <td>0.00</td>\n",
       "      <td>2.00</td>\n",
       "      <td>20.12</td>\n",
       "      <td>0.00</td>\n",
       "      <td>0.00</td>\n",
       "      <td>7.91</td>\n",
       "    </tr>\n",
       "    <tr>\n",
       "      <th>50%</th>\n",
       "      <td>0.00</td>\n",
       "      <td>3.00</td>\n",
       "      <td>28.00</td>\n",
       "      <td>0.00</td>\n",
       "      <td>0.00</td>\n",
       "      <td>14.45</td>\n",
       "    </tr>\n",
       "    <tr>\n",
       "      <th>75%</th>\n",
       "      <td>1.00</td>\n",
       "      <td>3.00</td>\n",
       "      <td>38.00</td>\n",
       "      <td>1.00</td>\n",
       "      <td>0.00</td>\n",
       "      <td>31.00</td>\n",
       "    </tr>\n",
       "    <tr>\n",
       "      <th>max</th>\n",
       "      <td>1.00</td>\n",
       "      <td>3.00</td>\n",
       "      <td>80.00</td>\n",
       "      <td>8.00</td>\n",
       "      <td>6.00</td>\n",
       "      <td>512.33</td>\n",
       "    </tr>\n",
       "  </tbody>\n",
       "</table>\n",
       "</div>"
      ],
      "text/plain": [
       "       Survived  Pclass     Age   SibSp   Parch    Fare\n",
       "count    891.00  891.00  714.00  891.00  891.00  891.00\n",
       "mean       0.38    2.31   29.70    0.52    0.38   32.20\n",
       "std        0.49    0.84   14.53    1.10    0.81   49.69\n",
       "min        0.00    1.00    0.42    0.00    0.00    0.00\n",
       "25%        0.00    2.00   20.12    0.00    0.00    7.91\n",
       "50%        0.00    3.00   28.00    0.00    0.00   14.45\n",
       "75%        1.00    3.00   38.00    1.00    0.00   31.00\n",
       "max        1.00    3.00   80.00    8.00    6.00  512.33"
      ]
     },
     "execution_count": 6,
     "metadata": {},
     "output_type": "execute_result"
    }
   ],
   "source": [
    "df.describe().iloc[:, 1:].round(2)"
   ]
  },
  {
   "cell_type": "code",
   "execution_count": 7,
   "metadata": {
    "ExecuteTime": {
     "end_time": "2021-01-24T10:33:09.825734Z",
     "start_time": "2021-01-24T10:33:09.819600Z"
    },
    "hidden": true
   },
   "outputs": [
    {
     "data": {
      "text/plain": [
       "PassengerId      int64\n",
       "Survived         int64\n",
       "Pclass           int64\n",
       "Name            object\n",
       "Sex             object\n",
       "Age            float64\n",
       "SibSp            int64\n",
       "Parch            int64\n",
       "Ticket          object\n",
       "Fare           float64\n",
       "Cabin           object\n",
       "Embarked        object\n",
       "dtype: object"
      ]
     },
     "execution_count": 7,
     "metadata": {},
     "output_type": "execute_result"
    }
   ],
   "source": [
    "df.dtypes"
   ]
  },
  {
   "cell_type": "code",
   "execution_count": 8,
   "metadata": {
    "ExecuteTime": {
     "end_time": "2021-01-24T10:33:10.191635Z",
     "start_time": "2021-01-24T10:33:10.173085Z"
    },
    "hidden": true
   },
   "outputs": [
    {
     "name": "stdout",
     "output_type": "stream",
     "text": [
      "<class 'pandas.core.frame.DataFrame'>\n",
      "RangeIndex: 891 entries, 0 to 890\n",
      "Data columns (total 12 columns):\n",
      " #   Column       Non-Null Count  Dtype  \n",
      "---  ------       --------------  -----  \n",
      " 0   PassengerId  891 non-null    int64  \n",
      " 1   Survived     891 non-null    int64  \n",
      " 2   Pclass       891 non-null    int64  \n",
      " 3   Name         891 non-null    object \n",
      " 4   Sex          891 non-null    object \n",
      " 5   Age          714 non-null    float64\n",
      " 6   SibSp        891 non-null    int64  \n",
      " 7   Parch        891 non-null    int64  \n",
      " 8   Ticket       891 non-null    object \n",
      " 9   Fare         891 non-null    float64\n",
      " 10  Cabin        204 non-null    object \n",
      " 11  Embarked     889 non-null    object \n",
      "dtypes: float64(2), int64(5), object(5)\n",
      "memory usage: 83.7+ KB\n"
     ]
    }
   ],
   "source": [
    "df.info()"
   ]
  },
  {
   "cell_type": "code",
   "execution_count": 9,
   "metadata": {
    "ExecuteTime": {
     "end_time": "2021-01-24T10:33:10.600896Z",
     "start_time": "2021-01-24T10:33:10.593361Z"
    },
    "hidden": true
   },
   "outputs": [
    {
     "data": {
      "text/plain": [
       "(891, 12)"
      ]
     },
     "execution_count": 9,
     "metadata": {},
     "output_type": "execute_result"
    }
   ],
   "source": [
    "df.shape"
   ]
  },
  {
   "cell_type": "markdown",
   "metadata": {
    "heading_collapsed": true,
    "hidden": true
   },
   "source": [
    "### Checking Missing Values\n",
    "\n",
    "\n",
    "---\n",
    "\n",
    "As we see we have missing values. We will impute them in `Data Processing` section"
   ]
  },
  {
   "cell_type": "code",
   "execution_count": 10,
   "metadata": {
    "ExecuteTime": {
     "end_time": "2021-01-24T10:33:35.296845Z",
     "start_time": "2021-01-24T10:33:35.292214Z"
    },
    "hidden": true
   },
   "outputs": [
    {
     "data": {
      "text/plain": [
       "PassengerId      0\n",
       "Survived         0\n",
       "Pclass           0\n",
       "Name             0\n",
       "Sex              0\n",
       "Age            177\n",
       "SibSp            0\n",
       "Parch            0\n",
       "Ticket           0\n",
       "Fare             0\n",
       "Cabin          687\n",
       "Embarked         2\n",
       "dtype: int64"
      ]
     },
     "execution_count": 10,
     "metadata": {},
     "output_type": "execute_result"
    }
   ],
   "source": [
    "df.isnull().sum()"
   ]
  },
  {
   "cell_type": "markdown",
   "metadata": {
    "hidden": true
   },
   "source": [
    "`Age` missing values. Approximately 20% of entries for passenger age are missing. Let's see what the `Age` variable looks like in general."
   ]
  },
  {
   "cell_type": "code",
   "execution_count": 20,
   "metadata": {
    "ExecuteTime": {
     "end_time": "2021-01-24T10:41:45.861984Z",
     "start_time": "2021-01-24T10:41:45.856358Z"
    },
    "hidden": true
   },
   "outputs": [
    {
     "name": "stdout",
     "output_type": "stream",
     "text": [
      "Percent of missing in Age is: 19.865319865319865\n"
     ]
    }
   ],
   "source": [
    "print(f\"Percent of missing in Age is: {(df['Age'].isnull().sum() / df.shape[0]) * 100}\")"
   ]
  },
  {
   "cell_type": "markdown",
   "metadata": {
    "hidden": true
   },
   "source": [
    "The `Age` variable is right skewed. Using the mean for imputing missing values might give us biased results. To deal with this, we'll use the median to impute the missing values."
   ]
  },
  {
   "cell_type": "code",
   "execution_count": 22,
   "metadata": {
    "ExecuteTime": {
     "end_time": "2021-01-24T10:44:17.583431Z",
     "start_time": "2021-01-24T10:44:17.399532Z"
    },
    "hidden": true
   },
   "outputs": [
    {
     "data": {
      "image/png": "[encoded data removed]",
      "text/plain": [
       "<Figure size 720x576 with 1 Axes>"
      ]
     },
     "metadata": {},
     "output_type": "display_data"
    }
   ],
   "source": [
    "plt.figure(figsize=(10, 8))\n",
    "\n",
    "sns.histplot(data=df, x=\"Age\", bins=15, kde=True);"
   ]
  },
  {
   "cell_type": "markdown",
   "metadata": {
    "hidden": true
   },
   "source": [
    "77% of records are missing in  `Cabin` variable, which means that imputing information and using this variable for prediction is probably not wise."
   ]
  },
  {
   "cell_type": "code",
   "execution_count": 24,
   "metadata": {
    "ExecuteTime": {
     "end_time": "2021-01-24T10:53:41.378656Z",
     "start_time": "2021-01-24T10:53:41.374186Z"
    },
    "hidden": true
   },
   "outputs": [
    {
     "name": "stdout",
     "output_type": "stream",
     "text": [
      "Percent of missing in Cabin is: 77.10437710437711\n"
     ]
    }
   ],
   "source": [
    "print(f\"Percent of missing in Cabin is: {(df['Cabin'].isnull().sum() / df.shape[0]) * 100}\")"
   ]
  },
  {
   "cell_type": "markdown",
   "metadata": {
    "heading_collapsed": true,
    "hidden": true
   },
   "source": [
    "### Apriori probability of survival\n",
    "\n",
    "---\n",
    "\n",
    "We compute the apriori probability of survival. This is the probability of survival not considering any other factors affecting it.\n",
    "\n",
    "Here we see that there is a 61.6% chance of survival."
   ]
  },
  {
   "cell_type": "code",
   "execution_count": 63,
   "metadata": {
    "ExecuteTime": {
     "end_time": "2021-01-24T11:40:38.046157Z",
     "start_time": "2021-01-24T11:40:38.031004Z"
    },
    "hidden": true
   },
   "outputs": [
    {
     "data": {
      "text/html": [
       "<div>\n",
       "<style scoped>\n",
       "    .dataframe tbody tr th:only-of-type {\n",
       "        vertical-align: middle;\n",
       "    }\n",
       "\n",
       "    .dataframe tbody tr th {\n",
       "        vertical-align: top;\n",
       "    }\n",
       "\n",
       "    .dataframe thead th {\n",
       "        text-align: right;\n",
       "    }\n",
       "</style>\n",
       "<table border=\"1\" class=\"dataframe\">\n",
       "  <thead>\n",
       "    <tr style=\"text-align: right;\">\n",
       "      <th></th>\n",
       "      <th>Survived</th>\n",
       "    </tr>\n",
       "  </thead>\n",
       "  <tbody>\n",
       "    <tr>\n",
       "      <th>0</th>\n",
       "      <td>0.616</td>\n",
       "    </tr>\n",
       "    <tr>\n",
       "      <th>1</th>\n",
       "      <td>0.384</td>\n",
       "    </tr>\n",
       "  </tbody>\n",
       "</table>\n",
       "</div>"
      ],
      "text/plain": [
       "   Survived\n",
       "0     0.616\n",
       "1     0.384"
      ]
     },
     "execution_count": 63,
     "metadata": {},
     "output_type": "execute_result"
    }
   ],
   "source": [
    "pd.DataFrame(df[\"Survived\"].value_counts(normalize=True).round(3))"
   ]
  },
  {
   "cell_type": "code",
   "execution_count": 35,
   "metadata": {
    "ExecuteTime": {
     "end_time": "2021-01-24T11:24:55.656250Z",
     "start_time": "2021-01-24T11:24:55.593967Z"
    },
    "hidden": true
   },
   "outputs": [
    {
     "data": {
      "image/png": "[encoded data removed]",
      "text/plain": [
       "<Figure size 720x576 with 1 Axes>"
      ]
     },
     "metadata": {},
     "output_type": "display_data"
    }
   ],
   "source": [
    "plt.figure(figsize=(10, 8))\n",
    "\n",
    "df['Survived'].value_counts().plot.pie(explode=[0,0.1], autopct='%1.1f%%');"
   ]
  },
  {
   "cell_type": "markdown",
   "metadata": {
    "heading_collapsed": true,
    "hidden": true
   },
   "source": [
    "### `Survival` rate by `Sex`\n",
    "\n",
    "---\n",
    "\n",
    "This looks interesting. The number of men on the ship is lot more than the number of women. Still the number of women saved is almost twice the number of males saved. The survival rates for a women on the ship is around 75% while that for men in around 18-19%. Clearly being female greatly increased your chances of survival."
   ]
  },
  {
   "cell_type": "code",
   "execution_count": 57,
   "metadata": {
    "ExecuteTime": {
     "end_time": "2021-01-24T11:35:53.390329Z",
     "start_time": "2021-01-24T11:35:53.360164Z"
    },
    "hidden": true
   },
   "outputs": [
    {
     "data": {
      "text/html": [
       "<div>\n",
       "<style scoped>\n",
       "    .dataframe tbody tr th:only-of-type {\n",
       "        vertical-align: middle;\n",
       "    }\n",
       "\n",
       "    .dataframe tbody tr th {\n",
       "        vertical-align: top;\n",
       "    }\n",
       "\n",
       "    .dataframe thead th {\n",
       "        text-align: right;\n",
       "    }\n",
       "</style>\n",
       "<table border=\"1\" class=\"dataframe\">\n",
       "  <thead>\n",
       "    <tr style=\"text-align: right;\">\n",
       "      <th></th>\n",
       "      <th>Survived</th>\n",
       "    </tr>\n",
       "    <tr>\n",
       "      <th>Sex</th>\n",
       "      <th></th>\n",
       "    </tr>\n",
       "  </thead>\n",
       "  <tbody>\n",
       "    <tr>\n",
       "      <th>female</th>\n",
       "      <td>0.742038</td>\n",
       "    </tr>\n",
       "    <tr>\n",
       "      <th>male</th>\n",
       "      <td>0.188908</td>\n",
       "    </tr>\n",
       "  </tbody>\n",
       "</table>\n",
       "</div>"
      ],
      "text/plain": [
       "        Survived\n",
       "Sex             \n",
       "female  0.742038\n",
       "male    0.188908"
      ]
     },
     "execution_count": 57,
     "metadata": {},
     "output_type": "execute_result"
    }
   ],
   "source": [
    "pd.DataFrame(df[['Sex','Survived']].groupby(['Sex']).mean())"
   ]
  },
  {
   "cell_type": "code",
   "execution_count": 62,
   "metadata": {
    "ExecuteTime": {
     "end_time": "2021-01-24T11:39:08.392778Z",
     "start_time": "2021-01-24T11:39:08.191315Z"
    },
    "hidden": true
   },
   "outputs": [
    {
     "data": {
      "image/png": "[encoded data removed]",
      "text/plain": [
       "<Figure size 1296x576 with 2 Axes>"
      ]
     },
     "metadata": {},
     "output_type": "display_data"
    }
   ],
   "source": [
    "f, ax = plt.subplots(1, 2, figsize=(18,8))\n",
    "\n",
    "sns.countplot(data=df, x=\"Sex\", hue=\"Survived\", ax=ax[0])\n",
    "\n",
    "sns.barplot(data=df, x=\"Sex\", y=\"Survived\", ax=ax[1]);"
   ]
  },
  {
   "cell_type": "markdown",
   "metadata": {
    "heading_collapsed": true,
    "hidden": true
   },
   "source": [
    "### `Survival` rate by `Pclass`\n",
    "\n",
    "---\n",
    "\n",
    "People say **Money Can't Buy Everything**. But we can clearly see that passengers Of Pclass 1 were given a very high priority while rescue. Even though the the number of passengers in Pclass 3 were a lot higher, still the number of survival from them is very low, somewhere around 25%.\n",
    "\n",
    "For Pclass 1 %survived is around 63% while for Pclass2 is around 48%. So money and status matters. Such a materialistic world."
   ]
  },
  {
   "cell_type": "code",
   "execution_count": 70,
   "metadata": {
    "ExecuteTime": {
     "end_time": "2021-01-24T11:43:30.302230Z",
     "start_time": "2021-01-24T11:43:30.286414Z"
    },
    "hidden": true
   },
   "outputs": [
    {
     "data": {
      "text/html": [
       "<style  type=\"text/css\" >\n",
       "#T_009eb_row0_col0,#T_009eb_row1_col1{\n",
       "            background-color:  #ffff66;\n",
       "            color:  #000000;\n",
       "        }#T_009eb_row0_col1,#T_009eb_row2_col0{\n",
       "            background-color:  #008066;\n",
       "            color:  #f1f1f1;\n",
       "        }#T_009eb_row1_col0{\n",
       "            background-color:  #f1f866;\n",
       "            color:  #000000;\n",
       "        }#T_009eb_row2_col1{\n",
       "            background-color:  #58ac66;\n",
       "            color:  #000000;\n",
       "        }</style><table id=\"T_009eb_\" ><thead>    <tr>        <th class=\"index_name level0\" >Survived</th>        <th class=\"col_heading level0 col0\" >0</th>        <th class=\"col_heading level0 col1\" >1</th>    </tr>    <tr>        <th class=\"index_name level0\" >Pclass</th>        <th class=\"blank\" ></th>        <th class=\"blank\" ></th>    </tr></thead><tbody>\n",
       "                <tr>\n",
       "                        <th id=\"T_009eb_level0_row0\" class=\"row_heading level0 row0\" >1</th>\n",
       "                        <td id=\"T_009eb_row0_col0\" class=\"data row0 col0\" >80</td>\n",
       "                        <td id=\"T_009eb_row0_col1\" class=\"data row0 col1\" >136</td>\n",
       "            </tr>\n",
       "            <tr>\n",
       "                        <th id=\"T_009eb_level0_row1\" class=\"row_heading level0 row1\" >2</th>\n",
       "                        <td id=\"T_009eb_row1_col0\" class=\"data row1 col0\" >97</td>\n",
       "                        <td id=\"T_009eb_row1_col1\" class=\"data row1 col1\" >87</td>\n",
       "            </tr>\n",
       "            <tr>\n",
       "                        <th id=\"T_009eb_level0_row2\" class=\"row_heading level0 row2\" >3</th>\n",
       "                        <td id=\"T_009eb_row2_col0\" class=\"data row2 col0\" >372</td>\n",
       "                        <td id=\"T_009eb_row2_col1\" class=\"data row2 col1\" >119</td>\n",
       "            </tr>\n",
       "    </tbody></table>"
      ],
      "text/plain": [
       "<pandas.io.formats.style.Styler at 0x7fe164a42ad0>"
      ]
     },
     "execution_count": 70,
     "metadata": {},
     "output_type": "execute_result"
    }
   ],
   "source": [
    "pd.crosstab(df[\"Pclass\"], df[\"Survived\"]).style.background_gradient(cmap=\"summer_r\")"
   ]
  },
  {
   "cell_type": "code",
   "execution_count": 72,
   "metadata": {
    "ExecuteTime": {
     "end_time": "2021-01-24T11:45:18.272341Z",
     "start_time": "2021-01-24T11:45:18.038269Z"
    },
    "hidden": true
   },
   "outputs": [
    {
     "data": {
      "image/png": "[encoded data removed]",
      "text/plain": [
       "<Figure size 1296x576 with 2 Axes>"
      ]
     },
     "metadata": {},
     "output_type": "display_data"
    }
   ],
   "source": [
    "f, ax = plt.subplots(1,2,figsize=(18,8))\n",
    "\n",
    "sns.countplot(data=df, x=\"Pclass\", hue=\"Survived\", ax=ax[0])\n",
    "\n",
    "sns.barplot(data=df, x=\"Pclass\", y=\"Survived\", ax=ax[1]);"
   ]
  },
  {
   "cell_type": "markdown",
   "metadata": {
    "heading_collapsed": true,
    "hidden": true
   },
   "source": [
    "###  `Survival` rate with `Sex` and `Pclass`\n",
    "\n",
    "---\n",
    "\n",
    "Looking at the CrossTab and the Catplot, we can easily infer that survival for Women from Pclass 1 is about 95%-96%, as only 3 out of 94 Women from Pclass 1 died.\n",
    "\n",
    "It is evident that irrespective of Pclass, women were given first priority while rescue. Even Men from Pclass 1 have a very low survival rate."
   ]
  },
  {
   "cell_type": "code",
   "execution_count": 76,
   "metadata": {
    "ExecuteTime": {
     "end_time": "2021-01-24T12:10:25.535074Z",
     "start_time": "2021-01-24T12:10:25.516212Z"
    },
    "hidden": true
   },
   "outputs": [
    {
     "data": {
      "text/html": [
       "<style  type=\"text/css\" >\n",
       "#T_493d6_row0_col0,#T_493d6_row0_col1,#T_493d6_row3_col2{\n",
       "            background-color:  #ffff66;\n",
       "            color:  #000000;\n",
       "        }#T_493d6_row0_col2,#T_493d6_row1_col2{\n",
       "            background-color:  #e6f266;\n",
       "            color:  #000000;\n",
       "        }#T_493d6_row1_col0,#T_493d6_row2_col1,#T_493d6_row2_col2{\n",
       "            background-color:  #008066;\n",
       "            color:  #f1f1f1;\n",
       "        }#T_493d6_row1_col1{\n",
       "            background-color:  #3f9f66;\n",
       "            color:  #000000;\n",
       "        }#T_493d6_row2_col0{\n",
       "            background-color:  #289366;\n",
       "            color:  #000000;\n",
       "        }#T_493d6_row3_col0{\n",
       "            background-color:  #85c266;\n",
       "            color:  #000000;\n",
       "        }#T_493d6_row3_col1{\n",
       "            background-color:  #deee66;\n",
       "            color:  #000000;\n",
       "        }</style><table id=\"T_493d6_\" ><thead>    <tr>        <th class=\"blank\" ></th>        <th class=\"index_name level0\" >Pclass</th>        <th class=\"col_heading level0 col0\" >1</th>        <th class=\"col_heading level0 col1\" >2</th>        <th class=\"col_heading level0 col2\" >3</th>    </tr>    <tr>        <th class=\"index_name level0\" >Sex</th>        <th class=\"index_name level1\" >Survived</th>        <th class=\"blank\" ></th>        <th class=\"blank\" ></th>        <th class=\"blank\" ></th>    </tr></thead><tbody>\n",
       "                <tr>\n",
       "                        <th id=\"T_493d6_level0_row0\" class=\"row_heading level0 row0\" rowspan=\"2\">female</th>\n",
       "                        <th id=\"T_493d6_level1_row0\" class=\"row_heading level1 row0\" >0</th>\n",
       "                        <td id=\"T_493d6_row0_col0\" class=\"data row0 col0\" >3</td>\n",
       "                        <td id=\"T_493d6_row0_col1\" class=\"data row0 col1\" >6</td>\n",
       "                        <td id=\"T_493d6_row0_col2\" class=\"data row0 col2\" >72</td>\n",
       "            </tr>\n",
       "            <tr>\n",
       "                                <th id=\"T_493d6_level1_row1\" class=\"row_heading level1 row1\" >1</th>\n",
       "                        <td id=\"T_493d6_row1_col0\" class=\"data row1 col0\" >91</td>\n",
       "                        <td id=\"T_493d6_row1_col1\" class=\"data row1 col1\" >70</td>\n",
       "                        <td id=\"T_493d6_row1_col2\" class=\"data row1 col2\" >72</td>\n",
       "            </tr>\n",
       "            <tr>\n",
       "                        <th id=\"T_493d6_level0_row2\" class=\"row_heading level0 row2\" rowspan=\"2\">male</th>\n",
       "                        <th id=\"T_493d6_level1_row2\" class=\"row_heading level1 row2\" >0</th>\n",
       "                        <td id=\"T_493d6_row2_col0\" class=\"data row2 col0\" >77</td>\n",
       "                        <td id=\"T_493d6_row2_col1\" class=\"data row2 col1\" >91</td>\n",
       "                        <td id=\"T_493d6_row2_col2\" class=\"data row2 col2\" >300</td>\n",
       "            </tr>\n",
       "            <tr>\n",
       "                                <th id=\"T_493d6_level1_row3\" class=\"row_heading level1 row3\" >1</th>\n",
       "                        <td id=\"T_493d6_row3_col0\" class=\"data row3 col0\" >45</td>\n",
       "                        <td id=\"T_493d6_row3_col1\" class=\"data row3 col1\" >17</td>\n",
       "                        <td id=\"T_493d6_row3_col2\" class=\"data row3 col2\" >47</td>\n",
       "            </tr>\n",
       "    </tbody></table>"
      ],
      "text/plain": [
       "<pandas.io.formats.style.Styler at 0x7fe163c5a650>"
      ]
     },
     "execution_count": 76,
     "metadata": {},
     "output_type": "execute_result"
    }
   ],
   "source": [
    "pd.crosstab([df[\"Sex\"], df[\"Survived\"]], df[\"Pclass\"]).style.background_gradient(cmap=\"summer_r\")"
   ]
  },
  {
   "cell_type": "code",
   "execution_count": 91,
   "metadata": {
    "ExecuteTime": {
     "end_time": "2021-01-24T12:27:17.993242Z",
     "start_time": "2021-01-24T12:27:17.680687Z"
    },
    "hidden": true
   },
   "outputs": [
    {
     "data": {
      "image/png": "[encoded data removed]",
      "text/plain": [
       "<Figure size 426.125x360 with 1 Axes>"
      ]
     },
     "metadata": {},
     "output_type": "display_data"
    }
   ],
   "source": [
    "sns.catplot(data=df, x=\"Pclass\", y=\"Survived\", hue=\"Sex\", kind=\"point\");"
   ]
  },
  {
   "cell_type": "markdown",
   "metadata": {
    "heading_collapsed": true,
    "hidden": true
   },
   "source": [
    "### `Survival` rate by `Embarked`\n",
    "\n",
    "---\n",
    "\n",
    "The chances for survival for port `Cherbourg` is highest around 55% while it is lowest for port `Southampton`."
   ]
  },
  {
   "cell_type": "code",
   "execution_count": 84,
   "metadata": {
    "ExecuteTime": {
     "end_time": "2021-01-24T12:23:20.253770Z",
     "start_time": "2021-01-24T12:23:20.218085Z"
    },
    "hidden": true
   },
   "outputs": [
    {
     "data": {
      "text/html": [
       "<style  type=\"text/css\" >\n",
       "#T_006b9_row0_col0,#T_006b9_row4_col1{\n",
       "            background-color:  #fbfd66;\n",
       "            color:  #000000;\n",
       "        }#T_006b9_row0_col1{\n",
       "            background-color:  #51a866;\n",
       "            color:  #000000;\n",
       "        }#T_006b9_row0_col2{\n",
       "            background-color:  #e5f266;\n",
       "            color:  #000000;\n",
       "        }#T_006b9_row0_col3{\n",
       "            background-color:  #7fbf66;\n",
       "            color:  #000000;\n",
       "        }#T_006b9_row1_col0,#T_006b9_row3_col0,#T_006b9_row3_col1,#T_006b9_row3_col2,#T_006b9_row3_col3,#T_006b9_row4_col0,#T_006b9_row4_col2,#T_006b9_row4_col3{\n",
       "            background-color:  #ffff66;\n",
       "            color:  #000000;\n",
       "        }#T_006b9_row1_col1{\n",
       "            background-color:  #e6f266;\n",
       "            color:  #000000;\n",
       "        }#T_006b9_row1_col2{\n",
       "            background-color:  #f8fc66;\n",
       "            color:  #000000;\n",
       "        }#T_006b9_row1_col3{\n",
       "            background-color:  #f0f866;\n",
       "            color:  #000000;\n",
       "        }#T_006b9_row2_col0{\n",
       "            background-color:  #daec66;\n",
       "            color:  #000000;\n",
       "        }#T_006b9_row2_col1{\n",
       "            background-color:  #c4e266;\n",
       "            color:  #000000;\n",
       "        }#T_006b9_row2_col2{\n",
       "            background-color:  #dcee66;\n",
       "            color:  #000000;\n",
       "        }#T_006b9_row2_col3{\n",
       "            background-color:  #b4da66;\n",
       "            color:  #000000;\n",
       "        }#T_006b9_row5_col0{\n",
       "            background-color:  #d6eb66;\n",
       "            color:  #000000;\n",
       "        }#T_006b9_row5_col1{\n",
       "            background-color:  #9dce66;\n",
       "            color:  #000000;\n",
       "        }#T_006b9_row5_col2{\n",
       "            background-color:  #d9ec66;\n",
       "            color:  #000000;\n",
       "        }#T_006b9_row5_col3{\n",
       "            background-color:  #e9f466;\n",
       "            color:  #000000;\n",
       "        }#T_006b9_row6_col0{\n",
       "            background-color:  #f6fa66;\n",
       "            color:  #000000;\n",
       "        }#T_006b9_row6_col1{\n",
       "            background-color:  #3f9f66;\n",
       "            color:  #000000;\n",
       "        }#T_006b9_row6_col2{\n",
       "            background-color:  #c8e366;\n",
       "            color:  #000000;\n",
       "        }#T_006b9_row6_col3{\n",
       "            background-color:  #2d9666;\n",
       "            color:  #000000;\n",
       "        }#T_006b9_row7_col0{\n",
       "            background-color:  #e4f266;\n",
       "            color:  #000000;\n",
       "        }#T_006b9_row7_col1,#T_006b9_row8_col0,#T_006b9_row8_col2,#T_006b9_row8_col3{\n",
       "            background-color:  #008066;\n",
       "            color:  #f1f1f1;\n",
       "        }#T_006b9_row7_col2{\n",
       "            background-color:  #a5d266;\n",
       "            color:  #000000;\n",
       "        }#T_006b9_row7_col3{\n",
       "            background-color:  #8fc766;\n",
       "            color:  #000000;\n",
       "        }#T_006b9_row8_col1{\n",
       "            background-color:  #77bb66;\n",
       "            color:  #000000;\n",
       "        }</style><table id=\"T_006b9_\" ><thead>    <tr>        <th class=\"blank\" ></th>        <th class=\"index_name level0\" >Sex</th>        <th class=\"col_heading level0 col0\" colspan=\"2\">female</th>        <th class=\"col_heading level0 col2\" colspan=\"2\">male</th>    </tr>    <tr>        <th class=\"blank\" ></th>        <th class=\"index_name level1\" >Survived</th>        <th class=\"col_heading level1 col0\" >0</th>        <th class=\"col_heading level1 col1\" >1</th>        <th class=\"col_heading level1 col2\" >0</th>        <th class=\"col_heading level1 col3\" >1</th>    </tr>    <tr>        <th class=\"index_name level0\" >Embarked</th>        <th class=\"index_name level1\" >Pclass</th>        <th class=\"blank\" ></th>        <th class=\"blank\" ></th>        <th class=\"blank\" ></th>        <th class=\"blank\" ></th>    </tr></thead><tbody>\n",
       "                <tr>\n",
       "                        <th id=\"T_006b9_level0_row0\" class=\"row_heading level0 row0\" rowspan=\"3\">C</th>\n",
       "                        <th id=\"T_006b9_level1_row0\" class=\"row_heading level1 row0\" >1</th>\n",
       "                        <td id=\"T_006b9_row0_col0\" class=\"data row0 col0\" >1</td>\n",
       "                        <td id=\"T_006b9_row0_col1\" class=\"data row0 col1\" >42</td>\n",
       "                        <td id=\"T_006b9_row0_col2\" class=\"data row0 col2\" >25</td>\n",
       "                        <td id=\"T_006b9_row0_col3\" class=\"data row0 col3\" >17</td>\n",
       "            </tr>\n",
       "            <tr>\n",
       "                                <th id=\"T_006b9_level1_row1\" class=\"row_heading level1 row1\" >2</th>\n",
       "                        <td id=\"T_006b9_row1_col0\" class=\"data row1 col0\" >0</td>\n",
       "                        <td id=\"T_006b9_row1_col1\" class=\"data row1 col1\" >7</td>\n",
       "                        <td id=\"T_006b9_row1_col2\" class=\"data row1 col2\" >8</td>\n",
       "                        <td id=\"T_006b9_row1_col3\" class=\"data row1 col3\" >2</td>\n",
       "            </tr>\n",
       "            <tr>\n",
       "                                <th id=\"T_006b9_level1_row2\" class=\"row_heading level1 row2\" >3</th>\n",
       "                        <td id=\"T_006b9_row2_col0\" class=\"data row2 col0\" >8</td>\n",
       "                        <td id=\"T_006b9_row2_col1\" class=\"data row2 col1\" >15</td>\n",
       "                        <td id=\"T_006b9_row2_col2\" class=\"data row2 col2\" >33</td>\n",
       "                        <td id=\"T_006b9_row2_col3\" class=\"data row2 col3\" >10</td>\n",
       "            </tr>\n",
       "            <tr>\n",
       "                        <th id=\"T_006b9_level0_row3\" class=\"row_heading level0 row3\" rowspan=\"3\">Q</th>\n",
       "                        <th id=\"T_006b9_level1_row3\" class=\"row_heading level1 row3\" >1</th>\n",
       "                        <td id=\"T_006b9_row3_col0\" class=\"data row3 col0\" >0</td>\n",
       "                        <td id=\"T_006b9_row3_col1\" class=\"data row3 col1\" >1</td>\n",
       "                        <td id=\"T_006b9_row3_col2\" class=\"data row3 col2\" >1</td>\n",
       "                        <td id=\"T_006b9_row3_col3\" class=\"data row3 col3\" >0</td>\n",
       "            </tr>\n",
       "            <tr>\n",
       "                                <th id=\"T_006b9_level1_row4\" class=\"row_heading level1 row4\" >2</th>\n",
       "                        <td id=\"T_006b9_row4_col0\" class=\"data row4 col0\" >0</td>\n",
       "                        <td id=\"T_006b9_row4_col1\" class=\"data row4 col1\" >2</td>\n",
       "                        <td id=\"T_006b9_row4_col2\" class=\"data row4 col2\" >1</td>\n",
       "                        <td id=\"T_006b9_row4_col3\" class=\"data row4 col3\" >0</td>\n",
       "            </tr>\n",
       "            <tr>\n",
       "                                <th id=\"T_006b9_level1_row5\" class=\"row_heading level1 row5\" >3</th>\n",
       "                        <td id=\"T_006b9_row5_col0\" class=\"data row5 col0\" >9</td>\n",
       "                        <td id=\"T_006b9_row5_col1\" class=\"data row5 col1\" >24</td>\n",
       "                        <td id=\"T_006b9_row5_col2\" class=\"data row5 col2\" >36</td>\n",
       "                        <td id=\"T_006b9_row5_col3\" class=\"data row5 col3\" >3</td>\n",
       "            </tr>\n",
       "            <tr>\n",
       "                        <th id=\"T_006b9_level0_row6\" class=\"row_heading level0 row6\" rowspan=\"3\">S</th>\n",
       "                        <th id=\"T_006b9_level1_row6\" class=\"row_heading level1 row6\" >1</th>\n",
       "                        <td id=\"T_006b9_row6_col0\" class=\"data row6 col0\" >2</td>\n",
       "                        <td id=\"T_006b9_row6_col1\" class=\"data row6 col1\" >46</td>\n",
       "                        <td id=\"T_006b9_row6_col2\" class=\"data row6 col2\" >51</td>\n",
       "                        <td id=\"T_006b9_row6_col3\" class=\"data row6 col3\" >28</td>\n",
       "            </tr>\n",
       "            <tr>\n",
       "                                <th id=\"T_006b9_level1_row7\" class=\"row_heading level1 row7\" >2</th>\n",
       "                        <td id=\"T_006b9_row7_col0\" class=\"data row7 col0\" >6</td>\n",
       "                        <td id=\"T_006b9_row7_col1\" class=\"data row7 col1\" >61</td>\n",
       "                        <td id=\"T_006b9_row7_col2\" class=\"data row7 col2\" >82</td>\n",
       "                        <td id=\"T_006b9_row7_col3\" class=\"data row7 col3\" >15</td>\n",
       "            </tr>\n",
       "            <tr>\n",
       "                                <th id=\"T_006b9_level1_row8\" class=\"row_heading level1 row8\" >3</th>\n",
       "                        <td id=\"T_006b9_row8_col0\" class=\"data row8 col0\" >55</td>\n",
       "                        <td id=\"T_006b9_row8_col1\" class=\"data row8 col1\" >33</td>\n",
       "                        <td id=\"T_006b9_row8_col2\" class=\"data row8 col2\" >231</td>\n",
       "                        <td id=\"T_006b9_row8_col3\" class=\"data row8 col3\" >34</td>\n",
       "            </tr>\n",
       "    </tbody></table>"
      ],
      "text/plain": [
       "<pandas.io.formats.style.Styler at 0x7fe1638bee90>"
      ]
     },
     "execution_count": 84,
     "metadata": {},
     "output_type": "execute_result"
    }
   ],
   "source": [
    "pd.crosstab([df[\"Embarked\"], df[\"Pclass\"]],\n",
    "            [df[\"Sex\"], df[\"Survived\"]]).style.background_gradient(cmap='summer_r')"
   ]
  },
  {
   "cell_type": "code",
   "execution_count": 94,
   "metadata": {
    "ExecuteTime": {
     "end_time": "2021-01-24T12:27:31.090159Z",
     "start_time": "2021-01-24T12:27:30.921490Z"
    },
    "hidden": true
   },
   "outputs": [
    {
     "data": {
      "image/png": "[encoded data removed]",
      "text/plain": [
       "<Figure size 360x360 with 1 Axes>"
      ]
     },
     "metadata": {},
     "output_type": "display_data"
    }
   ],
   "source": [
    "sns.catplot(data=df, x=\"Embarked\", y=\"Survived\", kind=\"point\");"
   ]
  },
  {
   "cell_type": "markdown",
   "metadata": {
    "hidden": true
   },
   "source": [
    "The survival chances are almost 1 for women for Pclass 1 and Pclass 2 irrespective of the port of embarkation.\n",
    "\n",
    "Port `Queenstown` looks to be the unluckiest for man, as almost all were from Pclass 3"
   ]
  },
  {
   "cell_type": "code",
   "execution_count": 97,
   "metadata": {
    "ExecuteTime": {
     "end_time": "2021-01-24T12:30:05.861348Z",
     "start_time": "2021-01-24T12:30:05.149627Z"
    },
    "hidden": true
   },
   "outputs": [
    {
     "data": {
      "image/png": "[encoded data removed]",
      "text/plain": [
       "<Figure size 1146.12x360 with 3 Axes>"
      ]
     },
     "metadata": {},
     "output_type": "display_data"
    }
   ],
   "source": [
    "sns.catplot(data=df, x=\"Pclass\", y=\"Survived\", hue=\"Sex\", col=\"Embarked\", kind=\"point\");"
   ]
  },
  {
   "cell_type": "markdown",
   "metadata": {
    "heading_collapsed": true,
    "hidden": true
   },
   "source": [
    "### `Survival` rate by `SibSip`\n",
    "\n",
    "---\n",
    "\n",
    "This feature represents whether a person is alone or with his family members.\n",
    "\n",
    "Sibling = brother, sister, stepbrother, stepsister\n",
    "\n",
    "Spouse = husband, wife\n",
    "\n",
    "\n",
    "If a passenger is alone on board with no siblings, he have 34.5% survival rate. The graph roughly decreases if the number of siblings increase. This makes sense. That is, if I have a family on board, I will try to save them instead of saving myself first."
   ]
  },
  {
   "cell_type": "code",
   "execution_count": 118,
   "metadata": {
    "ExecuteTime": {
     "end_time": "2021-01-24T13:52:55.883782Z",
     "start_time": "2021-01-24T13:52:55.861631Z"
    },
    "hidden": true
   },
   "outputs": [
    {
     "data": {
      "text/html": [
       "<style  type=\"text/css\" >\n",
       "#T_c637f_row0_col0,#T_c637f_row0_col1{\n",
       "            background-color:  #008066;\n",
       "            color:  #f1f1f1;\n",
       "        }#T_c637f_row1_col0{\n",
       "            background-color:  #c4e266;\n",
       "            color:  #000000;\n",
       "        }#T_c637f_row1_col1{\n",
       "            background-color:  #77bb66;\n",
       "            color:  #000000;\n",
       "        }#T_c637f_row2_col0,#T_c637f_row4_col0{\n",
       "            background-color:  #f9fc66;\n",
       "            color:  #000000;\n",
       "        }#T_c637f_row2_col1{\n",
       "            background-color:  #f0f866;\n",
       "            color:  #000000;\n",
       "        }#T_c637f_row3_col0,#T_c637f_row3_col1{\n",
       "            background-color:  #fbfd66;\n",
       "            color:  #000000;\n",
       "        }#T_c637f_row4_col1{\n",
       "            background-color:  #fcfe66;\n",
       "            color:  #000000;\n",
       "        }#T_c637f_row5_col0,#T_c637f_row5_col1,#T_c637f_row6_col1{\n",
       "            background-color:  #ffff66;\n",
       "            color:  #000000;\n",
       "        }#T_c637f_row6_col0{\n",
       "            background-color:  #fefe66;\n",
       "            color:  #000000;\n",
       "        }</style><table id=\"T_c637f_\" ><thead>    <tr>        <th class=\"index_name level0\" >Survived</th>        <th class=\"col_heading level0 col0\" >0</th>        <th class=\"col_heading level0 col1\" >1</th>    </tr>    <tr>        <th class=\"index_name level0\" >SibSp</th>        <th class=\"blank\" ></th>        <th class=\"blank\" ></th>    </tr></thead><tbody>\n",
       "                <tr>\n",
       "                        <th id=\"T_c637f_level0_row0\" class=\"row_heading level0 row0\" >0</th>\n",
       "                        <td id=\"T_c637f_row0_col0\" class=\"data row0 col0\" >398</td>\n",
       "                        <td id=\"T_c637f_row0_col1\" class=\"data row0 col1\" >210</td>\n",
       "            </tr>\n",
       "            <tr>\n",
       "                        <th id=\"T_c637f_level0_row1\" class=\"row_heading level0 row1\" >1</th>\n",
       "                        <td id=\"T_c637f_row1_col0\" class=\"data row1 col0\" >97</td>\n",
       "                        <td id=\"T_c637f_row1_col1\" class=\"data row1 col1\" >112</td>\n",
       "            </tr>\n",
       "            <tr>\n",
       "                        <th id=\"T_c637f_level0_row2\" class=\"row_heading level0 row2\" >2</th>\n",
       "                        <td id=\"T_c637f_row2_col0\" class=\"data row2 col0\" >15</td>\n",
       "                        <td id=\"T_c637f_row2_col1\" class=\"data row2 col1\" >13</td>\n",
       "            </tr>\n",
       "            <tr>\n",
       "                        <th id=\"T_c637f_level0_row3\" class=\"row_heading level0 row3\" >3</th>\n",
       "                        <td id=\"T_c637f_row3_col0\" class=\"data row3 col0\" >12</td>\n",
       "                        <td id=\"T_c637f_row3_col1\" class=\"data row3 col1\" >4</td>\n",
       "            </tr>\n",
       "            <tr>\n",
       "                        <th id=\"T_c637f_level0_row4\" class=\"row_heading level0 row4\" >4</th>\n",
       "                        <td id=\"T_c637f_row4_col0\" class=\"data row4 col0\" >15</td>\n",
       "                        <td id=\"T_c637f_row4_col1\" class=\"data row4 col1\" >3</td>\n",
       "            </tr>\n",
       "            <tr>\n",
       "                        <th id=\"T_c637f_level0_row5\" class=\"row_heading level0 row5\" >5</th>\n",
       "                        <td id=\"T_c637f_row5_col0\" class=\"data row5 col0\" >5</td>\n",
       "                        <td id=\"T_c637f_row5_col1\" class=\"data row5 col1\" >0</td>\n",
       "            </tr>\n",
       "            <tr>\n",
       "                        <th id=\"T_c637f_level0_row6\" class=\"row_heading level0 row6\" >8</th>\n",
       "                        <td id=\"T_c637f_row6_col0\" class=\"data row6 col0\" >7</td>\n",
       "                        <td id=\"T_c637f_row6_col1\" class=\"data row6 col1\" >0</td>\n",
       "            </tr>\n",
       "    </tbody></table>"
      ],
      "text/plain": [
       "<pandas.io.formats.style.Styler at 0x7fe16376dc50>"
      ]
     },
     "execution_count": 118,
     "metadata": {},
     "output_type": "execute_result"
    }
   ],
   "source": [
    "pd.crosstab([df[\"SibSp\"]], df[\"Survived\"]).style.background_gradient(cmap='summer_r')"
   ]
  },
  {
   "cell_type": "code",
   "execution_count": 126,
   "metadata": {
    "ExecuteTime": {
     "end_time": "2021-01-24T14:33:23.148964Z",
     "start_time": "2021-01-24T14:33:22.543338Z"
    },
    "hidden": true
   },
   "outputs": [
    {
     "data": {
      "image/png": "[encoded data removed]",
      "text/plain": [
       "<Figure size 1440x576 with 2 Axes>"
      ]
     },
     "metadata": {},
     "output_type": "display_data"
    }
   ],
   "source": [
    "f, ax = plt.subplots(1, 2, figsize=(20,8))\n",
    "\n",
    "sns.barplot(data=df, x=\"SibSp\", y=\"Survived\", ax=ax[0])\n",
    "\n",
    "sns.pointplot(data=df, x=\"SibSp\", y=\"Survived\", kind=\"point\", ax=ax[1]);"
   ]
  },
  {
   "cell_type": "markdown",
   "metadata": {
    "heading_collapsed": true,
    "hidden": true
   },
   "source": [
    "### `Survival` rate by `Parch`\n",
    "\n",
    "---\n",
    "\n",
    "Passengers with their parents on board have greater chance of survival. It however reduces as the number goes up."
   ]
  },
  {
   "cell_type": "code",
   "execution_count": 128,
   "metadata": {
    "ExecuteTime": {
     "end_time": "2021-01-24T14:34:09.661040Z",
     "start_time": "2021-01-24T14:34:09.036339Z"
    },
    "hidden": true
   },
   "outputs": [
    {
     "data": {
      "image/png": "[encoded data removed]",
      "text/plain": [
       "<Figure size 1440x576 with 2 Axes>"
      ]
     },
     "metadata": {},
     "output_type": "display_data"
    }
   ],
   "source": [
    "f, ax = plt.subplots(1, 2, figsize=(20,8))\n",
    "\n",
    "sns.barplot(data=df, x=\"Parch\", y=\"Survived\", ax=ax[0])\n",
    "\n",
    "sns.pointplot(data=df, x=\"Parch\", y=\"Survived\", ax=ax[1]);"
   ]
  },
  {
   "cell_type": "markdown",
   "metadata": {
    "heading_collapsed": true,
    "hidden": true
   },
   "source": [
    "### Fare\n",
    "\n",
    "---\n",
    "\n",
    "There looks to be a large distribution in the fares of Passengers in Pclass 1 and this distribution goes on decreasing as the standards reduces. As this is also continuous, we can convert into discrete values by using binning."
   ]
  },
  {
   "cell_type": "code",
   "execution_count": 135,
   "metadata": {
    "ExecuteTime": {
     "end_time": "2021-01-24T15:07:06.136636Z",
     "start_time": "2021-01-24T15:07:05.771397Z"
    },
    "hidden": true
   },
   "outputs": [
    {
     "data": {
      "image/png": "[encoded data removed]",
      "text/plain": [
       "<Figure size 1440x576 with 3 Axes>"
      ]
     },
     "metadata": {},
     "output_type": "display_data"
    }
   ],
   "source": [
    "f, ax = plt.subplots(1, 3, figsize=(20,8))\n",
    "\n",
    "sns.histplot(df[df[\"Pclass\"] == 1][\"Fare\"], kde=True, ax=ax[0])\n",
    "ax[0].set_title(\"Fares in Pclass 1\")\n",
    "\n",
    "sns.histplot(df[df[\"Pclass\"] == 2][\"Fare\"], kde=True, ax=ax[1])\n",
    "ax[1].set_title(\"Fares in Pclass 2\")\n",
    "\n",
    "sns.histplot(df[df[\"Pclass\"] == 3][\"Fare\"], kde=True, ax=ax[2])\n",
    "ax[2].set_title(\"Fares in Pclass 3\");"
   ]
  },
  {
   "cell_type": "markdown",
   "metadata": {
    "heading_collapsed": true
   },
   "source": [
    "## Data Processing\n",
    "\n",
    "\n",
    "---\n",
    "\n",
    "Whenever we are given a dataset with features, it is not necessary that all the features will be important. There maybe be many redundant features which should be eliminated. Also we can add new features by observing or extracting information from other features.\n",
    "\n",
    "In this stage, we process data in a way to convert it suitable for modeling."
   ]
  },
  {
   "cell_type": "markdown",
   "metadata": {
    "heading_collapsed": true,
    "hidden": true
   },
   "source": [
    "### Fill missing values in `Age`\n",
    "\n",
    "---\n",
    "\n",
    "We saw that the `Age` variable had lots of missing values. Filling these missing values by mean or median age will not be a wise action, since there are children aged 0.42 years and we fill missing values for them with 29.69 years or 28 years.\n",
    "\n",
    "The way out from this will be to figure out what age-band does the passenger lie.\n",
    "\n",
    "To find the age group, we can use `Name` variable. We can extract the initials of the passengers and then group them."
   ]
  },
  {
   "cell_type": "code",
   "execution_count": 100,
   "metadata": {
    "ExecuteTime": {
     "end_time": "2021-01-24T12:56:29.249866Z",
     "start_time": "2021-01-24T12:56:29.232777Z"
    },
    "hidden": true
   },
   "outputs": [
    {
     "data": {
      "text/plain": [
       "count    714.000000\n",
       "mean      29.699118\n",
       "std       14.526497\n",
       "min        0.420000\n",
       "25%       20.125000\n",
       "50%       28.000000\n",
       "75%       38.000000\n",
       "max       80.000000\n",
       "Name: Age, dtype: float64"
      ]
     },
     "execution_count": 100,
     "metadata": {},
     "output_type": "execute_result"
    }
   ],
   "source": [
    "df[\"Age\"].describe()"
   ]
  },
  {
   "cell_type": "markdown",
   "metadata": {
    "hidden": true
   },
   "source": [
    "We are using the regex: `([A-Za-z]+)\\.` So what it does is, it looks for strings which lie between `A-Z` or `a-z` and followed by a `.(dot)`. Hence, we successfully extract the initials from the `Name`. Note that some initials are misspelled and need to replace them."
   ]
  },
  {
   "cell_type": "code",
   "execution_count": 104,
   "metadata": {
    "ExecuteTime": {
     "end_time": "2021-01-24T13:03:45.133360Z",
     "start_time": "2021-01-24T13:03:45.128768Z"
    },
    "hidden": true
   },
   "outputs": [],
   "source": [
    "df[\"Initials\"] = df[\"Name\"].str.extract('([A-Za-z]+)\\.')"
   ]
  },
  {
   "cell_type": "code",
   "execution_count": 111,
   "metadata": {
    "ExecuteTime": {
     "end_time": "2021-01-24T13:23:15.342765Z",
     "start_time": "2021-01-24T13:23:15.338027Z"
    },
    "hidden": true
   },
   "outputs": [],
   "source": [
    "df[\"Initials\"] = df['Initials'].replace(['Mlle','Mme','Ms','Dr','Major','Lady','Countess','Jonkheer','Col','Rev','Capt','Sir','Don'],\n",
    "                      ['Miss','Miss','Miss','Mr','Mr','Mrs','Mrs','Other','Other','Other','Mr','Mr','Mr']).str.strip()"
   ]
  },
  {
   "cell_type": "code",
   "execution_count": 113,
   "metadata": {
    "ExecuteTime": {
     "end_time": "2021-01-24T13:23:39.649830Z",
     "start_time": "2021-01-24T13:23:39.645362Z"
    },
    "hidden": true
   },
   "outputs": [
    {
     "data": {
      "text/plain": [
       "Initials\n",
       "Master     4.574167\n",
       "Miss      21.860000\n",
       "Mr        32.739609\n",
       "Mrs       35.981818\n",
       "Other     45.888889\n",
       "Name: Age, dtype: float64"
      ]
     },
     "execution_count": 113,
     "metadata": {},
     "output_type": "execute_result"
    }
   ],
   "source": [
    "df.groupby(\"Initials\")[\"Age\"].mean()"
   ]
  },
  {
   "cell_type": "markdown",
   "metadata": {
    "heading_collapsed": true,
    "hidden": true
   },
   "source": [
    "#### Filling missing values by Age group mean"
   ]
  },
  {
   "cell_type": "code",
   "execution_count": 116,
   "metadata": {
    "ExecuteTime": {
     "end_time": "2021-01-24T13:32:45.775278Z",
     "start_time": "2021-01-24T13:32:45.763552Z"
    },
    "hidden": true
   },
   "outputs": [],
   "source": [
    "df.loc[(df[\"Age\"].isnull()) & (df[\"Initials\"] == \"Master\"), \"Age\"] = 5\n",
    "\n",
    "df.loc[(df[\"Age\"].isnull()) & (df[\"Initials\"] == \"Miss\"), \"Age\"] = 22\n",
    "\n",
    "df.loc[(df[\"Age\"].isnull()) & (df[\"Initials\"] == \"Mr\"), \"Age\"] = 33\n",
    "\n",
    "df.loc[(df[\"Age\"].isnull()) & (df[\"Initials\"] == \"Mrs\"), \"Age\"] = 36\n",
    "\n",
    "df.loc[(df[\"Age\"].isnull()) & (df[\"Initials\"] == \"Other\"), \"Age\"] = 46"
   ]
  },
  {
   "cell_type": "markdown",
   "metadata": {
    "heading_collapsed": true,
    "hidden": true
   },
   "source": [
    "#### Binning `Age` variable\n",
    "\n",
    "---\n",
    "\n",
    "The age range is 0-80 and we can divide `Age` into 5 bins."
   ]
  },
  {
   "cell_type": "code",
   "execution_count": 140,
   "metadata": {
    "ExecuteTime": {
     "end_time": "2021-01-24T16:00:29.986550Z",
     "start_time": "2021-01-24T16:00:29.976512Z"
    },
    "hidden": true
   },
   "outputs": [],
   "source": [
    "df['Age_band'] = 0\n",
    "\n",
    "df.loc[df[\"Age\"] <= 16, \"Age_band\"] = 0\n",
    "\n",
    "df.loc[(df[\"Age\"] > 16) & (df[\"Age\"] <= 32), \"Age_band\"] = 1\n",
    "\n",
    "df.loc[(df[\"Age\"] > 32) & (df[\"Age\"] <= 48), \"Age_band\"] = 2\n",
    "\n",
    "df.loc[(df[\"Age\"] > 48) & (df[\"Age\"] <= 64), \"Age_band\"] = 3\n",
    "\n",
    "df.loc[df[\"Age\"] > 64, \"Age_band\"] = 4"
   ]
  },
  {
   "cell_type": "code",
   "execution_count": 142,
   "metadata": {
    "ExecuteTime": {
     "end_time": "2021-01-24T16:00:53.712778Z",
     "start_time": "2021-01-24T16:00:53.686908Z"
    },
    "hidden": true
   },
   "outputs": [
    {
     "data": {
      "text/html": [
       "<style  type=\"text/css\" >\n",
       "#T_0d2bf_row0_col0{\n",
       "            background-color:  #008066;\n",
       "            color:  #f1f1f1;\n",
       "        }#T_0d2bf_row1_col0{\n",
       "            background-color:  #279366;\n",
       "            color:  #000000;\n",
       "        }#T_0d2bf_row2_col0{\n",
       "            background-color:  #bfdf66;\n",
       "            color:  #000000;\n",
       "        }#T_0d2bf_row3_col0{\n",
       "            background-color:  #d7eb66;\n",
       "            color:  #000000;\n",
       "        }#T_0d2bf_row4_col0{\n",
       "            background-color:  #ffff66;\n",
       "            color:  #000000;\n",
       "        }</style><table id=\"T_0d2bf_\" ><thead>    <tr>        <th class=\"blank level0\" ></th>        <th class=\"col_heading level0 col0\" >Age_band</th>    </tr></thead><tbody>\n",
       "                <tr>\n",
       "                        <th id=\"T_0d2bf_level0_row0\" class=\"row_heading level0 row0\" >1</th>\n",
       "                        <td id=\"T_0d2bf_row0_col0\" class=\"data row0 col0\" >382</td>\n",
       "            </tr>\n",
       "            <tr>\n",
       "                        <th id=\"T_0d2bf_level0_row1\" class=\"row_heading level0 row1\" >2</th>\n",
       "                        <td id=\"T_0d2bf_row1_col0\" class=\"data row1 col0\" >325</td>\n",
       "            </tr>\n",
       "            <tr>\n",
       "                        <th id=\"T_0d2bf_level0_row2\" class=\"row_heading level0 row2\" >0</th>\n",
       "                        <td id=\"T_0d2bf_row2_col0\" class=\"data row2 col0\" >104</td>\n",
       "            </tr>\n",
       "            <tr>\n",
       "                        <th id=\"T_0d2bf_level0_row3\" class=\"row_heading level0 row3\" >3</th>\n",
       "                        <td id=\"T_0d2bf_row3_col0\" class=\"data row3 col0\" >69</td>\n",
       "            </tr>\n",
       "            <tr>\n",
       "                        <th id=\"T_0d2bf_level0_row4\" class=\"row_heading level0 row4\" >4</th>\n",
       "                        <td id=\"T_0d2bf_row4_col0\" class=\"data row4 col0\" >11</td>\n",
       "            </tr>\n",
       "    </tbody></table>"
      ],
      "text/plain": [
       "<pandas.io.formats.style.Styler at 0x7fe161c00310>"
      ]
     },
     "execution_count": 142,
     "metadata": {},
     "output_type": "execute_result"
    }
   ],
   "source": [
    "df[\"Age_band\"].value_counts().to_frame().style.background_gradient(cmap=\"summer_r\")"
   ]
  },
  {
   "cell_type": "markdown",
   "metadata": {
    "hidden": true
   },
   "source": [
    "The survival rate decreases as the age increases irrespective of the Pclass."
   ]
  },
  {
   "cell_type": "code",
   "execution_count": 144,
   "metadata": {
    "ExecuteTime": {
     "end_time": "2021-01-24T16:01:43.905924Z",
     "start_time": "2021-01-24T16:01:43.352388Z"
    },
    "hidden": true
   },
   "outputs": [
    {
     "data": {
      "image/png": "[encoded data removed]",
      "text/plain": [
       "<Figure size 1080x360 with 3 Axes>"
      ]
     },
     "metadata": {},
     "output_type": "display_data"
    }
   ],
   "source": [
    "sns.catplot(data=df, x=\"Age_band\", y=\"Survived\", col=\"Pclass\", kind=\"point\");"
   ]
  },
  {
   "cell_type": "markdown",
   "metadata": {
    "heading_collapsed": true,
    "hidden": true
   },
   "source": [
    "### Filling missing values in `Embarked`\n",
    "\n",
    "---\n",
    "\n",
    "As `Southampton` is the mode of `Embarked` column, we impute missing values by it."
   ]
  },
  {
   "cell_type": "code",
   "execution_count": 145,
   "metadata": {
    "ExecuteTime": {
     "end_time": "2021-01-24T16:03:28.151927Z",
     "start_time": "2021-01-24T16:03:28.140728Z"
    },
    "hidden": true
   },
   "outputs": [
    {
     "data": {
      "text/plain": [
       "0    S\n",
       "dtype: object"
      ]
     },
     "execution_count": 145,
     "metadata": {},
     "output_type": "execute_result"
    }
   ],
   "source": [
    "df[\"Embarked\"].mode()"
   ]
  },
  {
   "cell_type": "code",
   "execution_count": 147,
   "metadata": {
    "ExecuteTime": {
     "end_time": "2021-01-24T16:04:03.009334Z",
     "start_time": "2021-01-24T16:04:03.005244Z"
    },
    "hidden": true
   },
   "outputs": [],
   "source": [
    "df[\"Embarked\"] = df[\"Embarked\"].fillna(\"S\")"
   ]
  },
  {
   "cell_type": "markdown",
   "metadata": {
    "heading_collapsed": true,
    "hidden": true
   },
   "source": [
    "### `Family_Size` and `Alone`\n",
    "\n",
    "---\n",
    "\n",
    "At this point, we can create a new feature called `Family_Size` and `Alone` and analyze it. This feature is the summation of `Parch` and `SibSp`. It gives us a combined data so that we can check if survival rate have anything to do with family size of the passengers. Alone will denote whether a passenger is alone or not."
   ]
  },
  {
   "cell_type": "code",
   "execution_count": 149,
   "metadata": {
    "ExecuteTime": {
     "end_time": "2021-01-24T16:12:03.851720Z",
     "start_time": "2021-01-24T16:12:03.837177Z"
    },
    "hidden": true
   },
   "outputs": [],
   "source": [
    "df[\"Family_Size\"] = df[\"Parch\"] + df[\"SibSp\"]\n",
    "\n",
    "\n",
    "df[\"Alone\"] = 0\n",
    "\n",
    "df.loc[df[\"Family_Size\"] == 0, \"Alone\"] = 1"
   ]
  },
  {
   "cell_type": "markdown",
   "metadata": {
    "hidden": true
   },
   "source": [
    "`Family_Size=0` means that the passenger is alone. Clearly, if you are alone or `Family_Size=0`, then chances for survival is very low. For `Family Size > 4`, the chances decrease too."
   ]
  },
  {
   "cell_type": "code",
   "execution_count": 153,
   "metadata": {
    "ExecuteTime": {
     "end_time": "2021-01-24T16:12:36.876660Z",
     "start_time": "2021-01-24T16:12:36.490439Z"
    },
    "hidden": true
   },
   "outputs": [
    {
     "data": {
      "image/png": "[encoded data removed]",
      "text/plain": [
       "<Figure size 1296x432 with 2 Axes>"
      ]
     },
     "metadata": {},
     "output_type": "display_data"
    }
   ],
   "source": [
    "f, ax = plt.subplots(1, 2, figsize=(18,6))\n",
    "\n",
    "sns.pointplot(data=df, x=\"Family_Size\", y=\"Survived\", kind=\"point\" ,ax=ax[0])\n",
    "\n",
    "sns.pointplot(data=df, x=\"Alone\", y=\"Survived\", kind=\"point\", ax=ax[1]);"
   ]
  },
  {
   "cell_type": "markdown",
   "metadata": {
    "hidden": true
   },
   "source": [
    "It is clear that being alone is harmful irrespective of `Sex` or `Pclass`, except for `Pclass 3` where the chances of females who are alone is high than those with family."
   ]
  },
  {
   "cell_type": "code",
   "execution_count": 157,
   "metadata": {
    "ExecuteTime": {
     "end_time": "2021-01-24T16:18:30.035123Z",
     "start_time": "2021-01-24T16:18:29.395695Z"
    },
    "hidden": true
   },
   "outputs": [
    {
     "data": {
      "image/png": "[encoded data removed]",
      "text/plain": [
       "<Figure size 1146.12x360 with 3 Axes>"
      ]
     },
     "metadata": {},
     "output_type": "display_data"
    }
   ],
   "source": [
    "sns.catplot(data=df, x=\"Alone\", y=\"Survived\", hue=\"Sex\", col=\"Pclass\", kind=\"point\");"
   ]
  },
  {
   "cell_type": "markdown",
   "metadata": {
    "heading_collapsed": true,
    "hidden": true
   },
   "source": [
    "### Fare_Range\n",
    "\n",
    "---\n",
    "\n",
    "However `Fare` is a continuous feature, we need to convert it into ordinal value. For this we will use Pandas `qcut()` method. It splits or arranges the values according the number of bins we have passed. So if we pass for 4 bins, it will arrange the values equally spaced into 4 separate bins."
   ]
  },
  {
   "cell_type": "code",
   "execution_count": 161,
   "metadata": {
    "ExecuteTime": {
     "end_time": "2021-01-24T16:30:31.823981Z",
     "start_time": "2021-01-24T16:30:31.808056Z"
    },
    "hidden": true
   },
   "outputs": [],
   "source": [
    "df[\"Fare_Range\"] = pd.qcut(df[\"Fare\"], 4)"
   ]
  },
  {
   "cell_type": "markdown",
   "metadata": {
    "hidden": true
   },
   "source": [
    "we can clearly see that as the `Fare_Range` increases, the chances of survival increases too."
   ]
  },
  {
   "cell_type": "code",
   "execution_count": 162,
   "metadata": {
    "ExecuteTime": {
     "end_time": "2021-01-24T16:30:53.667490Z",
     "start_time": "2021-01-24T16:30:53.645118Z"
    },
    "hidden": true
   },
   "outputs": [
    {
     "data": {
      "text/html": [
       "<style  type=\"text/css\" >\n",
       "#T_55f2c_row0_col0{\n",
       "            background-color:  #ffff66;\n",
       "            color:  #000000;\n",
       "        }#T_55f2c_row1_col0{\n",
       "            background-color:  #b9dc66;\n",
       "            color:  #000000;\n",
       "        }#T_55f2c_row2_col0{\n",
       "            background-color:  #54aa66;\n",
       "            color:  #000000;\n",
       "        }#T_55f2c_row3_col0{\n",
       "            background-color:  #008066;\n",
       "            color:  #f1f1f1;\n",
       "        }</style><table id=\"T_55f2c_\" ><thead>    <tr>        <th class=\"blank level0\" ></th>        <th class=\"col_heading level0 col0\" >Survived</th>    </tr>    <tr>        <th class=\"index_name level0\" >Fare_Range</th>        <th class=\"blank\" ></th>    </tr></thead><tbody>\n",
       "                <tr>\n",
       "                        <th id=\"T_55f2c_level0_row0\" class=\"row_heading level0 row0\" >(-0.001, 7.91]</th>\n",
       "                        <td id=\"T_55f2c_row0_col0\" class=\"data row0 col0\" >0.197309</td>\n",
       "            </tr>\n",
       "            <tr>\n",
       "                        <th id=\"T_55f2c_level0_row1\" class=\"row_heading level0 row1\" >(7.91, 14.454]</th>\n",
       "                        <td id=\"T_55f2c_row1_col0\" class=\"data row1 col0\" >0.303571</td>\n",
       "            </tr>\n",
       "            <tr>\n",
       "                        <th id=\"T_55f2c_level0_row2\" class=\"row_heading level0 row2\" >(14.454, 31.0]</th>\n",
       "                        <td id=\"T_55f2c_row2_col0\" class=\"data row2 col0\" >0.454955</td>\n",
       "            </tr>\n",
       "            <tr>\n",
       "                        <th id=\"T_55f2c_level0_row3\" class=\"row_heading level0 row3\" >(31.0, 512.329]</th>\n",
       "                        <td id=\"T_55f2c_row3_col0\" class=\"data row3 col0\" >0.581081</td>\n",
       "            </tr>\n",
       "    </tbody></table>"
      ],
      "text/plain": [
       "<pandas.io.formats.style.Styler at 0x7fe1615fb950>"
      ]
     },
     "execution_count": 162,
     "metadata": {},
     "output_type": "execute_result"
    }
   ],
   "source": [
    "df.groupby([\"Fare_Range\"])[\"Survived\"].mean().to_frame().style.background_gradient(cmap=\"summer_r\")"
   ]
  },
  {
   "cell_type": "markdown",
   "metadata": {
    "hidden": true
   },
   "source": [
    "Now we cannot pass the `Fare_Range` values as it is. We should convert it into singleton values same as we did in `Age_band`."
   ]
  },
  {
   "cell_type": "code",
   "execution_count": 164,
   "metadata": {
    "ExecuteTime": {
     "end_time": "2021-01-24T16:34:32.793460Z",
     "start_time": "2021-01-24T16:34:32.782867Z"
    },
    "hidden": true
   },
   "outputs": [],
   "source": [
    "df[\"Fare_cat\"] = 0\n",
    "\n",
    "df.loc[df[\"Fare\"] <= 7.91, \"Fare_cat\"] = 0\n",
    "\n",
    "df.loc[(df[\"Fare\"] > 7.91) & (df[\"Fare\"] <= 14.454), \"Fare_cat\"] = 1\n",
    "\n",
    "df.loc[(df[\"Fare\"] > 14.454) & (df[\"Fare\"] <= 31), \"Fare_cat\"] = 2\n",
    "\n",
    "df.loc[(df[\"Fare\"] > 31) & (df[\"Fare\"] <= 513), \"Fare_cat\"]=3"
   ]
  },
  {
   "cell_type": "code",
   "execution_count": 166,
   "metadata": {
    "ExecuteTime": {
     "end_time": "2021-01-24T16:35:18.242340Z",
     "start_time": "2021-01-24T16:35:17.898009Z"
    },
    "hidden": true
   },
   "outputs": [
    {
     "data": {
      "image/png": "[encoded data removed]",
      "text/plain": [
       "<Figure size 426.125x360 with 1 Axes>"
      ]
     },
     "metadata": {},
     "output_type": "display_data"
    }
   ],
   "source": [
    "sns.catplot(data=df, x=\"Fare_cat\", y=\"Survived\", hue=\"Sex\", kind=\"point\");"
   ]
  },
  {
   "cell_type": "markdown",
   "metadata": {
    "heading_collapsed": true,
    "hidden": true
   },
   "source": [
    "### Converting String Values into Numeric\n",
    "\n",
    "---\n",
    "\n",
    "Since we cannot pass strings to a machine learning model, we need to convert features like `Sex`, `Embarked`, and `Initials` into numeric values."
   ]
  },
  {
   "cell_type": "code",
   "execution_count": 169,
   "metadata": {
    "ExecuteTime": {
     "end_time": "2021-01-24T16:39:13.007059Z",
     "start_time": "2021-01-24T16:39:13.000978Z"
    },
    "hidden": true
   },
   "outputs": [],
   "source": [
    "df[\"Sex\"] = df[\"Sex\"].replace([\"male\", \"female\"], [0, 1])\n",
    "\n",
    "df[\"Embarked\"] = df[\"Embarked\"].replace([\"S\", \"C\", \"Q\"], [0, 1, 2])\n",
    "\n",
    "df[\"Initials\"] = df[\"Initials\"].replace([\"Mr\", \"Mrs\", \"Miss\", \"Master\", \"Other\"], [0, 1, 2, 3, 4])"
   ]
  },
  {
   "cell_type": "markdown",
   "metadata": {
    "heading_collapsed": true,
    "hidden": true
   },
   "source": [
    "### Drop Redundant Features\n",
    "\n",
    "---\n",
    "\n",
    "After all these manipulations some features become redundant or even duplicate. We need to remove them.\n",
    "\n",
    "$$\n",
    "$$\n",
    "\n",
    "**Name** - We have `Initials` features.\n",
    "\n",
    "\n",
    "**Age** - We have the `Age_band` feature, instead.\n",
    "\n",
    "\n",
    "**Ticket** - Seems to be a random string and may not carry any information.\n",
    "\n",
    "\n",
    "**Fare** - We have the `Fare_cat` feature, instead.\n",
    "\n",
    "\n",
    "**Cabin** - A lot of NaN values and also many passengers have multiple cabins. So this is a useless feature.\n",
    "\n",
    "\n",
    "**Fare_Range** - We have the `Fare_cat` feature.\n",
    "\n",
    "\n",
    "**PassengerId** - This is a unique identifier for a passenger and does not carry any information."
   ]
  },
  {
   "cell_type": "code",
   "execution_count": 173,
   "metadata": {
    "ExecuteTime": {
     "end_time": "2021-01-24T16:46:52.924524Z",
     "start_time": "2021-01-24T16:46:52.918394Z"
    },
    "hidden": true
   },
   "outputs": [],
   "source": [
    "df = df.drop([\"Name\", \"Age\", \"Ticket\", \"Fare\", \"Cabin\", \"Fare_Range\", \"PassengerId\"], axis=1).reset_index(drop=True)"
   ]
  },
  {
   "cell_type": "code",
   "execution_count": 174,
   "metadata": {
    "ExecuteTime": {
     "end_time": "2021-01-24T16:46:55.869890Z",
     "start_time": "2021-01-24T16:46:55.845389Z"
    },
    "hidden": true
   },
   "outputs": [
    {
     "data": {
      "text/html": [
       "<div>\n",
       "<style scoped>\n",
       "    .dataframe tbody tr th:only-of-type {\n",
       "        vertical-align: middle;\n",
       "    }\n",
       "\n",
       "    .dataframe tbody tr th {\n",
       "        vertical-align: top;\n",
       "    }\n",
       "\n",
       "    .dataframe thead th {\n",
       "        text-align: right;\n",
       "    }\n",
       "</style>\n",
       "<table border=\"1\" class=\"dataframe\">\n",
       "  <thead>\n",
       "    <tr style=\"text-align: right;\">\n",
       "      <th></th>\n",
       "      <th>Survived</th>\n",
       "      <th>Pclass</th>\n",
       "      <th>Sex</th>\n",
       "      <th>SibSp</th>\n",
       "      <th>Parch</th>\n",
       "      <th>Embarked</th>\n",
       "      <th>Initials</th>\n",
       "      <th>Age_band</th>\n",
       "      <th>Family_Size</th>\n",
       "      <th>Alone</th>\n",
       "      <th>Fare_cat</th>\n",
       "    </tr>\n",
       "  </thead>\n",
       "  <tbody>\n",
       "    <tr>\n",
       "      <th>0</th>\n",
       "      <td>0</td>\n",
       "      <td>3</td>\n",
       "      <td>0</td>\n",
       "      <td>1</td>\n",
       "      <td>0</td>\n",
       "      <td>0</td>\n",
       "      <td>0</td>\n",
       "      <td>1</td>\n",
       "      <td>1</td>\n",
       "      <td>0</td>\n",
       "      <td>0</td>\n",
       "    </tr>\n",
       "    <tr>\n",
       "      <th>1</th>\n",
       "      <td>1</td>\n",
       "      <td>1</td>\n",
       "      <td>1</td>\n",
       "      <td>1</td>\n",
       "      <td>0</td>\n",
       "      <td>1</td>\n",
       "      <td>1</td>\n",
       "      <td>2</td>\n",
       "      <td>1</td>\n",
       "      <td>0</td>\n",
       "      <td>3</td>\n",
       "    </tr>\n",
       "    <tr>\n",
       "      <th>2</th>\n",
       "      <td>1</td>\n",
       "      <td>3</td>\n",
       "      <td>1</td>\n",
       "      <td>0</td>\n",
       "      <td>0</td>\n",
       "      <td>0</td>\n",
       "      <td>2</td>\n",
       "      <td>1</td>\n",
       "      <td>0</td>\n",
       "      <td>1</td>\n",
       "      <td>1</td>\n",
       "    </tr>\n",
       "    <tr>\n",
       "      <th>3</th>\n",
       "      <td>1</td>\n",
       "      <td>1</td>\n",
       "      <td>1</td>\n",
       "      <td>1</td>\n",
       "      <td>0</td>\n",
       "      <td>0</td>\n",
       "      <td>1</td>\n",
       "      <td>2</td>\n",
       "      <td>1</td>\n",
       "      <td>0</td>\n",
       "      <td>3</td>\n",
       "    </tr>\n",
       "    <tr>\n",
       "      <th>4</th>\n",
       "      <td>0</td>\n",
       "      <td>3</td>\n",
       "      <td>0</td>\n",
       "      <td>0</td>\n",
       "      <td>0</td>\n",
       "      <td>0</td>\n",
       "      <td>0</td>\n",
       "      <td>2</td>\n",
       "      <td>0</td>\n",
       "      <td>1</td>\n",
       "      <td>1</td>\n",
       "    </tr>\n",
       "  </tbody>\n",
       "</table>\n",
       "</div>"
      ],
      "text/plain": [
       "   Survived  Pclass  Sex  SibSp  Parch  Embarked  Initials  Age_band  \\\n",
       "0         0       3    0      1      0         0         0         1   \n",
       "1         1       1    1      1      0         1         1         2   \n",
       "2         1       3    1      0      0         0         2         1   \n",
       "3         1       1    1      1      0         0         1         2   \n",
       "4         0       3    0      0      0         0         0         2   \n",
       "\n",
       "   Family_Size  Alone  Fare_cat  \n",
       "0            1      0         0  \n",
       "1            1      0         3  \n",
       "2            0      1         1  \n",
       "3            1      0         3  \n",
       "4            0      1         1  "
      ]
     },
     "execution_count": 174,
     "metadata": {},
     "output_type": "execute_result"
    }
   ],
   "source": [
    "df.head()"
   ]
  },
  {
   "cell_type": "markdown",
   "metadata": {
    "heading_collapsed": true,
    "hidden": true
   },
   "source": [
    "### Train-Test Split"
   ]
  },
  {
   "cell_type": "code",
   "execution_count": 176,
   "metadata": {
    "ExecuteTime": {
     "end_time": "2021-01-24T16:53:38.878466Z",
     "start_time": "2021-01-24T16:53:38.875190Z"
    },
    "hidden": true
   },
   "outputs": [],
   "source": [
    "X = df.drop([\"Survived\"], axis = 1)\n",
    "\n",
    "y = df[\"Survived\"]"
   ]
  },
  {
   "cell_type": "code",
   "execution_count": 177,
   "metadata": {
    "ExecuteTime": {
     "end_time": "2021-01-24T16:53:39.566643Z",
     "start_time": "2021-01-24T16:53:39.553246Z"
    },
    "hidden": true
   },
   "outputs": [],
   "source": [
    "x_train, x_test, y_train, y_test = train_test_split(X, y, test_size=0.2, random_state=425, shuffle=True, stratify=y)"
   ]
  },
  {
   "cell_type": "code",
   "execution_count": 178,
   "metadata": {
    "ExecuteTime": {
     "end_time": "2021-01-24T16:53:45.581976Z",
     "start_time": "2021-01-24T16:53:45.570021Z"
    },
    "hidden": true
   },
   "outputs": [
    {
     "name": "stdout",
     "output_type": "stream",
     "text": [
      "X train size: \t (712, 10)\n",
      "Y train size: \t (712,)\n",
      "X test size: \t (179, 10)\n",
      "Y test size: \t (179,)\n"
     ]
    }
   ],
   "source": [
    "print(\"X train size: \\t\", x_train.shape)\n",
    "print(\"Y train size: \\t\", y_train.shape)\n",
    "\n",
    "print(\"X test size: \\t\", x_test.shape)\n",
    "print(\"Y test size: \\t\", y_test.shape)"
   ]
  },
  {
   "cell_type": "markdown",
   "metadata": {
    "heading_collapsed": true
   },
   "source": [
    "## Logistic Regression\n",
    "\n",
    "\n",
    "---\n",
    "\n",
    "\n",
    "Explain what is a binary logistic regression\n",
    "\n",
    "\n",
    "\n",
    "\n",
    "$$\n",
    "$$\n",
    "\n",
    "![alt text](images/logistic_regression.jpeg \"Title\")"
   ]
  },
  {
   "cell_type": "code",
   "execution_count": 179,
   "metadata": {
    "ExecuteTime": {
     "end_time": "2021-01-24T16:55:09.995549Z",
     "start_time": "2021-01-24T16:55:09.989457Z"
    },
    "hidden": true
   },
   "outputs": [],
   "source": [
    "logistic_regression = LogisticRegression() # Create model object"
   ]
  },
  {
   "cell_type": "code",
   "execution_count": 182,
   "metadata": {
    "ExecuteTime": {
     "end_time": "2021-01-24T16:55:38.923655Z",
     "start_time": "2021-01-24T16:55:38.910081Z"
    },
    "hidden": true
   },
   "outputs": [
    {
     "data": {
      "text/plain": [
       "LogisticRegression()"
      ]
     },
     "execution_count": 182,
     "metadata": {},
     "output_type": "execute_result"
    }
   ],
   "source": [
    "logistic_regression.fit(x_train, y_train) # Fit model to the data - actual model training"
   ]
  },
  {
   "cell_type": "code",
   "execution_count": 183,
   "metadata": {
    "ExecuteTime": {
     "end_time": "2021-01-24T16:56:23.155028Z",
     "start_time": "2021-01-24T16:56:23.151762Z"
    },
    "hidden": true
   },
   "outputs": [],
   "source": [
    "prediction_logistic_regression = logistic_regression.predict(x_test)"
   ]
  },
  {
   "cell_type": "code",
   "execution_count": 184,
   "metadata": {
    "ExecuteTime": {
     "end_time": "2021-01-24T16:57:00.449403Z",
     "start_time": "2021-01-24T16:57:00.445937Z"
    },
    "hidden": true
   },
   "outputs": [
    {
     "name": "stdout",
     "output_type": "stream",
     "text": [
      "The accuracy of the Logistic Regression is:  0.8212290502793296\n"
     ]
    }
   ],
   "source": [
    "print(\"The accuracy of the Logistic Regression is: \", metrics.accuracy_score(prediction_logistic_regression,\n",
    "                                                                             y_test))"
   ]
  },
  {
   "cell_type": "markdown",
   "metadata": {
    "heading_collapsed": true
   },
   "source": [
    "## Decision Tree Classification - აღწერა გასასწორებელია\n",
    "\n",
    "\n",
    "---\n",
    "\n",
    "\n",
    "Decision Trees can also help a lot when we need to understanding the data. A good example is the traditional problem of classifying Iris flowers included in the sklearn documentation, were we can learn about the characteristics of each flower type in the resulting tree. Given their transparency and relatively low computational cost, Decision Trees are also very useful for exploring your data before applying other algorithms. They're helpful for checking the quality of engineered features and identifying the most relevant ones by visualising the resulting tree.\n",
    "\n",
    "The main downsides of Decision Trees are their tendency to over-fit, their inability to grasp relationships between features, and the use of greedy learning algorithms (not guaranteed to find the global optimal model). Using them in a Random Forest helps mitigate some of this issues.\n",
    "\n",
    "After this short introduction to Decision Trees and their place in Machine Learning, let's see how to apply them for the Titanic challenge. First, we're going to prepare the dataset and discuss the most relevant features. We'll then find the best tree depth to avoid over-fitting, generate the final model, and explain how to visualise the resulting tree.\n",
    "\n",
    "\n",
    "\n",
    "$$\n",
    "$$\n",
    "\n",
    "![alt text](images/decision_tree.png \"Title\")"
   ]
  },
  {
   "cell_type": "markdown",
   "metadata": {
    "hidden": true
   },
   "source": [
    "https://www.kaggle.com/masumrumi/decision-tree-with-titanic-dataset\n",
    "\n",
    "\n",
    "\n",
    "https://www.kaggle.com/dmilla/introduction-to-decision-trees-titanic-dataset"
   ]
  },
  {
   "cell_type": "code",
   "execution_count": 185,
   "metadata": {
    "ExecuteTime": {
     "end_time": "2021-01-24T17:01:39.754742Z",
     "start_time": "2021-01-24T17:01:39.748303Z"
    },
    "hidden": true
   },
   "outputs": [],
   "source": [
    "tree_classificator = DecisionTreeClassifier(random_state=425) # Create model object"
   ]
  },
  {
   "cell_type": "code",
   "execution_count": 186,
   "metadata": {
    "ExecuteTime": {
     "end_time": "2021-01-24T17:02:00.290742Z",
     "start_time": "2021-01-24T17:02:00.272078Z"
    },
    "hidden": true
   },
   "outputs": [
    {
     "data": {
      "text/plain": [
       "DecisionTreeClassifier(random_state=425)"
      ]
     },
     "execution_count": 186,
     "metadata": {},
     "output_type": "execute_result"
    }
   ],
   "source": [
    "tree_classificator.fit(x_train, y_train) # Fit the model"
   ]
  },
  {
   "cell_type": "code",
   "execution_count": 187,
   "metadata": {
    "ExecuteTime": {
     "end_time": "2021-01-24T17:02:21.038245Z",
     "start_time": "2021-01-24T17:02:21.034189Z"
    },
    "hidden": true
   },
   "outputs": [],
   "source": [
    "prediction_tree = tree_classificator.predict(x_test)"
   ]
  },
  {
   "cell_type": "code",
   "execution_count": 188,
   "metadata": {
    "ExecuteTime": {
     "end_time": "2021-01-24T17:02:51.229346Z",
     "start_time": "2021-01-24T17:02:51.223593Z"
    },
    "hidden": true
   },
   "outputs": [
    {
     "name": "stdout",
     "output_type": "stream",
     "text": [
      "The accuracy of the Decision Tree is:  0.8100558659217877\n"
     ]
    }
   ],
   "source": [
    "print(\"The accuracy of the Decision Tree is: \", metrics.accuracy_score(prediction_tree, y_test))"
   ]
  },
  {
   "cell_type": "markdown",
   "metadata": {
    "heading_collapsed": true,
    "hidden": true
   },
   "source": [
    "### Feature Importances"
   ]
  },
  {
   "cell_type": "code",
   "execution_count": 190,
   "metadata": {
    "ExecuteTime": {
     "end_time": "2021-01-24T17:04:12.188842Z",
     "start_time": "2021-01-24T17:04:12.186523Z"
    },
    "hidden": true
   },
   "outputs": [],
   "source": [
    "features = x_test.columns.to_list()\n",
    "\n",
    "importances = tree_classificator.feature_importances_\n",
    "\n",
    "indices = np.argsort(importances)"
   ]
  },
  {
   "cell_type": "code",
   "execution_count": 191,
   "metadata": {
    "ExecuteTime": {
     "end_time": "2021-01-24T17:04:27.557564Z",
     "start_time": "2021-01-24T17:04:27.447836Z"
    },
    "hidden": true
   },
   "outputs": [
    {
     "data": {
      "image/png": "[encoded data removed]",
      "text/plain": [
       "<Figure size 720x576 with 1 Axes>"
      ]
     },
     "metadata": {},
     "output_type": "display_data"
    }
   ],
   "source": [
    "plt.figure(figsize=(10, 8))\n",
    "\n",
    "plt.title(\"Feature Importances\")\n",
    "\n",
    "plt.barh(range(len(indices)), importances[indices], color=\"blue\", align=\"center\")\n",
    "\n",
    "plt.yticks(range(len(indices)), [features[i] for i in indices]);"
   ]
  },
  {
   "cell_type": "markdown",
   "metadata": {
    "heading_collapsed": true
   },
   "source": [
    "## Random Forest Classification\n",
    "\n",
    "\n",
    "---\n",
    "\n",
    "Explain Random Forest\n",
    "\n",
    "\n",
    "\n",
    "\n",
    "$$\n",
    "$$\n",
    "\n",
    "![alt text](images/random_forest.png \"Title\")"
   ]
  },
  {
   "cell_type": "code",
   "execution_count": 193,
   "metadata": {
    "ExecuteTime": {
     "end_time": "2021-01-24T17:05:56.477538Z",
     "start_time": "2021-01-24T17:05:56.475086Z"
    },
    "hidden": true
   },
   "outputs": [],
   "source": [
    "forest_classifier = RandomForestClassifier(n_estimators=150, max_depth=3, random_state=425) # Create model onject"
   ]
  },
  {
   "cell_type": "code",
   "execution_count": 194,
   "metadata": {
    "ExecuteTime": {
     "end_time": "2021-01-24T17:06:14.864330Z",
     "start_time": "2021-01-24T17:06:14.688830Z"
    },
    "hidden": true
   },
   "outputs": [
    {
     "data": {
      "text/plain": [
       "RandomForestClassifier(max_depth=3, n_estimators=150, random_state=425)"
      ]
     },
     "execution_count": 194,
     "metadata": {},
     "output_type": "execute_result"
    }
   ],
   "source": [
    "forest_classifier.fit(x_train, y_train) # Fit the model"
   ]
  },
  {
   "cell_type": "code",
   "execution_count": 195,
   "metadata": {
    "ExecuteTime": {
     "end_time": "2021-01-24T17:06:30.127039Z",
     "start_time": "2021-01-24T17:06:30.111739Z"
    },
    "hidden": true
   },
   "outputs": [],
   "source": [
    "prediction_forest = forest_classifier.predict(x_test)"
   ]
  },
  {
   "cell_type": "code",
   "execution_count": 196,
   "metadata": {
    "ExecuteTime": {
     "end_time": "2021-01-24T17:06:57.680774Z",
     "start_time": "2021-01-24T17:06:57.673881Z"
    },
    "hidden": true
   },
   "outputs": [
    {
     "name": "stdout",
     "output_type": "stream",
     "text": [
      "The accuracy of the Random Forest is:  0.8268156424581006\n"
     ]
    }
   ],
   "source": [
    "print(\"The accuracy of the Random Forest is: \", metrics.accuracy_score(prediction_forest, y_test))"
   ]
  },
  {
   "cell_type": "markdown",
   "metadata": {
    "heading_collapsed": true,
    "hidden": true
   },
   "source": [
    "### Feature Importances"
   ]
  },
  {
   "cell_type": "code",
   "execution_count": 197,
   "metadata": {
    "ExecuteTime": {
     "end_time": "2021-01-24T17:07:41.341874Z",
     "start_time": "2021-01-24T17:07:41.329293Z"
    },
    "hidden": true
   },
   "outputs": [],
   "source": [
    "features = x_test.columns.to_list()\n",
    "\n",
    "importances = forest_classifier.feature_importances_\n",
    "\n",
    "indices = np.argsort(importances)"
   ]
  },
  {
   "cell_type": "code",
   "execution_count": 198,
   "metadata": {
    "ExecuteTime": {
     "end_time": "2021-01-24T17:07:51.681599Z",
     "start_time": "2021-01-24T17:07:51.547351Z"
    },
    "hidden": true
   },
   "outputs": [
    {
     "data": {
      "image/png": "[encoded data removed]",
      "text/plain": [
       "<Figure size 720x576 with 1 Axes>"
      ]
     },
     "metadata": {},
     "output_type": "display_data"
    }
   ],
   "source": [
    "plt.figure(figsize=(10, 8))\n",
    "\n",
    "plt.title(\"Feature Importances\")\n",
    "\n",
    "plt.barh(range(len(indices)), importances[indices], color=\"blue\", align=\"center\")\n",
    "\n",
    "plt.yticks(range(len(indices)), [features[i] for i in indices]);"
   ]
  },
  {
   "cell_type": "markdown",
   "metadata": {},
   "source": [
    "## Model Performance Assessment\n",
    "\n",
    "\n",
    "---\n",
    "\n",
    "confusion matrix, ROC-AUC და კიდევ რაღაცეები\n",
    "\n",
    "\n",
    "https://towardsdatascience.com/understanding-the-confusion-matrix-and-how-to-implement-it-in-python-319202e0fe4d"
   ]
  },
  {
   "cell_type": "code",
   "execution_count": 204,
   "metadata": {
    "ExecuteTime": {
     "end_time": "2021-01-24T17:13:40.987958Z",
     "start_time": "2021-01-24T17:13:40.859211Z"
    }
   },
   "outputs": [
    {
     "data": {
      "image/png": "[encoded data removed]",
      "text/plain": [
       "<Figure size 576x396 with 2 Axes>"
      ]
     },
     "metadata": {},
     "output_type": "display_data"
    }
   ],
   "source": [
    "metrics.plot_confusion_matrix(logistic_regression, x_test, y_test, cmap=\"inferno\");"
   ]
  },
  {
   "cell_type": "code",
   "execution_count": 205,
   "metadata": {
    "ExecuteTime": {
     "end_time": "2021-01-24T17:13:40.987958Z",
     "start_time": "2021-01-24T17:13:40.859211Z"
    }
   },
   "outputs": [
    {
     "data": {
      "image/png": "[encoded data removed]",
      "text/plain": [
       "<Figure size 576x396 with 2 Axes>"
      ]
     },
     "metadata": {},
     "output_type": "display_data"
    }
   ],
   "source": [
    "metrics.plot_confusion_matrix(tree_classificator, x_test, y_test, cmap=\"inferno\");"
   ]
  },
  {
   "cell_type": "code",
   "execution_count": 206,
   "metadata": {
    "ExecuteTime": {
     "end_time": "2021-01-24T17:13:41.500641Z",
     "start_time": "2021-01-24T17:13:41.374375Z"
    }
   },
   "outputs": [
    {
     "data": {
      "image/png": "[encoded data removed]",
      "text/plain": [
       "<Figure size 576x396 with 2 Axes>"
      ]
     },
     "metadata": {},
     "output_type": "display_data"
    }
   ],
   "source": [
    "metrics.plot_confusion_matrix(forest_classifier, x_test, y_test, cmap=\"inferno\");"
   ]
  },
  {
   "cell_type": "markdown",
   "metadata": {},
   "source": [
    "## Summary\n",
    "\n",
    "---\n",
    "\n",
    "sdgfsdgs"
   ]
  },
  {
   "cell_type": "code",
   "execution_count": null,
   "metadata": {},
   "outputs": [],
   "source": []
  }
 ],
 "metadata": {
  "kernelspec": {
   "display_name": "('learning': conda)",
   "language": "python",
   "name": "python37764bitlearningcondadead39b8b5cb441aa05edba06d4d913f"
  },
  "language_info": {
   "codemirror_mode": {
    "name": "ipython",
    "version": 3
   },
   "file_extension": ".py",
   "mimetype": "text/x-python",
   "name": "python",
   "nbconvert_exporter": "python",
   "pygments_lexer": "ipython3",
   "version": "3.7.7"
  },
  "varInspector": {
   "cols": {
    "lenName": 16,
    "lenType": 16,
    "lenVar": 40
   },
   "kernels_config": {
    "python": {
     "delete_cmd_postfix": "",
     "delete_cmd_prefix": "del ",
     "library": "var_list.py",
     "varRefreshCmd": "print(var_dic_list())"
    },
    "r": {
     "delete_cmd_postfix": ") ",
     "delete_cmd_prefix": "rm(",
     "library": "var_list.r",
     "varRefreshCmd": "cat(var_dic_list()) "
    }
   },
   "types_to_exclude": [
    "module",
    "function",
    "builtin_function_or_method",
    "instance",
    "_Feature"
   ],
   "window_display": false
  }
 },
 "nbformat": 4,
 "nbformat_minor": 4
}
