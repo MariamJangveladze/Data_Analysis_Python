{
 "cells": [
  {
   "cell_type": "markdown",
   "metadata": {
    "heading_collapsed": true
   },
   "source": [
    "# Time Series\n",
    "\n",
    "---\n",
    "\n",
    "Time series data is an important form of structured data in many different fields, such as finance, economics, ecology, neuroscience, and physics. Anything that is observed or measured at many points in time forms a `Time Series`. Many time series are fixed frequency. However we may have time series with irregular frequency. **We will not deal with irregular frequency time series**.\n",
    "\n",
    "In today's lecture, where we'll be looking at the time series and date functionally in Pandas. Manipulating dates and time is quite flexible in Pandas and thus allows us to conduct more analysis. Actually, Pandas was originally created by Wes McKinney to handle date and time data when he worked as a consultant for hedge funds.\n",
    "\n",
    "\n",
    "### Lecture outline\n",
    "\n",
    "---\n",
    "\n",
    "* Date and Time data types\n",
    "\n",
    "\n",
    "* Dealing with Datetime Objects\n",
    "\n",
    "\n",
    "* Indexing, Selection, Sub-setting\n",
    "\n",
    "\n",
    "* Periods and Period Arithmetic\n",
    "\n",
    "\n",
    "* Date and Time Conversion\n",
    "\n",
    "\n",
    "* Time Shifting\n",
    "\n",
    "\n",
    "* Resampling\n",
    "\n",
    "\n",
    "* Moving Window Functions"
   ]
  },
  {
   "cell_type": "markdown",
   "metadata": {
    "hidden": true
   },
   "source": [
    "#### Reference\n",
    "\n",
    "\n",
    "[Timeseries](https://pandas.pydata.org/pandas-docs/stable/user_guide/cookbook.html#timeseries)\n",
    "\n",
    "\n",
    "[Time series / date functionality](https://pandas.pydata.org/pandas-docs/stable/user_guide/timeseries.html)\n",
    "\n",
    "\n",
    "[Time deltas](https://pandas.pydata.org/pandas-docs/stable/user_guide/timedeltas.html)\n",
    "\n",
    "\n",
    "[Windowing Operations](https://pandas.pydata.org/pandas-docs/stable/user_guide/window.html)\n",
    "\n",
    "\n",
    "[datetime — Basic date and time types](https://docs.python.org/3/library/datetime.html)\n",
    "\n",
    "\n",
    "[Python Datetime](https://www.w3schools.com/python/python_datetime.asp)"
   ]
  },
  {
   "cell_type": "code",
   "execution_count": null,
   "metadata": {
    "ExecuteTime": {
     "end_time": "2021-01-12T03:21:12.216831Z",
     "start_time": "2021-01-12T03:21:11.951307Z"
    },
    "hidden": true
   },
   "outputs": [],
   "source": [
    "import pandas as pd\n",
    "\n",
    "import numpy as np\n",
    "\n",
    "import datetime"
   ]
  },
  {
   "cell_type": "markdown",
   "metadata": {
    "heading_collapsed": true,
    "hidden": true
   },
   "source": [
    "## Date and Time data types\n",
    "\n",
    "---\n",
    "\n",
    "Pandas has four main time related classes:\n",
    "\n",
    "* `Timestamp`\n",
    "\n",
    "\n",
    "* `DatetimeIndex`\n",
    "\n",
    "\n",
    "* `Period`\n",
    "\n",
    "\n",
    "* `PeriodIndex`\n",
    "\n",
    "\n",
    "Before we investigate what are those time classes, we have to know what is `datetime` object at all."
   ]
  },
  {
   "cell_type": "markdown",
   "metadata": {
    "heading_collapsed": true,
    "hidden": true
   },
   "source": [
    "### datetime\n",
    "\n",
    "---\n",
    "\n",
    "Python has builtin module `Datetime` to work with date and time objects. Data and time are objects containing date and time specific characteristics and when we manipulate them, we manipulate objects and not strings.\n",
    "\n",
    "\n",
    "`datetime` module consists of the following type:\n",
    "\n",
    "\n",
    "* `date` - Store calendar date (year, month, day) using the Gregorian calendar\n",
    "\n",
    "\n",
    "* `time` - Store time of day as hours, minutes, seconds, and microseconds\n",
    "\n",
    "\n",
    "* `datetime` - Stores both date and time\n",
    "\n",
    "\n",
    "* `timedelta` - Represents the difference between two datetime values (as days, seconds, and microseconds)\n",
    "\n",
    "\n",
    "* `tzinfo` - Base type for storing time zone information"
   ]
  },
  {
   "cell_type": "code",
   "execution_count": null,
   "metadata": {
    "ExecuteTime": {
     "end_time": "2021-01-11T10:26:51.497384Z",
     "start_time": "2021-01-11T10:26:51.483317Z"
    },
    "hidden": true
   },
   "outputs": [],
   "source": [
    "now = datetime.datetime.now()\n",
    "\n",
    "now"
   ]
  },
  {
   "cell_type": "code",
   "execution_count": null,
   "metadata": {
    "ExecuteTime": {
     "end_time": "2021-01-11T10:26:52.261141Z",
     "start_time": "2021-01-11T10:26:52.258589Z"
    },
    "hidden": true
   },
   "outputs": [],
   "source": [
    "type(now) # datetime object"
   ]
  },
  {
   "cell_type": "markdown",
   "metadata": {
    "hidden": true
   },
   "source": [
    "We can extract those different characteristics from datetime object by using appropriate methods or attributes."
   ]
  },
  {
   "cell_type": "code",
   "execution_count": null,
   "metadata": {
    "ExecuteTime": {
     "end_time": "2021-01-11T11:00:57.393269Z",
     "start_time": "2021-01-11T11:00:57.389726Z"
    },
    "hidden": true
   },
   "outputs": [],
   "source": [
    "now.date() # Extract data\n",
    "\n",
    "now.time() # Extract time\n",
    "\n",
    "now.year # Extract year\n",
    "\n",
    "now.month # Extract month\n",
    "\n",
    "now.day # Extract day\n",
    "\n",
    "now.hour # Extract hour\n",
    "\n",
    "now.minute # Extract minute\n",
    "\n",
    "now.second # Extract second\n",
    "\n",
    "now.microsecond # Extract microsecond"
   ]
  },
  {
   "cell_type": "markdown",
   "metadata": {
    "heading_collapsed": true,
    "hidden": true
   },
   "source": [
    "### Timestamp\n",
    "\n",
    "---\n",
    "\n",
    "`Timestamp` represents a single timestamp and associates values with points in time. In other words, it's a specific instants in time.\n",
    "\n",
    "\n",
    "For example, let's create a timestamp using a string `1/5/2021 10:05AM`, and here we have our timestamp.\n",
    "Timestamp is interchangeable with Python's `datetime` in most cases."
   ]
  },
  {
   "cell_type": "code",
   "execution_count": null,
   "metadata": {
    "ExecuteTime": {
     "end_time": "2021-01-11T11:53:35.659512Z",
     "start_time": "2021-01-11T11:53:35.653471Z"
    },
    "hidden": true
   },
   "outputs": [],
   "source": [
    "pd.Timestamp('1/5/2021 10:05AM')"
   ]
  },
  {
   "cell_type": "markdown",
   "metadata": {
    "hidden": true
   },
   "source": [
    "We can also create a timestamp by passing multiple parameters such as year, month, date, hour, minute, separately."
   ]
  },
  {
   "cell_type": "code",
   "execution_count": null,
   "metadata": {
    "ExecuteTime": {
     "end_time": "2021-01-11T11:53:38.869641Z",
     "start_time": "2021-01-11T11:53:38.863666Z"
    },
    "hidden": true
   },
   "outputs": [],
   "source": [
    "pd.Timestamp(2021, 1, 5, 10, 15)"
   ]
  },
  {
   "cell_type": "code",
   "execution_count": null,
   "metadata": {
    "ExecuteTime": {
     "end_time": "2021-01-11T11:57:23.785943Z",
     "start_time": "2021-01-11T11:57:23.780395Z"
    },
    "hidden": true
   },
   "outputs": [],
   "source": [
    "pd.Timestamp(2021, 1, 5, 10, 15).isoweekday() # Return the day of the week represented by the date. Monday == 1 … Sunday == 7"
   ]
  },
  {
   "cell_type": "markdown",
   "metadata": {
    "hidden": true
   },
   "source": [
    "As it was in case of Python's builtin `datetime` module, we can extract different parts of timestamp object by using appropriate methods and/or attributes"
   ]
  },
  {
   "cell_type": "code",
   "execution_count": null,
   "metadata": {
    "ExecuteTime": {
     "end_time": "2021-01-11T12:00:42.007180Z",
     "start_time": "2021-01-11T12:00:42.004113Z"
    },
    "hidden": true
   },
   "outputs": [],
   "source": [
    "single_timestamp = pd.Timestamp(2021, 1, 5, 10, 15, 23, 154, 4450)\n",
    "\n",
    "single_timestamp"
   ]
  },
  {
   "cell_type": "code",
   "execution_count": null,
   "metadata": {
    "ExecuteTime": {
     "end_time": "2021-01-11T12:07:34.936272Z",
     "start_time": "2021-01-11T12:07:34.921974Z"
    },
    "hidden": true
   },
   "outputs": [],
   "source": [
    "single_timestamp.date() # Extract date\n",
    "\n",
    "single_timestamp.time() # Extract time\n",
    "\n",
    "single_timestamp.year # Extract year\n",
    "\n",
    "single_timestamp.month # Extract month as a number January == 1...December == 12\n",
    "\n",
    "single_timestamp.month_name() # Return actual name of the month\n",
    "\n",
    "single_timestamp.week # Return week number\n",
    "\n",
    "single_timestamp.weekday() # Return weekday as a number Monday == 1 … Sunday == 7\n",
    "\n",
    "single_timestamp.day_name() # Return actual name of the weekday\n",
    "\n",
    "single_timestamp.hour # Extract hour\n",
    "\n",
    "single_timestamp.minute # Extract minute\n",
    "\n",
    "single_timestamp.second # Extract second\n",
    "\n",
    "single_timestamp.microsecond # Extract microsecond\n",
    "\n",
    "single_timestamp.nanosecond # Extract nanosecond"
   ]
  },
  {
   "cell_type": "markdown",
   "metadata": {
    "heading_collapsed": true,
    "hidden": true
   },
   "source": [
    "### Period\n",
    "\n",
    "---\n",
    "\n",
    "If we are interested in a span of a time, we have to use the `Period` object instead of datetime or anything else. `Period` represents fixed period of time. For example: January 2021, etc."
   ]
  },
  {
   "cell_type": "code",
   "execution_count": null,
   "metadata": {
    "ExecuteTime": {
     "end_time": "2021-01-11T12:12:05.123777Z",
     "start_time": "2021-01-11T12:12:05.120520Z"
    },
    "hidden": true
   },
   "outputs": [],
   "source": [
    "pd.Period(value=\"1/2021\", freq=\"M\") # A period object, that is January 2021,"
   ]
  },
  {
   "cell_type": "code",
   "execution_count": null,
   "metadata": {
    "ExecuteTime": {
     "end_time": "2021-01-11T12:13:05.697166Z",
     "start_time": "2021-01-11T12:13:05.685777Z"
    },
    "hidden": true
   },
   "outputs": [],
   "source": [
    "pd.Period(value='1/5/2021', freq=\"D\") # More granular period object - January 5th, 2021"
   ]
  },
  {
   "cell_type": "markdown",
   "metadata": {
    "hidden": true
   },
   "source": [
    " "
   ]
  },
  {
   "cell_type": "markdown",
   "metadata": {
    "hidden": true
   },
   "source": [
    "<div class=\"alert alert-info\">\n",
    "\n",
    "**Note:** We can extract date and time characteristics from a `Period` object as we did in case of `Timestamp`\n",
    "    \n",
    "\n",
    "> [**pandas.Period**](https://pandas.pydata.org/pandas-docs/stable/reference/api/pandas.Period.html)\n",
    "\n",
    "</div>"
   ]
  },
  {
   "cell_type": "markdown",
   "metadata": {
    "heading_collapsed": true,
    "hidden": true
   },
   "source": [
    "### DatetimeIndex and PeriodIndex\n",
    "\n",
    "---\n",
    "\n",
    "The `PeriodIndex` class stores a sequence of `Periods` and can serve as an axis index in any Pandas data structure. The `DatetimeIndex` class stores sequence of `Datetime` and it also can serve as an index for an axis.\n",
    "\n",
    "\n",
    "\n",
    "[pandas.DatetimeIndex](https://pandas.pydata.org/docs/reference/api/pandas.DatetimeIndex.html)\n",
    "\n",
    "\n",
    "[pandas.PeriodIndex](https://pandas.pydata.org/pandas-docs/stable/reference/api/pandas.PeriodIndex.html)"
   ]
  },
  {
   "cell_type": "markdown",
   "metadata": {
    "hidden": true
   },
   "source": [
    "The index of a Timestamp is `DatetimeIndex`. When we look at the series, each Timestamp is the index and has a value associated with it, in this case, `a`, `b`, `c`, `d`, and `e`."
   ]
  },
  {
   "cell_type": "code",
   "execution_count": null,
   "metadata": {
    "ExecuteTime": {
     "end_time": "2021-01-11T12:32:28.374520Z",
     "start_time": "2021-01-11T12:32:28.368769Z"
    },
    "hidden": true
   },
   "outputs": [],
   "source": [
    "t1 = pd.Series(list(\"abcde\"), [pd.Timestamp('2021-01-05'),\n",
    "                               pd.Timestamp('2021-01-06'),\n",
    "                               pd.Timestamp('2021-01-07'),\n",
    "                               pd.Timestamp('2021-01-08'),\n",
    "                               pd.Timestamp('2021-01-09')])\n",
    "\n",
    "\n",
    "t1"
   ]
  },
  {
   "cell_type": "code",
   "execution_count": null,
   "metadata": {
    "ExecuteTime": {
     "end_time": "2021-01-11T12:32:38.578364Z",
     "start_time": "2021-01-11T12:32:38.567941Z"
    },
    "hidden": true
   },
   "outputs": [],
   "source": [
    "t1.index"
   ]
  },
  {
   "cell_type": "code",
   "execution_count": null,
   "metadata": {
    "ExecuteTime": {
     "end_time": "2021-01-11T12:32:43.690885Z",
     "start_time": "2021-01-11T12:32:43.681503Z"
    },
    "hidden": true
   },
   "outputs": [],
   "source": [
    "type(t1.index) # Looking at the type of our series index, we see that it's DatetimeIndex"
   ]
  },
  {
   "cell_type": "markdown",
   "metadata": {
    "hidden": true
   },
   "source": [
    "Similarly, we can create a `Period-based` index as well."
   ]
  },
  {
   "cell_type": "code",
   "execution_count": null,
   "metadata": {
    "ExecuteTime": {
     "end_time": "2021-01-11T12:34:30.457750Z",
     "start_time": "2021-01-11T12:34:30.450942Z"
    },
    "hidden": true
   },
   "outputs": [],
   "source": [
    "t2 = pd.Series(list(\"abcde\"), [pd.Period('2021-01'),\n",
    "                               pd.Period('2021-02'),\n",
    "                               pd.Period('2021-03'),\n",
    "                               pd.Period('2021-04'),\n",
    "                               pd.Period('2021-05')])\n",
    "\n",
    "\n",
    "\n",
    "t2"
   ]
  },
  {
   "cell_type": "code",
   "execution_count": null,
   "metadata": {
    "ExecuteTime": {
     "end_time": "2021-01-11T12:34:43.377867Z",
     "start_time": "2021-01-11T12:34:43.368056Z"
    },
    "hidden": true
   },
   "outputs": [],
   "source": [
    "t2.index"
   ]
  },
  {
   "cell_type": "code",
   "execution_count": null,
   "metadata": {
    "ExecuteTime": {
     "end_time": "2021-01-11T12:34:56.726834Z",
     "start_time": "2021-01-11T12:34:56.714000Z"
    },
    "hidden": true
   },
   "outputs": [],
   "source": [
    "type(t2.index) # Looking at the type of the ts2.index, we can see that it's PeriodIndex."
   ]
  },
  {
   "cell_type": "markdown",
   "metadata": {
    "heading_collapsed": true,
    "hidden": true
   },
   "source": [
    "### Timedelta\n",
    "\n",
    "---\n",
    "\n",
    "Timedeltas are differences in times, expressed in difference units, e.g. days, hours, minutes, seconds. They can be both positive and negative. This is not the same as a a period, but conceptually similar. For instance, if we want to take the difference between January 11th and  January 10th, we get a Timedelta of one days."
   ]
  },
  {
   "cell_type": "code",
   "execution_count": null,
   "metadata": {
    "ExecuteTime": {
     "end_time": "2021-01-11T11:10:14.606686Z",
     "start_time": "2021-01-11T11:10:14.597325Z"
    },
    "hidden": true
   },
   "outputs": [],
   "source": [
    "pd.Timestamp('01/11/2021') - pd.Timestamp('01/10/2021')"
   ]
  },
  {
   "cell_type": "markdown",
   "metadata": {
    "hidden": true
   },
   "source": [
    "We can also find what the date and time is for 12 days and 3 hours past January 2nd, at 8:10 AM."
   ]
  },
  {
   "cell_type": "code",
   "execution_count": null,
   "metadata": {
    "ExecuteTime": {
     "end_time": "2021-01-11T11:11:05.640494Z",
     "start_time": "2021-01-11T11:11:05.630643Z"
    },
    "hidden": true
   },
   "outputs": [],
   "source": [
    "pd.Timestamp('01/2/2021 8:10AM') + pd.Timedelta('12D 3H')"
   ]
  },
  {
   "cell_type": "markdown",
   "metadata": {
    "heading_collapsed": true,
    "hidden": true
   },
   "source": [
    "### Offset\n",
    "\n",
    "---\n",
    "\n",
    "Offset is similar to timedelta, but it follows specific calendar duration rules. Offset allows flexibility in terms of types of time intervals. Besides hour, day, week, month, etc it also has business day, end of month, semi month begin etc."
   ]
  },
  {
   "cell_type": "code",
   "execution_count": null,
   "metadata": {
    "ExecuteTime": {
     "end_time": "2021-01-11T11:15:47.619803Z",
     "start_time": "2021-01-11T11:15:47.606786Z"
    },
    "hidden": true
   },
   "outputs": [],
   "source": [
    "pd.Timestamp('1/5/2021').weekday() # Day of a week - 5th January"
   ]
  },
  {
   "cell_type": "code",
   "execution_count": null,
   "metadata": {
    "ExecuteTime": {
     "end_time": "2021-01-11T11:17:08.192953Z",
     "start_time": "2021-01-11T11:17:08.184246Z"
    },
    "hidden": true
   },
   "outputs": [],
   "source": [
    "pd.Timestamp('1/5/2021').day_name() # Day of a week - 5th January"
   ]
  },
  {
   "cell_type": "code",
   "execution_count": null,
   "metadata": {
    "ExecuteTime": {
     "end_time": "2021-01-11T11:17:08.866500Z",
     "start_time": "2021-01-11T11:17:08.856436Z"
    },
    "hidden": true
   },
   "outputs": [],
   "source": [
    "pd.Timestamp('1/4/2021') + pd.offsets.Week() # Add the timestamp with a week ahead"
   ]
  },
  {
   "cell_type": "code",
   "execution_count": null,
   "metadata": {
    "ExecuteTime": {
     "end_time": "2021-01-11T11:17:55.327517Z",
     "start_time": "2021-01-11T11:17:55.323424Z"
    },
    "hidden": true
   },
   "outputs": [],
   "source": [
    "pd.Timestamp('1/4/2021') + pd.offsets.MonthEnd() # Add the month end. We have the last day of January"
   ]
  },
  {
   "cell_type": "markdown",
   "metadata": {
    "heading_collapsed": true,
    "hidden": true
   },
   "source": [
    "## Dealing with Datetime Objects\n",
    "\n",
    "---\n",
    "\n",
    "Next, let's look at a few tricks for working with dates in a DataFrame. Suppose we want to look at nine measurements, taken bi-weekly, every Sunday, starting in October 2020. Using `date_range()` method, we can create this DatetimeIndex. In `data_range()`, we have to either specify the `start` or `end` date. If it is not explicitly specified, by default, the date is considered the start date. Then we have to specify the number of periods, and a frequency. Here, we set it to `2W-SUN`, which means biweekly on Sunday."
   ]
  },
  {
   "cell_type": "markdown",
   "metadata": {
    "hidden": true
   },
   "source": [
    "<div class=\"alert alert-info\">\n",
    "\n",
    "**Note:** Contains Spoilers!!!\n",
    "\n",
    "</div>"
   ]
  },
  {
   "cell_type": "code",
   "execution_count": null,
   "metadata": {
    "ExecuteTime": {
     "end_time": "2021-01-11T12:54:30.371949Z",
     "start_time": "2021-01-11T12:54:30.368290Z"
    },
    "hidden": true
   },
   "outputs": [],
   "source": [
    "dates = pd.date_range(start=\"10-01-2020\", periods=9, freq=\"2W-SUN\")\n",
    "\n",
    "\n",
    "dates"
   ]
  },
  {
   "cell_type": "markdown",
   "metadata": {
    "hidden": true
   },
   "source": [
    "There are many other frequencies that you can specify. For example, you can do business day."
   ]
  },
  {
   "cell_type": "code",
   "execution_count": null,
   "metadata": {
    "ExecuteTime": {
     "end_time": "2021-01-11T12:55:50.174723Z",
     "start_time": "2021-01-11T12:55:50.162907Z"
    },
    "hidden": true
   },
   "outputs": [],
   "source": [
    "pd.date_range(start=\"10-01-2020\", periods=9, freq=\"B\")"
   ]
  },
  {
   "cell_type": "markdown",
   "metadata": {
    "hidden": true
   },
   "source": [
    "We can do quarterly as well, with the quarter start in June"
   ]
  },
  {
   "cell_type": "code",
   "execution_count": null,
   "metadata": {
    "ExecuteTime": {
     "end_time": "2021-01-11T12:55:33.790881Z",
     "start_time": "2021-01-11T12:55:33.778118Z"
    },
    "hidden": true
   },
   "outputs": [],
   "source": [
    "pd.date_range(start=\"04-01-2020\", periods=12, freq=\"QS-JUN\")"
   ]
  },
  {
   "cell_type": "markdown",
   "metadata": {
    "hidden": true
   },
   "source": [
    "Now, let's go back to our weekly on Sunday example and create a DataFrame using these dates, and some random data, and see what we can do with it."
   ]
  },
  {
   "cell_type": "code",
   "execution_count": null,
   "metadata": {
    "ExecuteTime": {
     "end_time": "2021-01-11T12:59:32.283061Z",
     "start_time": "2021-01-11T12:59:32.274459Z"
    },
    "hidden": true
   },
   "outputs": [],
   "source": [
    "dates"
   ]
  },
  {
   "cell_type": "code",
   "execution_count": null,
   "metadata": {
    "ExecuteTime": {
     "end_time": "2021-01-11T13:31:31.717796Z",
     "start_time": "2021-01-11T13:31:31.698061Z"
    },
    "hidden": true
   },
   "outputs": [],
   "source": [
    "np.random.seed(425)\n",
    "\n",
    "\n",
    "\n",
    "dates = pd.date_range(start=\"10-11-2020\", periods=20, freq=\"2W-SUN\")\n",
    "\n",
    "\n",
    "df = pd.DataFrame({\"count_1\": np.random.randint(1, 10, 20),\n",
    "                   \"count_2\": np.random.randint(1, 10, 20)},\n",
    "                  index=dates)\n",
    "\n",
    "\n",
    "df"
   ]
  },
  {
   "cell_type": "markdown",
   "metadata": {
    "hidden": true
   },
   "source": [
    "Here, we can see that all the dates in our index are on a Sunday, which matches the frequency that we set."
   ]
  },
  {
   "cell_type": "code",
   "execution_count": null,
   "metadata": {
    "ExecuteTime": {
     "end_time": "2021-01-11T13:31:35.681793Z",
     "start_time": "2021-01-11T13:31:35.670908Z"
    },
    "hidden": true
   },
   "outputs": [],
   "source": [
    "df.index.day_name()"
   ]
  },
  {
   "cell_type": "markdown",
   "metadata": {
    "hidden": true
   },
   "source": [
    "We can also use `diff()` to find the first discrete difference between each date's value. We will talk about the `diff()` method later on."
   ]
  },
  {
   "cell_type": "code",
   "execution_count": null,
   "metadata": {
    "ExecuteTime": {
     "end_time": "2021-01-11T13:31:36.650669Z",
     "start_time": "2021-01-11T13:31:36.630951Z"
    },
    "hidden": true
   },
   "outputs": [],
   "source": [
    "df.diff()"
   ]
  },
  {
   "cell_type": "markdown",
   "metadata": {
    "hidden": true
   },
   "source": [
    "Suppose we want to know what is the mean count for each month in our DataFrame. We can do this using\n",
    "`resample()`. Converting from a higher frequency from a lower frequency is called `downsampling` (we'll talk about this in a moment)"
   ]
  },
  {
   "cell_type": "code",
   "execution_count": null,
   "metadata": {
    "ExecuteTime": {
     "end_time": "2021-01-11T13:31:37.902554Z",
     "start_time": "2021-01-11T13:31:37.891263Z"
    },
    "hidden": true
   },
   "outputs": [],
   "source": [
    "df.resample(\"M\").mean()"
   ]
  },
  {
   "cell_type": "markdown",
   "metadata": {
    "hidden": true
   },
   "source": [
    "Now let's talk about datetime indexing and slicing, which is a wonderful feature of the pandas DataFrame.For instance, we can use partial string indexing to find values from a particular year."
   ]
  },
  {
   "cell_type": "code",
   "execution_count": null,
   "metadata": {
    "ExecuteTime": {
     "end_time": "2021-01-11T15:43:25.606816Z",
     "start_time": "2021-01-11T15:43:25.583965Z"
    },
    "hidden": true
   },
   "outputs": [],
   "source": [
    "df.loc[\"2020\"] # Select only 2020 year\n",
    "\n",
    "df.loc[\"2021\"] # Select only 2021 year\n",
    "\n",
    "df.loc[\"2020-12\"] # Select particular year and month\n",
    "\n",
    "df.loc[\"2020-12\":] # Select range"
   ]
  },
  {
   "cell_type": "markdown",
   "metadata": {
    "heading_collapsed": true,
    "hidden": true
   },
   "source": [
    "## Indexing, Selection, Sub-setting\n",
    "\n",
    "---\n",
    "\n",
    "Time series behaves like any other Pandas Series when you are indexing and selecting data based on label.\n",
    "\n",
    "\n",
    "> **While pandas does not force you to have a sorted date index, some of these methods may have unexpected or incorrect behavior if the dates are unsorted.**"
   ]
  },
  {
   "cell_type": "code",
   "execution_count": null,
   "metadata": {
    "ExecuteTime": {
     "end_time": "2021-01-11T16:12:24.177021Z",
     "start_time": "2021-01-11T16:12:24.167435Z"
    },
    "hidden": true
   },
   "outputs": [],
   "source": [
    "df.index"
   ]
  },
  {
   "cell_type": "code",
   "execution_count": null,
   "metadata": {
    "ExecuteTime": {
     "end_time": "2021-01-11T16:18:34.637286Z",
     "start_time": "2021-01-11T16:18:34.629926Z"
    },
    "hidden": true
   },
   "outputs": [],
   "source": [
    "df.shape"
   ]
  },
  {
   "cell_type": "code",
   "execution_count": null,
   "metadata": {
    "ExecuteTime": {
     "end_time": "2021-01-11T16:18:48.214217Z",
     "start_time": "2021-01-11T16:18:48.200509Z"
    },
    "hidden": true
   },
   "outputs": [],
   "source": [
    "df[:10] # Select first 10 rows\n",
    "\n",
    "df[10:15] # Select 5 rows\n",
    "\n",
    "df[15:] # Select last 5 rows"
   ]
  },
  {
   "cell_type": "code",
   "execution_count": null,
   "metadata": {
    "ExecuteTime": {
     "end_time": "2021-01-11T15:58:20.969833Z",
     "start_time": "2021-01-11T15:58:20.955156Z"
    },
    "hidden": true
   },
   "outputs": [],
   "source": [
    "df.loc[\"2020-10-11\"] # Select one row\n",
    "\n",
    "df.loc[datetime.datetime(2020, 10, 11)]\n",
    "\n",
    "\n",
    "df.loc[\"2020-10\"] # Select all row for a month\n",
    "\n",
    "df.loc[\"2020\"] # Select all rows for a year\n",
    "\n",
    "\n",
    "\n",
    "df.loc[:\"2020\"] # Select year range\n",
    "\n",
    "df.loc[\"2021\":] # Select year range\n",
    "\n",
    "\n",
    "df.loc[\"2021-01\":\"2021-05\"] # Select month range\n",
    "\n",
    "df.loc[datetime.datetime(2020, 10, 11): datetime.datetime(2021, 2, 28)]"
   ]
  },
  {
   "cell_type": "code",
   "execution_count": null,
   "metadata": {
    "ExecuteTime": {
     "end_time": "2021-01-11T16:11:38.290119Z",
     "start_time": "2021-01-11T16:11:38.283434Z"
    },
    "hidden": true
   },
   "outputs": [],
   "source": [
    "df.truncate(before=\"2021-01-31\") # Truncate all rows before this index value\n",
    "\n",
    "df.truncate(after=\"2021-01-31\") # Truncate all rows after this index value\n",
    "\n",
    "df.truncate(before=\"2021-01-03\", after=\"2021-04-11\") # Truncate before and after these index values"
   ]
  },
  {
   "cell_type": "markdown",
   "metadata": {
    "heading_collapsed": true,
    "hidden": true
   },
   "source": [
    "## Periods and Period Arithmetic\n",
    "\n",
    "---\n",
    "\n",
    "Periods represent timespans, like days, months, quarters, or years. The Period class represents this data type, requiring a string or integer and a frequency from the below table.\n",
    "\n",
    "\n",
    "![alt text](images/base_ts_frq.png \"Title\")"
   ]
  },
  {
   "cell_type": "markdown",
   "metadata": {
    "hidden": true
   },
   "source": [
    "Period object represents the full timespan from January 1, 2020, to December 31, 2020, inclusive."
   ]
  },
  {
   "cell_type": "code",
   "execution_count": null,
   "metadata": {
    "ExecuteTime": {
     "end_time": "2021-01-11T06:32:52.054435Z",
     "start_time": "2021-01-11T06:32:52.038397Z"
    },
    "hidden": true
   },
   "outputs": [],
   "source": [
    "first_period = pd.Period(value=2020, freq=\"A-Dec\")\n",
    "\n",
    "\n",
    "first_period"
   ]
  },
  {
   "cell_type": "markdown",
   "metadata": {
    "hidden": true
   },
   "source": [
    "The frequency for our period object is `Annual`, hence adding and subtracting integers from this object has the effect of shifting by their frequency not actual dates."
   ]
  },
  {
   "cell_type": "code",
   "execution_count": null,
   "metadata": {
    "ExecuteTime": {
     "end_time": "2021-01-11T06:32:52.640086Z",
     "start_time": "2021-01-11T06:32:52.629957Z"
    },
    "hidden": true
   },
   "outputs": [],
   "source": [
    "first_period - 5"
   ]
  },
  {
   "cell_type": "code",
   "execution_count": null,
   "metadata": {
    "ExecuteTime": {
     "end_time": "2021-01-11T06:32:53.053628Z",
     "start_time": "2021-01-11T06:32:53.047188Z"
    },
    "hidden": true
   },
   "outputs": [],
   "source": [
    "first_period + 3"
   ]
  },
  {
   "cell_type": "markdown",
   "metadata": {
    "hidden": true
   },
   "source": [
    "If two periods have the same frequency, their difference is the number of units between them"
   ]
  },
  {
   "cell_type": "code",
   "execution_count": null,
   "metadata": {
    "ExecuteTime": {
     "end_time": "2021-01-11T06:32:53.709003Z",
     "start_time": "2021-01-11T06:32:53.702527Z"
    },
    "hidden": true
   },
   "outputs": [],
   "source": [
    "second_period = pd.Period(value=\"2015\", freq=\"A-DEC\")"
   ]
  },
  {
   "cell_type": "code",
   "execution_count": null,
   "metadata": {
    "ExecuteTime": {
     "end_time": "2021-01-11T06:32:53.986463Z",
     "start_time": "2021-01-11T06:32:53.980956Z"
    },
    "hidden": true
   },
   "outputs": [],
   "source": [
    "second_period - first_period"
   ]
  },
  {
   "cell_type": "code",
   "execution_count": null,
   "metadata": {
    "ExecuteTime": {
     "end_time": "2021-01-11T06:32:54.223968Z",
     "start_time": "2021-01-11T06:32:54.218497Z"
    },
    "hidden": true
   },
   "outputs": [],
   "source": [
    "first_period - second_period"
   ]
  },
  {
   "cell_type": "markdown",
   "metadata": {
    "hidden": true
   },
   "source": [
    "It's not possible to add two period object"
   ]
  },
  {
   "cell_type": "code",
   "execution_count": null,
   "metadata": {
    "ExecuteTime": {
     "end_time": "2021-01-11T06:32:54.770697Z",
     "start_time": "2021-01-11T06:32:54.752317Z"
    },
    "hidden": true
   },
   "outputs": [],
   "source": [
    "first_period + second_period"
   ]
  },
  {
   "cell_type": "markdown",
   "metadata": {
    "hidden": true
   },
   "source": [
    "Also, it's not possible to do an arithmetic operations on period objects with different frequency."
   ]
  },
  {
   "cell_type": "code",
   "execution_count": null,
   "metadata": {
    "ExecuteTime": {
     "end_time": "2021-01-11T06:32:55.315845Z",
     "start_time": "2021-01-11T06:32:55.308362Z"
    },
    "hidden": true
   },
   "outputs": [],
   "source": [
    "third_period = pd.Period(value=\"01-04-2021\", freq=\"D\")"
   ]
  },
  {
   "cell_type": "code",
   "execution_count": null,
   "metadata": {
    "ExecuteTime": {
     "end_time": "2021-01-11T06:32:55.727960Z",
     "start_time": "2021-01-11T06:32:55.712076Z"
    },
    "hidden": true
   },
   "outputs": [],
   "source": [
    "first_period - third_period"
   ]
  },
  {
   "cell_type": "code",
   "execution_count": null,
   "metadata": {
    "ExecuteTime": {
     "end_time": "2021-01-11T06:32:56.251376Z",
     "start_time": "2021-01-11T06:32:56.233372Z"
    },
    "hidden": true
   },
   "outputs": [],
   "source": [
    "first_period + third_period"
   ]
  },
  {
   "cell_type": "markdown",
   "metadata": {
    "hidden": true
   },
   "source": [
    " "
   ]
  },
  {
   "cell_type": "markdown",
   "metadata": {
    "hidden": true
   },
   "source": [
    "The key here is that the `Period` object encapsulates the granularity for arithmetic."
   ]
  },
  {
   "cell_type": "markdown",
   "metadata": {
    "heading_collapsed": true,
    "hidden": true
   },
   "source": [
    "### Period Frequency Conversion\n",
    "\n",
    "\n",
    "---\n",
    "\n",
    "If it's not possible to do operations on period objects with different frequency. However we can perform frequency conversion and then do different operations."
   ]
  },
  {
   "cell_type": "code",
   "execution_count": null,
   "metadata": {
    "ExecuteTime": {
     "end_time": "2021-01-11T06:59:29.600294Z",
     "start_time": "2021-01-11T06:59:29.594749Z"
    },
    "hidden": true
   },
   "outputs": [],
   "source": [
    "first_period"
   ]
  },
  {
   "cell_type": "markdown",
   "metadata": {
    "hidden": true
   },
   "source": [
    "Convert annual period into monthly period!"
   ]
  },
  {
   "cell_type": "code",
   "execution_count": null,
   "metadata": {
    "ExecuteTime": {
     "end_time": "2021-01-11T07:13:17.858963Z",
     "start_time": "2021-01-11T07:13:17.848220Z"
    },
    "hidden": true
   },
   "outputs": [],
   "source": [
    "first_period.asfreq(freq=\"M\", how=\"start\") # Annual period to Monthly period"
   ]
  },
  {
   "cell_type": "code",
   "execution_count": null,
   "metadata": {
    "ExecuteTime": {
     "end_time": "2021-01-11T07:15:06.120548Z",
     "start_time": "2021-01-11T07:15:06.108968Z"
    },
    "hidden": true
   },
   "outputs": [],
   "source": [
    "first_period_daily = first_period.asfreq(freq=\"D\", how=\"start\")\n",
    "\n",
    "\n",
    "first_period_daily"
   ]
  },
  {
   "cell_type": "code",
   "execution_count": null,
   "metadata": {
    "ExecuteTime": {
     "end_time": "2021-01-11T07:15:11.485172Z",
     "start_time": "2021-01-11T07:15:11.475885Z"
    },
    "hidden": true
   },
   "outputs": [],
   "source": [
    "third_period - first_period_daily"
   ]
  },
  {
   "cell_type": "markdown",
   "metadata": {
    "heading_collapsed": true,
    "hidden": true
   },
   "source": [
    "## Date and Time Conversion\n",
    "\n",
    "---\n",
    "\n",
    "Converting strings into proper date object or vice versa is a crucial operation in Time Series data. For some type of operation we need to have a string representation of date and in some cases we need proper date/time object."
   ]
  },
  {
   "cell_type": "markdown",
   "metadata": {
    "heading_collapsed": true,
    "hidden": true
   },
   "source": [
    "### Converting Between String and Datetime\n",
    "\n",
    "---\n",
    "\n",
    "We can convert string representation of a date into proper date object and vice versa either by using Python builtin `datetime` module or Pandas."
   ]
  },
  {
   "cell_type": "markdown",
   "metadata": {
    "hidden": true
   },
   "source": [
    "![alt text](images/format_table.png \"Title\")\n",
    "\n",
    "\n",
    "$$\n",
    "$$\n",
    "\n",
    "\n",
    "[**See this link for full reference**](https://www.w3schools.com/python/python_datetime.asp)"
   ]
  },
  {
   "cell_type": "markdown",
   "metadata": {
    "hidden": true
   },
   "source": [
    "**Datetime to String**"
   ]
  },
  {
   "cell_type": "code",
   "execution_count": null,
   "metadata": {
    "ExecuteTime": {
     "end_time": "2021-01-11T16:42:13.820671Z",
     "start_time": "2021-01-11T16:42:13.811187Z"
    },
    "hidden": true
   },
   "outputs": [],
   "source": [
    "single_stamp = datetime.datetime(year=2021, month=1, day=5, hour=10, minute=45)\n",
    "\n",
    "\n",
    "single_stamp"
   ]
  },
  {
   "cell_type": "code",
   "execution_count": null,
   "metadata": {
    "ExecuteTime": {
     "end_time": "2021-01-11T16:42:14.263788Z",
     "start_time": "2021-01-11T16:42:14.255759Z"
    },
    "hidden": true
   },
   "outputs": [],
   "source": [
    "str(single_stamp) # From datetime to string"
   ]
  },
  {
   "cell_type": "code",
   "execution_count": null,
   "metadata": {
    "ExecuteTime": {
     "end_time": "2021-01-11T16:45:21.563591Z",
     "start_time": "2021-01-11T16:45:21.554308Z"
    },
    "hidden": true
   },
   "outputs": [],
   "source": [
    "single_stamp.strftime(format=\"%Y-%m-%d\")\n",
    "\n",
    "single_stamp.strftime(format=\"%y-%m-%d\")\n",
    "\n",
    "single_stamp.strftime(format=\"%y-%m-%d-%H-%M\")"
   ]
  },
  {
   "cell_type": "code",
   "execution_count": null,
   "metadata": {
    "ExecuteTime": {
     "end_time": "2021-01-11T16:45:52.644174Z",
     "start_time": "2021-01-11T16:45:52.635322Z"
    },
    "hidden": true
   },
   "outputs": [],
   "source": [
    "single_stamp.strftime(\"%b\")\n",
    "\n",
    "single_stamp.strftime(\"%B\")"
   ]
  },
  {
   "cell_type": "markdown",
   "metadata": {
    "hidden": true
   },
   "source": [
    "**String to Datetime**"
   ]
  },
  {
   "cell_type": "code",
   "execution_count": null,
   "metadata": {
    "ExecuteTime": {
     "end_time": "2021-01-11T16:46:05.899675Z",
     "start_time": "2021-01-11T16:46:05.895499Z"
    },
    "hidden": true
   },
   "outputs": [],
   "source": [
    "value = \"2021-1-05\""
   ]
  },
  {
   "cell_type": "code",
   "execution_count": null,
   "metadata": {
    "ExecuteTime": {
     "end_time": "2021-01-11T16:46:37.454774Z",
     "start_time": "2021-01-11T16:46:37.446103Z"
    },
    "hidden": true
   },
   "outputs": [],
   "source": [
    "pd.to_datetime(value) # from string to datetime"
   ]
  },
  {
   "cell_type": "code",
   "execution_count": null,
   "metadata": {
    "ExecuteTime": {
     "end_time": "2021-01-11T16:49:46.408883Z",
     "start_time": "2021-01-11T16:49:46.404591Z"
    },
    "hidden": true
   },
   "outputs": [],
   "source": [
    "datetime.datetime.strptime(value, \"%Y-%m-%d\") # We need to indicate EXACT format. Otherwise conversion does not work"
   ]
  },
  {
   "cell_type": "code",
   "execution_count": null,
   "metadata": {
    "ExecuteTime": {
     "end_time": "2021-01-11T17:09:11.858788Z",
     "start_time": "2021-01-11T17:09:11.849224Z"
    },
    "hidden": true
   },
   "outputs": [],
   "source": [
    "date_strings = [\"7/6/2011\", \"8/6/2011\"]\n",
    "\n",
    "\n",
    "[datetime.datetime.strptime(x, '%m/%d/%Y') for x in date_strings]"
   ]
  },
  {
   "cell_type": "markdown",
   "metadata": {
    "hidden": true
   },
   "source": [
    "$$\n",
    "$$\n",
    "\n",
    "Pandas `to_datetime()` is not such a picky compared to `datetime.strptime()` in terms of date formatting.\n",
    "\n",
    "$$\n",
    "$$"
   ]
  },
  {
   "cell_type": "code",
   "execution_count": null,
   "metadata": {
    "ExecuteTime": {
     "end_time": "2021-01-11T17:12:37.877067Z",
     "start_time": "2021-01-11T17:12:37.866340Z"
    },
    "hidden": true
   },
   "outputs": [],
   "source": [
    "new_dates = [\"2 June 2013\", \"Aug 29, 2014\", \"2015-06-26\", \"7/12/16\"]\n",
    "\n",
    "[pd.to_datetime(i) for i in new_dates]"
   ]
  },
  {
   "cell_type": "markdown",
   "metadata": {
    "hidden": true
   },
   "source": [
    "`to_datetime()` method has option to change the date parse order."
   ]
  },
  {
   "cell_type": "code",
   "execution_count": null,
   "metadata": {
    "ExecuteTime": {
     "end_time": "2021-01-11T17:14:08.438212Z",
     "start_time": "2021-01-11T17:14:08.429191Z"
    },
    "hidden": true
   },
   "outputs": [],
   "source": [
    "pd.to_datetime(\"4.7.12\", dayfirst=True)"
   ]
  },
  {
   "cell_type": "code",
   "execution_count": null,
   "metadata": {
    "ExecuteTime": {
     "end_time": "2021-01-11T17:17:02.640215Z",
     "start_time": "2021-01-11T17:17:02.630456Z"
    },
    "hidden": true
   },
   "outputs": [],
   "source": [
    "pd.to_datetime(\"2010/11/12\", format=\"%Y/%m/%d\") # We can even indicate format argument"
   ]
  },
  {
   "cell_type": "markdown",
   "metadata": {
    "hidden": true
   },
   "source": [
    "$$\n",
    "$$\n",
    "\n",
    "Missing values in Time Series is represented as `Not a Time` or `NaT`"
   ]
  },
  {
   "cell_type": "code",
   "execution_count": null,
   "metadata": {
    "ExecuteTime": {
     "end_time": "2021-01-11T17:19:31.791090Z",
     "start_time": "2021-01-11T17:19:31.776575Z"
    },
    "hidden": true
   },
   "outputs": [],
   "source": [
    "pd.to_datetime([None])"
   ]
  },
  {
   "cell_type": "markdown",
   "metadata": {
    "heading_collapsed": true,
    "hidden": true
   },
   "source": [
    "### Converting Timestamps to Periods\n",
    "\n",
    "---\n",
    "\n",
    "Series and DataFrame objects indexed by Timestamps can be converted to Periods with the `to_period()` method."
   ]
  },
  {
   "cell_type": "code",
   "execution_count": null,
   "metadata": {
    "ExecuteTime": {
     "end_time": "2021-01-11T17:45:06.699963Z",
     "start_time": "2021-01-11T17:45:06.690053Z"
    },
    "hidden": true
   },
   "outputs": [],
   "source": [
    "rng = pd.date_range(\"2000-01-01\", periods=3, freq=\"M\")\n",
    "\n",
    "\n",
    "ts = pd.Series(np.random.randint(low=1, high=10, size=3), index=rng)\n",
    "\n",
    "\n",
    "ts"
   ]
  },
  {
   "cell_type": "code",
   "execution_count": null,
   "metadata": {
    "ExecuteTime": {
     "end_time": "2021-01-11T17:45:27.991566Z",
     "start_time": "2021-01-11T17:45:27.982037Z"
    },
    "hidden": true
   },
   "outputs": [],
   "source": [
    "type(ts.index)"
   ]
  },
  {
   "cell_type": "code",
   "execution_count": null,
   "metadata": {
    "ExecuteTime": {
     "end_time": "2021-01-11T17:46:19.415971Z",
     "start_time": "2021-01-11T17:46:19.409784Z"
    },
    "hidden": true
   },
   "outputs": [],
   "source": [
    "new_ts = ts.to_period() # Convert Series from DatetimeIndex to PeriodIndex.\n",
    "\n",
    "\n",
    "new_ts"
   ]
  },
  {
   "cell_type": "code",
   "execution_count": null,
   "metadata": {
    "ExecuteTime": {
     "end_time": "2021-01-11T17:46:25.488151Z",
     "start_time": "2021-01-11T17:46:25.478802Z"
    },
    "hidden": true
   },
   "outputs": [],
   "source": [
    "type(new_ts.index)"
   ]
  },
  {
   "cell_type": "markdown",
   "metadata": {
    "heading_collapsed": true,
    "hidden": true
   },
   "source": [
    "### Converting Periods to Timestamps\n",
    "\n",
    "---\n",
    "\n",
    "Series and DataFrame objects indexed by Periods can be converted to Timestamps with the `to_timestamp()` method."
   ]
  },
  {
   "cell_type": "code",
   "execution_count": null,
   "metadata": {
    "ExecuteTime": {
     "end_time": "2021-01-11T17:46:56.190268Z",
     "start_time": "2021-01-11T17:46:56.180868Z"
    },
    "hidden": true
   },
   "outputs": [],
   "source": [
    "new_ts"
   ]
  },
  {
   "cell_type": "code",
   "execution_count": null,
   "metadata": {
    "ExecuteTime": {
     "end_time": "2021-01-11T17:47:51.573875Z",
     "start_time": "2021-01-11T17:47:51.568464Z"
    },
    "hidden": true
   },
   "outputs": [],
   "source": [
    "new_ts.to_timestamp()"
   ]
  },
  {
   "cell_type": "code",
   "execution_count": null,
   "metadata": {
    "ExecuteTime": {
     "end_time": "2021-01-11T17:48:01.214551Z",
     "start_time": "2021-01-11T17:48:01.205396Z"
    },
    "hidden": true
   },
   "outputs": [],
   "source": [
    "type(new_ts.to_timestamp().index)"
   ]
  },
  {
   "cell_type": "markdown",
   "metadata": {
    "heading_collapsed": true,
    "hidden": true
   },
   "source": [
    "## Time Shifting\n",
    "\n",
    "---\n",
    "\n",
    "Shifting (Leading and Lagging) data refers to moving data backward and forward through time. Both Series and DataFrame have a `shift()` method for doing naive shifts forward or backward, leaving the index unmodified.\n",
    "\n",
    "When we shift like this, missing data is introduced either at the start or the end of the time series."
   ]
  },
  {
   "cell_type": "code",
   "execution_count": null,
   "metadata": {
    "ExecuteTime": {
     "end_time": "2021-01-11T18:01:00.537562Z",
     "start_time": "2021-01-11T18:01:00.520725Z"
    },
    "hidden": true
   },
   "outputs": [],
   "source": [
    "np.random.seed(425)\n",
    "\n",
    "ts = pd.Series(data=np.random.randint(low=1, high=10, size=7),\n",
    "               index=pd.date_range(start=\"2021-01-11\", periods=7))\n",
    "\n",
    "\n",
    "ts"
   ]
  },
  {
   "cell_type": "markdown",
   "metadata": {
    "hidden": true
   },
   "source": [
    "**Forward Shift**"
   ]
  },
  {
   "cell_type": "code",
   "execution_count": null,
   "metadata": {
    "ExecuteTime": {
     "end_time": "2021-01-11T19:25:16.392265Z",
     "start_time": "2021-01-11T19:25:16.385865Z"
    },
    "hidden": true
   },
   "outputs": [],
   "source": [
    "pd.DataFrame(ts).shift(periods=2) # Shift index by desired number of periods"
   ]
  },
  {
   "cell_type": "markdown",
   "metadata": {
    "hidden": true
   },
   "source": [
    "If `freq` argument is specified then the index values are shifted but the data is not realigned."
   ]
  },
  {
   "cell_type": "code",
   "execution_count": null,
   "metadata": {
    "ExecuteTime": {
     "end_time": "2021-01-11T19:28:21.361553Z",
     "start_time": "2021-01-11T19:28:21.352995Z"
    },
    "hidden": true
   },
   "outputs": [],
   "source": [
    "pd.DataFrame(ts).shift(periods=2, freq=\"D\")"
   ]
  },
  {
   "cell_type": "code",
   "execution_count": null,
   "metadata": {
    "ExecuteTime": {
     "end_time": "2021-01-11T19:26:19.060009Z",
     "start_time": "2021-01-11T19:26:19.054987Z"
    },
    "hidden": true
   },
   "outputs": [],
   "source": [
    "pd.DataFrame(ts)"
   ]
  },
  {
   "cell_type": "markdown",
   "metadata": {
    "hidden": true
   },
   "source": [
    "**Backward Shift**"
   ]
  },
  {
   "cell_type": "code",
   "execution_count": null,
   "metadata": {
    "ExecuteTime": {
     "end_time": "2021-01-11T19:29:07.430620Z",
     "start_time": "2021-01-11T19:29:07.416893Z"
    },
    "hidden": true
   },
   "outputs": [],
   "source": [
    "pd.DataFrame(ts).shift(periods=-2) # Shift index by desired number of periods"
   ]
  },
  {
   "cell_type": "code",
   "execution_count": null,
   "metadata": {
    "ExecuteTime": {
     "end_time": "2021-01-11T19:29:16.089504Z",
     "start_time": "2021-01-11T19:29:16.084090Z"
    },
    "hidden": true
   },
   "outputs": [],
   "source": [
    "pd.DataFrame(ts).shift(periods=-2, freq=\"D\") # Shift index by desired number of periods"
   ]
  },
  {
   "cell_type": "code",
   "execution_count": null,
   "metadata": {
    "ExecuteTime": {
     "end_time": "2021-01-11T19:29:27.669904Z",
     "start_time": "2021-01-11T19:29:27.651822Z"
    },
    "hidden": true
   },
   "outputs": [],
   "source": [
    "pd.DataFrame(ts)"
   ]
  },
  {
   "cell_type": "markdown",
   "metadata": {
    "heading_collapsed": true,
    "hidden": true
   },
   "source": [
    "## Rasampling\n",
    "\n",
    "---\n",
    "\n",
    "Resampling refers to the process of converting a time series from one frequency to another. Aggregating higher frequency data to lower frequency is called `downsampling`, while converting lower frequency to higher frequency is called `upsampling`.\n",
    "\n",
    "\n",
    "`resample()` is a time-based `groupby()`, followed by a reduction method on each of its groups."
   ]
  },
  {
   "cell_type": "markdown",
   "metadata": {
    "hidden": true
   },
   "source": [
    "#### Reference\n",
    "\n",
    "\n",
    "[Resampling](https://pandas.pydata.org/pandas-docs/stable/user_guide/timeseries.html#timeseries-resampling)"
   ]
  },
  {
   "cell_type": "code",
   "execution_count": null,
   "metadata": {
    "ExecuteTime": {
     "end_time": "2021-01-12T03:31:29.340154Z",
     "start_time": "2021-01-12T03:31:29.333301Z"
    },
    "hidden": true
   },
   "outputs": [],
   "source": [
    "date_range = pd.date_range(\"2021-01-01-12-00\", periods=120, freq=\"D\")\n",
    "\n",
    "df = pd.Series(data=np.random.randint(low=1, high=20, size=120),\n",
    "               index=date_range)\n",
    "\n",
    "\n",
    "df"
   ]
  },
  {
   "cell_type": "code",
   "execution_count": null,
   "metadata": {
    "ExecuteTime": {
     "end_time": "2021-01-12T03:50:15.327615Z",
     "start_time": "2021-01-12T03:50:15.321022Z"
    },
    "hidden": true
   },
   "outputs": [],
   "source": [
    "type(df.index)"
   ]
  },
  {
   "cell_type": "code",
   "execution_count": null,
   "metadata": {
    "ExecuteTime": {
     "end_time": "2021-01-12T03:50:15.727060Z",
     "start_time": "2021-01-12T03:50:15.720730Z"
    },
    "hidden": true
   },
   "outputs": [],
   "source": [
    "df.index"
   ]
  },
  {
   "cell_type": "markdown",
   "metadata": {
    "heading_collapsed": true,
    "hidden": true
   },
   "source": [
    "### Downsampling"
   ]
  },
  {
   "cell_type": "code",
   "execution_count": null,
   "metadata": {
    "ExecuteTime": {
     "end_time": "2021-01-12T03:31:49.389208Z",
     "start_time": "2021-01-12T03:31:49.378465Z"
    },
    "hidden": true
   },
   "outputs": [],
   "source": [
    "df"
   ]
  },
  {
   "cell_type": "markdown",
   "metadata": {
    "hidden": true
   },
   "source": [
    "Aggregate data into month chunks by taking the sum of each group."
   ]
  },
  {
   "cell_type": "code",
   "execution_count": null,
   "metadata": {
    "ExecuteTime": {
     "end_time": "2021-01-12T03:32:19.727753Z",
     "start_time": "2021-01-12T03:32:19.712197Z"
    },
    "hidden": true
   },
   "outputs": [],
   "source": [
    "df.resample(rule=\"M\").sum()"
   ]
  },
  {
   "cell_type": "code",
   "execution_count": null,
   "metadata": {
    "ExecuteTime": {
     "end_time": "2021-01-12T03:37:58.928156Z",
     "start_time": "2021-01-12T03:37:58.920081Z"
    },
    "hidden": true
   },
   "outputs": [],
   "source": [
    "df.resample(rule=\"M\").mean()"
   ]
  },
  {
   "cell_type": "code",
   "execution_count": null,
   "metadata": {
    "ExecuteTime": {
     "end_time": "2021-01-12T03:35:18.760075Z",
     "start_time": "2021-01-12T03:35:18.753873Z"
    },
    "hidden": true
   },
   "outputs": [],
   "source": [
    "df.resample(rule=\"M\", kind=\"period\").sum() # Convert resulting index to \"PeriodIndex\""
   ]
  },
  {
   "cell_type": "markdown",
   "metadata": {
    "hidden": true
   },
   "source": [
    "#### Open-High-Low-Close (OHLC) resampling\n",
    "\n",
    "---\n",
    "\n",
    "In finance, a popular way to aggregate a time series is to compute four values for each bucket: the first (open), last (close), maximum (high), and minimal (low) values.\n",
    "\n",
    "\n",
    "\n",
    "\n",
    "\n",
    "* (open, first)\n",
    "\n",
    "\n",
    "* (high, max)\n",
    "\n",
    "\n",
    "* (low, min)\n",
    "\n",
    "\n",
    "* (close, last)"
   ]
  },
  {
   "cell_type": "code",
   "execution_count": null,
   "metadata": {
    "ExecuteTime": {
     "end_time": "2021-01-12T03:45:29.618027Z",
     "start_time": "2021-01-12T03:45:29.608068Z"
    },
    "hidden": true
   },
   "outputs": [],
   "source": [
    "df.resample(\"M\").ohlc()"
   ]
  },
  {
   "cell_type": "code",
   "execution_count": null,
   "metadata": {
    "ExecuteTime": {
     "end_time": "2021-01-12T03:49:49.607496Z",
     "start_time": "2021-01-12T03:49:49.591848Z"
    },
    "hidden": true
   },
   "outputs": [],
   "source": [
    "df = df.resample(rule=\"W\").mean() # Week average\n",
    "\n",
    "df"
   ]
  },
  {
   "cell_type": "markdown",
   "metadata": {
    "heading_collapsed": true,
    "hidden": true
   },
   "source": [
    "### Upsampling\n",
    "\n",
    "\n",
    "---\n",
    "\n",
    "Compared to downsampling, when doing upsampling we don't need an aggregation function. We use the asfreq method to convert to the higher frequency without any aggregation."
   ]
  },
  {
   "cell_type": "code",
   "execution_count": null,
   "metadata": {
    "ExecuteTime": {
     "end_time": "2021-01-12T03:50:01.080829Z",
     "start_time": "2021-01-12T03:50:01.074427Z"
    },
    "hidden": true
   },
   "outputs": [],
   "source": [
    "df # Week average"
   ]
  },
  {
   "cell_type": "code",
   "execution_count": null,
   "metadata": {
    "ExecuteTime": {
     "end_time": "2021-01-12T03:51:47.949601Z",
     "start_time": "2021-01-12T03:51:47.936773Z"
    },
    "hidden": true
   },
   "outputs": [],
   "source": [
    "df.resample(rule=\"D\").asfreq()"
   ]
  },
  {
   "cell_type": "code",
   "execution_count": null,
   "metadata": {
    "ExecuteTime": {
     "end_time": "2021-01-12T03:52:25.780088Z",
     "start_time": "2021-01-12T03:52:25.767038Z"
    },
    "hidden": true
   },
   "outputs": [],
   "source": [
    "df.resample(rule=\"D\").ffill()"
   ]
  },
  {
   "cell_type": "markdown",
   "metadata": {
    "hidden": true
   },
   "source": [
    "$$\n",
    "$$\n",
    "\n",
    "\n",
    "We can resample our Series or DataFrame and then apply different functions"
   ]
  },
  {
   "cell_type": "code",
   "execution_count": null,
   "metadata": {
    "ExecuteTime": {
     "end_time": "2021-01-12T04:02:29.125705Z",
     "start_time": "2021-01-12T04:02:29.120925Z"
    },
    "hidden": true
   },
   "outputs": [],
   "source": [
    "res = df.resample(rule=\"M\")"
   ]
  },
  {
   "cell_type": "code",
   "execution_count": null,
   "metadata": {
    "ExecuteTime": {
     "end_time": "2021-01-12T04:03:07.671355Z",
     "start_time": "2021-01-12T04:03:07.654017Z"
    },
    "hidden": true
   },
   "outputs": [],
   "source": [
    "res.aggregate([np.sum, np.mean, np.std])"
   ]
  },
  {
   "cell_type": "markdown",
   "metadata": {
    "heading_collapsed": true,
    "hidden": true
   },
   "source": [
    "## Moving Window Functions\n",
    "\n",
    "---\n",
    "\n",
    "An important class of array transformations used for Time Series operations are statistics and other functions evaluated over a sliding window - the function that performs an aggregation over a sliding partition of values."
   ]
  },
  {
   "cell_type": "markdown",
   "metadata": {
    "heading_collapsed": true,
    "hidden": true
   },
   "source": [
    "### Rolling Functions"
   ]
  },
  {
   "cell_type": "markdown",
   "metadata": {
    "ExecuteTime": {
     "end_time": "2021-01-12T04:22:55.077464Z",
     "start_time": "2021-01-12T04:22:55.069662Z"
    },
    "hidden": true
   },
   "source": [
    "Let create some simple Pandas Series to understand how the Window functions work."
   ]
  },
  {
   "cell_type": "code",
   "execution_count": null,
   "metadata": {
    "ExecuteTime": {
     "end_time": "2021-01-12T04:23:47.748772Z",
     "start_time": "2021-01-12T04:23:47.742206Z"
    },
    "hidden": true
   },
   "outputs": [],
   "source": [
    "np.random.seed(425)\n",
    "\n",
    "ts = pd.Series(data=np.random.randint(low=1, high=10, size=7),\n",
    "               index=pd.date_range(start=\"2021-01-11\", periods=7))\n",
    "\n",
    "\n",
    "ts"
   ]
  },
  {
   "cell_type": "code",
   "execution_count": null,
   "metadata": {
    "ExecuteTime": {
     "end_time": "2021-01-12T04:24:58.099885Z",
     "start_time": "2021-01-12T04:24:58.090079Z"
    },
    "hidden": true
   },
   "outputs": [],
   "source": [
    "ts.rolling(window=2).sum() # Sum every two period"
   ]
  },
  {
   "cell_type": "code",
   "execution_count": null,
   "metadata": {
    "ExecuteTime": {
     "end_time": "2021-01-12T04:25:24.180644Z",
     "start_time": "2021-01-12T04:25:24.171795Z"
    },
    "hidden": true
   },
   "outputs": [],
   "source": [
    "ts.rolling(window=2).mean() # Mean of every two period"
   ]
  },
  {
   "cell_type": "code",
   "execution_count": null,
   "metadata": {
    "ExecuteTime": {
     "end_time": "2021-01-12T04:26:11.215027Z",
     "start_time": "2021-01-12T04:26:11.211157Z"
    },
    "hidden": true
   },
   "outputs": [],
   "source": [
    "ts.rolling(window=3).sum() # Sum every third period"
   ]
  },
  {
   "cell_type": "markdown",
   "metadata": {
    "heading_collapsed": true,
    "hidden": true
   },
   "source": [
    "### Expanding Functions\n",
    "\n",
    "---\n",
    "\n",
    "The expanding functions starts the time window from the beginning of the time series and increases the size of the window until it encompasses the whole series."
   ]
  },
  {
   "cell_type": "code",
   "execution_count": null,
   "metadata": {
    "ExecuteTime": {
     "end_time": "2021-01-12T04:41:14.619388Z",
     "start_time": "2021-01-12T04:41:14.615404Z"
    },
    "hidden": true
   },
   "outputs": [],
   "source": [
    "ts.expanding().sum()"
   ]
  },
  {
   "cell_type": "code",
   "execution_count": null,
   "metadata": {
    "ExecuteTime": {
     "end_time": "2021-01-12T04:41:23.494676Z",
     "start_time": "2021-01-12T04:41:23.485550Z"
    },
    "hidden": true
   },
   "outputs": [],
   "source": [
    "ts.expanding().mean()"
   ]
  },
  {
   "cell_type": "markdown",
   "metadata": {},
   "source": [
    "# Summary\n",
    "\n",
    "---\n",
    "\n",
    "Time series data requires different types of analysis and transformation. Knowing how to deal with time series data, either it will be a regular or irregular is a great tool under the belt."
   ]
  }
 ],
 "metadata": {
  "kernelspec": {
   "display_name": "Python 3.7.7 64-bit ('learning': conda)",
   "language": "python",
   "name": "python37764bitlearningcondadead39b8b5cb441aa05edba06d4d913f"
  },
  "language_info": {
   "codemirror_mode": {
    "name": "ipython",
    "version": 3
   },
   "file_extension": ".py",
   "mimetype": "text/x-python",
   "name": "python",
   "nbconvert_exporter": "python",
   "pygments_lexer": "ipython3",
   "version": "3.7.7"
  },
  "varInspector": {
   "cols": {
    "lenName": 16,
    "lenType": 16,
    "lenVar": 40
   },
   "kernels_config": {
    "python": {
     "delete_cmd_postfix": "",
     "delete_cmd_prefix": "del ",
     "library": "var_list.py",
     "varRefreshCmd": "print(var_dic_list())"
    },
    "r": {
     "delete_cmd_postfix": ") ",
     "delete_cmd_prefix": "rm(",
     "library": "var_list.r",
     "varRefreshCmd": "cat(var_dic_list()) "
    }
   },
   "types_to_exclude": [
    "module",
    "function",
    "builtin_function_or_method",
    "instance",
    "_Feature"
   ],
   "window_display": false
  }
 },
 "nbformat": 4,
 "nbformat_minor": 2
}
