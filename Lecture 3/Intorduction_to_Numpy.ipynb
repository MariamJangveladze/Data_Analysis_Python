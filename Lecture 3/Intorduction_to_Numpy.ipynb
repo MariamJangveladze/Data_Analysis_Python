{
 "cells": [
  {
   "cell_type": "markdown",
   "metadata": {
    "heading_collapsed": true
   },
   "source": [
    "# Introduction to Numpy\n",
    "\n",
    "---\n",
    "\n",
    "**Numpy** or **Numerical Python** is the fundamental package for numeric computing with Python. It provides powerful ways to create,\n",
    "store, and/or manipulate data, which makes it able to seamlessly and speedily integrate with a wide variety\n",
    "of databases. Numpy is the foundation of several libraries such as `Pandas`, `SciPy`, `SymPy`\n",
    "\n",
    "\n",
    "In this lecture, we will talk about creating array with certain data types, manipulating array, selecting\n",
    "elements from arrays, as well as universal functions of NumPy and how to use its statistical and mathematical capabilities. Moreover, we see how to load dataset into array. Such functions are useful for manipulating data and\n",
    "understanding the functionalities of other common Python data packages.\n",
    "\n",
    "\n",
    "### Lecture outline\n",
    "\n",
    "---\n",
    "\n",
    "* Scalar, Vector, Matrix, and NdArray\n",
    "\n",
    "\n",
    "* Shape, Size, Dimension of matrices, and type of entries\n",
    "\n",
    "\n",
    "* Indexing and Slicing\n",
    "\n",
    "\n",
    "* Boolean Indexing\n",
    "\n",
    "\n",
    "* Universal Functions\n",
    "\n",
    "\n",
    "* Statistical Methods\n",
    "\n",
    "\n",
    "* Linear Algebra\n",
    "\n",
    "\n",
    "* Input/Output"
   ]
  },
  {
   "cell_type": "markdown",
   "metadata": {
    "heading_collapsed": true,
    "hidden": true
   },
   "source": [
    "### Homework:\n",
    "\n",
    "[101-numpy-exercises-python](https://www.machinelearningplus.com/python/101-numpy-exercises-python/)\n",
    "\n",
    "\n",
    "[Paper to read](https://www.nature.com/articles/s41586-020-2649-2) - Optional"
   ]
  },
  {
   "cell_type": "code",
   "execution_count": null,
   "metadata": {
    "ExecuteTime": {
     "end_time": "2020-12-13T11:13:45.496535Z",
     "start_time": "2020-12-13T11:13:45.436461Z"
    },
    "hidden": true
   },
   "outputs": [],
   "source": [
    "import numpy as np\n",
    "\n",
    "from scipy import sparse"
   ]
  },
  {
   "cell_type": "markdown",
   "metadata": {
    "collapsed": true,
    "heading_collapsed": true,
    "hidden": true
   },
   "source": [
    "## Scalar, Vector, Matrix, NdArray or Tensor"
   ]
  },
  {
   "cell_type": "markdown",
   "metadata": {
    "ExecuteTime": {
     "end_time": "2020-12-13T10:56:24.457728Z",
     "start_time": "2020-12-13T10:56:24.343451Z"
    },
    "hidden": true
   },
   "source": [
    "![alt text](images/scalar-vector-matrix-tensor.png \"Title\")"
   ]
  },
  {
   "cell_type": "code",
   "execution_count": null,
   "metadata": {
    "ExecuteTime": {
     "end_time": "2020-12-13T10:47:21.382264Z",
     "start_time": "2020-12-13T10:47:21.378870Z"
    },
    "hidden": true
   },
   "outputs": [],
   "source": [
    "# Scalar\n",
    "\n",
    "scalar = np.array([5])\n",
    "\n",
    "scalar"
   ]
  },
  {
   "cell_type": "code",
   "execution_count": null,
   "metadata": {
    "ExecuteTime": {
     "end_time": "2020-12-13T10:51:18.525551Z",
     "start_time": "2020-12-13T10:51:18.514151Z"
    },
    "hidden": true
   },
   "outputs": [],
   "source": [
    "# Row Vector\n",
    "\n",
    "row_vector = np.array([1, 2, 3, 4, 5])\n",
    "\n",
    "row_vector"
   ]
  },
  {
   "cell_type": "code",
   "execution_count": null,
   "metadata": {
    "ExecuteTime": {
     "end_time": "2020-12-13T10:51:16.720716Z",
     "start_time": "2020-12-13T10:51:16.717276Z"
    },
    "hidden": true
   },
   "outputs": [],
   "source": [
    "# Column Vactor\n",
    "\n",
    "column_vector = np.array([[1], [2], [3], [4], [5]])\n",
    "\n",
    "column_vector"
   ]
  },
  {
   "cell_type": "code",
   "execution_count": null,
   "metadata": {
    "ExecuteTime": {
     "end_time": "2020-12-13T10:52:13.278240Z",
     "start_time": "2020-12-13T10:52:13.274648Z"
    },
    "hidden": true
   },
   "outputs": [],
   "source": [
    "# Matrix\n",
    "\n",
    "matrix = np.array([[1, 2, 3],\n",
    "                  [4, 5, 6],\n",
    "                  [7, 8, 9]])\n",
    "\n",
    "matrix"
   ]
  },
  {
   "cell_type": "markdown",
   "metadata": {
    "hidden": true
   },
   "source": [
    "#### Tensor\n",
    "\n",
    "![alt text](images/tensor.png \"Title\")"
   ]
  },
  {
   "cell_type": "code",
   "execution_count": null,
   "metadata": {
    "ExecuteTime": {
     "end_time": "2020-12-13T10:55:16.359138Z",
     "start_time": "2020-12-13T10:55:16.351824Z"
    },
    "hidden": true
   },
   "outputs": [],
   "source": [
    "# NdArray or Tensor\n",
    "\n",
    "tensor = np.array([[[1, 2, 3],\n",
    "                   [4, 5, 6],\n",
    "                   [7, 8, 9]],\n",
    "                  \n",
    "                  [[10, 11, 12],\n",
    "                  [13, 14, 15],\n",
    "                  [16, 17, 18]],\n",
    "                  \n",
    "                  [[19, 20, 21],\n",
    "                  [22, 23, 24],\n",
    "                  [25, 26, 27]]])\n",
    "\n",
    "tensor"
   ]
  },
  {
   "cell_type": "markdown",
   "metadata": {
    "hidden": true
   },
   "source": [
    "#### Different types of matrices\n",
    "\n",
    "Numpy have functions which can generate different matrices."
   ]
  },
  {
   "cell_type": "code",
   "execution_count": null,
   "metadata": {
    "ExecuteTime": {
     "end_time": "2020-12-13T11:16:24.289125Z",
     "start_time": "2020-12-13T11:16:24.283303Z"
    },
    "hidden": true
   },
   "outputs": [],
   "source": [
    "# Matrix of ones\n",
    "\n",
    "np.ones(shape=(3, 3))"
   ]
  },
  {
   "cell_type": "code",
   "execution_count": null,
   "metadata": {
    "ExecuteTime": {
     "end_time": "2020-12-13T11:16:49.312085Z",
     "start_time": "2020-12-13T11:16:49.307850Z"
    },
    "hidden": true
   },
   "outputs": [],
   "source": [
    "# Matrix of zeros\n",
    "\n",
    "np.zeros(shape=(3, 3))"
   ]
  },
  {
   "cell_type": "code",
   "execution_count": null,
   "metadata": {
    "ExecuteTime": {
     "end_time": "2020-12-13T11:17:15.771936Z",
     "start_time": "2020-12-13T11:17:15.768181Z"
    },
    "hidden": true
   },
   "outputs": [],
   "source": [
    "# Identity matrix\n",
    "\n",
    "np.eye(N=3)"
   ]
  },
  {
   "cell_type": "markdown",
   "metadata": {
    "hidden": true
   },
   "source": [
    "There exists `Sparse Matrices`, where most of the values are zeros and few of them are non-zero. If we represent sparce matrices in a usual way it will take huge amount oh memory. Hence, it's better to represent them in a compac way. That's where the notion sparce matrix comes in.\n",
    "\n",
    "Numpy does not support sparse matrices and we have to use `SciPy` to express them."
   ]
  },
  {
   "cell_type": "code",
   "execution_count": null,
   "metadata": {
    "ExecuteTime": {
     "end_time": "2020-12-13T16:35:47.240128Z",
     "start_time": "2020-12-13T16:35:47.236725Z"
    },
    "hidden": true
   },
   "outputs": [],
   "source": [
    "# Create compressed sparse row (CSR) matrix\n",
    "\n",
    "sparse_matrix = np.array([[0, 0],\n",
    "                          [0, 1],\n",
    "                          [3, 0]])\n",
    "\n",
    "matrix_sparse = sparse.csr_matrix(sparse_matrix)\n",
    "\n",
    "print(matrix_sparse)"
   ]
  },
  {
   "cell_type": "markdown",
   "metadata": {
    "heading_collapsed": true,
    "hidden": true
   },
   "source": [
    "## Shape, Size, Dimension of matrices, and type of entries"
   ]
  },
  {
   "cell_type": "code",
   "execution_count": null,
   "metadata": {
    "ExecuteTime": {
     "end_time": "2020-12-13T11:21:31.558254Z",
     "start_time": "2020-12-13T11:21:31.554736Z"
    },
    "hidden": true
   },
   "outputs": [],
   "source": [
    "# Number of rows and columns\n",
    "\n",
    "matrix.shape"
   ]
  },
  {
   "cell_type": "code",
   "execution_count": null,
   "metadata": {
    "ExecuteTime": {
     "end_time": "2020-12-13T11:21:55.866171Z",
     "start_time": "2020-12-13T11:21:55.862911Z"
    },
    "hidden": true
   },
   "outputs": [],
   "source": [
    "# Number of elements (rows * columns)\n",
    "\n",
    "matrix.size"
   ]
  },
  {
   "cell_type": "code",
   "execution_count": null,
   "metadata": {
    "ExecuteTime": {
     "end_time": "2020-12-13T11:30:14.376386Z",
     "start_time": "2020-12-13T11:30:14.367404Z"
    },
    "hidden": true
   },
   "outputs": [],
   "source": [
    "# Number of dimensions (axis)\n",
    "\n",
    "matrix.ndim"
   ]
  },
  {
   "cell_type": "code",
   "execution_count": null,
   "metadata": {
    "ExecuteTime": {
     "end_time": "2020-12-13T11:27:00.009765Z",
     "start_time": "2020-12-13T11:27:00.006943Z"
    },
    "hidden": true
   },
   "outputs": [],
   "source": [
    "# Check the type of entries\n",
    "\n",
    "matrix.dtype"
   ]
  },
  {
   "cell_type": "markdown",
   "metadata": {
    "heading_collapsed": true,
    "hidden": true
   },
   "source": [
    "### Numpy `arange` and `linspace`\n",
    "\n",
    "---\n",
    "\n",
    "They are used to generate sequence of numbers in some range"
   ]
  },
  {
   "cell_type": "markdown",
   "metadata": {
    "hidden": true
   },
   "source": [
    "![alt text](images/arange.png \"Title\")"
   ]
  },
  {
   "cell_type": "code",
   "execution_count": null,
   "metadata": {
    "ExecuteTime": {
     "end_time": "2020-12-13T11:36:08.546961Z",
     "start_time": "2020-12-13T11:36:08.543383Z"
    },
    "hidden": true
   },
   "outputs": [],
   "source": [
    "np.arange(start=30, stop=40, step=1) # upper boundary is not included"
   ]
  },
  {
   "cell_type": "code",
   "execution_count": null,
   "metadata": {
    "ExecuteTime": {
     "end_time": "2020-12-13T11:35:56.243067Z",
     "start_time": "2020-12-13T11:35:56.238546Z"
    },
    "hidden": true
   },
   "outputs": [],
   "source": [
    "np.linspace(start=30, stop=40, num=15) # upper boundary is included"
   ]
  },
  {
   "cell_type": "markdown",
   "metadata": {
    "heading_collapsed": true,
    "hidden": true
   },
   "source": [
    "## Indexing and Slicing\n",
    "\n",
    "---\n",
    "\n",
    "Indexing, slicing and iterating are extremely important for data manipulation and analysis because these techinques allow us to select data based on conditions, and copy or update data. Slicing is a way to create a sub-array based on the original array.\n",
    "\n",
    "NumPy array indexing is a rich topic and there are many ways one can select a subset of data from an array or matrix.\n",
    "\n",
    "> It is important to realize that a slice of an array is a view into the same data. This is called **passing by reference**. So modifying the sub array will consequently modify the original array"
   ]
  },
  {
   "cell_type": "code",
   "execution_count": null,
   "metadata": {
    "ExecuteTime": {
     "end_time": "2020-12-13T16:46:22.970327Z",
     "start_time": "2020-12-13T16:46:22.952515Z"
    },
    "hidden": true
   },
   "outputs": [],
   "source": [
    "# Indexing for vector\n",
    "\n",
    "row_vector = np.array([5, 15, 20, 25, 30, 35])\n",
    "\n",
    "row_vector[0]\n",
    "\n",
    "row_vector[:3]\n",
    "\n",
    "row_vector[3:]\n",
    "\n",
    "row_vector[2:5]\n",
    "\n",
    "row_vector[-1]"
   ]
  },
  {
   "cell_type": "markdown",
   "metadata": {
    "hidden": true
   },
   "source": [
    "Indexing for matrices is slightly different compared to vector because we have axis there and we have to figure our which axis do we need. In multidimensional arrays, the first argument is for selecting rows, and the second argument is for selecting columns.\n",
    "\n",
    "![alt text](images/indexing.png \"Title\")\n",
    "\n",
    "---\n",
    "\n",
    "![alt text](images/slicing.png \"Title\")"
   ]
  },
  {
   "cell_type": "code",
   "execution_count": null,
   "metadata": {
    "ExecuteTime": {
     "end_time": "2020-12-13T17:00:43.482491Z",
     "start_time": "2020-12-13T17:00:43.469099Z"
    },
    "hidden": true
   },
   "outputs": [],
   "source": [
    "# Indexing for matrices\n",
    "\n",
    "print(matrix)\n",
    "\n",
    "matrix[0] # Select first row vector\n",
    "\n",
    "matrix[:, 0] # Select first column vector\n",
    "\n",
    "matrix[:2, :2] # Select the first two rows and first two columns\n",
    "\n",
    "matrix[:2, :] # Select the first two rows and all columns of a matrix\n",
    "\n",
    "matrix[:, 1:2] # Select all rows and the second column\n",
    "\n",
    "matrix[2, 1] # Select only one element\n",
    "\n",
    "matrix[:] # Select all elements"
   ]
  },
  {
   "cell_type": "markdown",
   "metadata": {
    "heading_collapsed": true,
    "hidden": true
   },
   "source": [
    "## Boolean Indexing\n",
    "\n",
    "---\n",
    "\n",
    "Boolean indexing allows us to select arbitrary elements based on conditions. For example, if we want to find elements that are greater than 5 in a matrix we set up a conditon and it returns boolean values"
   ]
  },
  {
   "cell_type": "code",
   "execution_count": null,
   "metadata": {
    "ExecuteTime": {
     "end_time": "2020-12-13T17:25:13.545733Z",
     "start_time": "2020-12-13T17:25:13.543075Z"
    },
    "hidden": true
   },
   "outputs": [],
   "source": [
    "matrix"
   ]
  },
  {
   "cell_type": "code",
   "execution_count": null,
   "metadata": {
    "ExecuteTime": {
     "end_time": "2020-12-13T17:25:17.989714Z",
     "start_time": "2020-12-13T17:25:17.984092Z"
    },
    "hidden": true
   },
   "outputs": [],
   "source": [
    "matrix > 5"
   ]
  },
  {
   "cell_type": "code",
   "execution_count": null,
   "metadata": {
    "ExecuteTime": {
     "end_time": "2020-12-13T17:25:26.755821Z",
     "start_time": "2020-12-13T17:25:26.752792Z"
    },
    "hidden": true
   },
   "outputs": [],
   "source": [
    "matrix[matrix > 5]"
   ]
  },
  {
   "cell_type": "code",
   "execution_count": null,
   "metadata": {
    "ExecuteTime": {
     "end_time": "2020-12-13T17:26:54.650634Z",
     "start_time": "2020-12-13T17:26:54.647723Z"
    },
    "hidden": true
   },
   "outputs": [],
   "source": [
    "# Tilde is the negation operator. It converts True to False and False to True\n",
    "\n",
    "matrix[~(matrix > 5)]"
   ]
  },
  {
   "cell_type": "markdown",
   "metadata": {
    "hidden": true
   },
   "source": [
    "We can combine several conditions by using boolean arithmetic operators such as & (and) and | (or)"
   ]
  },
  {
   "cell_type": "code",
   "execution_count": null,
   "metadata": {
    "ExecuteTime": {
     "end_time": "2020-12-13T17:28:35.722407Z",
     "start_time": "2020-12-13T17:28:35.719291Z"
    },
    "hidden": true
   },
   "outputs": [],
   "source": [
    "(matrix > 3) & (matrix < 7)"
   ]
  },
  {
   "cell_type": "code",
   "execution_count": null,
   "metadata": {
    "ExecuteTime": {
     "end_time": "2020-12-13T17:28:46.407029Z",
     "start_time": "2020-12-13T17:28:46.403423Z"
    },
    "hidden": true
   },
   "outputs": [],
   "source": [
    "matrix[(matrix > 3) & (matrix < 7)]"
   ]
  },
  {
   "cell_type": "markdown",
   "metadata": {
    "heading_collapsed": true,
    "hidden": true
   },
   "source": [
    "## Fancy Indexing\n",
    "\n",
    "---\n",
    "\n",
    "Fancy indexing is a term adopted by NumPy to describe indexing using integer arrays. To select out a subset of the rows in a particular order, you can simply pass a list or ndarray of integers specifying the desired order.\n",
    "\n",
    "\n",
    "> Keep in mind that fancy indexing, unlike slicing, always copies the data into a new array."
   ]
  },
  {
   "cell_type": "code",
   "execution_count": null,
   "metadata": {
    "ExecuteTime": {
     "end_time": "2020-12-13T17:41:26.506968Z",
     "start_time": "2020-12-13T17:41:26.502128Z"
    },
    "hidden": true
   },
   "outputs": [],
   "source": [
    "arr = np.array([[ 0, 1, 2, 3],\n",
    "                [ 4, 5, 6, 7],\n",
    "                [ 8, 9, 10, 11],\n",
    "                [12, 13, 14, 15],\n",
    "                [16, 17, 18, 19],\n",
    "                [20, 21, 22, 23],\n",
    "                [24, 25, 26, 27],\n",
    "                [28, 29, 30, 31]])\n",
    "               \n",
    "arr"
   ]
  },
  {
   "cell_type": "code",
   "execution_count": null,
   "metadata": {
    "ExecuteTime": {
     "end_time": "2020-12-13T17:43:14.077070Z",
     "start_time": "2020-12-13T17:43:14.073866Z"
    },
    "hidden": true
   },
   "outputs": [],
   "source": [
    "arr[[0, 2, 4]] # Positive integers"
   ]
  },
  {
   "cell_type": "code",
   "execution_count": null,
   "metadata": {
    "ExecuteTime": {
     "end_time": "2020-12-13T17:43:32.731980Z",
     "start_time": "2020-12-13T17:43:32.728675Z"
    },
    "hidden": true
   },
   "outputs": [],
   "source": [
    "arr[[-1, -3, -5]] # Negative integers"
   ]
  },
  {
   "cell_type": "markdown",
   "metadata": {
    "heading_collapsed": true,
    "hidden": true
   },
   "source": [
    "## Arithmetic Operations On Array\n",
    "\n",
    "---\n",
    "\n",
    "We can do many things on arrays, such as mathematical manipulation such as addition, subtraction, square, exponents. These operators on array apply elementwise."
   ]
  },
  {
   "cell_type": "code",
   "execution_count": null,
   "metadata": {
    "ExecuteTime": {
     "end_time": "2020-12-13T17:49:28.752317Z",
     "start_time": "2020-12-13T17:49:28.749971Z"
    },
    "hidden": true
   },
   "outputs": [],
   "source": [
    "a = np.array([10, 20, 30, 40, 50])\n",
    "\n",
    "b = np.array([1, 2, 3, 4, 5])"
   ]
  },
  {
   "cell_type": "code",
   "execution_count": null,
   "metadata": {
    "ExecuteTime": {
     "end_time": "2020-12-13T18:20:21.972660Z",
     "start_time": "2020-12-13T18:20:21.969038Z"
    },
    "hidden": true
   },
   "outputs": [],
   "source": [
    "print(a - b)\n",
    "\n",
    "print(a + b)\n",
    "\n",
    "print(a / b)\n",
    "\n",
    "print(a * b)\n",
    "\n",
    "print(a ** b)"
   ]
  },
  {
   "cell_type": "markdown",
   "metadata": {
    "heading_collapsed": true,
    "hidden": true
   },
   "source": [
    "## Universal Functions: Fast Element-Wise Array Functions\n",
    "\n",
    "---\n",
    "\n",
    "A universal function, or *ufunc* perform fast elementwise operations on arrays. Numpy has two types of universal functions: **unary ufuncs** and **binary ufuncs**. Unary takes one input array and produce one output array, while binary take two input arrays and produce one output array."
   ]
  },
  {
   "cell_type": "code",
   "execution_count": null,
   "metadata": {
    "ExecuteTime": {
     "end_time": "2020-12-13T18:30:02.966891Z",
     "start_time": "2020-12-13T18:30:02.964971Z"
    },
    "hidden": true
   },
   "outputs": [],
   "source": [
    "arr = np.array([4, 8, 16, 20, 25])"
   ]
  },
  {
   "cell_type": "markdown",
   "metadata": {
    "hidden": true
   },
   "source": [
    "Unary ufuncs"
   ]
  },
  {
   "cell_type": "code",
   "execution_count": null,
   "metadata": {
    "ExecuteTime": {
     "end_time": "2020-12-13T18:44:10.721071Z",
     "start_time": "2020-12-13T18:44:10.717841Z"
    },
    "hidden": true
   },
   "outputs": [],
   "source": [
    "np.sqrt(arr) # Square root of array values\n",
    "\n",
    "np.exp(arr) # Exponent of array values\n",
    "\n",
    "np.log(arr) # Natural logarithm of array values"
   ]
  },
  {
   "cell_type": "markdown",
   "metadata": {
    "hidden": true
   },
   "source": [
    "Binary ufuncs"
   ]
  },
  {
   "cell_type": "code",
   "execution_count": null,
   "metadata": {
    "ExecuteTime": {
     "end_time": "2020-12-13T19:00:08.749587Z",
     "start_time": "2020-12-13T19:00:08.745356Z"
    },
    "hidden": true
   },
   "outputs": [],
   "source": [
    "np.add(a, b) # Add two arrays\n",
    "\n",
    "np.subtract(a, b) # Subtract two arrays\n",
    "\n",
    "np.power(a, b) # Exponentiation\n",
    "\n",
    "np.multiply(a, b) # Multiplication\n",
    "\n",
    "np.divide(a, b) # Division\n",
    "\n",
    "np.greater(a, b) # Elementwise comparison, equivalent to > sign\n",
    "\n",
    "np.less(a, b) # Elementwise comparison, equivalent to < sign"
   ]
  },
  {
   "cell_type": "markdown",
   "metadata": {
    "heading_collapsed": true,
    "hidden": true
   },
   "source": [
    "## Statistical Methods\n",
    "\n",
    "---\n",
    "\n",
    "Numpy has support of various statistical functions for data manipulation. These functions operate on an entire array or on sub-array along a particular axis."
   ]
  },
  {
   "cell_type": "code",
   "execution_count": null,
   "metadata": {
    "ExecuteTime": {
     "end_time": "2020-12-13T19:05:47.706029Z",
     "start_time": "2020-12-13T19:05:47.702553Z"
    },
    "hidden": true
   },
   "outputs": [],
   "source": [
    "matrix = np.array([[1, 2, 3],\n",
    "                   [4, 5, 6],\n",
    "                   [7, 8, 9]])\n",
    "\n",
    "matrix"
   ]
  },
  {
   "cell_type": "code",
   "execution_count": null,
   "metadata": {
    "ExecuteTime": {
     "end_time": "2020-12-13T19:06:26.231287Z",
     "start_time": "2020-12-13T19:06:26.228277Z"
    },
    "hidden": true
   },
   "outputs": [],
   "source": [
    "np.max(matrix) # Maximum element in matrix\n",
    "\n",
    "np.min(matrix) # Minimum element in matrix"
   ]
  },
  {
   "cell_type": "markdown",
   "metadata": {
    "hidden": true
   },
   "source": [
    "Ofter, we need to know the maximum and minimum value along an axis."
   ]
  },
  {
   "cell_type": "code",
   "execution_count": null,
   "metadata": {
    "ExecuteTime": {
     "end_time": "2020-12-13T19:13:38.157710Z",
     "start_time": "2020-12-13T19:13:38.154694Z"
    },
    "hidden": true
   },
   "outputs": [],
   "source": [
    "np.max(matrix, axis=0) # Along x axis\n",
    "\n",
    "np.max(matrix, axis=1) # Along y axis"
   ]
  },
  {
   "cell_type": "markdown",
   "metadata": {
    "hidden": true
   },
   "source": [
    "We can calculate sum and cumulative sum of array elements"
   ]
  },
  {
   "cell_type": "code",
   "execution_count": null,
   "metadata": {
    "ExecuteTime": {
     "end_time": "2020-12-13T19:13:49.287931Z",
     "start_time": "2020-12-13T19:13:49.283509Z"
    },
    "hidden": true
   },
   "outputs": [],
   "source": [
    "np.sum(matrix) # Sum of the elements\n",
    "\n",
    "np.sum(matrix, axis=0) # Sum along x axis\n",
    "\n",
    "np.sum(matrix, axis=1) # Sum along y axis\n",
    "\n",
    "np.cumsum(matrix) # Cumulative sum\n",
    "\n",
    "np.cumsum(matrix, axis=0) # Cumulative sum along x axis\n",
    "\n",
    "np.cumsum(matrix, axis=1) # Cumulative sum along y axis"
   ]
  },
  {
   "cell_type": "markdown",
   "metadata": {
    "hidden": true
   },
   "source": [
    "Moreover, we can calculate mean, median, variance, and standard deviation of an array."
   ]
  },
  {
   "cell_type": "code",
   "execution_count": null,
   "metadata": {
    "ExecuteTime": {
     "end_time": "2020-12-13T19:21:06.356319Z",
     "start_time": "2020-12-13T19:21:06.346891Z"
    },
    "hidden": true
   },
   "outputs": [],
   "source": [
    "np.mean(matrix) # Arithmetic average of array\n",
    "\n",
    "np.mean(matrix, axis=0) # Arithmetic average along x axis\n",
    "\n",
    "np.mean(matrix, axis=1) # Arithmetic average along y axis\n",
    "\n",
    "# -------------------------------------------------------\n",
    "\n",
    "np.median(matrix) # Median of array\n",
    "\n",
    "np.median(matrix, axis=0) # Median along x axis\n",
    "\n",
    "np.median(matrix, axis=1) # Median along y axis\n",
    "\n",
    "# -------------------------------------------------------\n",
    "\n",
    "np.var(matrix) # Variance\n",
    "\n",
    "np.var(matrix, axis=0) # Variance along x axis\n",
    "\n",
    "np.var(matrix, axis=1) # Variance along y axis\n",
    "\n",
    "# -------------------------------------------------------\n",
    "\n",
    "np.std(matrix) # Standard Deviation or Square Root from Variance\n",
    "\n",
    "np.std(matrix, axis=0) # Standard Deviation along x axis\n",
    "\n",
    "np.std(matrix, axis=1) # Standard Deviation along y axis"
   ]
  },
  {
   "cell_type": "markdown",
   "metadata": {
    "heading_collapsed": true,
    "hidden": true
   },
   "source": [
    "## Linear Algebra\n",
    "\n",
    "---\n",
    "\n",
    "Numpy is highly optimized for linear algebra operations. These are operations defined mostly on matrices and may differ from conventional operations. For example multiplication operations is different in case of matrices then for just two numbers."
   ]
  },
  {
   "cell_type": "code",
   "execution_count": null,
   "metadata": {
    "ExecuteTime": {
     "end_time": "2020-12-13T19:27:23.117220Z",
     "start_time": "2020-12-13T19:27:23.108518Z"
    },
    "hidden": true
   },
   "outputs": [],
   "source": [
    "matrix"
   ]
  },
  {
   "cell_type": "code",
   "execution_count": null,
   "metadata": {
    "ExecuteTime": {
     "end_time": "2020-12-13T19:27:26.207333Z",
     "start_time": "2020-12-13T19:27:26.204014Z"
    },
    "hidden": true
   },
   "outputs": [],
   "source": [
    "# Transosing a matrix means to exchange rows and columns\n",
    "\n",
    "matrix.T"
   ]
  },
  {
   "cell_type": "code",
   "execution_count": null,
   "metadata": {
    "ExecuteTime": {
     "end_time": "2020-12-13T19:27:30.477616Z",
     "start_time": "2020-12-13T19:27:30.474646Z"
    },
    "hidden": true
   },
   "outputs": [],
   "source": [
    "# star (*) operator performs elementwise multiplications between matrices\n",
    "\n",
    "matrix * matrix"
   ]
  },
  {
   "cell_type": "code",
   "execution_count": null,
   "metadata": {
    "ExecuteTime": {
     "end_time": "2020-12-13T19:28:17.643500Z",
     "start_time": "2020-12-13T19:28:17.640569Z"
    },
    "hidden": true
   },
   "outputs": [],
   "source": [
    "# To have proper matrix multiplication we have to use .dot() method or @ sign\n",
    "\n",
    "np.dot(matrix, matrix)\n",
    "\n",
    "matrix @ matrix"
   ]
  },
  {
   "cell_type": "code",
   "execution_count": null,
   "metadata": {
    "ExecuteTime": {
     "end_time": "2020-12-13T19:33:55.259458Z",
     "start_time": "2020-12-13T19:33:55.255732Z"
    },
    "hidden": true
   },
   "outputs": [],
   "source": [
    "# Diagonal elements of a matrix\n",
    "\n",
    "np.diag(matrix)"
   ]
  },
  {
   "cell_type": "code",
   "execution_count": null,
   "metadata": {
    "ExecuteTime": {
     "end_time": "2020-12-13T19:34:41.730361Z",
     "start_time": "2020-12-13T19:34:41.718458Z"
    },
    "hidden": true
   },
   "outputs": [],
   "source": [
    "# Find the trace of a matrix - Trace is the sum of the main diagonal elements\n",
    "\n",
    "np.trace(matrix)"
   ]
  },
  {
   "cell_type": "markdown",
   "metadata": {
    "hidden": true
   },
   "source": [
    "NumPy has dedicated sub-package or sub-library for linear algebra operations. We can see few of them."
   ]
  },
  {
   "cell_type": "code",
   "execution_count": null,
   "metadata": {
    "ExecuteTime": {
     "end_time": "2020-12-13T19:29:49.537428Z",
     "start_time": "2020-12-13T19:29:49.529430Z"
    },
    "hidden": true
   },
   "outputs": [],
   "source": [
    "matrix"
   ]
  },
  {
   "cell_type": "code",
   "execution_count": null,
   "metadata": {
    "ExecuteTime": {
     "end_time": "2020-12-13T19:31:12.312785Z",
     "start_time": "2020-12-13T19:31:12.295735Z"
    },
    "hidden": true
   },
   "outputs": [],
   "source": [
    "# Find the determinant of a matrix\n",
    "\n",
    "np.linalg.det(matrix)"
   ]
  },
  {
   "cell_type": "code",
   "execution_count": null,
   "metadata": {
    "ExecuteTime": {
     "end_time": "2020-12-13T19:31:33.699725Z",
     "start_time": "2020-12-13T19:31:33.687799Z"
    },
    "hidden": true
   },
   "outputs": [],
   "source": [
    "# Find the inverse of a matrix\n",
    "\n",
    "np.linalg.inv(matrix)"
   ]
  },
  {
   "cell_type": "markdown",
   "metadata": {
    "heading_collapsed": true,
    "hidden": true
   },
   "source": [
    "## File Input and Output with Arrays\n",
    "\n",
    "---\n",
    "\n",
    "NumPy is able to save and load data to and from disk either in text or binary format.\n",
    "\n",
    "`np.save` and `np.load` are the two workhorse functions for efficiently saving and loading array data on disk."
   ]
  },
  {
   "cell_type": "code",
   "execution_count": null,
   "metadata": {
    "ExecuteTime": {
     "end_time": "2020-12-13T19:38:16.078112Z",
     "start_time": "2020-12-13T19:38:16.072856Z"
    },
    "hidden": true
   },
   "outputs": [],
   "source": [
    "matrix"
   ]
  },
  {
   "cell_type": "code",
   "execution_count": null,
   "metadata": {
    "ExecuteTime": {
     "end_time": "2020-12-13T19:38:59.391131Z",
     "start_time": "2020-12-13T19:38:59.388755Z"
    },
    "hidden": true
   },
   "outputs": [],
   "source": [
    "# Same array on disk. The array is saved as uncompressed raw binary format with the extension .npy\n",
    "\n",
    "np.save(\"some_matrix\", matrix)"
   ]
  },
  {
   "cell_type": "code",
   "execution_count": null,
   "metadata": {
    "ExecuteTime": {
     "end_time": "2020-12-13T19:40:44.939773Z",
     "start_time": "2020-12-13T19:40:44.935870Z"
    },
    "hidden": true
   },
   "outputs": [],
   "source": [
    "# Load data in array\n",
    "\n",
    "np.load(\"some_matrix.npy\")"
   ]
  },
  {
   "cell_type": "markdown",
   "metadata": {
    "hidden": true
   },
   "source": [
    "Moreover, with Numpy we can read and write **CSV** files, too.\n",
    "\n",
    "We have graduate school admissions data in csv file. It has fields such as GRE score, TOEFL score, university rating, GPA, having research experience or not, and a chance of admission. With this dataset, we can do data manipulation and basic analysis to infer what conditions are associated with higher chance of admission. Let's take a look."
   ]
  },
  {
   "cell_type": "code",
   "execution_count": null,
   "metadata": {
    "ExecuteTime": {
     "end_time": "2020-12-13T19:49:58.534986Z",
     "start_time": "2020-12-13T19:49:58.514531Z"
    },
    "hidden": true
   },
   "outputs": [],
   "source": [
    "# We can specify data field names when using genfromtxt() to loads CSV data.\n",
    "# Also, we can have NumPy try and infer the type of a column by setting the dtype parameter to None.\n",
    "\n",
    "\n",
    "graduate_admission = np.genfromtxt('datasets/admission.csv',\n",
    "                                   dtype=None,\n",
    "                                   delimiter=',',\n",
    "                                   skip_header=1,\n",
    "                                   names=('Serial No','GRE Score', 'TOEFL Score',\n",
    "                                          'University Rating', 'SOP', 'LOR',\n",
    "                                          'CGPA','Research', 'Chance of Admit'))\n",
    "\n",
    "graduate_admission"
   ]
  },
  {
   "cell_type": "code",
   "execution_count": null,
   "metadata": {
    "ExecuteTime": {
     "end_time": "2020-12-13T19:50:33.347559Z",
     "start_time": "2020-12-13T19:50:33.345090Z"
    },
    "hidden": true
   },
   "outputs": [],
   "source": [
    "# The resulting array is a one-dimensional array with 400 tuples\n",
    "\n",
    "graduate_admission.shape"
   ]
  },
  {
   "cell_type": "code",
   "execution_count": null,
   "metadata": {
    "ExecuteTime": {
     "end_time": "2020-12-13T19:50:44.272739Z",
     "start_time": "2020-12-13T19:50:44.269563Z"
    },
    "hidden": true
   },
   "outputs": [],
   "source": [
    "# We can retrieve a column from the array using the column's name for example, let's get the CGPA column and\n",
    "# only the first five values.\n",
    "\n",
    "graduate_admission['CGPA'][0:5]"
   ]
  },
  {
   "cell_type": "code",
   "execution_count": null,
   "metadata": {
    "ExecuteTime": {
     "end_time": "2020-12-13T19:51:35.471969Z",
     "start_time": "2020-12-13T19:51:35.468392Z"
    },
    "hidden": true
   },
   "outputs": [],
   "source": [
    "# Since the GPA in the dataset range from 1 to 10, and in the US it's more common to use a scale of up to 4,\n",
    "# a common task might be to convert the GPA by dividing it 10 and then multiplying by 4.\n",
    "\n",
    "graduate_admission['CGPA'] = graduate_admission['CGPA'] /10 *4\n",
    "\n",
    "graduate_admission['CGPA'][0:20] # print 20 values to check the result"
   ]
  },
  {
   "cell_type": "code",
   "execution_count": null,
   "metadata": {
    "ExecuteTime": {
     "end_time": "2020-12-13T19:53:36.640927Z",
     "start_time": "2020-12-13T19:53:36.637995Z"
    },
    "hidden": true
   },
   "outputs": [],
   "source": [
    "# Recall boolean masking. We can use this to find out how many students have had research experience by\n",
    "# creating a boolean mask and passing it to the array indexing operator\n",
    "\n",
    "len(graduate_admission[graduate_admission['Research'] == 1])"
   ]
  },
  {
   "cell_type": "code",
   "execution_count": null,
   "metadata": {
    "ExecuteTime": {
     "end_time": "2020-12-13T19:54:31.147003Z",
     "start_time": "2020-12-13T19:54:31.142478Z"
    },
    "hidden": true
   },
   "outputs": [],
   "source": [
    "# Since we have the data field \"chance of admission\", which ranges from 0 to 1, we can try to see if students\n",
    "# with high chance of admission (>0.8) on average have higher GRE score than those with lower chance of\n",
    "# admission (<0.4)\n",
    "\n",
    "# So first we use boolean masking to pull out only those students we are interested in based on their chance\n",
    "# of admission, then we pull out only their GRE scores, then we print the mean values.\n",
    "\n",
    "print(graduate_admission[graduate_admission['Chance_of_Admit'] > 0.8]['GRE_Score'].mean())\n",
    "\n",
    "print(graduate_admission[graduate_admission['Chance_of_Admit'] < 0.4]['GRE_Score'].mean())\n"
   ]
  },
  {
   "cell_type": "code",
   "execution_count": null,
   "metadata": {
    "ExecuteTime": {
     "end_time": "2020-12-13T19:55:24.792630Z",
     "start_time": "2020-12-13T19:55:24.786419Z"
    },
    "hidden": true
   },
   "outputs": [],
   "source": [
    "# Let's do same for GPA\n",
    "\n",
    "print(graduate_admission[graduate_admission['Chance_of_Admit'] > 0.8]['CGPA'].mean())\n",
    "\n",
    "print(graduate_admission[graduate_admission['Chance_of_Admit'] < 0.4]['CGPA'].mean())"
   ]
  },
  {
   "cell_type": "markdown",
   "metadata": {},
   "source": [
    "# Summary\n",
    "\n",
    "---\n",
    "\n",
    "This lecture has to be a strong foundation of towards more advanced Pandas as Pandas is built on top of NumPy and many of the functions and capabilities of NumPy are available to you within Pandas."
   ]
  }
 ],
 "metadata": {
  "kernelspec": {
   "display_name": "Python 3",
   "language": "python",
   "name": "python3"
  },
  "language_info": {
   "codemirror_mode": {
    "name": "ipython",
    "version": 3
   },
   "file_extension": ".py",
   "mimetype": "text/x-python",
   "name": "python",
   "nbconvert_exporter": "python",
   "pygments_lexer": "ipython3",
   "version": "3.7.7"
  },
  "varInspector": {
   "cols": {
    "lenName": 16,
    "lenType": 16,
    "lenVar": 40
   },
   "kernels_config": {
    "python": {
     "delete_cmd_postfix": "",
     "delete_cmd_prefix": "del ",
     "library": "var_list.py",
     "varRefreshCmd": "print(var_dic_list())"
    },
    "r": {
     "delete_cmd_postfix": ") ",
     "delete_cmd_prefix": "rm(",
     "library": "var_list.r",
     "varRefreshCmd": "cat(var_dic_list()) "
    }
   },
   "types_to_exclude": [
    "module",
    "function",
    "builtin_function_or_method",
    "instance",
    "_Feature"
   ],
   "window_display": false
  }
 },
 "nbformat": 4,
 "nbformat_minor": 2
}
